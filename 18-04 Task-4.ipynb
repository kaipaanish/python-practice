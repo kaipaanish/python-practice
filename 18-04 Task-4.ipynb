{
 "cells": [
  {
   "cell_type": "code",
   "execution_count": 69,
   "id": "5906637d-6459-46a1-a11e-547808788cab",
   "metadata": {},
   "outputs": [],
   "source": [
    "n1 = 33\n",
    "n2 = 44\n",
    "n3 = 63\n",
    "avg = (n1 + n2 + n3)/3\n",
    "avg1 = round((n1+n2+n3)/3,2)"
   ]
  },
  {
   "cell_type": "code",
   "execution_count": 70,
   "id": "cd9098c0-8d81-42d9-8743-38e7d3be0c39",
   "metadata": {},
   "outputs": [
    {
     "data": {
      "text/plain": [
       "46.67"
      ]
     },
     "execution_count": 70,
     "metadata": {},
     "output_type": "execute_result"
    }
   ],
   "source": [
    "avg1\n"
   ]
  },
  {
   "cell_type": "code",
   "execution_count": 71,
   "id": "32ed125d-cd40-4b0f-b706-6a1498623289",
   "metadata": {},
   "outputs": [
    {
     "data": {
      "text/plain": [
       "46.666666666666664"
      ]
     },
     "execution_count": 71,
     "metadata": {},
     "output_type": "execute_result"
    }
   ],
   "source": [
    "avg"
   ]
  },
  {
   "cell_type": "code",
   "execution_count": 72,
   "id": "e3b55b43-cdf2-49be-b240-b1034aa5cdbf",
   "metadata": {},
   "outputs": [
    {
     "name": "stdout",
     "output_type": "stream",
     "text": [
      "the average of numbers 33,44,63 is 46.666666666666664\n"
     ]
    }
   ],
   "source": [
    "print(f\"the average of numbers {n1},{n2},{n3} is {avg}\")"
   ]
  },
  {
   "cell_type": "code",
   "execution_count": 73,
   "id": "e2f1ef4e-c56f-4e0e-9b1e-24ced654a80f",
   "metadata": {},
   "outputs": [
    {
     "name": "stdout",
     "output_type": "stream",
     "text": [
      "the average of numbers  33, 44 , 63 rounded of to 2 decimal points is 46.67\n"
     ]
    }
   ],
   "source": [
    "print(\"the average of numbers  {}, {} , {} rounded of to 2 decimal points is {}\".format(n1,n2,n3,round((avg),2)))\n",
    "      "
   ]
  },
  {
   "cell_type": "code",
   "execution_count": 74,
   "id": "d8f00562-c612-4a36-a7a1-c850b4c9c978",
   "metadata": {},
   "outputs": [],
   "source": [
    "avg2 = round((n1 + n2 + n3)/3,3)"
   ]
  },
  {
   "cell_type": "code",
   "execution_count": 75,
   "id": "e09e96cf-1272-4075-b117-793e8ea9d8fa",
   "metadata": {},
   "outputs": [
    {
     "data": {
      "text/plain": [
       "46.667"
      ]
     },
     "execution_count": 75,
     "metadata": {},
     "output_type": "execute_result"
    }
   ],
   "source": [
    "avg2"
   ]
  },
  {
   "cell_type": "code",
   "execution_count": 76,
   "id": "3a08563d-0406-4e1f-bc31-3e5804f7b7ec",
   "metadata": {},
   "outputs": [
    {
     "name": "stdout",
     "output_type": "stream",
     "text": [
      "hi how are u\n"
     ]
    }
   ],
   "source": [
    "print(\"hi\", end = \" \")\n",
    "print(\"how are u\")"
   ]
  },
  {
   "cell_type": "code",
   "execution_count": 85,
   "id": "0e121eb5-b0bb-4cab-bcb0-82964daa77e1",
   "metadata": {},
   "outputs": [
    {
     "name": "stdout",
     "output_type": "stream",
     "text": [
      "hi<3how<3are<3you\n"
     ]
    }
   ],
   "source": [
    "print(\"hi\",\"how\",\"are\",\"you\", sep = \"<3\" )"
   ]
  },
  {
   "cell_type": "code",
   "execution_count": 89,
   "id": "91d1d19b-c847-4104-8482-b7fc80a90462",
   "metadata": {},
   "outputs": [
    {
     "name": "stdout",
     "output_type": "stream",
     "text": [
      "hi----------->how----------->are----------->you\n"
     ]
    }
   ],
   "source": [
    "print(\"hi\",\"how\",\"are\",\"you\" , sep = \"----------->\")"
   ]
  },
  {
   "cell_type": "code",
   "execution_count": 91,
   "id": "e94d28fb-d885-4830-9ba2-63aeb66aaef6",
   "metadata": {},
   "outputs": [
    {
     "name": "stdout",
     "output_type": "stream",
     "text": [
      "True\n"
     ]
    }
   ],
   "source": [
    "print(3 == 3)"
   ]
  },
  {
   "cell_type": "code",
   "execution_count": 93,
   "id": "ea990334-9376-4d26-8131-ed34e7f8c1d9",
   "metadata": {},
   "outputs": [
    {
     "name": "stdout",
     "output_type": "stream",
     "text": [
      "True == True:  True\n"
     ]
    }
   ],
   "source": [
    "print('True == True: ', True == True)"
   ]
  },
  {
   "cell_type": "code",
   "execution_count": 97,
   "id": "ac9d9dd6-49da-4518-a2e3-760b7b9f0d9d",
   "metadata": {},
   "outputs": [
    {
     "name": "stdout",
     "output_type": "stream",
     "text": [
      "True\n"
     ]
    },
    {
     "name": "stderr",
     "output_type": "stream",
     "text": [
      "<>:1: SyntaxWarning: \"is\" with 'int' literal. Did you mean \"==\"?\n",
      "<>:1: SyntaxWarning: \"is\" with 'int' literal. Did you mean \"==\"?\n",
      "C:\\Users\\anish\\AppData\\Local\\Temp\\ipykernel_22552\\1697697746.py:1: SyntaxWarning: \"is\" with 'int' literal. Did you mean \"==\"?\n",
      "  print(1 is 1)\n"
     ]
    }
   ],
   "source": [
    "print(1 is 1)"
   ]
  },
  {
   "cell_type": "code",
   "execution_count": 99,
   "id": "5132225c-8e17-40db-9bc4-aed31ad2d433",
   "metadata": {},
   "outputs": [
    {
     "name": "stdout",
     "output_type": "stream",
     "text": [
      "True\n"
     ]
    }
   ],
   "source": [
    "print(\"a\" in \"anish\")"
   ]
  },
  {
   "cell_type": "code",
   "execution_count": 103,
   "id": "2d22f8c6-20f5-4dc1-985a-8e4eade7bcdc",
   "metadata": {},
   "outputs": [
    {
     "name": "stdout",
     "output_type": "stream",
     "text": [
      "False\n"
     ]
    }
   ],
   "source": [
    "print( 3 > 2 and 2 > 3) "
   ]
  },
  {
   "cell_type": "code",
   "execution_count": 105,
   "id": "3131b9cc-ac7c-445d-94dc-96163bc38a09",
   "metadata": {},
   "outputs": [
    {
     "name": "stdout",
     "output_type": "stream",
     "text": [
      "True\n"
     ]
    }
   ],
   "source": [
    "print( 3 > 2 or 2 > 3) "
   ]
  },
  {
   "cell_type": "code",
   "execution_count": 109,
   "id": "ceab5174-258b-4938-a93b-11856ccdd855",
   "metadata": {},
   "outputs": [
    {
     "name": "stdout",
     "output_type": "stream",
     "text": [
      "True\n"
     ]
    }
   ],
   "source": [
    "print( not 2 > 3) "
   ]
  },
  {
   "cell_type": "code",
   "execution_count": 111,
   "id": "6ffc61b0-0b2c-446b-9403-79744093d069",
   "metadata": {},
   "outputs": [
    {
     "name": "stdout",
     "output_type": "stream",
     "text": [
      "False\n"
     ]
    }
   ],
   "source": [
    "print( not not 2 > 3) "
   ]
  },
  {
   "cell_type": "code",
   "execution_count": 117,
   "id": "f7e9d3e2-63d5-465b-9f98-563e89b311e4",
   "metadata": {},
   "outputs": [
    {
     "name": "stdout",
     "output_type": "stream",
     "text": [
      "alexa's\n"
     ]
    }
   ],
   "source": [
    "print(\"alexa\\'s\") #use backward slash for special characetrs"
   ]
  },
  {
   "cell_type": "code",
   "execution_count": 125,
   "id": "283489fe-5625-4fa5-9d13-f4b75c14b475",
   "metadata": {},
   "outputs": [],
   "source": [
    "name  = \"Anish \""
   ]
  },
  {
   "cell_type": "code",
   "execution_count": 127,
   "id": "1d56ea9b-2a15-4dfe-9c23-64ce20ee77d6",
   "metadata": {},
   "outputs": [
    {
     "data": {
      "text/plain": [
       "'Anish Anish Anish Anish Anish '"
      ]
     },
     "execution_count": 127,
     "metadata": {},
     "output_type": "execute_result"
    }
   ],
   "source": [
    "5  * name"
   ]
  },
  {
   "cell_type": "code",
   "execution_count": 145,
   "id": "67f1d382-4233-41a2-a735-d7e17fb8820d",
   "metadata": {},
   "outputs": [
    {
     "name": "stdout",
     "output_type": "stream",
     "text": [
      "for next line use \n",
      "now the statement will print in next line\n"
     ]
    }
   ],
   "source": [
    "print(\"for next line use \\nnow the statement will print in next line\")"
   ]
  },
  {
   "cell_type": "code",
   "execution_count": 147,
   "id": "f57fd6bb-d730-4f20-bf28-2e01f6d3977d",
   "metadata": {},
   "outputs": [
    {
     "name": "stdout",
     "output_type": "stream",
     "text": [
      "now \\n will not print in next line because we used  r befor the print statement it will print ther raw text\n"
     ]
    }
   ],
   "source": [
    "print(r\"now \\n will not print in next line because we used  r befor the print statement it will print ther raw text\")"
   ]
  },
  {
   "cell_type": "code",
   "execution_count": 149,
   "id": "58b2a2c1-907e-49a8-b7d3-9791816407c5",
   "metadata": {},
   "outputs": [],
   "source": [
    "l = [10,20,30]"
   ]
  },
  {
   "cell_type": "code",
   "execution_count": 151,
   "id": "eb19e4fc-e7e1-40ca-a08a-cea907c28446",
   "metadata": {},
   "outputs": [],
   "source": [
    "l.append(40)"
   ]
  },
  {
   "cell_type": "code",
   "execution_count": 153,
   "id": "a2250c11-a221-4f7d-8daf-3ce1d0abe742",
   "metadata": {},
   "outputs": [
    {
     "data": {
      "text/plain": [
       "[10, 20, 30, 40]"
      ]
     },
     "execution_count": 153,
     "metadata": {},
     "output_type": "execute_result"
    }
   ],
   "source": [
    "l"
   ]
  },
  {
   "cell_type": "code",
   "execution_count": 155,
   "id": "62360dba-70f9-4629-9155-d24f844c00e6",
   "metadata": {},
   "outputs": [
    {
     "data": {
      "text/plain": [
       "30"
      ]
     },
     "execution_count": 155,
     "metadata": {},
     "output_type": "execute_result"
    }
   ],
   "source": [
    "l.pop(2)"
   ]
  },
  {
   "cell_type": "code",
   "execution_count": 157,
   "id": "a3b1c29f-e719-442c-a476-f323e652642d",
   "metadata": {},
   "outputs": [],
   "source": [
    "l.remove(10)"
   ]
  },
  {
   "cell_type": "code",
   "execution_count": 159,
   "id": "60fde8b6-e39a-4b44-a4ed-9d427ee32ee5",
   "metadata": {},
   "outputs": [
    {
     "data": {
      "text/plain": [
       "[20, 40]"
      ]
     },
     "execution_count": 159,
     "metadata": {},
     "output_type": "execute_result"
    }
   ],
   "source": [
    "l"
   ]
  },
  {
   "cell_type": "code",
   "execution_count": 167,
   "id": "06fabd33-624f-45ec-8f4e-2de02309134d",
   "metadata": {},
   "outputs": [],
   "source": [
    "l.insert(1,30)"
   ]
  },
  {
   "cell_type": "code",
   "execution_count": 177,
   "id": "3228f561-5cd9-4123-8bd3-6bdc3be59485",
   "metadata": {},
   "outputs": [],
   "source": [
    "l.append(50)\n",
    "l.append(60)\n",
    "l.append(70)"
   ]
  },
  {
   "cell_type": "code",
   "execution_count": 171,
   "id": "4e9c574b-48cf-48b3-a5e5-2569fcaafeee",
   "metadata": {},
   "outputs": [],
   "source": [
    "# you can perform slicing in lists as well"
   ]
  },
  {
   "cell_type": "code",
   "execution_count": 179,
   "id": "d790acbc-5ec5-4084-b645-f0fb106ae1e2",
   "metadata": {},
   "outputs": [],
   "source": [
    "del l[1:4]"
   ]
  },
  {
   "cell_type": "code",
   "execution_count": 181,
   "id": "0165a80b-f75a-4d40-9879-8d5190d887f5",
   "metadata": {},
   "outputs": [
    {
     "data": {
      "text/plain": [
       "[20, 50, 60, 70]"
      ]
     },
     "execution_count": 181,
     "metadata": {},
     "output_type": "execute_result"
    }
   ],
   "source": [
    "l"
   ]
  },
  {
   "cell_type": "code",
   "execution_count": 185,
   "id": "140ae2e2-5332-4511-9a10-cc82782de9a8",
   "metadata": {},
   "outputs": [],
   "source": [
    "l.extend([80,90,100])"
   ]
  },
  {
   "cell_type": "code",
   "execution_count": 187,
   "id": "3831e3fe-875c-44d4-816f-209f8b41c809",
   "metadata": {},
   "outputs": [
    {
     "data": {
      "text/plain": [
       "[20, 50, 60, 70, 80, 90, 100]"
      ]
     },
     "execution_count": 187,
     "metadata": {},
     "output_type": "execute_result"
    }
   ],
   "source": [
    "l\n"
   ]
  },
  {
   "cell_type": "code",
   "execution_count": 191,
   "id": "3277a9ac-3fd4-49b6-8d36-f46ebc60b25e",
   "metadata": {},
   "outputs": [
    {
     "data": {
      "text/plain": [
       "20"
      ]
     },
     "execution_count": 191,
     "metadata": {},
     "output_type": "execute_result"
    }
   ],
   "source": [
    "min(l)\n"
   ]
  },
  {
   "cell_type": "code",
   "execution_count": 193,
   "id": "93c1d73f-0f6c-42f8-811e-f60a46502729",
   "metadata": {},
   "outputs": [
    {
     "data": {
      "text/plain": [
       "100"
      ]
     },
     "execution_count": 193,
     "metadata": {},
     "output_type": "execute_result"
    }
   ],
   "source": [
    "max(l)"
   ]
  },
  {
   "cell_type": "code",
   "execution_count": 199,
   "id": "6baa91ff-903c-4d82-ab94-b62808bdda36",
   "metadata": {},
   "outputs": [
    {
     "name": "stdout",
     "output_type": "stream",
     "text": [
      "['hi', 'bye', 'hello']\n",
      "bye\n",
      "hi\n"
     ]
    }
   ],
   "source": [
    "m = [\"hi\",\"bye\",\"hello\"]\n",
    "print(m)\n",
    "print(min(m)) # min and max are give based on the ASCII value of the alphabets\n",
    "print(max(m))"
   ]
  },
  {
   "cell_type": "code",
   "execution_count": 207,
   "id": "926fdf71-fe89-4b41-9ecf-a3ea99240195",
   "metadata": {},
   "outputs": [
    {
     "name": "stdout",
     "output_type": "stream",
     "text": [
      "['bye', 'hello', 'hi']\n"
     ]
    }
   ],
   "source": [
    "print(sorted(m))"
   ]
  },
  {
   "cell_type": "code",
   "execution_count": 211,
   "id": "38c4a85d-39bb-4ab7-8c00-2a909aa129fb",
   "metadata": {},
   "outputs": [],
   "source": [
    "l.sort()"
   ]
  },
  {
   "cell_type": "code",
   "execution_count": 213,
   "id": "f26e3202-dbc6-400e-8d36-33eb061d9a4b",
   "metadata": {},
   "outputs": [
    {
     "data": {
      "text/plain": [
       "[20, 50, 60, 70, 80, 90, 100]"
      ]
     },
     "execution_count": 213,
     "metadata": {},
     "output_type": "execute_result"
    }
   ],
   "source": [
    "l\n"
   ]
  },
  {
   "cell_type": "code",
   "execution_count": 215,
   "id": "134ca440-ad4f-4113-8867-cbcd83ca945c",
   "metadata": {},
   "outputs": [],
   "source": [
    "l[0] = 10000"
   ]
  },
  {
   "cell_type": "code",
   "execution_count": 217,
   "id": "cf120597-5132-4569-a485-f475b8db6213",
   "metadata": {},
   "outputs": [
    {
     "data": {
      "text/plain": [
       "[10000, 50, 60, 70, 80, 90, 100]"
      ]
     },
     "execution_count": 217,
     "metadata": {},
     "output_type": "execute_result"
    }
   ],
   "source": [
    "l"
   ]
  },
  {
   "cell_type": "code",
   "execution_count": 219,
   "id": "a44ff135-a6e4-4878-aa75-39afb62263ea",
   "metadata": {},
   "outputs": [],
   "source": [
    "l.sort()"
   ]
  },
  {
   "cell_type": "code",
   "execution_count": 221,
   "id": "3621fdc1-d9c2-4e62-938c-bce432a65a92",
   "metadata": {},
   "outputs": [
    {
     "data": {
      "text/plain": [
       "[50, 60, 70, 80, 90, 100, 10000]"
      ]
     },
     "execution_count": 221,
     "metadata": {},
     "output_type": "execute_result"
    }
   ],
   "source": [
    "l"
   ]
  },
  {
   "cell_type": "code",
   "execution_count": 223,
   "id": "c0c564b2-e444-46a0-b91b-d5f1a0aa8d30",
   "metadata": {},
   "outputs": [],
   "source": [
    "data = {1:\"2160359\" , 2:\"Kaipa Anish Reddy\", 3:\"BTech\"}"
   ]
  },
  {
   "cell_type": "code",
   "execution_count": 225,
   "id": "79888ab8-180c-42c6-b634-9f14e13ef535",
   "metadata": {},
   "outputs": [
    {
     "data": {
      "text/plain": [
       "'2160359'"
      ]
     },
     "execution_count": 225,
     "metadata": {},
     "output_type": "execute_result"
    }
   ],
   "source": [
    "data[1]"
   ]
  },
  {
   "cell_type": "code",
   "execution_count": 227,
   "id": "4e8ca23f-6e8c-4258-a970-d3e8667d330a",
   "metadata": {},
   "outputs": [
    {
     "data": {
      "text/plain": [
       "'Kaipa Anish Reddy'"
      ]
     },
     "execution_count": 227,
     "metadata": {},
     "output_type": "execute_result"
    }
   ],
   "source": [
    "data.get(2)"
   ]
  },
  {
   "cell_type": "code",
   "execution_count": 229,
   "id": "ede9b9f6-640b-4fdd-93cb-1ff31feb05be",
   "metadata": {},
   "outputs": [
    {
     "ename": "KeyError",
     "evalue": "4",
     "output_type": "error",
     "traceback": [
      "\u001b[1;31m---------------------------------------------------------------------------\u001b[0m",
      "\u001b[1;31mKeyError\u001b[0m                                  Traceback (most recent call last)",
      "Cell \u001b[1;32mIn[229], line 1\u001b[0m\n\u001b[1;32m----> 1\u001b[0m data[\u001b[38;5;241m4\u001b[39m]\n",
      "\u001b[1;31mKeyError\u001b[0m: 4"
     ]
    }
   ],
   "source": [
    "data[4]"
   ]
  },
  {
   "cell_type": "code",
   "execution_count": 235,
   "id": "b2e14ed8-9c7b-4eec-914c-7633d6ba4304",
   "metadata": {},
   "outputs": [
    {
     "data": {
      "text/plain": [
       "'Not Found'"
      ]
     },
     "execution_count": 235,
     "metadata": {},
     "output_type": "execute_result"
    }
   ],
   "source": [
    "data.get(4, \"Not Found\")"
   ]
  },
  {
   "cell_type": "code",
   "execution_count": 237,
   "id": "366116c1-cf36-4216-9a9d-ebd7115f385f",
   "metadata": {},
   "outputs": [],
   "source": [
    "data[4] = \"CSE\""
   ]
  },
  {
   "cell_type": "code",
   "execution_count": 239,
   "id": "2f06c3e8-320a-4230-87e8-8bbf63dca441",
   "metadata": {},
   "outputs": [
    {
     "data": {
      "text/plain": [
       "{1: '2160359', 2: 'Kaipa Anish Reddy', 3: 'BTech', 4: 'CSE'}"
      ]
     },
     "execution_count": 239,
     "metadata": {},
     "output_type": "execute_result"
    }
   ],
   "source": [
    "data"
   ]
  },
  {
   "cell_type": "code",
   "execution_count": 241,
   "id": "60e12a7f-4e54-4d37-8612-e44a71224291",
   "metadata": {},
   "outputs": [],
   "source": [
    "del data[4]"
   ]
  },
  {
   "cell_type": "code",
   "execution_count": 245,
   "id": "a9ce956f-8041-4bed-97f6-ee0adf14bd0c",
   "metadata": {},
   "outputs": [
    {
     "data": {
      "text/plain": [
       "{1: '2160359', 2: 'Kaipa Anish Reddy', 3: 'BTech'}"
      ]
     },
     "execution_count": 245,
     "metadata": {},
     "output_type": "execute_result"
    }
   ],
   "source": [
    "data"
   ]
  },
  {
   "cell_type": "code",
   "execution_count": 247,
   "id": "ae484cda-ff3d-4805-b295-20881f86e177",
   "metadata": {},
   "outputs": [
    {
     "data": {
      "text/plain": [
       "range"
      ]
     },
     "execution_count": 247,
     "metadata": {},
     "output_type": "execute_result"
    }
   ],
   "source": [
    "r = range(0,20)\n",
    "type(r)"
   ]
  },
  {
   "cell_type": "code",
   "execution_count": 249,
   "id": "ff7f2c5e-ad3f-4ed8-af99-2a426cf07994",
   "metadata": {},
   "outputs": [
    {
     "data": {
      "text/plain": [
       "[0, 1, 2, 3, 4, 5, 6, 7, 8, 9, 10, 11, 12, 13, 14, 15, 16, 17, 18, 19]"
      ]
     },
     "execution_count": 249,
     "metadata": {},
     "output_type": "execute_result"
    }
   ],
   "source": [
    "list(r)"
   ]
  },
  {
   "cell_type": "code",
   "execution_count": 253,
   "id": "9209a73a-8def-4998-831d-105c1bfe56e3",
   "metadata": {},
   "outputs": [
    {
     "data": {
      "text/plain": [
       "[0, 1, 2, 3, 4, 5, 6, 7, 8, 9, 10, 11, 12, 13, 14, 15, 16, 17, 18, 19]"
      ]
     },
     "execution_count": 253,
     "metadata": {},
     "output_type": "execute_result"
    }
   ],
   "source": [
    "list1 = list(r)\n",
    "list1\n"
   ]
  },
  {
   "cell_type": "code",
   "execution_count": 257,
   "id": "34da4581-e0bb-45b5-9c6e-027d5414702e",
   "metadata": {},
   "outputs": [],
   "source": [
    "even = list1[0:20:2]"
   ]
  },
  {
   "cell_type": "code",
   "execution_count": 261,
   "id": "80c5ce97-5ea0-4ba8-b698-babfeaba1604",
   "metadata": {},
   "outputs": [
    {
     "name": "stdout",
     "output_type": "stream",
     "text": [
      "the even number from 1-20 are [0, 2, 4, 6, 8, 10, 12, 14, 16, 18]\n"
     ]
    }
   ],
   "source": [
    "print(f\"the even number from 1-20 are {even}\")"
   ]
  },
  {
   "cell_type": "code",
   "execution_count": 263,
   "id": "c1b176fd-1b6a-482b-9334-d1d0e316324b",
   "metadata": {},
   "outputs": [
    {
     "data": {
      "text/plain": [
       "dict_values(['2160359', 'Kaipa Anish Reddy', 'BTech'])"
      ]
     },
     "execution_count": 263,
     "metadata": {},
     "output_type": "execute_result"
    }
   ],
   "source": [
    "data.values()"
   ]
  },
  {
   "cell_type": "code",
   "execution_count": 265,
   "id": "85f0f69c-c5f6-4d7f-80a6-eb14a28ed6dc",
   "metadata": {},
   "outputs": [
    {
     "data": {
      "text/plain": [
       "dict_keys([1, 2, 3])"
      ]
     },
     "execution_count": 265,
     "metadata": {},
     "output_type": "execute_result"
    }
   ],
   "source": [
    "data.keys()"
   ]
  },
  {
   "cell_type": "markdown",
   "id": "d3fce007-8941-4fb8-affc-6b8a0b1ff162",
   "metadata": {},
   "source": [
    "# Swaping 2 variables"
   ]
  },
  {
   "cell_type": "code",
   "execution_count": 272,
   "id": "6781831a-e651-4e9f-a468-75cfc7bc3b1f",
   "metadata": {},
   "outputs": [],
   "source": [
    "x = 10\n",
    "y = 20"
   ]
  },
  {
   "cell_type": "code",
   "execution_count": 284,
   "id": "1b1c2f97-e89f-404a-8721-442c96c62437",
   "metadata": {},
   "outputs": [],
   "source": [
    "temp = x\n",
    "x = y\n",
    "y = temp"
   ]
  },
  {
   "cell_type": "code",
   "execution_count": 286,
   "id": "f6a8095e-150d-498a-9724-a711cb18a48f",
   "metadata": {},
   "outputs": [
    {
     "name": "stdout",
     "output_type": "stream",
     "text": [
      "the values of the variables after swapping are a = 20 , b = 10\n"
     ]
    }
   ],
   "source": [
    "print(f\"the values of the variables after swapping are a = {x} , b = {y}\")"
   ]
  },
  {
   "cell_type": "code",
   "execution_count": 1,
   "id": "601f9a8b-3772-40ef-8492-543544092f77",
   "metadata": {},
   "outputs": [
    {
     "data": {
      "text/plain": [
       "5"
      ]
     },
     "execution_count": 1,
     "metadata": {},
     "output_type": "execute_result"
    }
   ],
   "source": [
    "0b101"
   ]
  },
  {
   "cell_type": "code",
   "execution_count": 3,
   "id": "789098bb-eb9b-44e4-827a-f47011ee7ff5",
   "metadata": {},
   "outputs": [
    {
     "data": {
      "text/plain": [
       "7"
      ]
     },
     "execution_count": 3,
     "metadata": {},
     "output_type": "execute_result"
    }
   ],
   "source": [
    "0b111"
   ]
  },
  {
   "cell_type": "code",
   "execution_count": 5,
   "id": "3900e8b3-8f9b-451b-b1aa-efe4796abcc0",
   "metadata": {},
   "outputs": [
    {
     "data": {
      "text/plain": [
       "'0b10100'"
      ]
     },
     "execution_count": 5,
     "metadata": {},
     "output_type": "execute_result"
    }
   ],
   "source": [
    "bin(20)"
   ]
  },
  {
   "cell_type": "code",
   "execution_count": 7,
   "id": "1fa5a9fe-f429-4b66-8b05-8749185b2dcb",
   "metadata": {},
   "outputs": [
    {
     "data": {
      "text/plain": [
       "'0x14'"
      ]
     },
     "execution_count": 7,
     "metadata": {},
     "output_type": "execute_result"
    }
   ],
   "source": [
    "hex(20)"
   ]
  },
  {
   "cell_type": "code",
   "execution_count": 13,
   "id": "2d1ad354-c161-4e10-ad8c-0cbecf01f366",
   "metadata": {},
   "outputs": [
    {
     "data": {
      "text/plain": [
       "20"
      ]
     },
     "execution_count": 13,
     "metadata": {},
     "output_type": "execute_result"
    }
   ],
   "source": [
    "0x14"
   ]
  },
  {
   "cell_type": "code",
   "execution_count": 15,
   "id": "d607d5d9-529d-439d-a515-f961ebde248f",
   "metadata": {},
   "outputs": [
    {
     "data": {
      "text/plain": [
       "'0o24'"
      ]
     },
     "execution_count": 15,
     "metadata": {},
     "output_type": "execute_result"
    }
   ],
   "source": [
    "oct(20)"
   ]
  },
  {
   "cell_type": "code",
   "execution_count": 17,
   "id": "be1c4f67-39d2-454a-b349-f946fcb0ab1c",
   "metadata": {},
   "outputs": [
    {
     "data": {
      "text/plain": [
       "20"
      ]
     },
     "execution_count": 17,
     "metadata": {},
     "output_type": "execute_result"
    }
   ],
   "source": [
    "0o24"
   ]
  },
  {
   "cell_type": "code",
   "execution_count": 8,
   "id": "24671b5d-458e-4e9b-8e49-dca7513f0a1c",
   "metadata": {},
   "outputs": [],
   "source": [
    "a1 = 2"
   ]
  },
  {
   "cell_type": "code",
   "execution_count": 10,
   "id": "8823ecf3-fbfb-48ad-b01d-005a4ac98ff5",
   "metadata": {},
   "outputs": [],
   "source": [
    "b1 = 3"
   ]
  },
  {
   "cell_type": "code",
   "execution_count": 12,
   "id": "6221555a-dce6-4f69-a891-2e9edee1c6d5",
   "metadata": {},
   "outputs": [],
   "source": [
    "a1 = a1 ^ b1\n",
    "b1 = a1 ^ b1\n",
    "a1 = a1 ^ b1"
   ]
  },
  {
   "cell_type": "code",
   "execution_count": 14,
   "id": "1680ff60-4633-4308-a9c3-af9aae33a1c9",
   "metadata": {},
   "outputs": [
    {
     "data": {
      "text/plain": [
       "(3, 2)"
      ]
     },
     "execution_count": 14,
     "metadata": {},
     "output_type": "execute_result"
    }
   ],
   "source": [
    "a1,b1"
   ]
  },
  {
   "cell_type": "code",
   "execution_count": 16,
   "id": "e7dc3361-2b20-4017-85a2-e22abc394ccd",
   "metadata": {},
   "outputs": [],
   "source": [
    "a1,b1 = b1,a1"
   ]
  },
  {
   "cell_type": "code",
   "execution_count": 18,
   "id": "b8964b32-f2aa-453f-9ac4-1d4b79356ea5",
   "metadata": {},
   "outputs": [
    {
     "data": {
      "text/plain": [
       "(2, 3)"
      ]
     },
     "execution_count": 18,
     "metadata": {},
     "output_type": "execute_result"
    }
   ],
   "source": [
    "a1,b1"
   ]
  },
  {
   "cell_type": "code",
   "execution_count": 20,
   "id": "ce3479a6-324f-44df-83e9-891d857260cd",
   "metadata": {},
   "outputs": [],
   "source": [
    "x = 12"
   ]
  },
  {
   "cell_type": "code",
   "execution_count": 22,
   "id": "b6d24805-f146-4f0c-8f14-d2c02f7b71b0",
   "metadata": {},
   "outputs": [
    {
     "data": {
      "text/plain": [
       "-13"
      ]
     },
     "execution_count": 22,
     "metadata": {},
     "output_type": "execute_result"
    }
   ],
   "source": [
    "~x"
   ]
  },
  {
   "cell_type": "code",
   "execution_count": 24,
   "id": "9c3fab0f-5269-4757-8457-4678c9ef9220",
   "metadata": {},
   "outputs": [],
   "source": [
    "y = 13"
   ]
  },
  {
   "cell_type": "code",
   "execution_count": 26,
   "id": "12e9aaa5-00a4-437b-96b2-0b35b7b6ec73",
   "metadata": {},
   "outputs": [
    {
     "data": {
      "text/plain": [
       "12"
      ]
     },
     "execution_count": 26,
     "metadata": {},
     "output_type": "execute_result"
    }
   ],
   "source": [
    "x  & y\n"
   ]
  },
  {
   "cell_type": "code",
   "execution_count": 28,
   "id": "203387de-8c4a-4210-8f3c-fb98fa743609",
   "metadata": {},
   "outputs": [
    {
     "data": {
      "text/plain": [
       "13"
      ]
     },
     "execution_count": 28,
     "metadata": {},
     "output_type": "execute_result"
    }
   ],
   "source": [
    "x | y "
   ]
  },
  {
   "cell_type": "code",
   "execution_count": 30,
   "id": "85f3e55b-4e65-45e1-8b6c-bcf24ab5d015",
   "metadata": {},
   "outputs": [
    {
     "data": {
      "text/plain": [
       "'0b100011'"
      ]
     },
     "execution_count": 30,
     "metadata": {},
     "output_type": "execute_result"
    }
   ],
   "source": [
    "bin(35)"
   ]
  },
  {
   "cell_type": "code",
   "execution_count": 32,
   "id": "d3b92334-770c-43e0-bdd2-cb066054775e",
   "metadata": {},
   "outputs": [
    {
     "data": {
      "text/plain": [
       "'0b101101'"
      ]
     },
     "execution_count": 32,
     "metadata": {},
     "output_type": "execute_result"
    }
   ],
   "source": [
    "bin(45)"
   ]
  },
  {
   "cell_type": "code",
   "execution_count": 34,
   "id": "9ffca7dd-87f5-473d-b66c-7a5021724f1e",
   "metadata": {},
   "outputs": [
    {
     "data": {
      "text/plain": [
       "33"
      ]
     },
     "execution_count": 34,
     "metadata": {},
     "output_type": "execute_result"
    }
   ],
   "source": [
    "35 & 45"
   ]
  },
  {
   "cell_type": "code",
   "execution_count": 36,
   "id": "d612a9fd-ec58-406c-a474-fd833a21622d",
   "metadata": {},
   "outputs": [
    {
     "data": {
      "text/plain": [
       "47"
      ]
     },
     "execution_count": 36,
     "metadata": {},
     "output_type": "execute_result"
    }
   ],
   "source": [
    "35 | 45"
   ]
  },
  {
   "cell_type": "code",
   "execution_count": 38,
   "id": "654c74c7-2b92-4d52-a0ba-9bb20eaf27a7",
   "metadata": {},
   "outputs": [
    {
     "data": {
      "text/plain": [
       "14"
      ]
     },
     "execution_count": 38,
     "metadata": {},
     "output_type": "execute_result"
    }
   ],
   "source": [
    "35 ^ 45\n"
   ]
  },
  {
   "cell_type": "code",
   "execution_count": 40,
   "id": "e0b6b95b-ef46-4897-9367-480f816e3f4a",
   "metadata": {},
   "outputs": [
    {
     "data": {
      "text/plain": [
       "20"
      ]
     },
     "execution_count": 40,
     "metadata": {},
     "output_type": "execute_result"
    }
   ],
   "source": [
    "10 << 1"
   ]
  },
  {
   "cell_type": "code",
   "execution_count": 43,
   "id": "5074291f-4ab5-4ed1-be7f-fe081c31575f",
   "metadata": {},
   "outputs": [
    {
     "data": {
      "text/plain": [
       "40"
      ]
     },
     "execution_count": 43,
     "metadata": {},
     "output_type": "execute_result"
    }
   ],
   "source": [
    "10 << 2"
   ]
  },
  {
   "cell_type": "code",
   "execution_count": 45,
   "id": "0225ac4e-da3f-40f8-a8fa-d1f42bf7e20e",
   "metadata": {},
   "outputs": [
    {
     "data": {
      "text/plain": [
       "320"
      ]
     },
     "execution_count": 45,
     "metadata": {},
     "output_type": "execute_result"
    }
   ],
   "source": [
    "0b101000000\n"
   ]
  },
  {
   "cell_type": "code",
   "execution_count": 47,
   "id": "08f87dbd-d90a-42b2-b289-e7e1d89d243b",
   "metadata": {},
   "outputs": [
    {
     "data": {
      "text/plain": [
       "320"
      ]
     },
     "execution_count": 47,
     "metadata": {},
     "output_type": "execute_result"
    }
   ],
   "source": [
    "20 << 4"
   ]
  },
  {
   "cell_type": "code",
   "execution_count": 51,
   "id": "7d63cf6b-ed09-4ab5-a796-49721f88396b",
   "metadata": {},
   "outputs": [
    {
     "data": {
      "text/plain": [
       "5"
      ]
     },
     "execution_count": 51,
     "metadata": {},
     "output_type": "execute_result"
    }
   ],
   "source": [
    "10 >> 1 "
   ]
  },
  {
   "cell_type": "code",
   "execution_count": 53,
   "id": "abd2568e-b238-47bc-bd2a-2d8f28776529",
   "metadata": {},
   "outputs": [
    {
     "data": {
      "text/plain": [
       "2"
      ]
     },
     "execution_count": 53,
     "metadata": {},
     "output_type": "execute_result"
    }
   ],
   "source": [
    "10 >> 2"
   ]
  },
  {
   "cell_type": "code",
   "execution_count": 55,
   "id": "ac1cda5d-3376-47a5-993c-c9ab0fbe963e",
   "metadata": {},
   "outputs": [
    {
     "data": {
      "text/plain": [
       "'0b10100'"
      ]
     },
     "execution_count": 55,
     "metadata": {},
     "output_type": "execute_result"
    }
   ],
   "source": [
    "bin(20)"
   ]
  },
  {
   "cell_type": "code",
   "execution_count": 57,
   "id": "c507ecc3-68dd-40e7-80e9-4aabe9b945a3",
   "metadata": {},
   "outputs": [
    {
     "data": {
      "text/plain": [
       "1"
      ]
     },
     "execution_count": 57,
     "metadata": {},
     "output_type": "execute_result"
    }
   ],
   "source": [
    "20 >> 4"
   ]
  },
  {
   "cell_type": "code",
   "execution_count": 59,
   "id": "8e0100db-183c-4ef6-b134-e56c1c8dc867",
   "metadata": {},
   "outputs": [],
   "source": [
    "import math\n"
   ]
  },
  {
   "cell_type": "code",
   "execution_count": 65,
   "id": "73da2824-56fc-4f2a-92f4-afacb21b47d1",
   "metadata": {},
   "outputs": [],
   "source": [
    "x = math.sqrt(25)"
   ]
  },
  {
   "cell_type": "code",
   "execution_count": 67,
   "id": "7d459cf2-0877-4e0f-9954-2574a1fdf6d4",
   "metadata": {},
   "outputs": [
    {
     "data": {
      "text/plain": [
       "5.0"
      ]
     },
     "execution_count": 67,
     "metadata": {},
     "output_type": "execute_result"
    }
   ],
   "source": [
    "x\n",
    "\n"
   ]
  },
  {
   "cell_type": "code",
   "execution_count": 69,
   "id": "898201ab-d307-4393-a149-d822d58ded2b",
   "metadata": {},
   "outputs": [],
   "source": [
    "x1 = math.sqrt(15)"
   ]
  },
  {
   "cell_type": "code",
   "execution_count": 71,
   "id": "e62ceabe-c568-48d3-bf0d-4340dab04562",
   "metadata": {},
   "outputs": [
    {
     "data": {
      "text/plain": [
       "3.872983346207417"
      ]
     },
     "execution_count": 71,
     "metadata": {},
     "output_type": "execute_result"
    }
   ],
   "source": [
    "x1\n",
    "\n"
   ]
  },
  {
   "cell_type": "code",
   "execution_count": 87,
   "id": "618bf1f7-68be-4c13-b1a5-c709fca80c19",
   "metadata": {},
   "outputs": [
    {
     "name": "stdout",
     "output_type": "stream",
     "text": [
      "3\n"
     ]
    }
   ],
   "source": [
    "r = 3.55\n",
    "print(math.floor(r))"
   ]
  },
  {
   "cell_type": "code",
   "execution_count": 89,
   "id": "23d11f68-ed31-4886-b758-5dd6353cbea8",
   "metadata": {},
   "outputs": [
    {
     "name": "stdout",
     "output_type": "stream",
     "text": [
      "4\n"
     ]
    }
   ],
   "source": [
    "print(math.ceil(r))"
   ]
  },
  {
   "cell_type": "code",
   "execution_count": 97,
   "id": "9dc5830d-a206-406f-975f-e0ef03ad2829",
   "metadata": {},
   "outputs": [],
   "source": [
    "t = 4"
   ]
  },
  {
   "cell_type": "code",
   "execution_count": 99,
   "id": "89d98ec8-1e7a-4d58-a856-6ca8501343ba",
   "metadata": {},
   "outputs": [
    {
     "name": "stdout",
     "output_type": "stream",
     "text": [
      "16.0\n"
     ]
    }
   ],
   "source": [
    "print(math.pow(t,2))"
   ]
  },
  {
   "cell_type": "code",
   "execution_count": 101,
   "id": "1b4cf81b-dc1d-4205-90b3-97cf7553ef3c",
   "metadata": {},
   "outputs": [
    {
     "name": "stdout",
     "output_type": "stream",
     "text": [
      "64.0\n"
     ]
    }
   ],
   "source": [
    "print(math.pow(t,3))"
   ]
  },
  {
   "cell_type": "code",
   "execution_count": 103,
   "id": "70c76b27-9b7b-47f8-bae1-1e162690b547",
   "metadata": {},
   "outputs": [
    {
     "name": "stdout",
     "output_type": "stream",
     "text": [
      "64\n"
     ]
    }
   ],
   "source": [
    "print(t ** 3)"
   ]
  },
  {
   "cell_type": "code",
   "execution_count": 105,
   "id": "7cc86bf9-337f-4b75-9605-77992b45a049",
   "metadata": {},
   "outputs": [],
   "source": [
    "import math as m "
   ]
  },
  {
   "cell_type": "code",
   "execution_count": 107,
   "id": "ddd7a905-4a2c-49d5-baee-4a46d51ad9cc",
   "metadata": {},
   "outputs": [
    {
     "name": "stdout",
     "output_type": "stream",
     "text": [
      "11.0\n"
     ]
    }
   ],
   "source": [
    "print(m.sqrt(121))"
   ]
  },
  {
   "cell_type": "code",
   "execution_count": 111,
   "id": "48fb431a-8153-4f4b-bc69-8cf030cb63b6",
   "metadata": {},
   "outputs": [
    {
     "name": "stdout",
     "output_type": "stream",
     "text": [
      "The squarerot of 144 is  12.0\n"
     ]
    }
   ],
   "source": [
    "print(f\"The squarerot of 144 is  {m.sqrt(144)}\")"
   ]
  },
  {
   "cell_type": "code",
   "execution_count": 117,
   "id": "cbc820e6-baa6-40cf-bf0f-756dcc66d275",
   "metadata": {},
   "outputs": [
    {
     "data": {
      "text/plain": [
       "3.141592653589793"
      ]
     },
     "execution_count": 117,
     "metadata": {},
     "output_type": "execute_result"
    }
   ],
   "source": [
    "p = m.pi\n",
    "p"
   ]
  },
  {
   "cell_type": "code",
   "execution_count": 119,
   "id": "91a80f1b-8c27-4e7b-85aa-2804a725e426",
   "metadata": {},
   "outputs": [
    {
     "name": "stdout",
     "output_type": "stream",
     "text": [
      "9\n"
     ]
    }
   ],
   "source": [
    "print(round(8.8))"
   ]
  },
  {
   "cell_type": "code",
   "execution_count": null,
   "id": "50000c11-fc09-4571-80ba-9a10c56eb02e",
   "metadata": {},
   "outputs": [],
   "source": []
  }
 ],
 "metadata": {
  "kernelspec": {
   "display_name": "Python [conda env:base] *",
   "language": "python",
   "name": "conda-base-py"
  },
  "language_info": {
   "codemirror_mode": {
    "name": "ipython",
    "version": 3
   },
   "file_extension": ".py",
   "mimetype": "text/x-python",
   "name": "python",
   "nbconvert_exporter": "python",
   "pygments_lexer": "ipython3",
   "version": "3.12.7"
  }
 },
 "nbformat": 4,
 "nbformat_minor": 5
}
