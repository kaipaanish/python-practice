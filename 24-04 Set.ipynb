{
 "cells": [
  {
   "cell_type": "code",
   "execution_count": 1,
   "id": "f0dd8dff-708d-4633-972c-7bd8fcb29da7",
   "metadata": {},
   "outputs": [
    {
     "data": {
      "text/plain": [
       "set"
      ]
     },
     "execution_count": 1,
     "metadata": {},
     "output_type": "execute_result"
    }
   ],
   "source": [
    "s1 = set()\n",
    "type(s1)"
   ]
  },
  {
   "cell_type": "code",
   "execution_count": 2,
   "id": "a9e5b622-68b7-4f0e-9838-ce52e770dd97",
   "metadata": {},
   "outputs": [],
   "source": [
    "s1.add(10)"
   ]
  },
  {
   "cell_type": "code",
   "execution_count": 3,
   "id": "9fec204e-9df3-4458-addc-044287a277dc",
   "metadata": {},
   "outputs": [
    {
     "data": {
      "text/plain": [
       "{10}"
      ]
     },
     "execution_count": 3,
     "metadata": {},
     "output_type": "execute_result"
    }
   ],
   "source": [
    "s1"
   ]
  },
  {
   "cell_type": "code",
   "execution_count": 4,
   "id": "a9f715a2-9247-4fff-9a2f-ed65d27037be",
   "metadata": {},
   "outputs": [],
   "source": [
    "s1.add(10)\n",
    "s1.add(\"anish\")\n",
    "s1.add(True)\n",
    "s1.add(1 + 2j)\n",
    "s1.add(3.2)"
   ]
  },
  {
   "cell_type": "code",
   "execution_count": 5,
   "id": "c9a39b94-f268-4045-87f9-15b56e5fb510",
   "metadata": {},
   "outputs": [
    {
     "data": {
      "text/plain": [
       "{(1+2j), 10, 3.2, True, 'anish'}"
      ]
     },
     "execution_count": 5,
     "metadata": {},
     "output_type": "execute_result"
    }
   ],
   "source": [
    "s1\n"
   ]
  },
  {
   "cell_type": "code",
   "execution_count": 6,
   "id": "c6f7c094-6b5f-4883-a313-ed2450a9cd31",
   "metadata": {},
   "outputs": [
    {
     "data": {
      "text/plain": [
       "set()"
      ]
     },
     "execution_count": 6,
     "metadata": {},
     "output_type": "execute_result"
    }
   ],
   "source": [
    "s2 = set()\n",
    "s2"
   ]
  },
  {
   "cell_type": "code",
   "execution_count": 7,
   "id": "92824f08-bb05-4eda-805f-0abc05076d1a",
   "metadata": {},
   "outputs": [
    {
     "ename": "TypeError",
     "evalue": "set.add() takes exactly one argument (2 given)",
     "output_type": "error",
     "traceback": [
      "\u001b[1;31m---------------------------------------------------------------------------\u001b[0m",
      "\u001b[1;31mTypeError\u001b[0m                                 Traceback (most recent call last)",
      "Cell \u001b[1;32mIn[7], line 1\u001b[0m\n\u001b[1;32m----> 1\u001b[0m s2\u001b[38;5;241m.\u001b[39madd(\u001b[38;5;241m10\u001b[39m,\u001b[38;5;241m20\u001b[39m)\n",
      "\u001b[1;31mTypeError\u001b[0m: set.add() takes exactly one argument (2 given)"
     ]
    }
   ],
   "source": [
    "s2.add(10,20)"
   ]
  },
  {
   "cell_type": "code",
   "execution_count": 28,
   "id": "2bbafde1-4c0f-4403-af3d-3ffb2d5dd7ef",
   "metadata": {},
   "outputs": [
    {
     "data": {
      "text/plain": [
       "{9, 10, 100, 200}"
      ]
     },
     "execution_count": 28,
     "metadata": {},
     "output_type": "execute_result"
    }
   ],
   "source": [
    "s2.add(100)\n",
    "s2.add(10)\n",
    "s2.add(200)\n",
    "s2.add(9)\n",
    "s2"
   ]
  },
  {
   "cell_type": "code",
   "execution_count": 30,
   "id": "886a1d10-0315-4558-a529-31cb32574ae4",
   "metadata": {},
   "outputs": [
    {
     "data": {
      "text/plain": [
       "set()"
      ]
     },
     "execution_count": 30,
     "metadata": {},
     "output_type": "execute_result"
    }
   ],
   "source": [
    "s3 = set()\n",
    "s3"
   ]
  },
  {
   "cell_type": "code",
   "execution_count": 32,
   "id": "2379af3f-010b-4442-a1f0-8e9bcbbeb010",
   "metadata": {},
   "outputs": [
    {
     "data": {
      "text/plain": [
       "{'a', 'b', 'm', 'z'}"
      ]
     },
     "execution_count": 32,
     "metadata": {},
     "output_type": "execute_result"
    }
   ],
   "source": [
    "s3.add(\"z\")\n",
    "s3.add(\"a\")\n",
    "s3.add(\"m\")\n",
    "s3.add(\"b\")\n",
    "s3"
   ]
  },
  {
   "cell_type": "code",
   "execution_count": 34,
   "id": "6e0a13e7-97ab-45b9-88f0-12f0652fd458",
   "metadata": {},
   "outputs": [],
   "source": [
    "#bu default if u use {} its dict sooo if u want to create an empty set use set function\n",
    "#in list we use append similarly in set we use add\n",
    "# in set if u add duifferent data types it will be an unordered set but if u add same data typoes it is an ordered set\n",
    "\n"
   ]
  },
  {
   "cell_type": "code",
   "execution_count": 36,
   "id": "89c00009-138e-416a-80e0-d92a750863ac",
   "metadata": {},
   "outputs": [
    {
     "data": {
      "text/plain": [
       "4"
      ]
     },
     "execution_count": 36,
     "metadata": {},
     "output_type": "execute_result"
    }
   ],
   "source": [
    "len(s3)"
   ]
  },
  {
   "cell_type": "code",
   "execution_count": 38,
   "id": "13703797-7202-44bc-9c58-2a1aae958e27",
   "metadata": {},
   "outputs": [
    {
     "ename": "TypeError",
     "evalue": "'set' object is not subscriptable",
     "output_type": "error",
     "traceback": [
      "\u001b[1;31m---------------------------------------------------------------------------\u001b[0m",
      "\u001b[1;31mTypeError\u001b[0m                                 Traceback (most recent call last)",
      "Cell \u001b[1;32mIn[38], line 1\u001b[0m\n\u001b[1;32m----> 1\u001b[0m s3[\u001b[38;5;241m0\u001b[39m]\n",
      "\u001b[1;31mTypeError\u001b[0m: 'set' object is not subscriptable"
     ]
    }
   ],
   "source": [
    "s3[0]"
   ]
  },
  {
   "cell_type": "code",
   "execution_count": 40,
   "id": "be011a51-3dab-42e1-94f1-d2e5e0b630a5",
   "metadata": {},
   "outputs": [],
   "source": [
    "#in set we cant perform indexing and slicing "
   ]
  },
  {
   "cell_type": "code",
   "execution_count": 42,
   "id": "eadb8826-0cdf-4d52-b61e-a66355ac959d",
   "metadata": {},
   "outputs": [
    {
     "ename": "TypeError",
     "evalue": "'set' object is not subscriptable",
     "output_type": "error",
     "traceback": [
      "\u001b[1;31m---------------------------------------------------------------------------\u001b[0m",
      "\u001b[1;31mTypeError\u001b[0m                                 Traceback (most recent call last)",
      "Cell \u001b[1;32mIn[42], line 1\u001b[0m\n\u001b[1;32m----> 1\u001b[0m s3[:]\n",
      "\u001b[1;31mTypeError\u001b[0m: 'set' object is not subscriptable"
     ]
    }
   ],
   "source": [
    "s3[:]"
   ]
  },
  {
   "cell_type": "code",
   "execution_count": 44,
   "id": "a2d162d0-4d80-4963-896e-458c0334e732",
   "metadata": {},
   "outputs": [],
   "source": [
    "s4 = s3.copy()"
   ]
  },
  {
   "cell_type": "code",
   "execution_count": 46,
   "id": "049d6e85-1d6f-4129-bfa7-4d6600233ab5",
   "metadata": {},
   "outputs": [
    {
     "data": {
      "text/plain": [
       "{'a', 'b', 'm', 'z'}"
      ]
     },
     "execution_count": 46,
     "metadata": {},
     "output_type": "execute_result"
    }
   ],
   "source": [
    "s4"
   ]
  },
  {
   "cell_type": "code",
   "execution_count": 48,
   "id": "e2e9e28b-778a-4321-9b20-4527bc120a13",
   "metadata": {},
   "outputs": [
    {
     "data": {
      "text/plain": [
       "True"
      ]
     },
     "execution_count": 48,
     "metadata": {},
     "output_type": "execute_result"
    }
   ],
   "source": [
    "s4.add(\"z\")\n",
    "s3 == s4"
   ]
  },
  {
   "cell_type": "code",
   "execution_count": 50,
   "id": "6e40db3f-3718-47ba-8444-7918d4a395b2",
   "metadata": {},
   "outputs": [
    {
     "data": {
      "text/plain": [
       "{'a', 'b', 'm', 'z'}"
      ]
     },
     "execution_count": 50,
     "metadata": {},
     "output_type": "execute_result"
    }
   ],
   "source": [
    "s4\n"
   ]
  },
  {
   "cell_type": "code",
   "execution_count": 52,
   "id": "88df8db0-669f-4414-883e-c4b126ad257f",
   "metadata": {},
   "outputs": [
    {
     "name": "stdout",
     "output_type": "stream",
     "text": [
      "<class 'set'>\n",
      "set()\n"
     ]
    }
   ],
   "source": [
    "s4.clear()\n",
    "print(type(s4))\n",
    "print(s4)"
   ]
  },
  {
   "cell_type": "code",
   "execution_count": 54,
   "id": "8ce24e91-df65-4130-b0c3-c468adecbfc4",
   "metadata": {},
   "outputs": [
    {
     "data": {
      "text/plain": [
       "'b'"
      ]
     },
     "execution_count": 54,
     "metadata": {},
     "output_type": "execute_result"
    }
   ],
   "source": [
    "s3.pop()"
   ]
  },
  {
   "cell_type": "code",
   "execution_count": 56,
   "id": "331dee43-c5fd-4a08-aaa3-e0f61086beeb",
   "metadata": {},
   "outputs": [],
   "source": [
    "#in list the pop function will pop th last element but in set it will randomly pop an element"
   ]
  },
  {
   "cell_type": "code",
   "execution_count": 58,
   "id": "7dc65881-2426-4c60-8c4e-31f50472265a",
   "metadata": {},
   "outputs": [
    {
     "data": {
      "text/plain": [
       "{(1+2j), 10, 3.2, True, 'anish'}"
      ]
     },
     "execution_count": 58,
     "metadata": {},
     "output_type": "execute_result"
    }
   ],
   "source": [
    "s1"
   ]
  },
  {
   "cell_type": "code",
   "execution_count": 60,
   "id": "f462d41c-6528-4f88-b96f-51f324886153",
   "metadata": {},
   "outputs": [],
   "source": [
    "s1.remove(1+2j)"
   ]
  },
  {
   "cell_type": "code",
   "execution_count": 62,
   "id": "3b060016-a397-4de0-abef-c3c027a8027f",
   "metadata": {},
   "outputs": [
    {
     "data": {
      "text/plain": [
       "{10, 3.2, True, 'anish'}"
      ]
     },
     "execution_count": 62,
     "metadata": {},
     "output_type": "execute_result"
    }
   ],
   "source": [
    "s1"
   ]
  },
  {
   "cell_type": "code",
   "execution_count": 64,
   "id": "bac984fe-2a14-4da0-8f02-746270365039",
   "metadata": {},
   "outputs": [
    {
     "name": "stdout",
     "output_type": "stream",
     "text": [
      "z\n",
      "m\n",
      "a\n"
     ]
    }
   ],
   "source": [
    "for i in s3:\n",
    "    print(i)"
   ]
  },
  {
   "cell_type": "code",
   "execution_count": 66,
   "id": "67653fcc-82b9-44ec-b6ca-7f89cd3560cd",
   "metadata": {},
   "outputs": [
    {
     "name": "stdout",
     "output_type": "stream",
     "text": [
      "(0, 'z')\n",
      "(1, 'm')\n",
      "(2, 'a')\n"
     ]
    }
   ],
   "source": [
    "for i in enumerate(s3):\n",
    "    print(i)\n"
   ]
  },
  {
   "cell_type": "code",
   "execution_count": 68,
   "id": "f3e43c4c-fb37-475a-b67d-0535f9a42050",
   "metadata": {},
   "outputs": [],
   "source": [
    "# enumerat3e will be used in deep learning , computer vision"
   ]
  },
  {
   "cell_type": "code",
   "execution_count": 70,
   "id": "bb94d628-93ae-4a44-904c-f9e51196476e",
   "metadata": {},
   "outputs": [
    {
     "data": {
      "text/plain": [
       "False"
      ]
     },
     "execution_count": 70,
     "metadata": {},
     "output_type": "execute_result"
    }
   ],
   "source": [
    "\"b\" in s3"
   ]
  },
  {
   "cell_type": "code",
   "execution_count": 72,
   "id": "c8240e5d-b749-4a17-9dfc-2b58633caea7",
   "metadata": {},
   "outputs": [],
   "source": [
    "a = {1,2,3,4}\n",
    "b = {5,6,7,8}\n",
    "c = {9,10}\n"
   ]
  },
  {
   "cell_type": "code",
   "execution_count": 74,
   "id": "7e52885e-f8a1-4309-8298-b7e24188b365",
   "metadata": {},
   "outputs": [
    {
     "data": {
      "text/plain": [
       "{1, 2, 3, 4, 5, 6, 7, 8}"
      ]
     },
     "execution_count": 74,
     "metadata": {},
     "output_type": "execute_result"
    }
   ],
   "source": [
    "a | b"
   ]
  },
  {
   "cell_type": "code",
   "execution_count": 76,
   "id": "840cd388-3de7-4056-9262-c3f12c184ff8",
   "metadata": {},
   "outputs": [
    {
     "data": {
      "text/plain": [
       "{1, 2, 3, 4, 5, 6, 7, 8}"
      ]
     },
     "execution_count": 76,
     "metadata": {},
     "output_type": "execute_result"
    }
   ],
   "source": [
    "a.union(b)"
   ]
  },
  {
   "cell_type": "code",
   "execution_count": 78,
   "id": "feb1dda1-add1-4d05-8d34-51d9a5a4b66a",
   "metadata": {},
   "outputs": [
    {
     "data": {
      "text/plain": [
       "{1, 2, 3, 4, 5, 6, 7, 8, 9, 10}"
      ]
     },
     "execution_count": 78,
     "metadata": {},
     "output_type": "execute_result"
    }
   ],
   "source": [
    "a.union(b,c)\n"
   ]
  },
  {
   "cell_type": "code",
   "execution_count": 80,
   "id": "c650963f-8cbc-4d33-81aa-07329fe92267",
   "metadata": {},
   "outputs": [
    {
     "data": {
      "text/plain": [
       "{1, 2, 3, 4, 5, 6, 7, 8, 9, 10}"
      ]
     },
     "execution_count": 80,
     "metadata": {},
     "output_type": "execute_result"
    }
   ],
   "source": [
    "c | b | a"
   ]
  },
  {
   "cell_type": "code",
   "execution_count": 82,
   "id": "dc4fe6c0-5790-413b-979d-cddbc816c482",
   "metadata": {},
   "outputs": [],
   "source": [
    "c.update(a)"
   ]
  },
  {
   "cell_type": "code",
   "execution_count": 84,
   "id": "2b69ba63-8f18-41c6-b741-46d17e649359",
   "metadata": {},
   "outputs": [
    {
     "name": "stdout",
     "output_type": "stream",
     "text": [
      "{1, 2, 3, 4}\n",
      "{8, 5, 6, 7}\n",
      "{1, 2, 3, 4, 9, 10}\n"
     ]
    }
   ],
   "source": [
    "print(a)\n",
    "print(b)\n",
    "print(c)\n"
   ]
  },
  {
   "cell_type": "code",
   "execution_count": 88,
   "id": "f5e1caed-c3b3-4b95-8260-6d7cf0cf766b",
   "metadata": {},
   "outputs": [
    {
     "data": {
      "text/plain": [
       "{1, 2, 3, 4}"
      ]
     },
     "execution_count": 88,
     "metadata": {},
     "output_type": "execute_result"
    }
   ],
   "source": [
    "a & c # & is intersection symbol"
   ]
  },
  {
   "cell_type": "code",
   "execution_count": 95,
   "id": "8f18a66a-567b-48f5-a001-dc0253adf292",
   "metadata": {},
   "outputs": [
    {
     "data": {
      "text/plain": [
       "set()"
      ]
     },
     "execution_count": 95,
     "metadata": {},
     "output_type": "execute_result"
    }
   ],
   "source": [
    "a & b & c"
   ]
  },
  {
   "cell_type": "code",
   "execution_count": 103,
   "id": "16b7b629-d136-4c76-bb8d-07c3bd205fdd",
   "metadata": {},
   "outputs": [
    {
     "name": "stdout",
     "output_type": "stream",
     "text": [
      "{1, 2, 3, 4, 7, 8}\n",
      "{1, 5, 6, 7, 8}\n"
     ]
    }
   ],
   "source": [
    "a.add(8)\n",
    "b.add(1)\n",
    "a.add(7)\n",
    "print(a)\n",
    "print(b)"
   ]
  },
  {
   "cell_type": "code",
   "execution_count": 101,
   "id": "8dbf1864-52c0-440f-a80f-bb1c261b0e96",
   "metadata": {},
   "outputs": [
    {
     "data": {
      "text/plain": [
       "{2, 3, 4}"
      ]
     },
     "execution_count": 101,
     "metadata": {},
     "output_type": "execute_result"
    }
   ],
   "source": [
    "a - b # difference will print the not common elements "
   ]
  },
  {
   "cell_type": "code",
   "execution_count": null,
   "id": "c9d4b9a4-3be1-49f7-b8da-865ab919d81a",
   "metadata": {},
   "outputs": [],
   "source": []
  }
 ],
 "metadata": {
  "kernelspec": {
   "display_name": "Python [conda env:base] *",
   "language": "python",
   "name": "conda-base-py"
  },
  "language_info": {
   "codemirror_mode": {
    "name": "ipython",
    "version": 3
   },
   "file_extension": ".py",
   "mimetype": "text/x-python",
   "name": "python",
   "nbconvert_exporter": "python",
   "pygments_lexer": "ipython3",
   "version": "3.12.7"
  }
 },
 "nbformat": 4,
 "nbformat_minor": 5
}
