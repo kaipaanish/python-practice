{
 "cells": [
  {
   "cell_type": "code",
   "execution_count": 1,
   "id": "bad85091",
   "metadata": {},
   "outputs": [],
   "source": [
    "import numpy as np"
   ]
  },
  {
   "cell_type": "code",
   "execution_count": 18,
   "id": "47cc54d1",
   "metadata": {},
   "outputs": [
    {
     "name": "stdout",
     "output_type": "stream",
     "text": [
      "array a:\n",
      " [1 2 3]\n"
     ]
    }
   ],
   "source": [
    "a = np.array([1, 2, 3])\n",
    "print(f\"array a:\\n {a}\")"
   ]
  },
  {
   "cell_type": "code",
   "execution_count": 19,
   "id": "851bba4c",
   "metadata": {},
   "outputs": [
    {
     "name": "stdout",
     "output_type": "stream",
     "text": [
      "array b:\n",
      " [0 2 4 6 8]\n"
     ]
    }
   ],
   "source": [
    "\n",
    "b = np.arange(0,10,2)\n",
    "print(f\"array b:\\n {b}\")\n"
   ]
  },
  {
   "cell_type": "code",
   "execution_count": 20,
   "id": "a7d758cc",
   "metadata": {},
   "outputs": [
    {
     "name": "stdout",
     "output_type": "stream",
     "text": [
      "array c:\n",
      " [0.  0.1 0.2 0.3 0.4 0.6 0.7 0.8 0.9 1. ]\n"
     ]
    }
   ],
   "source": [
    "c = np.linspace(0,1,10).round(1)\n",
    "print(f\"array c:\\n {c}\")"
   ]
  },
  {
   "cell_type": "code",
   "execution_count": 21,
   "id": "f15d3557",
   "metadata": {},
   "outputs": [
    {
     "name": "stdout",
     "output_type": "stream",
     "text": [
      "array c:\n",
      " [ 1.   1.1  1.2  1.3  1.4  1.5  1.5  1.6  1.7  1.8  1.9  2.   2.1  2.2\n",
      "  2.3  2.4  2.5  2.5  2.6  2.7  2.8  2.9  3.   3.1  3.2  3.3  3.4  3.5\n",
      "  3.5  3.6  3.7  3.8  3.9  4.   4.1  4.2  4.3  4.4  4.5  4.5  4.6  4.7\n",
      "  4.8  4.9  5.   5.1  5.2  5.3  5.4  5.5  5.5  5.6  5.7  5.8  5.9  6.\n",
      "  6.1  6.2  6.3  6.4  6.5  6.5  6.6  6.7  6.8  6.9  7.   7.1  7.2  7.3\n",
      "  7.4  7.5  7.5  7.6  7.7  7.8  7.9  8.   8.1  8.2  8.3  8.4  8.5  8.5\n",
      "  8.6  8.7  8.8  8.9  9.   9.1  9.2  9.3  9.4  9.5  9.5  9.6  9.7  9.8\n",
      "  9.9 10. ]\n"
     ]
    }
   ],
   "source": [
    "c = np.linspace(1,10,100).round(1)\n",
    "print(f\"array c:\\n {c}\")"
   ]
  },
  {
   "cell_type": "code",
   "execution_count": 22,
   "id": "e3312d92",
   "metadata": {},
   "outputs": [
    {
     "name": "stdout",
     "output_type": "stream",
     "text": [
      "array d:\n",
      " [[0 0 0]\n",
      " [0 0 0]]\n"
     ]
    }
   ],
   "source": [
    "d = np.zeros((2,3), dtype = \"int\")\n",
    "print(f\"array d:\\n {d}\")"
   ]
  },
  {
   "cell_type": "code",
   "execution_count": 23,
   "id": "4b476365",
   "metadata": {},
   "outputs": [
    {
     "name": "stdout",
     "output_type": "stream",
     "text": [
      "array e:\n",
      " [[1 1 1]\n",
      " [1 1 1]]\n"
     ]
    }
   ],
   "source": [
    "e = np.ones((2,3), dtype = \"int\")\n",
    "print(f\"array e:\\n {e}\")"
   ]
  },
  {
   "cell_type": "code",
   "execution_count": 25,
   "id": "81c12851",
   "metadata": {},
   "outputs": [
    {
     "name": "stdout",
     "output_type": "stream",
     "text": [
      "array f:\n",
      " [[1 0 0 0]\n",
      " [0 1 0 0]\n",
      " [0 0 1 0]\n",
      " [0 0 0 1]]\n"
     ]
    }
   ],
   "source": [
    "f = np.eye(4, dtype = \"int\")\n",
    "print(f\"array f:\\n {f}\")"
   ]
  },
  {
   "cell_type": "markdown",
   "id": "2546f47f",
   "metadata": {},
   "source": [
    "ARRAY MANIPULATION"
   ]
  },
  {
   "cell_type": "code",
   "execution_count": 32,
   "id": "539a7e9f",
   "metadata": {},
   "outputs": [
    {
     "name": "stdout",
     "output_type": "stream",
     "text": [
      "reshaped array:\n",
      " [[1 2 3]]\n"
     ]
    },
    {
     "data": {
      "text/plain": [
       "array([1, 2, 3])"
      ]
     },
     "execution_count": 32,
     "metadata": {},
     "output_type": "execute_result"
    }
   ],
   "source": [
    "a1 =np.array([1,2,3])\n",
    "reshaped  = np.reshape(a1,(1,3))\n",
    "print(f\"reshaped array:\\n {reshaped}\")\n",
    "a1"
   ]
  },
  {
   "cell_type": "code",
   "execution_count": 33,
   "id": "43c31c66",
   "metadata": {},
   "outputs": [
    {
     "data": {
      "text/plain": [
       "array([[1, 2, 3]])"
      ]
     },
     "execution_count": 33,
     "metadata": {},
     "output_type": "execute_result"
    }
   ],
   "source": [
    "reshaped"
   ]
  },
  {
   "cell_type": "code",
   "execution_count": 35,
   "id": "9f7cfc12",
   "metadata": {},
   "outputs": [
    {
     "name": "stdout",
     "output_type": "stream",
     "text": [
      "flattened array:\n",
      " [1 2 3 4 5 6]\n"
     ]
    },
    {
     "data": {
      "text/plain": [
       "array([[1, 2, 3],\n",
       "       [4, 5, 6]])"
      ]
     },
     "execution_count": 35,
     "metadata": {},
     "output_type": "execute_result"
    }
   ],
   "source": [
    "f1 = np.array([[1,2,3],[4,5,6]])\n",
    "flattened  = np.ravel(f1)\n",
    "print(f\"flattened array:\\n {flattened}\")\n",
    "f1"
   ]
  },
  {
   "cell_type": "code",
   "execution_count": 39,
   "id": "6f4d6fda",
   "metadata": {},
   "outputs": [
    {
     "data": {
      "text/plain": [
       "array([ 0,  1,  2,  3,  4,  5,  6,  7,  8,  9, 10, 11, 12, 13, 14, 15, 16,\n",
       "       17, 18, 19])"
      ]
     },
     "execution_count": 39,
     "metadata": {},
     "output_type": "execute_result"
    }
   ],
   "source": [
    "x = np.arange(0,20)\n",
    "x"
   ]
  },
  {
   "cell_type": "code",
   "execution_count": 40,
   "id": "707a5b1e",
   "metadata": {},
   "outputs": [
    {
     "data": {
      "text/plain": [
       "array([[ 0,  1],\n",
       "       [ 2,  3],\n",
       "       [ 4,  5],\n",
       "       [ 6,  7],\n",
       "       [ 8,  9],\n",
       "       [10, 11],\n",
       "       [12, 13],\n",
       "       [14, 15],\n",
       "       [16, 17],\n",
       "       [18, 19]])"
      ]
     },
     "execution_count": 40,
     "metadata": {},
     "output_type": "execute_result"
    }
   ],
   "source": [
    "x = np.reshape(x,(10,2))\n",
    "x"
   ]
  },
  {
   "cell_type": "code",
   "execution_count": 41,
   "id": "b6864561",
   "metadata": {},
   "outputs": [
    {
     "data": {
      "text/plain": [
       "array([ 0,  1,  2,  3,  4,  5,  6,  7,  8,  9, 10, 11, 12, 13, 14, 15, 16,\n",
       "       17, 18, 19])"
      ]
     },
     "execution_count": 41,
     "metadata": {},
     "output_type": "execute_result"
    }
   ],
   "source": [
    "x = np.ravel(x)\n",
    "x"
   ]
  },
  {
   "cell_type": "code",
   "execution_count": 43,
   "id": "7dfb6b8a",
   "metadata": {},
   "outputs": [
    {
     "name": "stdout",
     "output_type": "stream",
     "text": [
      "transposed array:\n",
      " [[ 0  4  8 12 16]\n",
      " [ 1  5  9 13 17]\n",
      " [ 2  6 10 14 18]\n",
      " [ 3  7 11 15 19]]\n"
     ]
    },
    {
     "data": {
      "text/plain": [
       "array([[ 0,  1,  2,  3],\n",
       "       [ 4,  5,  6,  7],\n",
       "       [ 8,  9, 10, 11],\n",
       "       [12, 13, 14, 15],\n",
       "       [16, 17, 18, 19]])"
      ]
     },
     "execution_count": 43,
     "metadata": {},
     "output_type": "execute_result"
    }
   ],
   "source": [
    "t1 = np.arange(0,20).reshape(5,4)\n",
    "transposed = np.transpose(t1)\n",
    "print(f\"transposed array:\\n {transposed}\")\n",
    "t1"
   ]
  },
  {
   "cell_type": "code",
   "execution_count": 44,
   "id": "428919dd",
   "metadata": {},
   "outputs": [
    {
     "name": "stdout",
     "output_type": "stream",
     "text": [
      "stacked array:\n",
      " [[1 2 3]\n",
      " [4 5 6]]\n"
     ]
    }
   ],
   "source": [
    "s1 = np.array([1,2,3])\n",
    "s2 = np.array([4,5,6])\n",
    "stacked = np.stack((s1,s2))\n",
    "print(f\"stacked array:\\n {stacked}\")"
   ]
  },
  {
   "cell_type": "markdown",
   "id": "ade40c67",
   "metadata": {},
   "source": [
    "MATHEMATICAL FUNCTIONS"
   ]
  },
  {
   "cell_type": "code",
   "execution_count": 49,
   "id": "ffbb1f10",
   "metadata": {},
   "outputs": [
    {
     "name": "stdout",
     "output_type": "stream",
     "text": [
      "added array:\n",
      " [3 4 5 6 7 8]\n"
     ]
    }
   ],
   "source": [
    "math = np.array([1,2,3,4,5,6])\n",
    "added = np.add(math, 2)\n",
    "print(f\"added array:\\n {added}\")"
   ]
  },
  {
   "cell_type": "code",
   "execution_count": 50,
   "id": "ba50c347",
   "metadata": {},
   "outputs": [
    {
     "name": "stdout",
     "output_type": "stream",
     "text": [
      "subtracted array:\n",
      " [-1  0  1  2  3  4]\n"
     ]
    }
   ],
   "source": [
    "subtracted = np.subtract(math, 2)\n",
    "print(f\"subtracted array:\\n {subtracted}\")"
   ]
  },
  {
   "cell_type": "code",
   "execution_count": 51,
   "id": "4a32836e",
   "metadata": {},
   "outputs": [
    {
     "name": "stdout",
     "output_type": "stream",
     "text": [
      "powered array:\n",
      " [ 1  4  9 16 25 36]\n"
     ]
    }
   ],
   "source": [
    "powered  = np.power(math, 2)\n",
    "print(f\"powered array:\\n {powered}\")"
   ]
  },
  {
   "cell_type": "code",
   "execution_count": 52,
   "id": "f4470c0f",
   "metadata": {},
   "outputs": [
    {
     "name": "stdout",
     "output_type": "stream",
     "text": [
      "squareroot array:\n",
      " [1.         1.41421356 1.73205081 2.         2.23606798 2.44948974]\n"
     ]
    }
   ],
   "source": [
    "squareroot  = np.sqrt(math)\n",
    "print(f\"squareroot array:\\n {squareroot}\")"
   ]
  },
  {
   "cell_type": "code",
   "execution_count": 53,
   "id": "9f6e4a86",
   "metadata": {},
   "outputs": [
    {
     "name": "stdout",
     "output_type": "stream",
     "text": [
      "cuberoot array:\n",
      " [1.         1.25992105 1.44224957 1.58740105 1.70997595 1.81712059]\n"
     ]
    }
   ],
   "source": [
    "cuberoot  = np.cbrt(math)\n",
    "print(f\"cuberoot array:\\n {cuberoot}\")"
   ]
  },
  {
   "cell_type": "code",
   "execution_count": 54,
   "id": "aee72f05",
   "metadata": {},
   "outputs": [
    {
     "data": {
      "text/plain": [
       "array([1, 2, 3])"
      ]
     },
     "execution_count": 54,
     "metadata": {},
     "output_type": "execute_result"
    }
   ],
   "source": [
    "a1"
   ]
  },
  {
   "cell_type": "code",
   "execution_count": 57,
   "id": "f5c071d6",
   "metadata": {},
   "outputs": [
    {
     "name": "stdout",
     "output_type": "stream",
     "text": [
      "dot product:\n",
      " 20\n"
     ]
    }
   ],
   "source": [
    "a2  = np.array([2,3,4])\n",
    "mul = np.dot(a1,a2)\n",
    "print(f\"dot product:\\n {mul}\")"
   ]
  },
  {
   "cell_type": "code",
   "execution_count": 58,
   "id": "3daf5422",
   "metadata": {},
   "outputs": [
    {
     "name": "stdout",
     "output_type": "stream",
     "text": [
      "divided array:\n",
      " [0.5        0.66666667 0.75      ]\n"
     ]
    }
   ],
   "source": [
    "div = np.divide(a1,a2)\n",
    "print(f\"divided array:\\n {div}\")"
   ]
  },
  {
   "cell_type": "markdown",
   "id": "3d7dca58",
   "metadata": {},
   "source": [
    "STATS   "
   ]
  },
  {
   "cell_type": "code",
   "execution_count": 59,
   "id": "e33e5953",
   "metadata": {},
   "outputs": [
    {
     "name": "stdout",
     "output_type": "stream",
     "text": [
      "mean of array:\n",
      " 4.5\n"
     ]
    }
   ],
   "source": [
    "s = np.array([0,1,2,3,4,5,6,7,8,9])\n",
    "mean = np.mean(s)\n",
    "print(f\"mean of array:\\n {mean}\")"
   ]
  },
  {
   "cell_type": "code",
   "execution_count": 60,
   "id": "e8252e27",
   "metadata": {},
   "outputs": [
    {
     "name": "stdout",
     "output_type": "stream",
     "text": [
      "standard deviation of array:\n",
      " 2.8722813232690143\n"
     ]
    }
   ],
   "source": [
    "standard_deviation = np.std(s)\n",
    "print(f\"standard deviation of array:\\n {standard_deviation}\")"
   ]
  },
  {
   "cell_type": "code",
   "execution_count": 62,
   "id": "1695be87",
   "metadata": {},
   "outputs": [
    {
     "name": "stdout",
     "output_type": "stream",
     "text": [
      "minimum of array:\n",
      " 0\n"
     ]
    }
   ],
   "source": [
    "m = np.min(s)\n",
    "print(f\"minimum of array:\\n {m}\")"
   ]
  },
  {
   "cell_type": "code",
   "execution_count": 63,
   "id": "2d279ab9",
   "metadata": {},
   "outputs": [
    {
     "name": "stdout",
     "output_type": "stream",
     "text": [
      "maximum of array:\n",
      " 9\n"
     ]
    }
   ],
   "source": [
    "max = np.max(s)\n",
    "print(f\"maximum of array:\\n {max}\") "
   ]
  },
  {
   "cell_type": "markdown",
   "id": "53d9dbd7",
   "metadata": {},
   "source": [
    "LINEAR ALGEBRA  "
   ]
  },
  {
   "cell_type": "code",
   "execution_count": 66,
   "id": "672b622e",
   "metadata": {},
   "outputs": [
    {
     "name": "stdout",
     "output_type": "stream",
     "text": [
      "array ALG:\n",
      " [[ 0  1  2  3  4]\n",
      " [ 5  6  7  8  9]\n",
      " [10 11 12 13 14]\n",
      " [15 16 17 18 19]\n",
      " [20 21 22 23 24]]\n"
     ]
    }
   ],
   "source": [
    "ALG = np.arange(0,25).reshape(5,5)\n",
    "print(f\"array ALG:\\n {ALG}\")"
   ]
  },
  {
   "cell_type": "code",
   "execution_count": 67,
   "id": "9337238e",
   "metadata": {},
   "outputs": [
    {
     "name": "stdout",
     "output_type": "stream",
     "text": [
      "determinant of ALG:\n",
      " 0.0\n"
     ]
    }
   ],
   "source": [
    "det = np.linalg.det(ALG)\n",
    "print(f\"determinant of ALG:\\n {det}\")"
   ]
  },
  {
   "cell_type": "code",
   "execution_count": null,
   "id": "ace06a6f",
   "metadata": {},
   "outputs": [
    {
     "name": "stdout",
     "output_type": "stream",
     "text": [
      "array alg:\n",
      " [[8842230 8260920 7560050 1831367 6464809]\n",
      " [5850476  596709 2486234 6780389 2794973]\n",
      " [2718948 2218107 5683737 4217375 1555510]\n",
      " [4673638 3965732 5089321 5962546 2637122]\n",
      " [3732343 3297318 8864720 8658473 4054964]]\n",
      "inverse of ALG:\n",
      " [[ 3.82811009e-08  1.85043781e-07  3.77197277e-07 -9.02709288e-08\n",
      "  -2.74564968e-07]\n",
      " [-2.15072438e-08 -2.28352999e-07 -2.71497467e-07  5.16476897e-07\n",
      "  -4.00533457e-08]\n",
      " [ 2.37855431e-08 -5.14926935e-09  4.20182774e-07 -2.63880095e-07\n",
      "  -2.39438446e-08]\n",
      " [-9.27309594e-08 -9.77440252e-09 -2.07691440e-07  2.52650320e-07\n",
      "   6.99398379e-08]\n",
      " [ 1.28261151e-07  4.74933500e-08 -6.01516574e-07 -2.99487079e-07\n",
      "   4.34904609e-07]]\n"
     ]
    }
   ],
   "source": [
    "alg = np.random.randint(0,10000000, size=(5,5))\n",
    "print(f\"array alg:\\n {alg}\")\n",
    "inverse = np.linalg.inv(alg)\n",
    "print(f\"inverse of ALG:\\n {inverse}\")"
   ]
  },
  {
   "cell_type": "code",
   "execution_count": 94,
   "id": "9669f47e",
   "metadata": {},
   "outputs": [
    {
     "name": "stdout",
     "output_type": "stream",
     "text": [
      "random array:\n",
      " [0.53641604 0.77809443 0.8308828 ]\n"
     ]
    }
   ],
   "source": [
    "rand1 = np.random.rand(3)\n",
    "print(f\"random array:\\n {rand1}\")"
   ]
  },
  {
   "cell_type": "code",
   "execution_count": 108,
   "id": "30f49d35",
   "metadata": {},
   "outputs": [
    {
     "name": "stdout",
     "output_type": "stream",
     "text": [
      "Random values: [0.5488135  0.71518937 0.60276338]\n"
     ]
    }
   ],
   "source": [
    "np.random.seed(0)\n",
    "random_vals = np.random.rand(3)  #\n",
    "print(\"Random values:\", random_vals)"
   ]
  },
  {
   "cell_type": "code",
   "execution_count": null,
   "id": "55d4ea5c",
   "metadata": {},
   "outputs": [
    {
     "name": "stdout",
     "output_type": "stream",
     "text": [
      "random integer array:\n",
      " [5 0 3 3 7]\n"
     ]
    }
   ],
   "source": [
    "np.random.seed(0)\n",
    "rando_int = np.random.randint(0,10, size = 5)\n",
    "print(f\"random integer array:\\n {rando_int}\")"
   ]
  },
  {
   "cell_type": "markdown",
   "id": "a796fbd1",
   "metadata": {},
   "source": [
    "LOGIC TEST ALL, ANY"
   ]
  },
  {
   "cell_type": "code",
   "execution_count": 119,
   "id": "4b604e73",
   "metadata": {},
   "outputs": [
    {
     "name": "stdout",
     "output_type": "stream",
     "text": [
      "array LOGIC:\n",
      " [ True False  True False]\n"
     ]
    }
   ],
   "source": [
    "LOGIC = np.array([True, False, True, False])\n",
    "print(f\"array LOGIC:\\n {LOGIC}\")"
   ]
  },
  {
   "cell_type": "code",
   "execution_count": 120,
   "id": "b77bc1a6",
   "metadata": {},
   "outputs": [
    {
     "name": "stdout",
     "output_type": "stream",
     "text": [
      "all elements are True:\n",
      " False\n"
     ]
    }
   ],
   "source": [
    "all = np.all(LOGIC)\n",
    "print(f\"all elements are True:\\n {all}\")"
   ]
  },
  {
   "cell_type": "code",
   "execution_count": 121,
   "id": "bb7f8e67",
   "metadata": {},
   "outputs": [
    {
     "name": "stdout",
     "output_type": "stream",
     "text": [
      "any element is True:\n",
      " True\n"
     ]
    }
   ],
   "source": [
    "any = np.any(LOGIC)\n",
    "print(f\"any element is True:\\n {any}\")"
   ]
  },
  {
   "cell_type": "code",
   "execution_count": null,
   "id": "38643372",
   "metadata": {},
   "outputs": [],
   "source": []
  }
 ],
 "metadata": {
  "kernelspec": {
   "display_name": "base",
   "language": "python",
   "name": "python3"
  },
  "language_info": {
   "codemirror_mode": {
    "name": "ipython",
    "version": 3
   },
   "file_extension": ".py",
   "mimetype": "text/x-python",
   "name": "python",
   "nbconvert_exporter": "python",
   "pygments_lexer": "ipython3",
   "version": "3.12.7"
  }
 },
 "nbformat": 4,
 "nbformat_minor": 5
}
