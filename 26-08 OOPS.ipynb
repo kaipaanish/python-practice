{
 "cells": [
  {
   "cell_type": "code",
   "execution_count": 1,
   "id": "c557d8ac-be7e-438b-8ea1-25fca989c1bd",
   "metadata": {},
   "outputs": [
    {
     "name": "stdout",
     "output_type": "stream",
     "text": [
      "i5 8gb\n"
     ]
    }
   ],
   "source": [
    "class computer:        \n",
    "    def config():      # self is the object which user passing\n",
    "        print('i5', '8gb')\n",
    "\n",
    "com1 = computer()\n",
    "\n",
    "computer.config() #hear com1 act as parameter going to the self\n"
   ]
  },
  {
   "cell_type": "code",
   "execution_count": 2,
   "id": "cdf2748d-affd-49a7-9c5f-420eeed2ef06",
   "metadata": {},
   "outputs": [
    {
     "name": "stdout",
     "output_type": "stream",
     "text": [
      "i5 8gb\n"
     ]
    }
   ],
   "source": [
    "class computer:        \n",
    "    def config(self):      # self is the object which user passing\n",
    "        print('i5', '8gb')\n",
    "\n",
    "com1 = computer()\n",
    "\n",
    "com1.config() #hear com1 act as parameter going to the self\n"
   ]
  },
  {
   "cell_type": "code",
   "execution_count": 3,
   "id": "2c08c770-4319-4bdb-8f0c-265b7f2a76ce",
   "metadata": {},
   "outputs": [
    {
     "name": "stdout",
     "output_type": "stream",
     "text": [
      "i5 8gb\n",
      "i5 8gb\n"
     ]
    }
   ],
   "source": [
    "class computer:        \n",
    "    def config(self):      # self is the object which user passing\n",
    "        print('i5', '8gb')\n",
    "\n",
    "com1 = computer()\n",
    "com2 = computer()\n",
    "\n",
    "com1.config() \n",
    "com2.config()\n"
   ]
  },
  {
   "cell_type": "code",
   "execution_count": 4,
   "id": "901bb971-459f-4aff-b6a1-28151e8b6d04",
   "metadata": {},
   "outputs": [
    {
     "name": "stdout",
     "output_type": "stream",
     "text": [
      "i5 8gb\n",
      "i5 8gb\n",
      "i5 8gb\n"
     ]
    }
   ],
   "source": [
    "class computer:        \n",
    "    def config(self):      # self is the object which user passing\n",
    "        print('i5', '8gb')\n",
    "\n",
    "com1 = computer()\n",
    "com2 = computer()\n",
    "com3 = computer()\n",
    "\n",
    "com1.config() \n",
    "com2.config()\n",
    "com3.config()"
   ]
  },
  {
   "cell_type": "code",
   "execution_count": 5,
   "id": "9e32b2c5-bb81-4961-a298-5cf3f4273d48",
   "metadata": {},
   "outputs": [],
   "source": [
    "class computer:        \n",
    "    def config(self):      # self is the object which user passing\n",
    "        print('i5', '8gb')\n",
    "\n",
    "com1 = computer()"
   ]
  },
  {
   "cell_type": "code",
   "execution_count": 6,
   "id": "5631c92c-f9f6-4cca-8057-28aba5ccf477",
   "metadata": {},
   "outputs": [
    {
     "name": "stdout",
     "output_type": "stream",
     "text": [
      "i5 8gb\n",
      "i5 8gb\n",
      "i5 8gb\n",
      "i5 8gb\n"
     ]
    }
   ],
   "source": [
    "class computer:        \n",
    "    def __init__(self):      # self is the object which user passing\n",
    "        print('i5', '8gb')\n",
    "\n",
    "com1 = computer()\n",
    "com2 = computer()\n",
    "\n",
    "com1.__init__()\n",
    "com2.__init__()"
   ]
  },
  {
   "cell_type": "code",
   "execution_count": 7,
   "id": "d74f4bb2-bb7b-475d-a618-74cbbf84390c",
   "metadata": {},
   "outputs": [
    {
     "name": "stdout",
     "output_type": "stream",
     "text": [
      "in init\n",
      "in init\n",
      "i5 8gb\n",
      "i5 8gb\n"
     ]
    }
   ],
   "source": [
    "class computer():        \n",
    "    \n",
    "    def __init__(self):\n",
    "        print('in init')\n",
    "    \n",
    "    def config(self):     \n",
    "        print('i5', '8gb')\n",
    "\n",
    "com1 = computer()\n",
    "com2 = computer()\n",
    "\n",
    "com1.config() \n",
    "com2.config()"
   ]
  },
  {
   "cell_type": "code",
   "execution_count": 8,
   "id": "24f32818-a413-47fe-8fbe-2ec9227f1b93",
   "metadata": {},
   "outputs": [
    {
     "ename": "TypeError",
     "evalue": "computer.__init__() takes 1 positional argument but 4 were given",
     "output_type": "error",
     "traceback": [
      "\u001b[1;31m---------------------------------------------------------------------------\u001b[0m",
      "\u001b[1;31mTypeError\u001b[0m                                 Traceback (most recent call last)",
      "Cell \u001b[1;32mIn[8], line 11\u001b[0m\n\u001b[0;32m      8\u001b[0m     \u001b[38;5;28;01mdef\u001b[39;00m\u001b[38;5;250m \u001b[39m\u001b[38;5;21mconfig\u001b[39m(\u001b[38;5;28mself\u001b[39m):     \n\u001b[0;32m      9\u001b[0m         \u001b[38;5;28mprint\u001b[39m(\u001b[38;5;124m'\u001b[39m\u001b[38;5;124mi5\u001b[39m\u001b[38;5;124m'\u001b[39m, \u001b[38;5;124m'\u001b[39m\u001b[38;5;124m8gb\u001b[39m\u001b[38;5;124m'\u001b[39m)\n\u001b[1;32m---> 11\u001b[0m com1 \u001b[38;5;241m=\u001b[39m computer(\u001b[38;5;124m'\u001b[39m\u001b[38;5;124mi5\u001b[39m\u001b[38;5;124m'\u001b[39m, \u001b[38;5;241m8\u001b[39m, \u001b[38;5;241m10\u001b[39m)\n\u001b[0;32m     12\u001b[0m com2 \u001b[38;5;241m=\u001b[39m computer(\u001b[38;5;124m'\u001b[39m\u001b[38;5;124mintel5\u001b[39m\u001b[38;5;124m'\u001b[39m, \u001b[38;5;241m16\u001b[39m, \u001b[38;5;241m20\u001b[39m)\n\u001b[0;32m     14\u001b[0m com1\u001b[38;5;241m.\u001b[39mconfig() \n",
      "\u001b[1;31mTypeError\u001b[0m: computer.__init__() takes 1 positional argument but 4 were given"
     ]
    }
   ],
   "source": [
    "# hear i want to pass some argument \n",
    "\n",
    "class computer():        \n",
    "    \n",
    "    def __init__(self):\n",
    "        print('in init')\n",
    "    \n",
    "    def config(self):     \n",
    "        print('i5', '8gb')\n",
    "\n",
    "com1 = computer('i5', 8, 10)\n",
    "com2 = computer('intel5', 16, 20)\n",
    "\n",
    "com1.config() \n",
    "com2.config()"
   ]
  },
  {
   "cell_type": "code",
   "execution_count": 11,
   "id": "9e5c1af7-cce0-4e8b-8f94-418a5df1cff9",
   "metadata": {},
   "outputs": [
    {
     "name": "stdout",
     "output_type": "stream",
     "text": [
      "in init\n",
      "in init\n",
      "in init\n",
      "i5 8gb\n",
      "i5 8gb\n"
     ]
    }
   ],
   "source": [
    "class computer():        \n",
    "    \n",
    "    def __init__(self, cpu, ram): # cpu & ram as argument\n",
    "        print('in init')\n",
    "    \n",
    "    def config(self):     \n",
    "        print('i5', '8gb')\n",
    "\n",
    "com1 = computer('i5', 8)\n",
    "com2 = computer('intel 5', 16)\n",
    "com3 = computer('i9', 32)\n",
    "\n",
    "com1.config() \n",
    "com2.config()\n"
   ]
  },
  {
   "cell_type": "markdown",
   "id": "abf3f176-9dd1-4d61-8e21-0c6439d0cfff",
   "metadata": {},
   "source": [
    "# self is the argument & self also act as  a object "
   ]
  },
  {
   "cell_type": "code",
   "execution_count": 12,
   "id": "91a8a2a6-fd89-4aba-8da5-5d37f07ddc75",
   "metadata": {},
   "outputs": [
    {
     "name": "stdout",
     "output_type": "stream",
     "text": [
      "config is i5 8\n",
      "config is intel 5 8\n"
     ]
    }
   ],
   "source": [
    "class computer():        \n",
    "    \n",
    "    def __init__(self,cpu,ram): # cpu & ram as argument\n",
    "        self.cpu = cpu\n",
    "        self.ram = ram \n",
    "    \n",
    "    def config(self):     \n",
    "        print('config is', self.cpu, self.ram)\n",
    "\n",
    "com1 = computer('i5', 8)\n",
    "com2 = computer('intel 5', 8)\n",
    "\n",
    "com1.config() \n",
    "com2.config()"
   ]
  },
  {
   "cell_type": "code",
   "execution_count": 13,
   "id": "1505d71f-fc0d-4ffd-808e-2c5f7c1aa9ef",
   "metadata": {},
   "outputs": [
    {
     "name": "stdout",
     "output_type": "stream",
     "text": [
      "config is i5 8 27000\n",
      "config is intel 5 8 30000\n"
     ]
    }
   ],
   "source": [
    "class computer():        \n",
    "    \n",
    "    def __init__(self,cpu,ram, price): # cpu & ram as argument\n",
    "        self.cpu = cpu\n",
    "        self.ram = ram \n",
    "        self.price= price \n",
    "    \n",
    "    def config(self):     \n",
    "        print('config is', self.cpu, self.ram, self.price)\n",
    "\n",
    "com1 = computer('i5', 8, 27000)\n",
    "com2 = computer('intel 5', 8, 30000)\n",
    "\n",
    "com1.config() \n",
    "com2.config()"
   ]
  },
  {
   "cell_type": "code",
   "execution_count": 14,
   "id": "d4d4ecc9-8c78-4ab8-bcb4-99153bb7ebac",
   "metadata": {},
   "outputs": [
    {
     "ename": "IndentationError",
     "evalue": "expected an indented block after class definition on line 1 (1447290436.py, line 3)",
     "output_type": "error",
     "traceback": [
      "\u001b[1;36m  Cell \u001b[1;32mIn[14], line 3\u001b[1;36m\u001b[0m\n\u001b[1;33m    c1 = computer()\u001b[0m\n\u001b[1;37m    ^\u001b[0m\n\u001b[1;31mIndentationError\u001b[0m\u001b[1;31m:\u001b[0m expected an indented block after class definition on line 1\n"
     ]
    }
   ],
   "source": [
    "class computer:\n",
    "   \n",
    "c1 = computer()\n",
    "print(id(c1))"
   ]
  },
  {
   "cell_type": "code",
   "execution_count": 15,
   "id": "788541e8-a380-454b-8c47-21d6808b5736",
   "metadata": {},
   "outputs": [
    {
     "name": "stdout",
     "output_type": "stream",
     "text": [
      "2771661867392\n"
     ]
    }
   ],
   "source": [
    "class computer:\n",
    "    pass\n",
    "   \n",
    "c1 = computer()\n",
    "print(id(c1))"
   ]
  },
  {
   "cell_type": "code",
   "execution_count": 16,
   "id": "a287fabc-a817-4d0e-8697-7bdcdfa37df7",
   "metadata": {},
   "outputs": [
    {
     "name": "stdout",
     "output_type": "stream",
     "text": [
      "2771661868400\n",
      "2771644959632\n"
     ]
    }
   ],
   "source": [
    "class computer:\n",
    "    pass\n",
    "\n",
    "c1 = computer()\n",
    "c2 = computer()\n",
    "\n",
    "print(id(c1))\n",
    "print(id(c2))"
   ]
  },
  {
   "cell_type": "code",
   "execution_count": 17,
   "id": "37289758-8832-409a-9392-2f93929ef490",
   "metadata": {},
   "outputs": [
    {
     "name": "stdout",
     "output_type": "stream",
     "text": [
      "2771661867392\n",
      "2771661802064\n",
      "prakash 40\n",
      "prakash 40\n"
     ]
    }
   ],
   "source": [
    "class computer:\n",
    "    def __init__(self):\n",
    "        self.name = 'prakash'\n",
    "        self.age = 40\n",
    "\n",
    "c1 = computer()\n",
    "c2 = computer()\n",
    "\n",
    "print(id(c1))\n",
    "print(id(c2))\n",
    "\n",
    "print(c1.name, c1.age)\n",
    "print(c2.name, c2.age)"
   ]
  },
  {
   "cell_type": "code",
   "execution_count": 18,
   "id": "f88e6509-8fed-43d8-b433-fdd5fa4a780b",
   "metadata": {},
   "outputs": [
    {
     "name": "stdout",
     "output_type": "stream",
     "text": [
      "2771661868400\n",
      "2771644959632\n",
      "kodi\n",
      "41\n",
      "prakash\n"
     ]
    }
   ],
   "source": [
    "class computer:\n",
    "    def __init__(self):\n",
    "        self.name = 'prakash'\n",
    "        self.age = 40\n",
    "\n",
    "c1 = computer()\n",
    "c2 = computer()\n",
    "\n",
    "print(id(c1))\n",
    "print(id(c2))\n",
    "\n",
    "c1.name = 'kodi'\n",
    "c1.age = 41\n",
    "\n",
    "print(c1.name)\n",
    "print(c1.age)\n",
    "print(c2.name)"
   ]
  },
  {
   "cell_type": "code",
   "execution_count": 19,
   "id": "3e788f9e-46df-4a4f-b334-876f57f2d56d",
   "metadata": {},
   "outputs": [
    {
     "name": "stdout",
     "output_type": "stream",
     "text": [
      "2771661867392\n",
      "2771661806544\n"
     ]
    },
    {
     "ename": "AttributeError",
     "evalue": "'computer' object has no attribute 'compare'",
     "output_type": "error",
     "traceback": [
      "\u001b[1;31m---------------------------------------------------------------------------\u001b[0m",
      "\u001b[1;31mAttributeError\u001b[0m                            Traceback (most recent call last)",
      "Cell \u001b[1;32mIn[19], line 15\u001b[0m\n\u001b[0;32m     12\u001b[0m \u001b[38;5;28mprint\u001b[39m(\u001b[38;5;28mid\u001b[39m(c1))\n\u001b[0;32m     13\u001b[0m \u001b[38;5;28mprint\u001b[39m(\u001b[38;5;28mid\u001b[39m(c2))\n\u001b[1;32m---> 15\u001b[0m \u001b[38;5;28;01mif\u001b[39;00m c1\u001b[38;5;241m.\u001b[39mcompare(c2): \u001b[38;5;66;03m#hear i dont want to compare object address but i want to compare vlaues means age\u001b[39;00m\n\u001b[0;32m     16\u001b[0m     \u001b[38;5;28mprint\u001b[39m(\u001b[38;5;124m'\u001b[39m\u001b[38;5;124mthey are same\u001b[39m\u001b[38;5;124m'\u001b[39m) \u001b[38;5;66;03m# compare is not an inbuild method \u001b[39;00m\n\u001b[0;32m     18\u001b[0m c1\u001b[38;5;241m.\u001b[39mupdate() \u001b[38;5;66;03m#when we call update which value will change & i am not mentioning which object i am talking about\u001b[39;00m\n",
      "\u001b[1;31mAttributeError\u001b[0m: 'computer' object has no attribute 'compare'"
     ]
    }
   ],
   "source": [
    "class computer():\n",
    "    def __init__(self):\n",
    "        self.name = 'prakash'\n",
    "        self.age = 40\n",
    "    \n",
    "    def update(self):  #lets create another object \n",
    "        self.age = 41 \n",
    "\n",
    "c1 = computer()\n",
    "c2 = computer()\n",
    "\n",
    "print(id(c1))\n",
    "print(id(c2))\n",
    "\n",
    "if c1.compare(c2): #hear i dont want to compare object address but i want to compare vlaues means age\n",
    "    print('they are same') # compare is not an inbuild method \n",
    "\n",
    "c1.update() #when we call update which value will change & i am not mentioning which object i am talking about\n",
    "\n",
    "print(c1.name)\n",
    "print(c1.age)\n",
    "print(c2.name)\n",
    "print(c2.age)"
   ]
  },
  {
   "cell_type": "code",
   "execution_count": null,
   "id": "5cd6825f-b816-4d98-8972-1665bd2ef8c8",
   "metadata": {},
   "outputs": [
    {
     "name": "stdout",
     "output_type": "stream",
     "text": [
      "they are same\n",
      "prakash 37\n",
      "prakash 37\n"
     ]
    }
   ],
   "source": [
    "class computer:\n",
    "    def __init__(self):\n",
    "        self.name = 'prakash'\n",
    "        self.age = 37\n",
    "\n",
    "    def compare(self,other):# that means self become c1 & you are compare with others,self is comparing with others\n",
    "        if self.age == other.age:\n",
    "            return True\n",
    "        else:\n",
    "            return False\n",
    "\n",
    "c1 = computer()\n",
    "c2 = computer()\n",
    "\n",
    "if c1.compare(c2): #hear i dont want to compare object address but i want to compare vlaues means age\n",
    "    print('they are same') # compare is not an inbuild method \n",
    "\n",
    "#c1.update() #when we call update which value will change & i am not mentioning which object i am talking about\n",
    "\n",
    "print(c1.name, c1.age)\n",
    "print(c2.name, c2.age)\n"
   ]
  },
  {
   "cell_type": "markdown",
   "id": "9fb67aca-253b-41cc-8252-765ffc72ee42",
   "metadata": {},
   "source": [
    "£ encapsulation "
   ]
  },
  {
   "cell_type": "code",
   "execution_count": 23,
   "id": "386e4931-559b-4c1b-840d-4b71e600f126",
   "metadata": {},
   "outputs": [
    {
     "name": "stdout",
     "output_type": "stream",
     "text": [
      "bmw 10\n",
      "bmw 10\n"
     ]
    }
   ],
   "source": [
    "class car:\n",
    "    def __init__(self):\n",
    "        self.mil = 10\n",
    "        self.com = 'bmw'\n",
    "        \n",
    "c1 = car()\n",
    "c2 = car()\n",
    "\n",
    "print(c1.com, c1.mil)\n",
    "print(c2.com, c2.mil)"
   ]
  },
  {
   "cell_type": "code",
   "execution_count": 24,
   "id": "ed00fc94-1194-4038-b9f2-cc3cd0f97e49",
   "metadata": {},
   "outputs": [
    {
     "name": "stdout",
     "output_type": "stream",
     "text": [
      "bmw 8\n",
      "maruti 16\n"
     ]
    }
   ],
   "source": [
    "class car:\n",
    "    def __init__(self):\n",
    "        self.mil = 10\n",
    "        self.com = 'bmw'\n",
    "        \n",
    "c1 = car()\n",
    "c2 = car()\n",
    "\n",
    "c1.mil = 8\n",
    "\n",
    "c2.com= 'maruti'\n",
    "c2.mil= 16\n",
    "\n",
    "print(c1.com, c1.mil)\n",
    "print(c2.com, c2.mil)"
   ]
  },
  {
   "cell_type": "code",
   "execution_count": 25,
   "id": "c571f86d-5f59-44b4-ad4e-02cf70feb7e0",
   "metadata": {},
   "outputs": [
    {
     "name": "stdout",
     "output_type": "stream",
     "text": [
      "bmw 8 5\n",
      "maruti 16 10\n"
     ]
    }
   ],
   "source": [
    "class car:\n",
    "    \n",
    "    wheels = 5\n",
    "    \n",
    "    def __init__(self):\n",
    "        self.mil = 10\n",
    "        self.com = 'bmw'\n",
    "        \n",
    "c1 = car()\n",
    "c2 = car()\n",
    "\n",
    "c1.mil = 8\n",
    "c2.com = 'maruti'\n",
    "c2.mil = 16\n",
    "c2.wheels = 10 \n",
    "\n",
    "print(c1.com, c1.mil, c1.wheels)\n",
    "print(c2.com, c2.mil, c2.wheels)"
   ]
  },
  {
   "cell_type": "code",
   "execution_count": 26,
   "id": "1d98ce06-1a4d-4347-829c-af79218d1efd",
   "metadata": {},
   "outputs": [
    {
     "name": "stdout",
     "output_type": "stream",
     "text": [
      "43.666666666666664\n",
      "44.333333333333336\n"
     ]
    }
   ],
   "source": [
    "class student(): \n",
    "        \n",
    "    school = 'nit'\n",
    "    \n",
    "    def __init__(self, m1, m2, m3) : # hear i pass 3 variable \n",
    "        self.m1 = m1\n",
    "        self.m2 = m2\n",
    "        self.m3 = m3\n",
    "#lets create a method to calculate average of the marks \n",
    "    def avg(self):   # ------> hear this average is INSTANCE METHOD \n",
    "        return (self.m1+self.m2+self.m3)/3\n",
    "    \n",
    "# lets create  object hear as we created s1, s2 we created 2 object & also i want to pass value in this  \n",
    "s1 = student(34, 47, 50)\n",
    "s2 = student(89, 32, 12)\n",
    "\n",
    "print(s1.avg())\n",
    "print(s2.avg())"
   ]
  },
  {
   "cell_type": "code",
   "execution_count": 27,
   "id": "24c33fb0-54d6-4aef-afde-891e00a796fc",
   "metadata": {},
   "outputs": [
    {
     "name": "stdout",
     "output_type": "stream",
     "text": [
      "20.0\n",
      "10.0\n",
      "nit\n",
      "nit\n"
     ]
    }
   ],
   "source": [
    "# class method\n",
    "\n",
    "class student: \n",
    "        \n",
    "    school = 'nit'\n",
    "    \n",
    "    def __init__(self, m1, m2, m3) : # hear i pass 3 variable \n",
    "        self.m1 = m1\n",
    "        self.m2 = m2\n",
    "        self.m3 = m3\n",
    "#lets create a method to calculate average of the marks \n",
    "    def avg(self):   # ------> hear this average is INSTANCE METHOD \n",
    "        return (self.m1+self.m2+self.m3)/3\n",
    "    \n",
    "    def info(cls): # user need to define cls - for class variable \n",
    "        return cls.school \n",
    "        \n",
    "# lets create  object hear as we created s1, s2 we created 2 object & also i want to pass value in this  \n",
    "s1 = student(10, 20, 30)\n",
    "s2 = student(5, 15, 10)\n",
    "\n",
    "print(s1.avg())\n",
    "print(s2.avg())\n",
    "\n",
    "\n",
    "print(s1.info())\n",
    "print(s2.info())"
   ]
  },
  {
   "cell_type": "code",
   "execution_count": 28,
   "id": "ec14fe86-4222-416c-b3ff-6707d1ca426c",
   "metadata": {},
   "outputs": [
    {
     "ename": "TypeError",
     "evalue": "student.info() missing 1 required positional argument: 'cls'",
     "output_type": "error",
     "traceback": [
      "\u001b[1;31m---------------------------------------------------------------------------\u001b[0m",
      "\u001b[1;31mTypeError\u001b[0m                                 Traceback (most recent call last)",
      "Cell \u001b[1;32mIn[28], line 23\u001b[0m\n\u001b[0;32m     20\u001b[0m s1 \u001b[38;5;241m=\u001b[39m student(\u001b[38;5;241m10\u001b[39m, \u001b[38;5;241m20\u001b[39m, \u001b[38;5;241m30\u001b[39m)\n\u001b[0;32m     21\u001b[0m s2 \u001b[38;5;241m=\u001b[39m student(\u001b[38;5;241m5\u001b[39m, \u001b[38;5;241m15\u001b[39m, \u001b[38;5;241m10\u001b[39m)\n\u001b[1;32m---> 23\u001b[0m \u001b[38;5;28mprint\u001b[39m(student\u001b[38;5;241m.\u001b[39minfo())\n\u001b[0;32m     24\u001b[0m \u001b[38;5;28mprint\u001b[39m(student\u001b[38;5;241m.\u001b[39minfo())\n\u001b[0;32m     25\u001b[0m \u001b[38;5;28mprint\u001b[39m(s1\u001b[38;5;241m.\u001b[39minfo())\n",
      "\u001b[1;31mTypeError\u001b[0m: student.info() missing 1 required positional argument: 'cls'"
     ]
    }
   ],
   "source": [
    "# class method\n",
    "\n",
    "class student: \n",
    "        \n",
    "    school = 'nit'\n",
    "    \n",
    "    def __init__(self, m1, m2, m3) : # hear i pass 3 variable \n",
    "        self.m1 = m1\n",
    "        self.m2 = m2\n",
    "        self.m3 = m3\n",
    "#lets create a method to calculate average of the marks \n",
    "    def avg(self):   # ------> hear this average is INSTANCE METHOD \n",
    "        return (self.m1+self.m2+self.m3)/3\n",
    "    \n",
    "    #@classmethod\n",
    "    def info(cls): # user need to define cls - for class variable \n",
    "        return cls.school \n",
    "        \n",
    "# lets create  object hear as we created s1, s2 we created 2 object & also i want to pass value in this  \n",
    "s1 = student(10, 20, 30)\n",
    "s2 = student(5, 15, 10)\n",
    "\n",
    "print(student.info())\n",
    "print(student.info())\n",
    "print(s1.info())\n",
    "print(s2.info())\n",
    "\n",
    "print(s1.avg())"
   ]
  },
  {
   "cell_type": "code",
   "execution_count": 1,
   "id": "b559efe3-7212-4729-be0a-f27521b8d691",
   "metadata": {},
   "outputs": [
    {
     "name": "stdout",
     "output_type": "stream",
     "text": [
      "20.0\n",
      "10.0\n",
      "nit\n",
      "this is student class\n"
     ]
    }
   ],
   "source": [
    "class student: \n",
    "        \n",
    "    school = 'nit'\n",
    "    \n",
    "    def __init__(self, m1, m2, m3) : # hear i pass 3 variable \n",
    "        self.m1 = m1\n",
    "        self.m2 = m2\n",
    "        self.m3 = m3\n",
    "#lets create a method to calculate average of the marks \n",
    "    def avg(self):   # ------> hear this average is INSTANCE METHOD \n",
    "        return (self.m1+self.m2+self.m3)/3\n",
    "    \n",
    "    @classmethod\n",
    "    def getSchool(cls):\n",
    "        return cls.school\n",
    "    \n",
    "    @staticmethod # this student class nothing to do any class & for that also u need to pass speciasl decorator\n",
    "    def info():\n",
    "        print('this is student class') \n",
    "        \n",
    "# lets create  object hear as we created s1, s2 we created 2 object & also i want to pass value in this  \n",
    "s1 = student(10, 20, 30)\n",
    "s2 = student(5, 15, 10)\n",
    "\n",
    "print(s1.avg())\n",
    "print(s2.avg())\n",
    "\n",
    "print(student.getSchool())\n",
    "\n",
    "student.info()"
   ]
  },
  {
   "cell_type": "code",
   "execution_count": 2,
   "id": "182d8660-8397-4c78-bd12-7a63159138df",
   "metadata": {},
   "outputs": [
    {
     "name": "stdout",
     "output_type": "stream",
     "text": [
      "20.0\n",
      "10.0\n",
      "nit\n",
      "this is student class\n"
     ]
    }
   ],
   "source": [
    "class student(): \n",
    "        \n",
    "    school = 'nit'\n",
    "    \n",
    "    def __init__(self, m1, m2, m3) : # hear i pass 3 variable \n",
    "        self.m1 = m1\n",
    "        self.m2 = m2\n",
    "        self.m3 = m3\n",
    "#lets create a method to calculate average of the marks \n",
    "    def avg(self):   # ------> hear this average is INSTANCE METHOD \n",
    "        return (self.m1+self.m2+self.m3)/3\n",
    "    \n",
    "    @classmethod\n",
    "    def getSchool(cls):\n",
    "        return cls.school\n",
    "    \n",
    "    @staticmethod # this student class nothing to do any class & for that also u need to pass speciasl decorator\n",
    "    def info():\n",
    "        print('this is student class') \n",
    "        \n",
    "# lets create  object hear as we created s1, s2 we created 2 object & also i want to pass value in this  \n",
    "s1 = student(10, 20, 30)\n",
    "s2 = student(5, 15, 10)\n",
    "\n",
    "print(s1.avg())\n",
    "print(s2.avg())\n",
    "\n",
    "print(s1.getSchool())\n",
    "\n",
    "s1.info()"
   ]
  },
  {
   "cell_type": "code",
   "execution_count": 3,
   "id": "c195ca02-5d4d-4561-be7f-24a5e39200e8",
   "metadata": {},
   "outputs": [
    {
     "name": "stdout",
     "output_type": "stream",
     "text": [
      "this is student class\n"
     ]
    }
   ],
   "source": [
    "class student: \n",
    "        \n",
    "    school = 'nit'\n",
    "    \n",
    "    def __init__(self, m1, m2, m3,m4) : # hear i pass 3 variable \n",
    "        self.m1 = m1\n",
    "        self.m2 = m2\n",
    "        self.m3 = m3\n",
    "        self.m4 = m4\n",
    "#lets create a method to calculate average of the marks \n",
    "    #def avg(self):   # ------> hear this average is INSTANCE METHOD \n",
    "    #    return (self.m1+self.m2+self.m3+self.m4)/4\n",
    "    \n",
    "#    @classmethod\n",
    "#    def getSchool(cls):\n",
    "#        return cls.school\n",
    "    \n",
    "    @staticmethod # this student class nothing to do any class & for that also u need to pass speciasl decorator\n",
    "    def info():\n",
    "        print('this is student class') \n",
    "        \n",
    "# lets create  object hear as we created s1, s2 we created 2 object & also i want to pass value in this  \n",
    "s1 = student(10, 20, 30,40)\n",
    "s2 = student(5, 15, 10,40)\n",
    "\n",
    "#print(s1.avg())\n",
    "#print(s2.avg())\n",
    "\n",
    "#print(student.getSchool())\n",
    "\n",
    "student.info()"
   ]
  },
  {
   "cell_type": "markdown",
   "id": "df7b5f6f-1e4f-4df6-b158-fdc7e01e0497",
   "metadata": {},
   "source": [
    "# class, object, encapsulation, method, "
   ]
  },
  {
   "cell_type": "code",
   "execution_count": 4,
   "id": "535eb0a4-d793-4493-8c3a-9fc0a9017c4f",
   "metadata": {},
   "outputs": [
    {
     "name": "stdout",
     "output_type": "stream",
     "text": [
      "a 1\n",
      "b 2\n"
     ]
    }
   ],
   "source": [
    "# inner class ( class inside the inner class) \n",
    "\n",
    "class student:\n",
    "    def __init__(self, name, rollno):\n",
    "        self.name = name\n",
    "        self.rollno = rollno\n",
    "     \n",
    "s1 = student('a',1)\n",
    "s2 = student('b',2)\n",
    "\n",
    "print(s1.name, s1.rollno) \n",
    "print(s2.name, s2.rollno) "
   ]
  },
  {
   "cell_type": "code",
   "execution_count": 5,
   "id": "f7cc8755-0f33-47b9-8abc-5cc18e5cf575",
   "metadata": {},
   "outputs": [
    {
     "name": "stdout",
     "output_type": "stream",
     "text": [
      "a 1\n",
      "b 2\n"
     ]
    }
   ],
   "source": [
    "class student:\n",
    "    def __init__(self, name, rollno):\n",
    "        self.name = name\n",
    "        self.rollno = rollno\n",
    "        \n",
    "    def show(self):\n",
    "        print(s1.name, s1.rollno)\n",
    "        print(s2.name, s2.rollno)\n",
    "        \n",
    "     \n",
    "s1 = student('a',1)\n",
    "s2 = student('b',2)\n",
    "\n",
    "s1.show()"
   ]
  },
  {
   "cell_type": "code",
   "execution_count": 6,
   "id": "bcfc0473-234c-4592-aca0-c9cbb94209de",
   "metadata": {},
   "outputs": [],
   "source": [
    "class student:\n",
    "    def __init__(self, name, rollno):\n",
    "        self.name = name\n",
    "        self.rollno = rollno\n",
    "        \n",
    "    def show(self):\n",
    "        print(self.name, self.rollno)\n",
    "     \n",
    "s1 = student('a',1)\n",
    "s2 = student('b',2)\n",
    "\n",
    "#s2.show()\n",
    "#s1.show()"
   ]
  },
  {
   "cell_type": "code",
   "execution_count": 7,
   "id": "6b34af3c-96d0-4e22-b176-5ec695de294e",
   "metadata": {},
   "outputs": [
    {
     "ename": "TypeError",
     "evalue": "student.__init__() takes 3 positional arguments but 6 were given",
     "output_type": "error",
     "traceback": [
      "\u001b[1;31m---------------------------------------------------------------------------\u001b[0m",
      "\u001b[1;31mTypeError\u001b[0m                                 Traceback (most recent call last)",
      "Cell \u001b[1;32mIn[7], line 9\u001b[0m\n\u001b[0;32m      6\u001b[0m     \u001b[38;5;28;01mdef\u001b[39;00m\u001b[38;5;250m \u001b[39m\u001b[38;5;21mshow\u001b[39m(\u001b[38;5;28mself\u001b[39m):\n\u001b[0;32m      7\u001b[0m         \u001b[38;5;28mprint\u001b[39m(s1\u001b[38;5;241m.\u001b[39mname, s2\u001b[38;5;241m.\u001b[39mrollno)\n\u001b[1;32m----> 9\u001b[0m s1 \u001b[38;5;241m=\u001b[39m student(\u001b[38;5;124m'\u001b[39m\u001b[38;5;124ma\u001b[39m\u001b[38;5;124m'\u001b[39m,\u001b[38;5;241m1\u001b[39m, \u001b[38;5;124m'\u001b[39m\u001b[38;5;124mhp\u001b[39m\u001b[38;5;124m'\u001b[39m,\u001b[38;5;124m'\u001b[39m\u001b[38;5;124mi5\u001b[39m\u001b[38;5;124m'\u001b[39m, \u001b[38;5;241m8\u001b[39m) \u001b[38;5;66;03m# the moment when we assign the variable we need to assign the class as well \u001b[39;00m\n\u001b[0;32m     10\u001b[0m s2 \u001b[38;5;241m=\u001b[39m student(\u001b[38;5;124m'\u001b[39m\u001b[38;5;124mb\u001b[39m\u001b[38;5;124m'\u001b[39m,\u001b[38;5;241m2\u001b[39m)\n\u001b[0;32m     12\u001b[0m s1\u001b[38;5;241m.\u001b[39mshow()\n",
      "\u001b[1;31mTypeError\u001b[0m: student.__init__() takes 3 positional arguments but 6 were given"
     ]
    }
   ],
   "source": [
    "class student:\n",
    "    def __init__(self, name, rollno):\n",
    "        self.name = name\n",
    "        self.rollno = rollno\n",
    "        \n",
    "    def show(self):\n",
    "        print(s1.name, s2.rollno)\n",
    "     \n",
    "s1 = student('a',1, 'hp','i5', 8) # the moment when we assign the variable we need to assign the class as well \n",
    "s2 = student('b',2)\n",
    "\n",
    "s1.show()"
   ]
  },
  {
   "cell_type": "code",
   "execution_count": 8,
   "id": "452df4bf-97f4-4025-80fc-7de92d03a821",
   "metadata": {},
   "outputs": [
    {
     "name": "stdout",
     "output_type": "stream",
     "text": [
      "a 1 lenovo i5 8\n",
      "b 2 hp i7 16\n"
     ]
    }
   ],
   "source": [
    "class student:\n",
    "    def __init__(self, name, rollno, laptop, cpu, ram):\n",
    "        self.name = name\n",
    "        self.rollno = rollno\n",
    "        self.laptop = laptop\n",
    "        self.cpu = cpu\n",
    "        self.ram = ram\n",
    "        \n",
    "    def show(self):\n",
    "        print(s1.name, s1.rollno,s1.laptop, s1.cpu, s1.ram)\n",
    "        print(s2.name, s2.rollno,s2.laptop, s2.cpu, s2.ram)\n",
    "\n",
    "s1 = student('a',1,'lenovo','i5',8) # the moment when we assign the variable we need to assign the class as well \n",
    "s2 = student('b',2,'hp','i7',16)\n",
    "\n",
    "s2.show()"
   ]
  },
  {
   "cell_type": "code",
   "execution_count": 9,
   "id": "a9633e32-4933-4264-9026-ed2af84f20ad",
   "metadata": {},
   "outputs": [
    {
     "name": "stdout",
     "output_type": "stream",
     "text": [
      "a 1\n",
      "b 2\n"
     ]
    }
   ],
   "source": [
    "class student:\n",
    "    def __init__(self, name, rollno):\n",
    "        self.name = name\n",
    "        self.rollno = rollno\n",
    "        \n",
    "        #self.lap = self.LAPTOP()\n",
    "        \n",
    "    def show(self):\n",
    "        print(self.name, self.rollno)\n",
    "        \n",
    "    class LAPTOP:\n",
    "        def __init__(self):\n",
    "            self.brand = 'hp'\n",
    "            self.cpu = 'i5'\n",
    "            self.ram = 8\n",
    "     \n",
    "s1 = student('a',1) # the moment when we assign the variable we need to assign the class as well \n",
    "s2 = student('b',2)\n",
    "\n",
    "s1.show()\n",
    "s2.show()\n",
    "\n",
    "\n",
    "#lap1 = s1.lap\n",
    "#lap2 = s2.lap\n",
    "\n",
    "#print(id(lap1))\n",
    "#print(id(lap2))"
   ]
  },
  {
   "cell_type": "code",
   "execution_count": 10,
   "id": "eaed7d61-f8f6-42c5-b76c-d3a9769efc8f",
   "metadata": {},
   "outputs": [
    {
     "name": "stdout",
     "output_type": "stream",
     "text": [
      "a 1\n",
      "b 2\n"
     ]
    }
   ],
   "source": [
    "class student:\n",
    "    def __init__(self, name, rollno):\n",
    "        self.name = name\n",
    "        self.rollno = rollno\n",
    "        \n",
    "        #self.lap = self.LAPTOP() #in outerclass we are define the variable\n",
    "        \n",
    "    def show(self):\n",
    "        print(self.name, self.rollno)\n",
    "        \n",
    "    class LAPTOP:\n",
    "        def __init__(self):\n",
    "            self.brand = 'avita'\n",
    "            self.cpu = 'i5'\n",
    "            self.ram = 8\n",
    "     \n",
    "s1 = student('a',1) # the moment when we assign the variable we need to assign the class as well \n",
    "s2 = student('b',2)\n",
    "\n",
    "s1.show()\n",
    "s2.show()\n",
    "\n",
    "lap1 = s1.LAPTOP\n",
    "lap2 = s2.LAPTOP\n",
    "\n",
    "#print(id(lap1))\n",
    "#print(id(lap2))\n"
   ]
  },
  {
   "cell_type": "code",
   "execution_count": 11,
   "id": "55a2a5be-aac6-4a7f-9194-ed8a753ce05c",
   "metadata": {},
   "outputs": [
    {
     "name": "stdout",
     "output_type": "stream",
     "text": [
      "a 1\n",
      "b 2\n"
     ]
    }
   ],
   "source": [
    "class student:\n",
    "    def __init__(self, name, rollno):\n",
    "        self.name = name\n",
    "        self.rollno = rollno\n",
    "        \n",
    "        self.lap = self.LAPTOP()\n",
    "        \n",
    "    def show(self):\n",
    "        print(self.name, self.rollno)\n",
    "        \n",
    "    class LAPTOP:\n",
    "        def __init__(self):\n",
    "            self.brand = 'avita'\n",
    "            self.cpu = 'i5'\n",
    "            self.ram = 8\n",
    "     \n",
    "s1 = student('a',1) # the moment when we assign the variable we need to assign the class as well \n",
    "s2 = student('b',2)\n",
    "\n",
    "s1.show()\n",
    "s2.show()\n",
    "\n",
    "lap1 = s1.lap.cpu\n",
    "lap2 = s2.lap.ram\n",
    "\n",
    "#print(id(lap1))\n",
    "#print(id(lap2))\n"
   ]
  },
  {
   "cell_type": "code",
   "execution_count": 12,
   "id": "07a6564b-a160-46fe-aea3-fb5626f3f97e",
   "metadata": {},
   "outputs": [
    {
     "name": "stdout",
     "output_type": "stream",
     "text": [
      "a 1\n",
      "b 2\n",
      "i5\n",
      "8\n",
      "avita\n"
     ]
    }
   ],
   "source": [
    "class student:\n",
    "    def __init__(self, name, rollno):\n",
    "        self.name = name\n",
    "        self.rollno = rollno\n",
    "        \n",
    "        self.lap = self.LAPTOP()\n",
    "        \n",
    "    def show(self):\n",
    "        print(self.name, self.rollno)\n",
    "        \n",
    "    class LAPTOP:\n",
    "        def __init__(self):\n",
    "            self.brand = 'avita'\n",
    "            self.cpu = 'i5'\n",
    "            self.ram = 8\n",
    "     \n",
    "s1 = student('a',1) # the moment when we assign the variable we need to assign the class as well \n",
    "s2 = student('b',2)\n",
    "\n",
    "s1.show()\n",
    "s2.show()\n",
    "\n",
    "lap1 = s1.lap.cpu\n",
    "lap2 = s2.lap.ram\n",
    "lap3 = s2.lap.brand\n",
    "\n",
    "print(lap1)\n",
    "print(lap2)\n",
    "print(lap3)"
   ]
  },
  {
   "cell_type": "markdown",
   "id": "f4350090-abe5-4d73-bb38-f41c2327ea52",
   "metadata": {},
   "source": [
    "# INHERITENCE"
   ]
  },
  {
   "cell_type": "code",
   "execution_count": 13,
   "id": "6e4d531f-4d0b-435a-a468-40ccda51ed5c",
   "metadata": {},
   "outputs": [
    {
     "name": "stdout",
     "output_type": "stream",
     "text": [
      "feature1 is hi\n",
      "feature2 is hi\n"
     ]
    }
   ],
   "source": [
    "class A() : \n",
    "    def feature1(self):         # lets take example class A has 2 feature1 & feature 2\n",
    "        print('feature1 is hi')\n",
    "    def feature2(self):\n",
    "        print('feature2 is hi')\n",
    "\n",
    "     # the way you access the feature is object \n",
    "\n",
    "a1 = A()  #a1 is the object & A is constructor & using a1 we can call the feature1 & feature 2\n",
    "\n",
    "a1.feature1()\n",
    "a1.feature2()"
   ]
  },
  {
   "cell_type": "code",
   "execution_count": 17,
   "id": "e0b85b10-93a0-48a6-877e-d6a2059fceab",
   "metadata": {},
   "outputs": [
    {
     "name": "stdout",
     "output_type": "stream",
     "text": [
      "feature1 is hi\n",
      "feature3 is hallo\n",
      "feature4 is hallo\n",
      "feature2 is hi\n"
     ]
    }
   ],
   "source": [
    "# lets creat another class B which has also 2 feature or methods -- feature 3 & feature 4\n",
    "\n",
    "class A() :  # parent class | super class \n",
    "    def feature1(self):         # lets take example class A has 2 feature1 & feature 2\n",
    "        print('feature1 is hi')\n",
    "    def feature2(self):\n",
    "        print('feature2 is hi')\n",
    "\n",
    "class B(A): # child class || subclass\n",
    "    def feature3(self):         # lets take example class B has 2 feature1 & feature 2\n",
    "        print('feature3 is hallo')\n",
    "    def feature4(self):\n",
    "        print('feature4 is hallo')\n",
    "        \n",
    "# the way you access the feature is object \n",
    "\n",
    "a1 = A()  #a1 is the object & A is constructor & using a1 we can call the feature1 & feature 2\n",
    "b1 = B()  #a1 is the object & A is constructor & using a1 we can call the feature1 & feature 2\n",
    "\n",
    "a1.feature1()\n",
    "b1.feature3()\n",
    "b1.feature4()\n",
    "b1.feature2()"
   ]
  },
  {
   "cell_type": "code",
   "execution_count": null,
   "id": "fa1dd3f8-9cbf-431e-98e4-6c5ef63fbde7",
   "metadata": {},
   "outputs": [],
   "source": [
    "class A() : #lets create a class hear it should be employee class or student class & lets create 2 methods\n",
    "    def feature1(self):         # lets take example class A has 2 feature1 & feature 2\n",
    "        print('feature1 is hi')\n",
    "    def feature2(self):\n",
    "        print('feature2 is hi')\n",
    "\n",
    "class B():\n",
    "    def feature3(self):         # lets take example class A has 2 feature1 & feature 2\n",
    "        print('feature3 is hallo')\n",
    "    def feature4(self):\n",
    "        print('feature4 is hallo')\n",
    "\n",
    "class C(A):\n",
    "    def feature5(self):\n",
    "        print('feature5 is bye')\n",
    "        \n",
    "# the way you access the feature is object \n",
    "\n",
    "a1 = A()  #a1 is the object & A is constructor & using a1 we can call the feature1 & feature 2\n",
    "\n",
    "b1 = B()  # INHERITENCE CUZ THE CLASS B IS INHERIT THE CLASS \n",
    "\n",
    "c1 = C(A)  # class C is inherit the class A\n",
    "\n",
    "a1.\n",
    "b1.\n",
    "c1.\n"
   ]
  },
  {
   "cell_type": "code",
   "execution_count": 18,
   "id": "a12297ba-b70b-4a3f-a7ab-3c6b109adb67",
   "metadata": {},
   "outputs": [
    {
     "name": "stdout",
     "output_type": "stream",
     "text": [
      "feature1 is hi\n",
      "feature3 is hallo\n",
      "feature1 is hi\n"
     ]
    }
   ],
   "source": [
    "class A() : #lets create a class hear it should be employee class or student class & lets create 2 methods\n",
    "    def feature1(self):         # lets take example class A has 2 feature1 & feature 2\n",
    "        print('feature1 is hi')\n",
    "    def feature2(self):\n",
    "        print('feature2 is hi')\n",
    "\n",
    "class B():\n",
    "    def feature3(self):         # lets take example class A has 2 feature1 & feature 2\n",
    "        print('feature3 is hallo')\n",
    "    def feature4(self):\n",
    "        print('feature4 is hallo')\n",
    "\n",
    "class C(A, B):\n",
    "    def feature5(self):\n",
    "        print('feature5 is bye')\n",
    "        \n",
    "# the way you access the feature is object \n",
    "\n",
    "a1 = A()  #a1 is the object & A is constructor & using a1 we can call the feature1 & feature 2\n",
    "\n",
    "b1 = B()  # INHERITENCE CUZ THE CLASS B IS INHERIT THE CLASS \n",
    "\n",
    "c1 = C()  # class C is inherit the class A\n",
    "\n",
    "a1.feature1()\n",
    "b1.feature3()\n",
    "c1.feature1()\n"
   ]
  },
  {
   "cell_type": "markdown",
   "id": "8aa69aae-0950-4170-b818-50a626ae63a0",
   "metadata": {},
   "source": [
    "# CONSTRUCTOR IN INHERITENCE"
   ]
  },
  {
   "cell_type": "code",
   "execution_count": 19,
   "id": "92645713-b2ab-44c0-a9aa-426cc81b8d8b",
   "metadata": {},
   "outputs": [],
   "source": [
    "class A(): #lets create a class hear it should be employee class or student class & lets create 2 methods\n",
    "     \n",
    "    def feature1(self):         # lets take example class A has 2 feature1 & feature 2\n",
    "        print('feature1 is hi')\n",
    "    def feature2(self):\n",
    "        print('feature2 is hi')\n",
    "\n",
    "class B(A):  # \n",
    "    def feature3(self):         # lets take example class A has 2 feature1 & feature 2\n",
    "        print('feature3 is hallo')\n",
    "    def feature4(self):\n",
    "        print('feature4 is hallo')\n",
    "        \n",
    "a1 = B() "
   ]
  },
  {
   "cell_type": "code",
   "execution_count": 20,
   "id": "77d5049a-9b4e-42b3-87bd-7fe712d1f63e",
   "metadata": {},
   "outputs": [
    {
     "name": "stdout",
     "output_type": "stream",
     "text": [
      "in A init\n",
      "in A init\n"
     ]
    }
   ],
   "source": [
    "class A(): #lets create a class hear it should be employee class or student class & lets create 2 methods\n",
    "    def __init__(self):\n",
    "        print('in A init')\n",
    "    def feature1(self):         # lets take example class A has 2 feature1 & feature 2\n",
    "        print('feature1 is hi')\n",
    "    def feature2(self):\n",
    "        print('feature2 is hi')\n",
    "\n",
    "class B(A):\n",
    "    def feature3(self):         # lets take example class A has 2 feature1 & feature 2\n",
    "        print('feature3 is hallo')\n",
    "    def feature4(self):\n",
    "        print('feature4 is hallo')\n",
    "        \n",
    "a1 = A() # A is the constructor\n",
    "b1 = B()"
   ]
  },
  {
   "cell_type": "code",
   "execution_count": 21,
   "id": "076c084b-ad42-414b-a2b9-aadbd1b78b36",
   "metadata": {},
   "outputs": [
    {
     "name": "stdout",
     "output_type": "stream",
     "text": [
      "in A init\n"
     ]
    }
   ],
   "source": [
    "class A() :\n",
    "    def __init__(self):\n",
    "        print('in A init')\n",
    "    def feature1(self):         \n",
    "        print('feature1 is hi')\n",
    "    def feature2(self):\n",
    "        print('feature2 is hi')\n",
    "\n",
    "class B(A):\n",
    "    def feature3(self):         \n",
    "        print('feature3 is hallo')\n",
    "    def feature4(self):\n",
    "        print('feature4 is hallo')\n",
    "        \n",
    "a1 = B() "
   ]
  },
  {
   "cell_type": "code",
   "execution_count": null,
   "id": "19284384-179f-4848-b93f-2d159d6069d5",
   "metadata": {},
   "outputs": [],
   "source": []
  }
 ],
 "metadata": {
  "kernelspec": {
   "display_name": "base",
   "language": "python",
   "name": "python3"
  },
  "language_info": {
   "codemirror_mode": {
    "name": "ipython",
    "version": 3
   },
   "file_extension": ".py",
   "mimetype": "text/x-python",
   "name": "python",
   "nbconvert_exporter": "python",
   "pygments_lexer": "ipython3",
   "version": "3.13.5"
  }
 },
 "nbformat": 4,
 "nbformat_minor": 5
}
