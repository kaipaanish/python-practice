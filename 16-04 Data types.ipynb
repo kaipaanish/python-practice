{
 "cells": [
  {
   "cell_type": "code",
   "execution_count": 6,
   "id": "a46245c5-00ac-465d-9f92-a1da9116ed33",
   "metadata": {},
   "outputs": [
    {
     "name": "stdout",
     "output_type": "stream",
     "text": [
      "45\n"
     ]
    }
   ],
   "source": [
    "i = 45\n",
    "print(i)"
   ]
  },
  {
   "cell_type": "code",
   "execution_count": 8,
   "id": "636e2f34-3e65-47c7-89a0-f2580a3d6e60",
   "metadata": {},
   "outputs": [
    {
     "name": "stdout",
     "output_type": "stream",
     "text": [
      "<class 'int'>\n"
     ]
    }
   ],
   "source": [
    "print(type(i))"
   ]
  },
  {
   "cell_type": "code",
   "execution_count": 14,
   "id": "5423b677-f993-43f3-9fc9-2b46edfce141",
   "metadata": {},
   "outputs": [
    {
     "data": {
      "text/plain": [
       "int"
      ]
     },
     "execution_count": 14,
     "metadata": {},
     "output_type": "execute_result"
    }
   ],
   "source": [
    "type(i)"
   ]
  },
  {
   "cell_type": "code",
   "execution_count": 16,
   "id": "2e3526c4-28dd-4508-b2b3-52c1ba64ef88",
   "metadata": {},
   "outputs": [
    {
     "name": "stdout",
     "output_type": "stream",
     "text": [
      "<class 'float'>\n"
     ]
    }
   ],
   "source": [
    "f = 110.56\n",
    "print(type(f))"
   ]
  },
  {
   "cell_type": "code",
   "execution_count": 18,
   "id": "aaeb79a1-0b47-4ad6-b36d-95cce0a4f9a4",
   "metadata": {},
   "outputs": [
    {
     "name": "stdout",
     "output_type": "stream",
     "text": [
      "65\n",
      "25\n",
      "900\n",
      "2.25\n"
     ]
    }
   ],
   "source": [
    "j = 20\n",
    "print(i + j)\n",
    "print(i - j)\n",
    "print(i * j)\n",
    "print(i / j)"
   ]
  },
  {
   "cell_type": "code",
   "execution_count": 20,
   "id": "820cf489-1b48-4b8b-9d7f-70aa4f5b279d",
   "metadata": {},
   "outputs": [
    {
     "data": {
      "text/plain": [
       "'naresh it'"
      ]
     },
     "execution_count": 20,
     "metadata": {},
     "output_type": "execute_result"
    }
   ],
   "source": [
    "s = \"naresh it\"\n",
    "s\n"
   ]
  },
  {
   "cell_type": "code",
   "execution_count": 22,
   "id": "ce92dcc5-43de-42e0-8322-010db9603d4a",
   "metadata": {},
   "outputs": [
    {
     "data": {
      "text/plain": [
       "str"
      ]
     },
     "execution_count": 22,
     "metadata": {},
     "output_type": "execute_result"
    }
   ],
   "source": [
    "type(s)\n"
   ]
  },
  {
   "cell_type": "code",
   "execution_count": 34,
   "id": "109dc707-8e28-4fe8-9523-75854d43a3d0",
   "metadata": {},
   "outputs": [
    {
     "name": "stdout",
     "output_type": "stream",
     "text": [
      " hi\n",
      "                hello\n"
     ]
    }
   ],
   "source": [
    "string = \"\"\" hi\n",
    "                hello\"\"\"\n",
    "print(string)\n"
   ]
  },
  {
   "cell_type": "code",
   "execution_count": 36,
   "id": "319263fe-caef-4faf-b3e6-f0e0fdd8d3da",
   "metadata": {},
   "outputs": [],
   "source": [
    "# srting index starts from 0 "
   ]
  },
  {
   "cell_type": "code",
   "execution_count": 40,
   "id": "f77052da-0b53-48dc-a1ef-f1d9b0d5fdea",
   "metadata": {},
   "outputs": [
    {
     "data": {
      "text/plain": [
       "9"
      ]
     },
     "execution_count": 40,
     "metadata": {},
     "output_type": "execute_result"
    }
   ],
   "source": [
    "len(s)"
   ]
  },
  {
   "cell_type": "code",
   "execution_count": 64,
   "id": "59aa6f63-7114-4256-9412-b2eed4a34f61",
   "metadata": {},
   "outputs": [
    {
     "name": "stdout",
     "output_type": "stream",
     "text": [
      "n\n",
      "t\n",
      "naresh\n",
      "res\n"
     ]
    }
   ],
   "source": [
    "print(s[0])\n",
    "print(s[-1])\n",
    "print(s[0:6])\n",
    "print(s[2:5])  #for right index we should aways use n-1 index like here index of s is 4 but we used index 5 because n-1"
   ]
  },
  {
   "cell_type": "code",
   "execution_count": 54,
   "id": "9876cd0a-b68b-45a4-ae43-56a345799bea",
   "metadata": {},
   "outputs": [
    {
     "name": "stdout",
     "output_type": "stream",
     "text": [
      "ti hseran\n"
     ]
    }
   ],
   "source": [
    "print(s[::-1])"
   ]
  },
  {
   "cell_type": "code",
   "execution_count": 66,
   "id": "f94d3b22-af3c-4939-9d85-2f8f4a6285d8",
   "metadata": {},
   "outputs": [
    {
     "name": "stdout",
     "output_type": "stream",
     "text": [
      "\n"
     ]
    }
   ],
   "source": [
    "print(s[-1:-5])"
   ]
  },
  {
   "cell_type": "code",
   "execution_count": null,
   "id": "f2c62fa7-ec59-47fb-9833-c670fe3a5d0e",
   "metadata": {},
   "outputs": [],
   "source": []
  }
 ],
 "metadata": {
  "kernelspec": {
   "display_name": "Python [conda env:base] *",
   "language": "python",
   "name": "conda-base-py"
  },
  "language_info": {
   "codemirror_mode": {
    "name": "ipython",
    "version": 3
   },
   "file_extension": ".py",
   "mimetype": "text/x-python",
   "name": "python",
   "nbconvert_exporter": "python",
   "pygments_lexer": "ipython3",
   "version": "3.12.7"
  }
 },
 "nbformat": 4,
 "nbformat_minor": 5
}
