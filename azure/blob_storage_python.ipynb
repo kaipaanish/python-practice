{
 "cells": [
  {
   "cell_type": "code",
   "execution_count": 1,
   "id": "20dc9fdb",
   "metadata": {},
   "outputs": [
    {
     "name": "stdout",
     "output_type": "stream",
     "text": [
      "Collecting azure-storage-blob\n",
      "  Downloading azure_storage_blob-12.26.0-py3-none-any.whl.metadata (26 kB)\n",
      "Collecting azure-identity\n",
      "  Downloading azure_identity-1.24.0-py3-none-any.whl.metadata (86 kB)\n",
      "Collecting azure-core>=1.30.0 (from azure-storage-blob)\n",
      "  Downloading azure_core-1.35.0-py3-none-any.whl.metadata (44 kB)\n",
      "Requirement already satisfied: cryptography>=2.1.4 in c:\\users\\hp\\anaconda3\\lib\\site-packages (from azure-storage-blob) (44.0.1)\n",
      "Requirement already satisfied: typing-extensions>=4.6.0 in c:\\users\\hp\\anaconda3\\lib\\site-packages (from azure-storage-blob) (4.14.1)\n",
      "Collecting isodate>=0.6.1 (from azure-storage-blob)\n",
      "  Downloading isodate-0.7.2-py3-none-any.whl.metadata (11 kB)\n",
      "Collecting msal>=1.30.0 (from azure-identity)\n",
      "  Downloading msal-1.33.0-py3-none-any.whl.metadata (11 kB)\n",
      "Collecting msal-extensions>=1.2.0 (from azure-identity)\n",
      "  Downloading msal_extensions-1.3.1-py3-none-any.whl.metadata (7.8 kB)\n",
      "Requirement already satisfied: requests>=2.21.0 in c:\\users\\hp\\anaconda3\\lib\\site-packages (from azure-core>=1.30.0->azure-storage-blob) (2.32.3)\n",
      "Requirement already satisfied: six>=1.11.0 in c:\\users\\hp\\anaconda3\\lib\\site-packages (from azure-core>=1.30.0->azure-storage-blob) (1.17.0)\n",
      "Requirement already satisfied: cffi>=1.12 in c:\\users\\hp\\anaconda3\\lib\\site-packages (from cryptography>=2.1.4->azure-storage-blob) (1.17.1)\n",
      "Requirement already satisfied: pycparser in c:\\users\\hp\\anaconda3\\lib\\site-packages (from cffi>=1.12->cryptography>=2.1.4->azure-storage-blob) (2.21)\n",
      "Requirement already satisfied: PyJWT<3,>=1.0.0 in c:\\users\\hp\\anaconda3\\lib\\site-packages (from PyJWT[crypto]<3,>=1.0.0->msal>=1.30.0->azure-identity) (2.10.1)\n",
      "Requirement already satisfied: charset-normalizer<4,>=2 in c:\\users\\hp\\anaconda3\\lib\\site-packages (from requests>=2.21.0->azure-core>=1.30.0->azure-storage-blob) (3.3.2)\n",
      "Requirement already satisfied: idna<4,>=2.5 in c:\\users\\hp\\anaconda3\\lib\\site-packages (from requests>=2.21.0->azure-core>=1.30.0->azure-storage-blob) (3.7)\n",
      "Requirement already satisfied: urllib3<3,>=1.21.1 in c:\\users\\hp\\anaconda3\\lib\\site-packages (from requests>=2.21.0->azure-core>=1.30.0->azure-storage-blob) (2.5.0)\n",
      "Requirement already satisfied: certifi>=2017.4.17 in c:\\users\\hp\\anaconda3\\lib\\site-packages (from requests>=2.21.0->azure-core>=1.30.0->azure-storage-blob) (2025.8.3)\n",
      "Downloading azure_storage_blob-12.26.0-py3-none-any.whl (412 kB)\n",
      "Downloading azure_identity-1.24.0-py3-none-any.whl (187 kB)\n",
      "Downloading azure_core-1.35.0-py3-none-any.whl (210 kB)\n",
      "Downloading isodate-0.7.2-py3-none-any.whl (22 kB)\n",
      "Downloading msal-1.33.0-py3-none-any.whl (116 kB)\n",
      "Downloading msal_extensions-1.3.1-py3-none-any.whl (20 kB)\n",
      "Installing collected packages: isodate, azure-core, azure-storage-blob, msal, msal-extensions, azure-identity\n",
      "\n",
      "   ---------------------------------------- 0/6 [isodate]\n",
      "   ------ --------------------------------- 1/6 [azure-core]\n",
      "   ------ --------------------------------- 1/6 [azure-core]\n",
      "   ------ --------------------------------- 1/6 [azure-core]\n",
      "   ------ --------------------------------- 1/6 [azure-core]\n",
      "   ------ --------------------------------- 1/6 [azure-core]\n",
      "   ------ --------------------------------- 1/6 [azure-core]\n",
      "   ------------- -------------------------- 2/6 [azure-storage-blob]\n",
      "   ------------- -------------------------- 2/6 [azure-storage-blob]\n",
      "   ------------- -------------------------- 2/6 [azure-storage-blob]\n",
      "   ------------- -------------------------- 2/6 [azure-storage-blob]\n",
      "   ------------- -------------------------- 2/6 [azure-storage-blob]\n",
      "   ------------- -------------------------- 2/6 [azure-storage-blob]\n",
      "   ------------- -------------------------- 2/6 [azure-storage-blob]\n",
      "   ------------- -------------------------- 2/6 [azure-storage-blob]\n",
      "   ------------- -------------------------- 2/6 [azure-storage-blob]\n",
      "   ------------- -------------------------- 2/6 [azure-storage-blob]\n",
      "   ------------- -------------------------- 2/6 [azure-storage-blob]\n",
      "   -------------------- ------------------- 3/6 [msal]\n",
      "   -------------------- ------------------- 3/6 [msal]\n",
      "   -------------------------- ------------- 4/6 [msal-extensions]\n",
      "   --------------------------------- ------ 5/6 [azure-identity]\n",
      "   --------------------------------- ------ 5/6 [azure-identity]\n",
      "   --------------------------------- ------ 5/6 [azure-identity]\n",
      "   --------------------------------- ------ 5/6 [azure-identity]\n",
      "   --------------------------------- ------ 5/6 [azure-identity]\n",
      "   ---------------------------------------- 6/6 [azure-identity]\n",
      "\n",
      "Successfully installed azure-core-1.35.0 azure-identity-1.24.0 azure-storage-blob-12.26.0 isodate-0.7.2 msal-1.33.0 msal-extensions-1.3.1\n"
     ]
    }
   ],
   "source": [
    "!pip install azure-storage-blob azure-identity"
   ]
  },
  {
   "cell_type": "code",
   "execution_count": 2,
   "id": "e3fef3c5",
   "metadata": {},
   "outputs": [],
   "source": [
    "from azure.storage.blob import BlobServiceClient"
   ]
  },
  {
   "cell_type": "code",
   "execution_count": 3,
   "id": "e837419a",
   "metadata": {},
   "outputs": [
    {
     "data": {
      "text/plain": [
       "<azure.storage.blob._blob_service_client.BlobServiceClient at 0x1a9947b5160>"
      ]
     },
     "execution_count": 3,
     "metadata": {},
     "output_type": "execute_result"
    }
   ],
   "source": [
    "blob_account_url = \"https://azureaiml.blob.core.windows.net\"\n",
    "storage_credential = \"e8HN6q8w/WJ85m7BvNLhBAR+79Zj0YepI1Yq6mKvgzVHmS1iLjzhKB7v0Z4erMxRd2YN/YRTtyJF+AStBw+2Vg==\"\n",
    "\n",
    "blob_service_client = BlobServiceClient(account_url=blob_account_url, credential=storage_credential)\n",
    "blob_service_client"
   ]
  },
  {
   "cell_type": "code",
   "execution_count": 4,
   "id": "9f20b045",
   "metadata": {},
   "outputs": [
    {
     "data": {
      "text/plain": [
       "<azure.storage.blob._container_client.ContainerClient at 0x1a9947b6f90>"
      ]
     },
     "execution_count": 4,
     "metadata": {},
     "output_type": "execute_result"
    }
   ],
   "source": [
    "new_container = blob_service_client.create_container(\"vscodecontainer\", public_access=\"container\")\n",
    "new_container"
   ]
  },
  {
   "cell_type": "code",
   "execution_count": 5,
   "id": "d5c72304",
   "metadata": {},
   "outputs": [
    {
     "data": {
      "text/plain": [
       "{'name': 'vscodecontainer', 'last_modified': datetime.datetime(2025, 9, 7, 5, 22, 10, tzinfo=datetime.timezone.utc), 'etag': '\"0x8DDEDCE7F32787E\"', 'lease': {'status': 'unlocked', 'state': 'available', 'duration': None}, 'public_access': 'container', 'has_immutability_policy': False, 'deleted': None, 'version': None, 'has_legal_hold': False, 'metadata': {}, 'encryption_scope': <azure.storage.blob._models.ContainerEncryptionScope object at 0x000001A99483ECF0>, 'immutable_storage_with_versioning_enabled': False}"
      ]
     },
     "execution_count": 5,
     "metadata": {},
     "output_type": "execute_result"
    }
   ],
   "source": [
    "new_container.get_container_properties()"
   ]
  },
  {
   "cell_type": "code",
   "execution_count": 6,
   "metadata": {},
   "outputs": [
    {
     "name": "stdout",
     "output_type": "stream",
     "text": [
      "anish\n",
      "image\n",
      "vscodecontainer\n"
     ]
    }
   ],
   "source": [
    "all_containers = blob_service_client.list_containers()\n",
    "for container in all_containers:\n",
    "    print(container['name'])"
   ]
  },
  {
   "cell_type": "code",
   "execution_count": 7,
   "id": "f8039eee",
   "metadata": {},
   "outputs": [
    {
     "name": "stdout",
     "output_type": "stream",
     "text": [
      "deleted container: anish\n",
      "deleted container: image\n",
      "deleted container: vscodecontainer\n"
     ]
    }
   ],
   "source": [
    "all_containers = blob_service_client.list_containers()\n",
    "for container in all_containers:\n",
    "    print(\"deleted container:\", container['vscodecontainer'])\n",
    "    blob_service_client.delete_container(container['vscodecontainer'])"
   ]
  },
  {
   "cell_type": "code",
   "execution_count": 8,
   "id": "fbe93689",
   "metadata": {},
   "outputs": [
    {
     "data": {
      "text/plain": [
       "<azure.storage.blob._container_client.ContainerClient at 0x1a9947cc910>"
      ]
     },
     "execution_count": 8,
     "metadata": {},
     "output_type": "execute_result"
    }
   ],
   "source": [
    "new_container = blob_service_client.create_container(\"vscodecontainer\", public_access=\"container\")\n",
    "new_container"
   ]
  },
  {
   "cell_type": "code",
   "execution_count": 9,
   "id": "3ccdc779",
   "metadata": {},
   "outputs": [],
   "source": [
    "blob_name = 'sample_blob.txt'\n",
    "file_path = r'C:\\Users\\hp\\Data Science with Gen AI\\azure\\sample.txt'\n",
    "container_client = blob_service_client.get_container_client(\"vscodecontainer\")\n",
    "blob_client = container_client.get_blob_client(blob_name)\n",
    "with open(file_path, \"rb\") as data:\n",
    "    blob_client.upload_blob(data, overwrite=True)"
   ]
  },
  {
   "cell_type": "code",
   "execution_count": 10,
   "id": "146a843c",
   "metadata": {},
   "outputs": [
    {
     "name": "stdout",
     "output_type": "stream",
     "text": [
      "sample_blob.txt\n"
     ]
    }
   ],
   "source": [
    "container_client = blob_service_client.get_container_client(\"vscodecontainer\")\n",
    "for blob in container_client.list_blobs():\n",
    "    print(blob.name)"
   ]
  },
  {
   "cell_type": "code",
   "execution_count": null,
   "id": "a8efbab9",
   "metadata": {},
   "outputs": [],
   "source": []
  }
 ],
 "metadata": {
  "kernelspec": {
   "display_name": "base",
   "language": "python",
   "name": "python3"
  },
  "language_info": {
   "codemirror_mode": {
    "name": "ipython",
    "version": 3
   },
   "file_extension": ".py",
   "mimetype": "text/x-python",
   "name": "python",
   "nbconvert_exporter": "python",
   "pygments_lexer": "ipython3",
   "version": "3.13.5"
  }
 },
 "nbformat": 4,
 "nbformat_minor": 5
}
