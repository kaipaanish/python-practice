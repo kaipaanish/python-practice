{
 "cells": [
  {
   "cell_type": "code",
   "execution_count": 1,
   "id": "23a67eb8-0b75-4c67-a7b9-5b82fe4df99b",
   "metadata": {},
   "outputs": [],
   "source": [
    "l1 = []\n"
   ]
  },
  {
   "cell_type": "code",
   "execution_count": 2,
   "id": "8ebd6dab-b6d8-4ee5-9ed7-3984c6973bd5",
   "metadata": {},
   "outputs": [
    {
     "data": {
      "text/plain": [
       "[]"
      ]
     },
     "execution_count": 2,
     "metadata": {},
     "output_type": "execute_result"
    }
   ],
   "source": [
    "l1"
   ]
  },
  {
   "cell_type": "code",
   "execution_count": 3,
   "id": "d1277b73-499c-4990-8276-7cb683ce6881",
   "metadata": {},
   "outputs": [
    {
     "data": {
      "text/plain": [
       "list"
      ]
     },
     "execution_count": 3,
     "metadata": {},
     "output_type": "execute_result"
    }
   ],
   "source": [
    "type(l1)"
   ]
  },
  {
   "cell_type": "code",
   "execution_count": 4,
   "id": "dd51857b-c92f-4212-890d-7caee3e4d821",
   "metadata": {},
   "outputs": [],
   "source": [
    "list2 = [10,30,60]\n",
    "list3 = [10.77,30.66,60.89]\n",
    "list4 = ['one','two' , \"three\"]\n",
    "list5 = ['Asif', 25 ,[50, 100],[150, 90]]\n",
    "list6 = [100, 'Asif', 17.765]\n",
    "list7 = ['Asif', 25 ,[50, 100],[150, 90] , {'John' , 'David'}]"
   ]
  },
  {
   "cell_type": "code",
   "execution_count": 5,
   "id": "0ab50d2c-8f17-4bda-ac64-23c9064f7e32",
   "metadata": {},
   "outputs": [
    {
     "data": {
      "text/plain": [
       "3"
      ]
     },
     "execution_count": 5,
     "metadata": {},
     "output_type": "execute_result"
    }
   ],
   "source": [
    "len(list6)"
   ]
  },
  {
   "cell_type": "code",
   "execution_count": 6,
   "id": "4aeaae84-9129-406a-ab02-7c6a42e741d4",
   "metadata": {},
   "outputs": [
    {
     "data": {
      "text/plain": [
       "10"
      ]
     },
     "execution_count": 6,
     "metadata": {},
     "output_type": "execute_result"
    }
   ],
   "source": [
    "list2[0]"
   ]
  },
  {
   "cell_type": "code",
   "execution_count": 7,
   "id": "514ce749-fb96-4f3b-ad22-3635fe6c81f1",
   "metadata": {},
   "outputs": [
    {
     "data": {
      "text/plain": [
       "'one'"
      ]
     },
     "execution_count": 7,
     "metadata": {},
     "output_type": "execute_result"
    }
   ],
   "source": [
    "list4[0]"
   ]
  },
  {
   "cell_type": "code",
   "execution_count": 8,
   "id": "102281d4-180a-47a2-9d9f-8e3ace794aa7",
   "metadata": {},
   "outputs": [
    {
     "data": {
      "text/plain": [
       "'o'"
      ]
     },
     "execution_count": 8,
     "metadata": {},
     "output_type": "execute_result"
    }
   ],
   "source": [
    "list4[0][0]"
   ]
  },
  {
   "cell_type": "code",
   "execution_count": 9,
   "id": "751ea321-1a02-41fb-a575-299c4c53bc9b",
   "metadata": {},
   "outputs": [
    {
     "data": {
      "text/plain": [
       "'three'"
      ]
     },
     "execution_count": 9,
     "metadata": {},
     "output_type": "execute_result"
    }
   ],
   "source": [
    "list4[-1]"
   ]
  },
  {
   "cell_type": "code",
   "execution_count": 10,
   "id": "36fd8863-6a49-40ae-9f61-158209f09ba7",
   "metadata": {},
   "outputs": [
    {
     "data": {
      "text/plain": [
       "'t'"
      ]
     },
     "execution_count": 10,
     "metadata": {},
     "output_type": "execute_result"
    }
   ],
   "source": [
    "list4[-1][0]"
   ]
  },
  {
   "cell_type": "code",
   "execution_count": 11,
   "id": "3d37f599-d182-4ccc-a986-f36f6f1d8f41",
   "metadata": {},
   "outputs": [
    {
     "data": {
      "text/plain": [
       "[150, 90]"
      ]
     },
     "execution_count": 11,
     "metadata": {},
     "output_type": "execute_result"
    }
   ],
   "source": [
    "list5[-1]\n"
   ]
  },
  {
   "cell_type": "code",
   "execution_count": 12,
   "id": "57434f8e-f227-46a4-aaf6-3d1a427e8aa8",
   "metadata": {},
   "outputs": [
    {
     "data": {
      "text/plain": [
       "90"
      ]
     },
     "execution_count": 12,
     "metadata": {},
     "output_type": "execute_result"
    }
   ],
   "source": [
    "list5[-1][1]"
   ]
  },
  {
   "cell_type": "code",
   "execution_count": 13,
   "id": "d9494f78-d866-405c-8ff0-0b24ddb32bef",
   "metadata": {},
   "outputs": [],
   "source": [
    "mylist = ['one' , 'two' , 'three' , 'four' , 'five' , 'six' , 'seven' , 'eight']"
   ]
  },
  {
   "cell_type": "code",
   "execution_count": 14,
   "id": "e634f91e-58b3-42e6-929e-836598a37656",
   "metadata": {},
   "outputs": [
    {
     "data": {
      "text/plain": [
       "['one', 'two', 'three']"
      ]
     },
     "execution_count": 14,
     "metadata": {},
     "output_type": "execute_result"
    }
   ],
   "source": [
    "mylist[:3]"
   ]
  },
  {
   "cell_type": "code",
   "execution_count": 15,
   "id": "775c4c26-d82e-4db4-9add-1b98e604de54",
   "metadata": {},
   "outputs": [
    {
     "data": {
      "text/plain": [
       "['three', 'four', 'five']"
      ]
     },
     "execution_count": 15,
     "metadata": {},
     "output_type": "execute_result"
    }
   ],
   "source": [
    "mylist[2:5]"
   ]
  },
  {
   "cell_type": "code",
   "execution_count": 16,
   "id": "61f79ccc-bec0-4fb9-bc3e-4ee73f92f65b",
   "metadata": {},
   "outputs": [
    {
     "data": {
      "text/plain": [
       "['one', 'two']"
      ]
     },
     "execution_count": 16,
     "metadata": {},
     "output_type": "execute_result"
    }
   ],
   "source": [
    "mylist[:2]"
   ]
  },
  {
   "cell_type": "code",
   "execution_count": 17,
   "id": "d8a665c0-d3eb-4b26-9623-2d5a05616c6b",
   "metadata": {},
   "outputs": [
    {
     "data": {
      "text/plain": [
       "['one', 'two', 'three', 'four', 'five']"
      ]
     },
     "execution_count": 17,
     "metadata": {},
     "output_type": "execute_result"
    }
   ],
   "source": [
    "mylist[0:-3]"
   ]
  },
  {
   "cell_type": "code",
   "execution_count": 18,
   "id": "b22a495a-dd42-4d8f-b3a1-f715ad4ae294",
   "metadata": {},
   "outputs": [
    {
     "data": {
      "text/plain": [
       "['six', 'seven', 'eight']"
      ]
     },
     "execution_count": 18,
     "metadata": {},
     "output_type": "execute_result"
    }
   ],
   "source": [
    "mylist[-3:]"
   ]
  },
  {
   "cell_type": "code",
   "execution_count": 19,
   "id": "d846d4b6-9c7a-4420-a37c-c0e60e79b0c3",
   "metadata": {},
   "outputs": [
    {
     "data": {
      "text/plain": [
       "['seven', 'eight']"
      ]
     },
     "execution_count": 19,
     "metadata": {},
     "output_type": "execute_result"
    }
   ],
   "source": [
    "mylist[-2:]"
   ]
  },
  {
   "cell_type": "code",
   "execution_count": 20,
   "id": "5c113569-4882-4ff2-ac6b-1aa24862bbd6",
   "metadata": {},
   "outputs": [],
   "source": [
    "mylist.append(\"nine\")"
   ]
  },
  {
   "cell_type": "code",
   "execution_count": 21,
   "id": "3762a266-775c-4447-b76b-976c3d850c32",
   "metadata": {},
   "outputs": [
    {
     "data": {
      "text/plain": [
       "['one', 'two', 'three', 'four', 'five', 'six', 'seven', 'eight', 'nine']"
      ]
     },
     "execution_count": 21,
     "metadata": {},
     "output_type": "execute_result"
    }
   ],
   "source": [
    "mylist"
   ]
  },
  {
   "cell_type": "code",
   "execution_count": 22,
   "id": "c10e0e57-020c-4bd1-8986-a1b7d01fd405",
   "metadata": {},
   "outputs": [
    {
     "data": {
      "text/plain": [
       "['one', 'two', 'three', 'four', 'five', 'six', 'seven', 'eight', 'nine', 'ten']"
      ]
     },
     "execution_count": 22,
     "metadata": {},
     "output_type": "execute_result"
    }
   ],
   "source": [
    "mylist.insert(9,'ten') \n",
    "mylist"
   ]
  },
  {
   "cell_type": "code",
   "execution_count": 23,
   "id": "549fb73a-a9c1-45c8-8241-f62d5dfca826",
   "metadata": {},
   "outputs": [],
   "source": [
    "mylist.insert(1,\"ONE\")"
   ]
  },
  {
   "cell_type": "code",
   "execution_count": 24,
   "id": "0b9c4b50-130e-440a-be50-ec1aa5fb574e",
   "metadata": {},
   "outputs": [
    {
     "data": {
      "text/plain": [
       "['one',\n",
       " 'ONE',\n",
       " 'two',\n",
       " 'three',\n",
       " 'four',\n",
       " 'five',\n",
       " 'six',\n",
       " 'seven',\n",
       " 'eight',\n",
       " 'nine',\n",
       " 'ten']"
      ]
     },
     "execution_count": 24,
     "metadata": {},
     "output_type": "execute_result"
    }
   ],
   "source": [
    "mylist"
   ]
  },
  {
   "cell_type": "code",
   "execution_count": 25,
   "id": "b27a6b81-72b4-454c-bb4e-5c0a8a08feb8",
   "metadata": {},
   "outputs": [],
   "source": [
    "mylist.remove(\"ONE\")"
   ]
  },
  {
   "cell_type": "code",
   "execution_count": 26,
   "id": "7ce84d5a-b8a5-4707-9472-916c87be15ef",
   "metadata": {},
   "outputs": [
    {
     "data": {
      "text/plain": [
       "['one', 'two', 'three', 'four', 'five', 'six', 'seven', 'eight', 'nine', 'ten']"
      ]
     },
     "execution_count": 26,
     "metadata": {},
     "output_type": "execute_result"
    }
   ],
   "source": [
    "mylist"
   ]
  },
  {
   "cell_type": "code",
   "execution_count": 27,
   "id": "65b4f85c-d2d2-4089-a0ab-d5c6492f04d2",
   "metadata": {},
   "outputs": [
    {
     "data": {
      "text/plain": [
       "'ten'"
      ]
     },
     "execution_count": 27,
     "metadata": {},
     "output_type": "execute_result"
    }
   ],
   "source": [
    "mylist.pop()\n",
    "\n"
   ]
  },
  {
   "cell_type": "code",
   "execution_count": 28,
   "id": "59ef64e4-a083-4f8c-b9cd-63bb4fdcb068",
   "metadata": {},
   "outputs": [
    {
     "name": "stdout",
     "output_type": "stream",
     "text": [
      "['one', 'two', 'three', 'four', 'five', 'six', 'seven', 'eight', 'nine']\n"
     ]
    }
   ],
   "source": [
    "print(mylist)"
   ]
  },
  {
   "cell_type": "code",
   "execution_count": 29,
   "id": "3213dc65-f827-4942-be57-727b9c74b89f",
   "metadata": {},
   "outputs": [
    {
     "data": {
      "text/plain": [
       "'nine'"
      ]
     },
     "execution_count": 29,
     "metadata": {},
     "output_type": "execute_result"
    }
   ],
   "source": [
    "mylist.pop(8)"
   ]
  },
  {
   "cell_type": "code",
   "execution_count": 30,
   "id": "5565f017-271d-4060-a013-73333f7173f4",
   "metadata": {},
   "outputs": [],
   "source": [
    "del mylist[1]"
   ]
  },
  {
   "cell_type": "code",
   "execution_count": 31,
   "id": "334448df-dc11-4e32-a2a9-0c5f80e41a15",
   "metadata": {},
   "outputs": [
    {
     "data": {
      "text/plain": [
       "['one', 'three', 'four', 'five', 'six', 'seven', 'eight']"
      ]
     },
     "execution_count": 31,
     "metadata": {},
     "output_type": "execute_result"
    }
   ],
   "source": [
    "mylist"
   ]
  },
  {
   "cell_type": "code",
   "execution_count": 32,
   "id": "6648f70f-f0a5-421b-ac2f-2c5266c75f75",
   "metadata": {},
   "outputs": [],
   "source": [
    "mylist[0] = 1\n",
    "mylist[1] = 2"
   ]
  },
  {
   "cell_type": "code",
   "execution_count": 33,
   "id": "05356386-ec1a-4608-90ad-d203be79da36",
   "metadata": {},
   "outputs": [
    {
     "data": {
      "text/plain": [
       "[1, 2, 3, 4, 'six', 'seven', 'eight']"
      ]
     },
     "execution_count": 33,
     "metadata": {},
     "output_type": "execute_result"
    }
   ],
   "source": [
    "mylist[2] = 3\n",
    "mylist[3] = 4\n",
    "mylist"
   ]
  },
  {
   "cell_type": "code",
   "execution_count": 34,
   "id": "3625c2c5-a4e9-4752-88b0-586a3305cec3",
   "metadata": {},
   "outputs": [
    {
     "data": {
      "text/plain": [
       "[]"
      ]
     },
     "execution_count": 34,
     "metadata": {},
     "output_type": "execute_result"
    }
   ],
   "source": [
    "mylist.clear()\n",
    "mylist\n"
   ]
  },
  {
   "cell_type": "code",
   "execution_count": 35,
   "id": "aa517e95-65a8-472e-b9b4-fe29b626176f",
   "metadata": {},
   "outputs": [],
   "source": [
    "del mylist"
   ]
  },
  {
   "cell_type": "code",
   "execution_count": 72,
   "id": "5289ffeb-94eb-4190-afa8-8d444c846e6b",
   "metadata": {},
   "outputs": [],
   "source": [
    "mylist = ['one', 'two', 'three', 'four', 'five', 'six', 'seven', 'eight', 'nine']\n",
    "mylist1 = mylist"
   ]
  },
  {
   "cell_type": "code",
   "execution_count": 74,
   "id": "b559d68d-0a08-4781-a249-013ab84876e7",
   "metadata": {},
   "outputs": [
    {
     "data": {
      "text/plain": [
       "(1591133201344, 1591133201344)"
      ]
     },
     "execution_count": 74,
     "metadata": {},
     "output_type": "execute_result"
    }
   ],
   "source": [
    "id(mylist) , id(mylist1)"
   ]
  },
  {
   "cell_type": "code",
   "execution_count": 76,
   "id": "fa239d02-aefd-4696-aba5-4000d96ac748",
   "metadata": {},
   "outputs": [],
   "source": [
    "mylist2 = mylist.copy()"
   ]
  },
  {
   "cell_type": "code",
   "execution_count": 78,
   "id": "e5aa2bb8-97a2-4ec8-a408-6a5c3f316d2f",
   "metadata": {},
   "outputs": [
    {
     "data": {
      "text/plain": [
       "1591133028672"
      ]
     },
     "execution_count": 78,
     "metadata": {},
     "output_type": "execute_result"
    }
   ],
   "source": [
    "id(mylist2)"
   ]
  },
  {
   "cell_type": "code",
   "execution_count": 80,
   "id": "a86d9c2b-43ac-4507-833c-22222d47f4dc",
   "metadata": {},
   "outputs": [
    {
     "data": {
      "text/plain": [
       "[1, 'two', 'three', 'four', 'five', 'six', 'seven', 'eight', 'nine']"
      ]
     },
     "execution_count": 80,
     "metadata": {},
     "output_type": "execute_result"
    }
   ],
   "source": [
    "mylist[0] = 1\n",
    "mylist"
   ]
  },
  {
   "cell_type": "code",
   "execution_count": 82,
   "id": "af19a375-d5d3-4f53-a12f-34781a7755b1",
   "metadata": {},
   "outputs": [
    {
     "data": {
      "text/plain": [
       "[1, 'two', 'three', 'four', 'five', 'six', 'seven', 'eight', 'nine']"
      ]
     },
     "execution_count": 82,
     "metadata": {},
     "output_type": "execute_result"
    }
   ],
   "source": [
    "mylist1"
   ]
  },
  {
   "cell_type": "code",
   "execution_count": 84,
   "id": "f6729da7-0dcc-4f23-a2d5-1b10ac223e14",
   "metadata": {},
   "outputs": [
    {
     "data": {
      "text/plain": [
       "['one', 'two', 'three', 'four', 'five', 'six', 'seven', 'eight', 'nine']"
      ]
     },
     "execution_count": 84,
     "metadata": {},
     "output_type": "execute_result"
    }
   ],
   "source": [
    "mylist2"
   ]
  },
  {
   "cell_type": "code",
   "execution_count": 86,
   "id": "08623a70-4e14-4a69-bf95-8cb33dbba7fb",
   "metadata": {},
   "outputs": [],
   "source": [
    "list1 = ['one', 'two', 'three', 'four']\n",
    "list2 = ['five', 'six', 'seven', 'eight']"
   ]
  },
  {
   "cell_type": "code",
   "execution_count": 88,
   "id": "e1600978-aaac-4116-8d3c-856f0a47dc67",
   "metadata": {},
   "outputs": [],
   "source": [
    "list3 = list1 + list2"
   ]
  },
  {
   "cell_type": "code",
   "execution_count": 90,
   "id": "0fe58b75-2dca-4bc9-afe9-fc0a334222ad",
   "metadata": {},
   "outputs": [
    {
     "data": {
      "text/plain": [
       "['one', 'two', 'three', 'four', 'five', 'six', 'seven', 'eight']"
      ]
     },
     "execution_count": 90,
     "metadata": {},
     "output_type": "execute_result"
    }
   ],
   "source": [
    "list3"
   ]
  },
  {
   "cell_type": "code",
   "execution_count": 92,
   "id": "6d924726-93ec-429c-a8e4-56c792026e16",
   "metadata": {},
   "outputs": [
    {
     "data": {
      "text/plain": [
       "['one', 'two', 'three', 'four', 'five', 'six', 'seven', 'eight']"
      ]
     },
     "execution_count": 92,
     "metadata": {},
     "output_type": "execute_result"
    }
   ],
   "source": [
    "list1.extend(list2) \n",
    "list1"
   ]
  },
  {
   "cell_type": "code",
   "execution_count": 94,
   "id": "8607df6b-d7d6-4357-99e2-e4d09e09b6aa",
   "metadata": {},
   "outputs": [],
   "source": [
    "list2.extend(list1)"
   ]
  },
  {
   "cell_type": "code",
   "execution_count": 96,
   "id": "818ea3cb-4ce2-414e-a30f-c09809adfb93",
   "metadata": {},
   "outputs": [
    {
     "data": {
      "text/plain": [
       "['five',\n",
       " 'six',\n",
       " 'seven',\n",
       " 'eight',\n",
       " 'one',\n",
       " 'two',\n",
       " 'three',\n",
       " 'four',\n",
       " 'five',\n",
       " 'six',\n",
       " 'seven',\n",
       " 'eight']"
      ]
     },
     "execution_count": 96,
     "metadata": {},
     "output_type": "execute_result"
    }
   ],
   "source": [
    "list2"
   ]
  },
  {
   "cell_type": "code",
   "execution_count": 98,
   "id": "6c0d0970-3505-4827-a491-f6de690e6718",
   "metadata": {},
   "outputs": [
    {
     "data": {
      "text/plain": [
       "True"
      ]
     },
     "execution_count": 98,
     "metadata": {},
     "output_type": "execute_result"
    }
   ],
   "source": [
    "\"one\" in list1"
   ]
  },
  {
   "cell_type": "code",
   "execution_count": 100,
   "id": "4250aace-1152-4ce3-84d1-bf78a00bb3dd",
   "metadata": {},
   "outputs": [
    {
     "data": {
      "text/plain": [
       "False"
      ]
     },
     "execution_count": 100,
     "metadata": {},
     "output_type": "execute_result"
    }
   ],
   "source": [
    "\"ten\" in list1"
   ]
  },
  {
   "cell_type": "code",
   "execution_count": 102,
   "id": "e3e7d01a-7ac3-4fb6-b9d6-c784516dfeb0",
   "metadata": {},
   "outputs": [
    {
     "data": {
      "text/plain": [
       "['one', 'two', 'three', 'four', 'five', 'six', 'seven', 'eight']"
      ]
     },
     "execution_count": 102,
     "metadata": {},
     "output_type": "execute_result"
    }
   ],
   "source": [
    "list1\n",
    "\n"
   ]
  },
  {
   "cell_type": "code",
   "execution_count": 106,
   "id": "9e47c942-c118-4f14-ab29-df9eb64836f2",
   "metadata": {},
   "outputs": [],
   "source": [
    "list1.sort()"
   ]
  },
  {
   "cell_type": "code",
   "execution_count": 108,
   "id": "ae0e96bd-a055-4fd9-8a05-e4b55af56c2d",
   "metadata": {},
   "outputs": [
    {
     "data": {
      "text/plain": [
       "['eight', 'five', 'four', 'one', 'seven', 'six', 'three', 'two']"
      ]
     },
     "execution_count": 108,
     "metadata": {},
     "output_type": "execute_result"
    }
   ],
   "source": [
    "list1"
   ]
  },
  {
   "cell_type": "code",
   "execution_count": 110,
   "id": "65980a2f-76ad-4d91-9755-6ab3d5170aac",
   "metadata": {},
   "outputs": [],
   "source": [
    "list1.sort(reverse = True)"
   ]
  },
  {
   "cell_type": "code",
   "execution_count": 112,
   "id": "ae18a557-e4aa-44d5-b906-a1ecf7dfbdfa",
   "metadata": {},
   "outputs": [
    {
     "data": {
      "text/plain": [
       "['two', 'three', 'six', 'seven', 'one', 'four', 'five', 'eight']"
      ]
     },
     "execution_count": 112,
     "metadata": {},
     "output_type": "execute_result"
    }
   ],
   "source": [
    "list1"
   ]
  },
  {
   "cell_type": "code",
   "execution_count": 114,
   "id": "8817217d-3c7d-4c07-a02c-b0a565302eeb",
   "metadata": {},
   "outputs": [
    {
     "data": {
      "text/plain": [
       "['eight', 'five', 'four', 'one', 'seven', 'six', 'three', 'two']"
      ]
     },
     "execution_count": 114,
     "metadata": {},
     "output_type": "execute_result"
    }
   ],
   "source": [
    "list1[::-1]"
   ]
  },
  {
   "cell_type": "code",
   "execution_count": 116,
   "id": "7b8a62b5-1335-4617-9bb8-8498664c099c",
   "metadata": {},
   "outputs": [
    {
     "name": "stdout",
     "output_type": "stream",
     "text": [
      "two\n",
      "three\n",
      "six\n",
      "seven\n",
      "one\n",
      "four\n",
      "five\n",
      "eight\n"
     ]
    }
   ],
   "source": [
    "for i in list1:\n",
    "    print(i)"
   ]
  },
  {
   "cell_type": "code",
   "execution_count": 118,
   "id": "b9fc1688-a632-408b-8d9b-a8f1bdcefaae",
   "metadata": {},
   "outputs": [
    {
     "name": "stdout",
     "output_type": "stream",
     "text": [
      "(0, 'two')\n",
      "(1, 'three')\n",
      "(2, 'six')\n",
      "(3, 'seven')\n",
      "(4, 'one')\n",
      "(5, 'four')\n",
      "(6, 'five')\n",
      "(7, 'eight')\n"
     ]
    }
   ],
   "source": [
    "for i in enumerate(list1):\n",
    "    print(i)"
   ]
  },
  {
   "cell_type": "code",
   "execution_count": 120,
   "id": "fc0e84fe-3c68-44f1-a593-6ab5a0959bd1",
   "metadata": {},
   "outputs": [],
   "source": [
    "list1.append(\"one\")"
   ]
  },
  {
   "cell_type": "code",
   "execution_count": 124,
   "id": "4c8bbf46-782b-4bc6-a72c-59fba357fafd",
   "metadata": {},
   "outputs": [
    {
     "data": {
      "text/plain": [
       "2"
      ]
     },
     "execution_count": 124,
     "metadata": {},
     "output_type": "execute_result"
    }
   ],
   "source": [
    "list1.count(\"one\")"
   ]
  },
  {
   "cell_type": "code",
   "execution_count": 130,
   "id": "7a80288b-ad4c-4159-a8ef-fd13e72d7678",
   "metadata": {},
   "outputs": [
    {
     "data": {
      "text/plain": [
       "True"
      ]
     },
     "execution_count": 130,
     "metadata": {},
     "output_type": "execute_result"
    }
   ],
   "source": [
    "all (list1)"
   ]
  },
  {
   "cell_type": "code",
   "execution_count": 132,
   "id": "ea1a697f-2ec1-4a6b-b0f0-64ac14fd2f55",
   "metadata": {},
   "outputs": [
    {
     "data": {
      "text/plain": [
       "True"
      ]
     },
     "execution_count": 132,
     "metadata": {},
     "output_type": "execute_result"
    }
   ],
   "source": [
    "any (list1)"
   ]
  },
  {
   "cell_type": "code",
   "execution_count": null,
   "id": "3b31d396-c4e1-4f54-bb9b-969e8b63b934",
   "metadata": {},
   "outputs": [],
   "source": []
  }
 ],
 "metadata": {
  "kernelspec": {
   "display_name": "Python [conda env:base] *",
   "language": "python",
   "name": "conda-base-py"
  },
  "language_info": {
   "codemirror_mode": {
    "name": "ipython",
    "version": 3
   },
   "file_extension": ".py",
   "mimetype": "text/x-python",
   "name": "python",
   "nbconvert_exporter": "python",
   "pygments_lexer": "ipython3",
   "version": "3.12.7"
  }
 },
 "nbformat": 4,
 "nbformat_minor": 5
}
