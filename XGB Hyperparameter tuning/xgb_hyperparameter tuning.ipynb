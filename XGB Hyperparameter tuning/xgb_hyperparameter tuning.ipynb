{
 "cells": [
  {
   "cell_type": "code",
   "execution_count": null,
   "id": "827f08a0",
   "metadata": {},
   "outputs": [],
   "source": [
    "\n",
    "import pandas as pd\n",
    "import numpy as np\n",
    "import xgboost as xgb\n",
    "from sklearn.metrics import accuracy_score\n",
    "from hyperopt import STATUS_OK, Trials, fmin, hp, tpe"
   ]
  },
  {
   "cell_type": "code",
   "execution_count": null,
   "id": "d4775ca9",
   "metadata": {},
   "outputs": [],
   "source": [
    "df = pd.read_csv(r\"C:\\Users\\anish\\Data Science with Gen AI\\Task Codes\\XGB Hyperparameter tuning\\Wholesale customers data (1).csv\")"
   ]
  },
  {
   "cell_type": "markdown",
   "id": "fa998cf5",
   "metadata": {},
   "source": []
  },
  {
   "cell_type": "markdown",
   "metadata": {},
   "source": []
  },
  {
   "cell_type": "markdown",
   "id": "fd74225d",
   "metadata": {},
   "source": []
  },
  {
   "cell_type": "code",
   "execution_count": null,
   "id": "b9dbe349",
   "metadata": {},
   "outputs": [],
   "source": [
    "X = df.drop('Channel', axis=1)\n",
    "\n",
    "y = df['Channel']"
   ]
  },
  {
   "cell_type": "code",
   "execution_count": null,
   "id": "0fcc8232",
   "metadata": {},
   "outputs": [],
   "source": [
    "X.head()"
   ]
  },
  {
   "cell_type": "code",
   "execution_count": null,
   "id": "27f3c769",
   "metadata": {},
   "outputs": [],
   "source": [
    "y.head()"
   ]
  },
  {
   "cell_type": "code",
   "execution_count": null,
   "id": "cb32eae0",
   "metadata": {},
   "outputs": [],
   "source": [
    "y[y == 2] = 0\n",
    "\n",
    "y[y == 1] = 1"
   ]
  },
  {
   "cell_type": "code",
   "execution_count": null,
   "id": "aaca5ca8",
   "metadata": {},
   "outputs": [],
   "source": [
    "y.head()"
   ]
  },
  {
   "cell_type": "code",
   "execution_count": null,
   "id": "08e20a5f",
   "metadata": {},
   "outputs": [],
   "source": [
    "from sklearn.model_selection import train_test_split\n",
    "\n",
    "X_train, X_test, y_train, y_test = train_test_split(X, y, test_size = 0.3, random_state = 0)"
   ]
  },
  {
   "cell_type": "code",
   "execution_count": null,
   "id": "9e855942",
   "metadata": {},
   "outputs": [],
   "source": [
    "space={'max_depth': hp.quniform(\"max_depth\", 3, 18, 1),\n",
    "        'gamma': hp.uniform ('gamma', 1,9),\n",
    "        'reg_alpha' : hp.quniform('reg_alpha', 40,180,1),\n",
    "        'reg_lambda' : hp.uniform('reg_lambda', 0,1),\n",
    "        'colsample_bytree' : hp.uniform('colsample_bytree', 0.5,1),\n",
    "        'min_child_weight' : hp.quniform('min_child_weight', 0, 10, 1),\n",
    "        'n_estimators': 180,\n",
    "        'seed': 0\n",
    "    }"
   ]
  },
  {
   "cell_type": "code",
   "execution_count": null,
   "id": "a737cd70",
   "metadata": {},
   "outputs": [],
   "source": [
    "from xgboost import XGBClassifier\n",
    "import numpy as np\n",
    "from sklearn.metrics import accuracy_score\n",
    "\n",
    "def objective(space):\n",
    "    clf = XGBClassifier(\n",
    "        n_estimators=int(space['n_estimators']),\n",
    "        max_depth=int(space['max_depth']),\n",
    "        gamma=space['gamma'],\n",
    "        reg_alpha=space['reg_alpha'],\n",
    "        min_child_weight=space['min_child_weight'],\n",
    "        colsample_bytree=space['colsample_bytree'],\n",
    "        eval_metric=\"auc\",\n",
    "        use_label_encoder=False\n",
    "    )\n",
    "\n",
    "    # Convert to numpy arrays\n",
    "    X_train_np = np.array(X_train)\n",
    "    y_train_np = np.array(y_train)\n",
    "    X_test_np = np.array(X_test)\n",
    "    y_test_np = np.array(y_test)\n",
    "\n",
    "    eval_set = [(X_train_np, y_train_np), (X_test_np, y_test_np)]\n",
    "\n",
    "    # Perform fitting without passing early_stopping_rounds to fmin\n",
    "    clf.fit(\n",
    "        X_train_np,\n",
    "        y_train_np,\n",
    "        eval_set=eval_set,\n",
    "        early_stopping_rounds=10,  # No longer an issue here\n",
    "        verbose=False\n",
    "    )\n",
    "\n",
    "    # Predictions and evaluation\n",
    "    preds = clf.predict(X_test_np)\n",
    "    accuracy = accuracy_score(y_test_np, preds > 0.5)\n",
    "    print(\"SCORE:\", accuracy)\n",
    "\n",
    "    return {'loss': -accuracy, 'status': STATUS_OK}\n"
   ]
  },
  {
   "cell_type": "code",
   "execution_count": null,
   "id": "28afd587",
   "metadata": {},
   "outputs": [],
   "source": [
    "trials = Trials()\n",
    "\n",
    "best_hyperparams = fmin(fn = objective,space = space,algo = tpe.suggest,max_evals = 100,trials = trials)"
   ]
  },
  {
   "cell_type": "code",
   "execution_count": null,
   "id": "cf8bb62f",
   "metadata": {},
   "outputs": [],
   "source": []
  },
  {
   "cell_type": "code",
   "execution_count": null,
   "id": "0f578eda",
   "metadata": {},
   "outputs": [],
   "source": []
  }
 ],
 "metadata": {
  "kernelspec": {
   "display_name": "base",
   "language": "python",
   "name": "python3"
  },
  "language_info": {
   "codemirror_mode": {
    "name": "ipython",
    "version": 3
   },
   "file_extension": ".py",
   "mimetype": "text/x-python",
   "name": "python",
   "nbconvert_exporter": "python",
   "pygments_lexer": "ipython3",
   "version": "3.12.7"
  }
 },
 "nbformat": 4,
 "nbformat_minor": 5
}
