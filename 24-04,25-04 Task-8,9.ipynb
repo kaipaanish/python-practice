{
 "cells": [
  {
   "cell_type": "code",
   "execution_count": 2,
   "id": "3ca21de6-7ac7-467d-a7ef-70d963f85322",
   "metadata": {},
   "outputs": [],
   "source": [
    "tup1 = ()\n",
    "tup2 = (10,30,60)\n",
    "tup3 = (10.77,30.66,60.89)\n",
    "tup4 = ('one','two' , \"three\")\n",
    "tup5 = ('Asif', 25 ,(50, 100),(150, 90))\n",
    "tup6 = (100, 'Asif', 17.765)\n",
    "tup7 = ('Asif', 25 ,[50, 100],[150, 90] , {'John' , 'David'} , (99,22,33))"
   ]
  },
  {
   "cell_type": "code",
   "execution_count": 4,
   "id": "ba904e15-1570-4851-8fe9-b555375b17c1",
   "metadata": {},
   "outputs": [
    {
     "data": {
      "text/plain": [
       "6"
      ]
     },
     "execution_count": 4,
     "metadata": {},
     "output_type": "execute_result"
    }
   ],
   "source": [
    "len(tup7)"
   ]
  },
  {
   "cell_type": "code",
   "execution_count": 6,
   "id": "8812d5f6-3d00-4e7a-8305-edb623b7de54",
   "metadata": {},
   "outputs": [
    {
     "data": {
      "text/plain": [
       "30"
      ]
     },
     "execution_count": 6,
     "metadata": {},
     "output_type": "execute_result"
    }
   ],
   "source": [
    "tup2[1]"
   ]
  },
  {
   "cell_type": "code",
   "execution_count": 8,
   "id": "3fb5c24a-c8e9-4a3e-9b5a-8bcf11440d33",
   "metadata": {},
   "outputs": [
    {
     "data": {
      "text/plain": [
       "2"
      ]
     },
     "execution_count": 8,
     "metadata": {},
     "output_type": "execute_result"
    }
   ],
   "source": [
    "tup2.index(60)"
   ]
  },
  {
   "cell_type": "code",
   "execution_count": 12,
   "id": "82e07874-e03a-43a4-bff7-8f82a9930203",
   "metadata": {},
   "outputs": [
    {
     "data": {
      "text/plain": [
       "150"
      ]
     },
     "execution_count": 12,
     "metadata": {},
     "output_type": "execute_result"
    }
   ],
   "source": [
    "tup7[3][0]"
   ]
  },
  {
   "cell_type": "code",
   "execution_count": 14,
   "id": "30655d0a-259e-4117-927a-025ff87a2fa6",
   "metadata": {},
   "outputs": [],
   "source": [
    "mytuple = ('one' , 'two' , 'three' , 'four' , 'five' , 'six' , 'seven' , 'eight')"
   ]
  },
  {
   "cell_type": "code",
   "execution_count": 16,
   "id": "5ed21c57-0905-4b11-9c11-69443e2ceff0",
   "metadata": {},
   "outputs": [
    {
     "data": {
      "text/plain": [
       "('one', 'two', 'three', 'four', 'five', 'six', 'seven', 'eight')"
      ]
     },
     "execution_count": 16,
     "metadata": {},
     "output_type": "execute_result"
    }
   ],
   "source": [
    "mytuple"
   ]
  },
  {
   "cell_type": "code",
   "execution_count": 18,
   "id": "04015c48-021f-48da-a2b7-d26a36c91b6f",
   "metadata": {},
   "outputs": [
    {
     "data": {
      "text/plain": [
       "('one', 'two', 'three')"
      ]
     },
     "execution_count": 18,
     "metadata": {},
     "output_type": "execute_result"
    }
   ],
   "source": [
    "mytuple[0:3]"
   ]
  },
  {
   "cell_type": "code",
   "execution_count": 22,
   "id": "9fb0a2a1-dc06-4921-88a2-abf548693262",
   "metadata": {},
   "outputs": [
    {
     "data": {
      "text/plain": [
       "('six', 'seven', 'eight')"
      ]
     },
     "execution_count": 22,
     "metadata": {},
     "output_type": "execute_result"
    }
   ],
   "source": [
    "mytuple[-3:]"
   ]
  },
  {
   "cell_type": "code",
   "execution_count": 24,
   "id": "5f118514-4284-46c7-b43c-7615747be6c2",
   "metadata": {},
   "outputs": [
    {
     "data": {
      "text/plain": [
       "('seven', 'eight')"
      ]
     },
     "execution_count": 24,
     "metadata": {},
     "output_type": "execute_result"
    }
   ],
   "source": [
    "mytuple[-2:]"
   ]
  },
  {
   "cell_type": "code",
   "execution_count": 30,
   "id": "916463c4-0275-4238-b088-b338bc2412c8",
   "metadata": {},
   "outputs": [
    {
     "name": "stdout",
     "output_type": "stream",
     "text": [
      "one is a member of mytuple\n",
      "two is a member of mytuple\n",
      "three is a member of mytuple\n",
      "four is a member of mytuple\n",
      "five is a member of mytuple\n",
      "six is a member of mytuple\n",
      "seven is a member of mytuple\n",
      "eight is a member of mytuple\n"
     ]
    }
   ],
   "source": [
    "for i in mytuple:\n",
    "    print(f\"{i} is a member of mytuple\")"
   ]
  },
  {
   "cell_type": "code",
   "execution_count": 36,
   "id": "164804d3-2442-41a7-851c-f2bb81402931",
   "metadata": {},
   "outputs": [
    {
     "name": "stdout",
     "output_type": "stream",
     "text": [
      "0 index of mytuple is one\n",
      "1 index of mytuple is two\n",
      "2 index of mytuple is three\n",
      "3 index of mytuple is four\n",
      "4 index of mytuple is five\n",
      "5 index of mytuple is six\n",
      "6 index of mytuple is seven\n",
      "7 index of mytuple is eight\n"
     ]
    }
   ],
   "source": [
    "for index, value in enumerate(mytuple):\n",
    "    print(f\"{index} index of mytuple is {value}\")"
   ]
  },
  {
   "cell_type": "code",
   "execution_count": 40,
   "id": "50018d98-e3fa-42c6-959d-2eacb33bf60d",
   "metadata": {},
   "outputs": [
    {
     "name": "stdout",
     "output_type": "stream",
     "text": [
      "1 one\n",
      "2 two\n",
      "3 three\n",
      "4 four\n",
      "5 five\n",
      "6 six\n",
      "7 seven\n",
      "8 eight\n"
     ]
    }
   ],
   "source": [
    "for index, value in enumerate(mytuple,start = 1):\n",
    "    print(index,value)"
   ]
  },
  {
   "cell_type": "code",
   "execution_count": 42,
   "id": "2d4cbe15-4eb3-416c-b428-903b1b92590a",
   "metadata": {},
   "outputs": [
    {
     "data": {
      "text/plain": [
       "1"
      ]
     },
     "execution_count": 42,
     "metadata": {},
     "output_type": "execute_result"
    }
   ],
   "source": [
    "mytuple.count(\"one\")"
   ]
  },
  {
   "cell_type": "code",
   "execution_count": 44,
   "id": "d3a5dd20-1596-484c-8ec4-9962c2bc85c5",
   "metadata": {},
   "outputs": [
    {
     "data": {
      "text/plain": [
       "False"
      ]
     },
     "execution_count": 44,
     "metadata": {},
     "output_type": "execute_result"
    }
   ],
   "source": [
    "\"ten\" in mytuple"
   ]
  },
  {
   "cell_type": "code",
   "execution_count": 46,
   "id": "9d0e8cef-4248-43bd-9976-e55f7264076a",
   "metadata": {},
   "outputs": [
    {
     "name": "stdout",
     "output_type": "stream",
     "text": [
      " Three in present in the tuple \n"
     ]
    }
   ],
   "source": [
    "if \"three\" in mytuple:\n",
    "    print(\" Three in present in the tuple \")\n",
    "else:\n",
    "    print(\"three is not present in the tuple \")"
   ]
  },
  {
   "cell_type": "code",
   "execution_count": 50,
   "id": "34dd0e05-b2a2-421b-8e69-d85723caa74b",
   "metadata": {},
   "outputs": [
    {
     "name": "stdout",
     "output_type": "stream",
     "text": [
      "ten in not present in mytuple\n"
     ]
    }
   ],
   "source": [
    "if \"ten\" in mytuple:\n",
    "    prnt(\"ten in present in mytuple \")\n",
    "else:\n",
    "    print(\"ten in not present in mytuple\")"
   ]
  },
  {
   "cell_type": "code",
   "execution_count": 61,
   "id": "c2f2575e-6e34-4895-8100-d535d2b0ea5d",
   "metadata": {},
   "outputs": [
    {
     "data": {
      "text/plain": [
       "{0, 1, 2, 3, 4, 5, 7}"
      ]
     },
     "execution_count": 61,
     "metadata": {},
     "output_type": "execute_result"
    }
   ],
   "source": [
    "set1 = {3,2,4,5,1,2,4,1,7,5,0}\n",
    "set1\n"
   ]
  },
  {
   "cell_type": "code",
   "execution_count": 63,
   "id": "741bf606-819d-457b-b691-eaa7dd60afec",
   "metadata": {},
   "outputs": [],
   "source": [
    "A = {1,2,3,4,5}\n",
    "B = {4,5,6,7,8}\n",
    "C = {8,9,10}"
   ]
  },
  {
   "cell_type": "code",
   "execution_count": 67,
   "id": "b40c0f47-652d-4f03-ae80-5f9c0e613c0c",
   "metadata": {},
   "outputs": [
    {
     "data": {
      "text/plain": [
       "{1, 2, 3}"
      ]
     },
     "execution_count": 67,
     "metadata": {},
     "output_type": "execute_result"
    }
   ],
   "source": [
    "A.difference(B)"
   ]
  },
  {
   "cell_type": "code",
   "execution_count": 71,
   "id": "233ab8e6-20a0-4b00-9b41-f98d94a9e0f7",
   "metadata": {},
   "outputs": [],
   "source": [
    "A.difference_update(B)"
   ]
  },
  {
   "cell_type": "code",
   "execution_count": 73,
   "id": "753eab6e-54de-439a-9ef6-93797736c2f4",
   "metadata": {},
   "outputs": [
    {
     "data": {
      "text/plain": [
       "{1, 2, 3}"
      ]
     },
     "execution_count": 73,
     "metadata": {},
     "output_type": "execute_result"
    }
   ],
   "source": [
    "A"
   ]
  },
  {
   "cell_type": "code",
   "execution_count": 75,
   "id": "235e817e-1420-40b3-b1d0-e063e89b372f",
   "metadata": {},
   "outputs": [],
   "source": [
    "A = {1,2,3,4,5}"
   ]
  },
  {
   "cell_type": "code",
   "execution_count": 77,
   "id": "17d2dacd-c44a-4654-955c-97ebda4716f0",
   "metadata": {},
   "outputs": [
    {
     "data": {
      "text/plain": [
       "{1, 2, 3, 4, 5}"
      ]
     },
     "execution_count": 77,
     "metadata": {},
     "output_type": "execute_result"
    }
   ],
   "source": [
    "A"
   ]
  },
  {
   "cell_type": "code",
   "execution_count": 79,
   "id": "e8bffa2f-f566-4530-b6ef-b2bc064fe345",
   "metadata": {},
   "outputs": [],
   "source": [
    "A.discard(10)"
   ]
  },
  {
   "cell_type": "code",
   "execution_count": 81,
   "id": "d9f86719-3d2f-4d53-b28f-fd8ffe27ee4c",
   "metadata": {},
   "outputs": [],
   "source": [
    "A.discard(1)"
   ]
  },
  {
   "cell_type": "code",
   "execution_count": 83,
   "id": "fd71f5b7-7d11-4ff2-b197-1c0c95cb0f8a",
   "metadata": {},
   "outputs": [
    {
     "data": {
      "text/plain": [
       "{2, 3, 4, 5}"
      ]
     },
     "execution_count": 83,
     "metadata": {},
     "output_type": "execute_result"
    }
   ],
   "source": [
    "A"
   ]
  },
  {
   "cell_type": "code",
   "execution_count": 87,
   "id": "d4c968a0-e53f-422f-b81a-021535785fcf",
   "metadata": {},
   "outputs": [],
   "source": [
    "A.add(1)"
   ]
  },
  {
   "cell_type": "code",
   "execution_count": 91,
   "id": "e7f61974-5017-4893-9249-f17cd8b61b21",
   "metadata": {},
   "outputs": [
    {
     "data": {
      "text/plain": [
       "{1, 2, 3, 4, 5}"
      ]
     },
     "execution_count": 91,
     "metadata": {},
     "output_type": "execute_result"
    }
   ],
   "source": [
    "A"
   ]
  },
  {
   "cell_type": "code",
   "execution_count": 97,
   "id": "a364db4e-ee55-4299-a158-c790597cb79a",
   "metadata": {},
   "outputs": [],
   "source": [
    "A.update(B) #Combines the given sets without duplicates"
   ]
  },
  {
   "cell_type": "code",
   "execution_count": 99,
   "id": "1859ed56-2338-467c-9f33-adff70ebaee0",
   "metadata": {},
   "outputs": [
    {
     "data": {
      "text/plain": [
       "{1, 2, 3, 4, 5, 6, 7, 8}"
      ]
     },
     "execution_count": 99,
     "metadata": {},
     "output_type": "execute_result"
    }
   ],
   "source": [
    "A"
   ]
  },
  {
   "cell_type": "code",
   "execution_count": 101,
   "id": "45e13a37-f972-4629-a5f3-58a72ca85f83",
   "metadata": {},
   "outputs": [
    {
     "data": {
      "text/plain": [
       "{4, 5, 6, 7, 8}"
      ]
     },
     "execution_count": 101,
     "metadata": {},
     "output_type": "execute_result"
    }
   ],
   "source": [
    "B"
   ]
  },
  {
   "cell_type": "code",
   "execution_count": 103,
   "id": "18d64b8b-84ff-4cf9-8ad0-1931c79d6c1b",
   "metadata": {},
   "outputs": [],
   "source": [
    "A = {1,2,3,4,5}\n",
    "B = {4,5,6,7,8}"
   ]
  },
  {
   "cell_type": "code",
   "execution_count": 107,
   "id": "d1eaea1f-95f8-44aa-911b-bef5216df305",
   "metadata": {},
   "outputs": [
    {
     "data": {
      "text/plain": [
       "{1, 2, 3, 6, 7, 8}"
      ]
     },
     "execution_count": 107,
     "metadata": {},
     "output_type": "execute_result"
    }
   ],
   "source": [
    "A.symmetric_difference(B)"
   ]
  },
  {
   "cell_type": "code",
   "execution_count": 109,
   "id": "a92ea2f0-edec-4ea2-94c7-d8a9c7430aca",
   "metadata": {},
   "outputs": [
    {
     "data": {
      "text/plain": [
       "{4, 5}"
      ]
     },
     "execution_count": 109,
     "metadata": {},
     "output_type": "execute_result"
    }
   ],
   "source": [
    "A.intersection(B)"
   ]
  },
  {
   "cell_type": "code",
   "execution_count": 111,
   "id": "e67c0a49-cb73-4fc5-869c-fb5638b4bb7f",
   "metadata": {},
   "outputs": [],
   "source": [
    "A.symmetric_difference_update(B)"
   ]
  },
  {
   "cell_type": "code",
   "execution_count": 113,
   "id": "cfda9baf-e68f-4a83-bc43-2ad7ad99ac0c",
   "metadata": {},
   "outputs": [
    {
     "name": "stdout",
     "output_type": "stream",
     "text": [
      "{1, 2, 3, 6, 7, 8} {4, 5, 6, 7, 8}\n"
     ]
    }
   ],
   "source": [
    "print( A, B)"
   ]
  },
  {
   "cell_type": "code",
   "execution_count": 115,
   "id": "e3c6d0a3-bed1-4645-9d2b-4221cf507e9c",
   "metadata": {},
   "outputs": [
    {
     "data": {
      "text/plain": [
       "{1, 2, 3, 4, 5}"
      ]
     },
     "execution_count": 115,
     "metadata": {},
     "output_type": "execute_result"
    }
   ],
   "source": [
    "A = {1,2,3,4,5}\n",
    "A"
   ]
  },
  {
   "cell_type": "code",
   "execution_count": 117,
   "id": "01c4cb32-d097-43de-8001-5da288f140ab",
   "metadata": {},
   "outputs": [],
   "source": [
    "emp1 = {\"Name\" : \"Anish\", \"Phno\" : 8431764215, \"city\" : \"HYD\"}"
   ]
  },
  {
   "cell_type": "code",
   "execution_count": 119,
   "id": "49ec8b92-d7c4-4d1d-a69f-e964f69536f0",
   "metadata": {},
   "outputs": [],
   "source": [
    "emp2 = {\"Name\" : \"Kabiir\", \"Phno\" : 9393931717, \"city\" : \"DEL\"}"
   ]
  },
  {
   "cell_type": "code",
   "execution_count": 121,
   "id": "7d8d73ee-ea3c-4e18-baf0-63c97d48d092",
   "metadata": {},
   "outputs": [
    {
     "data": {
      "text/plain": [
       "{'Name': 'Anish', 'Phno': 8431764215, 'city': 'HYD'}"
      ]
     },
     "execution_count": 121,
     "metadata": {},
     "output_type": "execute_result"
    }
   ],
   "source": [
    "emp1"
   ]
  },
  {
   "cell_type": "code",
   "execution_count": 127,
   "id": "d25d0c91-e0ff-42a9-829a-248715c2a48d",
   "metadata": {},
   "outputs": [
    {
     "data": {
      "text/plain": [
       "dict_values(['Anish', 8431764215, 'HYD'])"
      ]
     },
     "execution_count": 127,
     "metadata": {},
     "output_type": "execute_result"
    }
   ],
   "source": [
    "emp1.values()"
   ]
  },
  {
   "cell_type": "code",
   "execution_count": 129,
   "id": "82a5e0da-e3b8-4fb3-83b1-7137f77dbd5d",
   "metadata": {},
   "outputs": [
    {
     "data": {
      "text/plain": [
       "'Anish'"
      ]
     },
     "execution_count": 129,
     "metadata": {},
     "output_type": "execute_result"
    }
   ],
   "source": [
    "emp1.get(\"Name\")"
   ]
  },
  {
   "cell_type": "code",
   "execution_count": 131,
   "id": "d90b2077-1d69-4d70-bb6a-a3576c2b1a29",
   "metadata": {},
   "outputs": [
    {
     "data": {
      "text/plain": [
       "dict_items([('Name', 'Anish'), ('Phno', 8431764215), ('city', 'HYD')])"
      ]
     },
     "execution_count": 131,
     "metadata": {},
     "output_type": "execute_result"
    }
   ],
   "source": [
    "emp1.items()"
   ]
  },
  {
   "cell_type": "code",
   "execution_count": 133,
   "id": "c29879d4-a8e5-470f-a1fc-7c2c3f910392",
   "metadata": {},
   "outputs": [
    {
     "data": {
      "text/plain": [
       "9393931717"
      ]
     },
     "execution_count": 133,
     "metadata": {},
     "output_type": "execute_result"
    }
   ],
   "source": [
    "emp2.pop(\"Phno\")"
   ]
  },
  {
   "cell_type": "code",
   "execution_count": 135,
   "id": "45616772-e2da-4018-ad53-63c77b0aa7a6",
   "metadata": {},
   "outputs": [
    {
     "data": {
      "text/plain": [
       "{'Name': 'Kabiir', 'city': 'DEL'}"
      ]
     },
     "execution_count": 135,
     "metadata": {},
     "output_type": "execute_result"
    }
   ],
   "source": [
    "emp2"
   ]
  },
  {
   "cell_type": "code",
   "execution_count": 139,
   "id": "7dbd6e84-09f7-45e5-85b6-b342e1848a46",
   "metadata": {},
   "outputs": [
    {
     "data": {
      "text/plain": [
       "('city', 'DEL')"
      ]
     },
     "execution_count": 139,
     "metadata": {},
     "output_type": "execute_result"
    }
   ],
   "source": [
    "emp2.popitem()"
   ]
  },
  {
   "cell_type": "code",
   "execution_count": 141,
   "id": "8f85336c-5cf8-4227-811c-aa148060e804",
   "metadata": {},
   "outputs": [
    {
     "data": {
      "text/plain": [
       "{'Name': 'Kabiir'}"
      ]
     },
     "execution_count": 141,
     "metadata": {},
     "output_type": "execute_result"
    }
   ],
   "source": [
    "emp2"
   ]
  },
  {
   "cell_type": "code",
   "execution_count": 143,
   "id": "7f8e909b-9e58-4fae-b49e-6f0366a9dd29",
   "metadata": {},
   "outputs": [],
   "source": [
    "mydict = {1:'one' , 2:'two' , 'A':['asif' , 'john' , 'Maria']} "
   ]
  },
  {
   "cell_type": "code",
   "execution_count": 145,
   "id": "21044655-b9ea-4997-a6eb-3e675fd0ecb6",
   "metadata": {},
   "outputs": [
    {
     "data": {
      "text/plain": [
       "dict_values(['one', 'two', ['asif', 'john', 'Maria']])"
      ]
     },
     "execution_count": 145,
     "metadata": {},
     "output_type": "execute_result"
    }
   ],
   "source": [
    "mydict.values()"
   ]
  },
  {
   "cell_type": "code",
   "execution_count": 147,
   "id": "1673303d-c3da-499e-b27a-ffc5208ada5c",
   "metadata": {},
   "outputs": [
    {
     "data": {
      "text/plain": [
       "['asif', 'john', 'Maria']"
      ]
     },
     "execution_count": 147,
     "metadata": {},
     "output_type": "execute_result"
    }
   ],
   "source": [
    "mydict.get(\"A\")\n"
   ]
  },
  {
   "cell_type": "code",
   "execution_count": 149,
   "id": "21f03acb-ed6d-4f5f-ab99-69ba37b4a929",
   "metadata": {},
   "outputs": [
    {
     "data": {
      "text/plain": [
       "{'d': None, 'a': None, 'b': None, 'c': None}"
      ]
     },
     "execution_count": 149,
     "metadata": {},
     "output_type": "execute_result"
    }
   ],
   "source": [
    "keys = {'a' , 'b' , 'c' , 'd'}\n",
    "mydict3 = dict.fromkeys(keys) # Create a dictionary from a sequence of keys\n",
    "mydict3"
   ]
  },
  {
   "cell_type": "code",
   "execution_count": 165,
   "id": "2338f48d-c9c2-4b36-9aeb-bad8d3c570fa",
   "metadata": {},
   "outputs": [],
   "source": [
    "del mydict2\n",
    "v = 1,2,3,4\n",
    "mydict2 = dict.fromkeys(keys,v)"
   ]
  },
  {
   "cell_type": "code",
   "execution_count": 167,
   "id": "d7f47fdc-707d-41c1-87ab-89d90ddc3482",
   "metadata": {},
   "outputs": [
    {
     "data": {
      "text/plain": [
       "{'d': (1, 2, 3, 4), 'a': (1, 2, 3, 4), 'b': (1, 2, 3, 4), 'c': (1, 2, 3, 4)}"
      ]
     },
     "execution_count": 167,
     "metadata": {},
     "output_type": "execute_result"
    }
   ],
   "source": [
    "mydict2"
   ]
  },
  {
   "cell_type": "code",
   "execution_count": 169,
   "id": "c30141c1-226e-46ef-b7ef-ddcbafec7b9b",
   "metadata": {},
   "outputs": [],
   "source": [
    "del mydict2"
   ]
  },
  {
   "cell_type": "code",
   "execution_count": 171,
   "id": "424edae9-ed20-4669-a85e-cb09a51cd14c",
   "metadata": {},
   "outputs": [],
   "source": [
    "v = 1,2,3,4\n",
    "mydict2 = dict.fromkeys(keys,v)"
   ]
  },
  {
   "cell_type": "code",
   "execution_count": 173,
   "id": "7677ec9d-1ce9-42ba-966a-1b0aaec9b7b7",
   "metadata": {},
   "outputs": [
    {
     "data": {
      "text/plain": [
       "{'d': (1, 2, 3, 4), 'a': (1, 2, 3, 4), 'b': (1, 2, 3, 4), 'c': (1, 2, 3, 4)}"
      ]
     },
     "execution_count": 173,
     "metadata": {},
     "output_type": "execute_result"
    }
   ],
   "source": [
    "mydict2"
   ]
  },
  {
   "cell_type": "code",
   "execution_count": 175,
   "id": "2e3c7116-e2db-4ff0-a344-cf777014516e",
   "metadata": {},
   "outputs": [],
   "source": [
    "mydict[\"d\"] = 12"
   ]
  },
  {
   "cell_type": "code",
   "execution_count": 177,
   "id": "1a892744-3202-48cd-82e1-46ce12c164b8",
   "metadata": {},
   "outputs": [
    {
     "data": {
      "text/plain": [
       "{1: 'one', 2: 'two', 'A': ['asif', 'john', 'Maria'], 'd': 12}"
      ]
     },
     "execution_count": 177,
     "metadata": {},
     "output_type": "execute_result"
    }
   ],
   "source": [
    "mydict"
   ]
  },
  {
   "cell_type": "code",
   "execution_count": 179,
   "id": "84babc02-cbc9-4c4c-a917-fa44e831faf6",
   "metadata": {},
   "outputs": [
    {
     "data": {
      "text/plain": [
       "{'d': 12, 'a': (1, 2, 3, 4), 'b': (1, 2, 3, 4), 'c': (1, 2, 3, 4)}"
      ]
     },
     "execution_count": 179,
     "metadata": {},
     "output_type": "execute_result"
    }
   ],
   "source": [
    "mydict2[\"d\"] = 12\n",
    "mydict2"
   ]
  },
  {
   "cell_type": "code",
   "execution_count": 182,
   "id": "7f53e05b-f46a-4262-89ea-a587cecb9dae",
   "metadata": {},
   "outputs": [
    {
     "ename": "NameError",
     "evalue": "name 'dict2' is not defined",
     "output_type": "error",
     "traceback": [
      "\u001b[1;31m---------------------------------------------------------------------------\u001b[0m",
      "\u001b[1;31mNameError\u001b[0m                                 Traceback (most recent call last)",
      "Cell \u001b[1;32mIn[182], line 1\u001b[0m\n\u001b[1;32m----> 1\u001b[0m dict2[\u001b[38;5;241m2\u001b[39m] \u001b[38;5;241m=\u001b[39m \u001b[38;5;124m\"\u001b[39m\u001b[38;5;124mhima\u001b[39m\u001b[38;5;124m\"\u001b[39m\n",
      "\u001b[1;31mNameError\u001b[0m: name 'dict2' is not defined"
     ]
    }
   ],
   "source": [
    "dict2[2] = \"hima\""
   ]
  },
  {
   "cell_type": "code",
   "execution_count": null,
   "id": "4457083e-4f07-41c9-9ef6-e3e2151cf67c",
   "metadata": {},
   "outputs": [],
   "source": [
    "dict"
   ]
  }
 ],
 "metadata": {
  "kernelspec": {
   "display_name": "Python [conda env:base] *",
   "language": "python",
   "name": "conda-base-py"
  },
  "language_info": {
   "codemirror_mode": {
    "name": "ipython",
    "version": 3
   },
   "file_extension": ".py",
   "mimetype": "text/x-python",
   "name": "python",
   "nbconvert_exporter": "python",
   "pygments_lexer": "ipython3",
   "version": "3.12.7"
  }
 },
 "nbformat": 4,
 "nbformat_minor": 5
}
