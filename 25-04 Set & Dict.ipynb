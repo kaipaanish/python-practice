{
 "cells": [
  {
   "cell_type": "code",
   "execution_count": 1,
   "id": "c418d61b-050f-4d32-8f7d-59cd348e048a",
   "metadata": {},
   "outputs": [],
   "source": [
    "a = {1,2,3,4,5}\n",
    "b = {4,5,6,7,8}\n",
    "c = {4,5,6,7,8,9,10}"
   ]
  },
  {
   "cell_type": "code",
   "execution_count": 2,
   "id": "1660dcc4-55f9-4fa5-8091-a8836cb25d1c",
   "metadata": {},
   "outputs": [
    {
     "data": {
      "text/plain": [
       "{1, 2, 3}"
      ]
     },
     "execution_count": 2,
     "metadata": {},
     "output_type": "execute_result"
    }
   ],
   "source": [
    "a.difference(b)"
   ]
  },
  {
   "cell_type": "code",
   "execution_count": 3,
   "id": "b37f1702-86ff-489a-bdaf-a72e92c22256",
   "metadata": {},
   "outputs": [
    {
     "data": {
      "text/plain": [
       "{1, 2, 3, 6, 7, 8}"
      ]
     },
     "execution_count": 3,
     "metadata": {},
     "output_type": "execute_result"
    }
   ],
   "source": [
    "a.symmetric_difference(b) # will print all the non common elements"
   ]
  },
  {
   "cell_type": "code",
   "execution_count": 4,
   "id": "d31ecb28-b86d-4862-bfdd-8aee38da03d8",
   "metadata": {},
   "outputs": [],
   "source": [
    "# .remove(x) it will show error if the element is present in the string\n",
    "# but if u use .discard() it wont show error but it will run the code the symbol used is ^"
   ]
  },
  {
   "cell_type": "code",
   "execution_count": 5,
   "id": "02d02eae-9aa2-4bb7-9964-7ec1d119762d",
   "metadata": {},
   "outputs": [],
   "source": [
    "#try that in 24-04 calss code\n"
   ]
  },
  {
   "cell_type": "markdown",
   "id": "ab663482-58ec-47c0-a083-d38e645c9838",
   "metadata": {},
   "source": [
    "# superset ,subset , disjoint"
   ]
  },
  {
   "cell_type": "code",
   "execution_count": 7,
   "id": "a1bdc323-d094-4d4c-ba35-029a3a7a6b23",
   "metadata": {},
   "outputs": [],
   "source": [
    "a2 = {1,2,3,4,5,6,7,8,9}\n",
    "b2 = {3,4,5,6,7,8}\n",
    "c2 = {10,20,30,40}"
   ]
  },
  {
   "cell_type": "code",
   "execution_count": 8,
   "id": "d31f1726-d300-4754-a722-391c4d81df30",
   "metadata": {},
   "outputs": [
    {
     "data": {
      "text/plain": [
       "True"
      ]
     },
     "execution_count": 8,
     "metadata": {},
     "output_type": "execute_result"
    }
   ],
   "source": [
    "a2.issuperset(b2)\n"
   ]
  },
  {
   "cell_type": "code",
   "execution_count": 9,
   "id": "4bbc0ed3-928e-465b-8135-1b9d97982009",
   "metadata": {},
   "outputs": [
    {
     "data": {
      "text/plain": [
       "True"
      ]
     },
     "execution_count": 9,
     "metadata": {},
     "output_type": "execute_result"
    }
   ],
   "source": [
    "b2.issubset(a2)\n"
   ]
  },
  {
   "cell_type": "code",
   "execution_count": 10,
   "id": "bf2d7e5a-378c-4f3a-9c28-e18d797f479e",
   "metadata": {},
   "outputs": [
    {
     "data": {
      "text/plain": [
       "True"
      ]
     },
     "execution_count": 10,
     "metadata": {},
     "output_type": "execute_result"
    }
   ],
   "source": [
    "a2.isdisjoint(c2)"
   ]
  },
  {
   "cell_type": "code",
   "execution_count": 11,
   "id": "8130066d-22a1-4a18-8ca8-7280fb4e5bca",
   "metadata": {},
   "outputs": [
    {
     "data": {
      "text/plain": [
       "True"
      ]
     },
     "execution_count": 11,
     "metadata": {},
     "output_type": "execute_result"
    }
   ],
   "source": [
    "c2.isdisjoint(a2)\n"
   ]
  },
  {
   "cell_type": "code",
   "execution_count": 12,
   "id": "ac97342c-67f5-4d25-ba53-51e74131e032",
   "metadata": {},
   "outputs": [
    {
     "data": {
      "text/plain": [
       "{1, 2, 3, 4, 5, 6, 7, 8, 9}"
      ]
     },
     "execution_count": 12,
     "metadata": {},
     "output_type": "execute_result"
    }
   ],
   "source": [
    "a2"
   ]
  },
  {
   "cell_type": "markdown",
   "id": "60f6c9b4-93e1-4fbb-b371-fef69f0d9c35",
   "metadata": {},
   "source": [
    "# dictionary"
   ]
  },
  {
   "cell_type": "code",
   "execution_count": 14,
   "id": "35a01911-39be-423a-82a5-6a949508322a",
   "metadata": {},
   "outputs": [
    {
     "data": {
      "text/plain": [
       "dict"
      ]
     },
     "execution_count": 14,
     "metadata": {},
     "output_type": "execute_result"
    }
   ],
   "source": [
    "d = {}\n",
    "type(d)\n"
   ]
  },
  {
   "cell_type": "code",
   "execution_count": 15,
   "id": "3e624042-faf8-47a7-b5d0-1b900227badd",
   "metadata": {},
   "outputs": [],
   "source": [
    "d = { 1 : \"one\",  2 : \"two\", 3 :\"three\" , 4 : \"four\"}"
   ]
  },
  {
   "cell_type": "code",
   "execution_count": 16,
   "id": "7c4dc21d-dbd6-409d-8224-5eea78e17567",
   "metadata": {},
   "outputs": [
    {
     "data": {
      "text/plain": [
       "{1: 'one', 2: 'two', 3: 'three', 4: 'four'}"
      ]
     },
     "execution_count": 16,
     "metadata": {},
     "output_type": "execute_result"
    }
   ],
   "source": [
    "d\n"
   ]
  },
  {
   "cell_type": "code",
   "execution_count": 17,
   "id": "ee1b3c56-84bd-4767-92c4-56d4f7a4021b",
   "metadata": {},
   "outputs": [
    {
     "data": {
      "text/plain": [
       "dict_keys([1, 2, 3, 4])"
      ]
     },
     "execution_count": 17,
     "metadata": {},
     "output_type": "execute_result"
    }
   ],
   "source": [
    "d.keys()"
   ]
  },
  {
   "cell_type": "code",
   "execution_count": 18,
   "id": "33549cda-96c8-43a0-8637-eb3f44844dfe",
   "metadata": {},
   "outputs": [
    {
     "data": {
      "text/plain": [
       "dict_values(['one', 'two', 'three', 'four'])"
      ]
     },
     "execution_count": 18,
     "metadata": {},
     "output_type": "execute_result"
    }
   ],
   "source": [
    "d.values()"
   ]
  },
  {
   "cell_type": "code",
   "execution_count": 19,
   "id": "4168f25b-7689-4f46-bd0a-31910aa395d9",
   "metadata": {},
   "outputs": [
    {
     "data": {
      "text/plain": [
       "dict_items([(1, 'one'), (2, 'two'), (3, 'three'), (4, 'four')])"
      ]
     },
     "execution_count": 19,
     "metadata": {},
     "output_type": "execute_result"
    }
   ],
   "source": [
    "d.items()"
   ]
  },
  {
   "cell_type": "code",
   "execution_count": 20,
   "id": "cbf6f261-c2e8-496a-96d0-7aba4bab669c",
   "metadata": {},
   "outputs": [
    {
     "data": {
      "text/plain": [
       "4"
      ]
     },
     "execution_count": 20,
     "metadata": {},
     "output_type": "execute_result"
    }
   ],
   "source": [
    "len(d)"
   ]
  },
  {
   "cell_type": "code",
   "execution_count": 21,
   "id": "1abe2256-07aa-47ba-87ac-d2de60fce736",
   "metadata": {},
   "outputs": [
    {
     "data": {
      "text/plain": [
       "'one'"
      ]
     },
     "execution_count": 21,
     "metadata": {},
     "output_type": "execute_result"
    }
   ],
   "source": [
    "d[1]"
   ]
  },
  {
   "cell_type": "code",
   "execution_count": 22,
   "id": "a27d95e7-a9f5-46a0-b0ab-82dbbe55c2b5",
   "metadata": {},
   "outputs": [
    {
     "data": {
      "text/plain": [
       "'four'"
      ]
     },
     "execution_count": 22,
     "metadata": {},
     "output_type": "execute_result"
    }
   ],
   "source": [
    "d[4]"
   ]
  },
  {
   "cell_type": "code",
   "execution_count": 23,
   "id": "a2071097-8370-4cd8-8fdd-35d1c551f1a6",
   "metadata": {},
   "outputs": [
    {
     "data": {
      "text/plain": [
       "'not found'"
      ]
     },
     "execution_count": 23,
     "metadata": {},
     "output_type": "execute_result"
    }
   ],
   "source": [
    "d.get(10, \"not found\")"
   ]
  },
  {
   "cell_type": "code",
   "execution_count": 24,
   "id": "af2fc30a-2e41-4668-b2d6-48246aee9038",
   "metadata": {},
   "outputs": [],
   "source": [
    "d.get(\"one\")\n"
   ]
  },
  {
   "cell_type": "code",
   "execution_count": 25,
   "id": "276dd32c-d449-404a-9aea-026b849df3aa",
   "metadata": {},
   "outputs": [],
   "source": [
    "d1 = d.copy()"
   ]
  },
  {
   "cell_type": "code",
   "execution_count": 26,
   "id": "327c2a36-5dc7-46b9-906f-8629de1f805f",
   "metadata": {},
   "outputs": [
    {
     "data": {
      "text/plain": [
       "{1: 'one', 2: 'two', 3: 'three', 4: 'four'}"
      ]
     },
     "execution_count": 26,
     "metadata": {},
     "output_type": "execute_result"
    }
   ],
   "source": [
    "d1"
   ]
  },
  {
   "cell_type": "code",
   "execution_count": 27,
   "id": "70470cdd-b24b-4475-97d9-2b9574c4f091",
   "metadata": {},
   "outputs": [
    {
     "data": {
      "text/plain": [
       "'one'"
      ]
     },
     "execution_count": 27,
     "metadata": {},
     "output_type": "execute_result"
    }
   ],
   "source": [
    "d1.pop(1)"
   ]
  },
  {
   "cell_type": "code",
   "execution_count": 28,
   "id": "044a2627-e2bb-489c-bbe9-d54b7ae06d82",
   "metadata": {},
   "outputs": [
    {
     "data": {
      "text/plain": [
       "{2: 'two', 3: 'three', 4: 'four'}"
      ]
     },
     "execution_count": 28,
     "metadata": {},
     "output_type": "execute_result"
    }
   ],
   "source": [
    "d1"
   ]
  },
  {
   "cell_type": "code",
   "execution_count": 29,
   "id": "92fb4d11-e42a-4968-b8d5-7c4b10bdc16e",
   "metadata": {},
   "outputs": [
    {
     "data": {
      "text/plain": [
       "(4, 'four')"
      ]
     },
     "execution_count": 29,
     "metadata": {},
     "output_type": "execute_result"
    }
   ],
   "source": [
    "d1.popitem()"
   ]
  },
  {
   "cell_type": "code",
   "execution_count": 30,
   "id": "37de7bbf-6305-42e3-95f8-573af59c8140",
   "metadata": {},
   "outputs": [
    {
     "data": {
      "text/plain": [
       "{1: 'one', 2: 'two', 3: 'three', 4: 'four'}"
      ]
     },
     "execution_count": 30,
     "metadata": {},
     "output_type": "execute_result"
    }
   ],
   "source": [
    "d"
   ]
  },
  {
   "cell_type": "code",
   "execution_count": 31,
   "id": "d840ce8b-f7f9-4bf1-9ac7-851b091719ce",
   "metadata": {},
   "outputs": [
    {
     "name": "stdout",
     "output_type": "stream",
     "text": [
      "1\n",
      "2\n",
      "3\n",
      "4\n"
     ]
    }
   ],
   "source": [
    "for i in d:\n",
    "    print(i)"
   ]
  },
  {
   "cell_type": "code",
   "execution_count": 32,
   "id": "d057c453-87b6-4105-8e21-87f21a818e7d",
   "metadata": {},
   "outputs": [
    {
     "name": "stdout",
     "output_type": "stream",
     "text": [
      "1  :  {1: 'one', 2: 'two', 3: 'three', 4: 'four'}\n",
      "2  :  {1: 'one', 2: 'two', 3: 'three', 4: 'four'}\n",
      "3  :  {1: 'one', 2: 'two', 3: 'three', 4: 'four'}\n",
      "4  :  {1: 'one', 2: 'two', 3: 'three', 4: 'four'}\n"
     ]
    }
   ],
   "source": [
    "for i  in d :\n",
    "    print(i, \" : \" , d)"
   ]
  },
  {
   "cell_type": "code",
   "execution_count": 33,
   "id": "2e9b2e3a-ebda-4cb0-a617-f5d359716102",
   "metadata": {},
   "outputs": [
    {
     "name": "stdout",
     "output_type": "stream",
     "text": [
      "{1: 'one', 2: 'two', 3: 'three', 4: 'four'}\n",
      "{1: 'one', 2: 'two', 3: 'three', 4: 'four'}\n",
      "{1: 'one', 2: 'two', 3: 'three', 4: 'four'}\n",
      "{1: 'one', 2: 'two', 3: 'three', 4: 'four'}\n"
     ]
    }
   ],
   "source": [
    "for i in d:\n",
    "    print(d)"
   ]
  },
  {
   "cell_type": "markdown",
   "id": "d73cb1ca-e011-4d19-a3c9-a60cfa1a20fe",
   "metadata": {},
   "source": [
    "# Range"
   ]
  },
  {
   "cell_type": "code",
   "execution_count": 35,
   "id": "cae4298e-e9b8-4243-b6ab-c1fccc827332",
   "metadata": {},
   "outputs": [
    {
     "data": {
      "text/plain": [
       "range(0, 10)"
      ]
     },
     "execution_count": 35,
     "metadata": {},
     "output_type": "execute_result"
    }
   ],
   "source": [
    "range(10)\n"
   ]
  },
  {
   "cell_type": "code",
   "execution_count": 36,
   "id": "dc2fef7e-7d6b-4a83-b45e-2cbdb4907bd5",
   "metadata": {},
   "outputs": [],
   "source": [
    "r = range(10)"
   ]
  },
  {
   "cell_type": "code",
   "execution_count": 37,
   "id": "6000fe04-d2dc-49fc-999d-6e4f3e5d4cd3",
   "metadata": {},
   "outputs": [
    {
     "data": {
      "text/plain": [
       "range(0, 10)"
      ]
     },
     "execution_count": 37,
     "metadata": {},
     "output_type": "execute_result"
    }
   ],
   "source": [
    "r"
   ]
  },
  {
   "cell_type": "code",
   "execution_count": 38,
   "id": "5ffae53f-c9b4-4a9f-9566-6c434d4098f1",
   "metadata": {},
   "outputs": [
    {
     "name": "stdout",
     "output_type": "stream",
     "text": [
      "0\n",
      "1\n",
      "2\n",
      "3\n",
      "4\n",
      "5\n",
      "6\n",
      "7\n",
      "8\n",
      "9\n"
     ]
    }
   ],
   "source": [
    "for i in r:\n",
    "    print(i)"
   ]
  },
  {
   "cell_type": "code",
   "execution_count": 39,
   "id": "4ae363ff-5737-4de1-9dc5-8856525b60d3",
   "metadata": {},
   "outputs": [],
   "source": [
    "l = [r]"
   ]
  },
  {
   "cell_type": "code",
   "execution_count": 40,
   "id": "29d6beef-dd45-445e-b728-0ba0dc5b7eee",
   "metadata": {},
   "outputs": [
    {
     "data": {
      "text/plain": [
       "range(0, 10)"
      ]
     },
     "execution_count": 40,
     "metadata": {},
     "output_type": "execute_result"
    }
   ],
   "source": [
    "r"
   ]
  },
  {
   "cell_type": "code",
   "execution_count": 41,
   "id": "0699e3d4-0f3c-42d3-a223-6d3d1afc265e",
   "metadata": {},
   "outputs": [
    {
     "name": "stdout",
     "output_type": "stream",
     "text": [
      "range(0, 10)\n"
     ]
    }
   ],
   "source": [
    "for i in l:\n",
    "    print(i)"
   ]
  },
  {
   "cell_type": "code",
   "execution_count": 42,
   "id": "6a6b06f7-e5ec-49b4-b728-57563a0d2015",
   "metadata": {},
   "outputs": [
    {
     "data": {
      "text/plain": [
       "[range(0, 10)]"
      ]
     },
     "execution_count": 42,
     "metadata": {},
     "output_type": "execute_result"
    }
   ],
   "source": [
    "list(l)"
   ]
  },
  {
   "cell_type": "code",
   "execution_count": 43,
   "id": "13f6e41a-3a8a-4827-ae77-5b37bc5d0ec6",
   "metadata": {},
   "outputs": [
    {
     "data": {
      "text/plain": [
       "[20, 21, 22, 23, 24, 25, 26, 27, 28, 29]"
      ]
     },
     "execution_count": 43,
     "metadata": {},
     "output_type": "execute_result"
    }
   ],
   "source": [
    "list(range(20,30))"
   ]
  },
  {
   "cell_type": "code",
   "execution_count": 44,
   "id": "6cb5e584-6785-4a5b-8342-df82792b2d30",
   "metadata": {},
   "outputs": [],
   "source": [
    "l2 = list(range(10,100,10))"
   ]
  },
  {
   "cell_type": "code",
   "execution_count": 45,
   "id": "9801ddb9-adc8-428e-9ca6-16069d550058",
   "metadata": {},
   "outputs": [
    {
     "data": {
      "text/plain": [
       "[10, 20, 30, 40, 50, 60, 70, 80, 90]"
      ]
     },
     "execution_count": 45,
     "metadata": {},
     "output_type": "execute_result"
    }
   ],
   "source": [
    "l2"
   ]
  },
  {
   "cell_type": "code",
   "execution_count": 91,
   "id": "663b018e-a06f-47b9-9958-991ae9f15c12",
   "metadata": {},
   "outputs": [],
   "source": [
    "d1[3]  = \"HIMA\"\n",
    "d1."
   ]
  },
  {
   "cell_type": "code",
   "execution_count": 95,
   "id": "ff57fe24-f49d-44ac-bab4-0207fa9de0b2",
   "metadata": {},
   "outputs": [
    {
     "data": {
      "text/plain": [
       "{2: 'two', 3: 'HIMA'}"
      ]
     },
     "execution_count": 95,
     "metadata": {},
     "output_type": "execute_result"
    }
   ],
   "source": [
    "d1"
   ]
  },
  {
   "cell_type": "code",
   "execution_count": null,
   "id": "8e2baa2a-cd7b-4d13-a492-567cf66c12ec",
   "metadata": {},
   "outputs": [],
   "source": []
  }
 ],
 "metadata": {
  "kernelspec": {
   "display_name": "Python [conda env:base] *",
   "language": "python",
   "name": "conda-base-py"
  },
  "language_info": {
   "codemirror_mode": {
    "name": "ipython",
    "version": 3
   },
   "file_extension": ".py",
   "mimetype": "text/x-python",
   "name": "python",
   "nbconvert_exporter": "python",
   "pygments_lexer": "ipython3",
   "version": "3.12.7"
  }
 },
 "nbformat": 4,
 "nbformat_minor": 5
}
