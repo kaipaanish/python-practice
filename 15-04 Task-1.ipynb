{
 "cells": [
  {
   "cell_type": "code",
   "execution_count": 2,
   "id": "ea43b878-5546-4c32-8d9c-bd5c418f9ddf",
   "metadata": {},
   "outputs": [
    {
     "name": "stdout",
     "output_type": "stream",
     "text": [
      "25\n"
     ]
    }
   ],
   "source": [
    "age = 25\n",
    "print(age)"
   ]
  },
  {
   "cell_type": "code",
   "execution_count": 6,
   "id": "e345cd9f-48c3-4473-9efa-2a7c7604803b",
   "metadata": {},
   "outputs": [
    {
     "name": "stdout",
     "output_type": "stream",
     "text": [
      "Anish\n"
     ]
    }
   ],
   "source": [
    "name = \"Anish\"\n",
    "print(name)"
   ]
  },
  {
   "cell_type": "code",
   "execution_count": 8,
   "id": "c4aaedc1-a829-4ca3-8963-817592bdf8f9",
   "metadata": {},
   "outputs": [
    {
     "name": "stdout",
     "output_type": "stream",
     "text": [
      "69.69\n"
     ]
    }
   ],
   "source": [
    "price = 69.69\n",
    "print(price)\n"
   ]
  },
  {
   "cell_type": "code",
   "execution_count": 12,
   "id": "20c0a270-67ef-4b10-b44f-7c9a5ef7ea8c",
   "metadata": {},
   "outputs": [
    {
     "name": "stdout",
     "output_type": "stream",
     "text": [
      "True\n"
     ]
    }
   ],
   "source": [
    "is_active = True\n",
    "print(is_active)"
   ]
  },
  {
   "cell_type": "code",
   "execution_count": 14,
   "id": "01ba15b4-887c-42d1-985e-af61a1efdcf7",
   "metadata": {},
   "outputs": [],
   "source": [
    "a = 2\n",
    "b = 3"
   ]
  },
  {
   "cell_type": "code",
   "execution_count": 22,
   "id": "98ae0050-c849-4cfa-b6ed-35ee06cc4a41",
   "metadata": {},
   "outputs": [
    {
     "name": "stdout",
     "output_type": "stream",
     "text": [
      "the sum of a,b is 5\n"
     ]
    }
   ],
   "source": [
    "result = a + b\n",
    "print(\"the sum of a,b is %d\" %result)\n"
   ]
  },
  {
   "cell_type": "code",
   "execution_count": 24,
   "id": "6f981bc4-7698-4960-a96f-97b8c81061a7",
   "metadata": {},
   "outputs": [],
   "source": [
    "first_name = \"Kaipa\"\n",
    "last_name = \"Anish\"\n"
   ]
  },
  {
   "cell_type": "code",
   "execution_count": 32,
   "id": "17038fc4-d867-4564-aaa2-e83b7e39780d",
   "metadata": {},
   "outputs": [
    {
     "name": "stdout",
     "output_type": "stream",
     "text": [
      "The full name is Kaipa Anish\n"
     ]
    }
   ],
   "source": [
    "Full_name = first_name + \" \" +last_name\n",
    "print(\"The full name is %s\" %Full_name)"
   ]
  },
  {
   "cell_type": "code",
   "execution_count": 34,
   "id": "8b8adb5c-c68f-4f73-a8bd-3f70f7801a4e",
   "metadata": {},
   "outputs": [],
   "source": [
    "L = 10\n",
    "B = 5.5\n",
    "area = L * B"
   ]
  },
  {
   "cell_type": "code",
   "execution_count": 36,
   "id": "3924a6a3-63b4-4f98-963b-09dcb706831f",
   "metadata": {},
   "outputs": [
    {
     "name": "stdout",
     "output_type": "stream",
     "text": [
      "the area of the rectangel is 55.0\n"
     ]
    }
   ],
   "source": [
    "print(\"the area of the rectangel is %s\" %area)"
   ]
  },
  {
   "cell_type": "code",
   "execution_count": null,
   "id": "a5ccd7a2-7560-41cf-8c5f-9b3c429a7fbd",
   "metadata": {},
   "outputs": [],
   "source": []
  }
 ],
 "metadata": {
  "kernelspec": {
   "display_name": "Python [conda env:base] *",
   "language": "python",
   "name": "conda-base-py"
  },
  "language_info": {
   "codemirror_mode": {
    "name": "ipython",
    "version": 3
   },
   "file_extension": ".py",
   "mimetype": "text/x-python",
   "name": "python",
   "nbconvert_exporter": "python",
   "pygments_lexer": "ipython3",
   "version": "3.12.7"
  }
 },
 "nbformat": 4,
 "nbformat_minor": 5
}
