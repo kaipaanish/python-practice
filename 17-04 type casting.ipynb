{
 "cells": [
  {
   "cell_type": "code",
   "execution_count": 2,
   "id": "d1033c25-c220-47eb-9846-35ee81741c4d",
   "metadata": {},
   "outputs": [
    {
     "data": {
      "text/plain": [
       "True"
      ]
     },
     "execution_count": 2,
     "metadata": {},
     "output_type": "execute_result"
    }
   ],
   "source": [
    "True"
   ]
  },
  {
   "cell_type": "code",
   "execution_count": 4,
   "id": "45bc1dd8-b46b-4a01-bb12-76f78526c293",
   "metadata": {},
   "outputs": [
    {
     "data": {
      "text/plain": [
       "False"
      ]
     },
     "execution_count": 4,
     "metadata": {},
     "output_type": "execute_result"
    }
   ],
   "source": [
    "False"
   ]
  },
  {
   "cell_type": "code",
   "execution_count": 10,
   "id": "1bb4a19d-26dc-4aa8-a095-7bede337129e",
   "metadata": {},
   "outputs": [],
   "source": [
    "b =  True\n",
    "c = False"
   ]
  },
  {
   "cell_type": "code",
   "execution_count": 12,
   "id": "dc7dbefc-4387-4514-86d0-95cecb45f3dc",
   "metadata": {},
   "outputs": [
    {
     "data": {
      "text/plain": [
       "(True, False)"
      ]
     },
     "execution_count": 12,
     "metadata": {},
     "output_type": "execute_result"
    }
   ],
   "source": [
    "b,c\n"
   ]
  },
  {
   "cell_type": "code",
   "execution_count": 14,
   "id": "3e3fab50-b8cd-4bf4-b84c-a9bb29c050da",
   "metadata": {},
   "outputs": [
    {
     "data": {
      "text/plain": [
       "1"
      ]
     },
     "execution_count": 14,
     "metadata": {},
     "output_type": "execute_result"
    }
   ],
   "source": [
    "b+c"
   ]
  },
  {
   "cell_type": "code",
   "execution_count": 20,
   "id": "0567f628-1f35-452b-bbcf-6b421003105f",
   "metadata": {},
   "outputs": [
    {
     "data": {
      "text/plain": [
       "0.0"
      ]
     },
     "execution_count": 20,
     "metadata": {},
     "output_type": "execute_result"
    }
   ],
   "source": [
    "c/b"
   ]
  },
  {
   "cell_type": "code",
   "execution_count": 22,
   "id": "753c8a50-47d8-4604-a172-f6b89e1cf153",
   "metadata": {},
   "outputs": [
    {
     "ename": "ZeroDivisionError",
     "evalue": "division by zero",
     "output_type": "error",
     "traceback": [
      "\u001b[1;31m---------------------------------------------------------------------------\u001b[0m",
      "\u001b[1;31mZeroDivisionError\u001b[0m                         Traceback (most recent call last)",
      "Cell \u001b[1;32mIn[22], line 1\u001b[0m\n\u001b[1;32m----> 1\u001b[0m b\u001b[38;5;241m/\u001b[39mc\n",
      "\u001b[1;31mZeroDivisionError\u001b[0m: division by zero"
     ]
    }
   ],
   "source": [
    "b/c\n"
   ]
  },
  {
   "cell_type": "raw",
   "id": "6076f954-c78f-4961-8f24-ca7ef7f2c9d2",
   "metadata": {},
   "source": [
    "complex number\n",
    "a + bj\n",
    "\n",
    "a is a real number\n",
    "b is the ima\n",
    "j in square root of -1"
   ]
  },
  {
   "cell_type": "code",
   "execution_count": 41,
   "id": "3dd7882d-9e3d-48ed-953a-82c33d91e96a",
   "metadata": {},
   "outputs": [
    {
     "name": "stdout",
     "output_type": "stream",
     "text": [
      "(23+27j)\n"
     ]
    },
    {
     "data": {
      "text/plain": [
       "complex"
      ]
     },
     "execution_count": 41,
     "metadata": {},
     "output_type": "execute_result"
    }
   ],
   "source": [
    "d = 10 + 9j\n",
    "d1 = 13 + 18j\n",
    "result = d1 +d\n",
    "print(result)\n",
    "type(d)"
   ]
  },
  {
   "cell_type": "code",
   "execution_count": 43,
   "id": "80f9a35a-44e3-4490-9cdf-ba1b0192898d",
   "metadata": {},
   "outputs": [
    {
     "data": {
      "text/plain": [
       "10.0"
      ]
     },
     "execution_count": 43,
     "metadata": {},
     "output_type": "execute_result"
    }
   ],
   "source": [
    "d.real "
   ]
  },
  {
   "cell_type": "code",
   "execution_count": 45,
   "id": "8aed45b5-1415-49ea-8412-601d75bac719",
   "metadata": {},
   "outputs": [
    {
     "data": {
      "text/plain": [
       "9.0"
      ]
     },
     "execution_count": 45,
     "metadata": {},
     "output_type": "execute_result"
    }
   ],
   "source": [
    "d.imag"
   ]
  },
  {
   "cell_type": "code",
   "execution_count": 59,
   "id": "759097d4-6954-400e-8987-08bbd946aaaa",
   "metadata": {},
   "outputs": [
    {
     "data": {
      "text/plain": [
       "3"
      ]
     },
     "execution_count": 59,
     "metadata": {},
     "output_type": "execute_result"
    }
   ],
   "source": [
    "int(3.14)  # coneverts int to float\n",
    "\n",
    "# type casting only accepts one argumrent"
   ]
  },
  {
   "cell_type": "code",
   "execution_count": 61,
   "id": "70f79d82-db31-4de1-9e14-1251b4bb6e25",
   "metadata": {},
   "outputs": [
    {
     "data": {
      "text/plain": [
       "1"
      ]
     },
     "execution_count": 61,
     "metadata": {},
     "output_type": "execute_result"
    }
   ],
   "source": [
    "float(1)\n",
    "int(True)"
   ]
  },
  {
   "cell_type": "code",
   "execution_count": 63,
   "id": "d8a3432d-1e3a-491c-acd8-5803aad6152f",
   "metadata": {},
   "outputs": [
    {
     "ename": "TypeError",
     "evalue": "int() argument must be a string, a bytes-like object or a real number, not 'complex'",
     "output_type": "error",
     "traceback": [
      "\u001b[1;31m---------------------------------------------------------------------------\u001b[0m",
      "\u001b[1;31mTypeError\u001b[0m                                 Traceback (most recent call last)",
      "Cell \u001b[1;32mIn[63], line 1\u001b[0m\n\u001b[1;32m----> 1\u001b[0m \u001b[38;5;28mint\u001b[39m(\u001b[38;5;241m3\u001b[39m \u001b[38;5;241m+\u001b[39m\u001b[38;5;241m7\u001b[39mj)\n",
      "\u001b[1;31mTypeError\u001b[0m: int() argument must be a string, a bytes-like object or a real number, not 'complex'"
     ]
    }
   ],
   "source": [
    "int(3 +7j)"
   ]
  },
  {
   "cell_type": "code",
   "execution_count": 65,
   "id": "91bd9a4e-7ed3-4f16-a314-7ff9b27e7a59",
   "metadata": {},
   "outputs": [
    {
     "ename": "ValueError",
     "evalue": "invalid literal for int() with base 10: 'ten'",
     "output_type": "error",
     "traceback": [
      "\u001b[1;31m---------------------------------------------------------------------------\u001b[0m",
      "\u001b[1;31mValueError\u001b[0m                                Traceback (most recent call last)",
      "Cell \u001b[1;32mIn[65], line 1\u001b[0m\n\u001b[1;32m----> 1\u001b[0m \u001b[38;5;28mint\u001b[39m(\u001b[38;5;124m\"\u001b[39m\u001b[38;5;124mten\u001b[39m\u001b[38;5;124m\"\u001b[39m)\n",
      "\u001b[1;31mValueError\u001b[0m: invalid literal for int() with base 10: 'ten'"
     ]
    }
   ],
   "source": [
    "int(\"ten\")"
   ]
  },
  {
   "cell_type": "code",
   "execution_count": null,
   "id": "b24d88f4-2158-443e-9cd7-6acaef8cc156",
   "metadata": {},
   "outputs": [],
   "source": []
  }
 ],
 "metadata": {
  "kernelspec": {
   "display_name": "Python [conda env:base] *",
   "language": "python",
   "name": "conda-base-py"
  },
  "language_info": {
   "codemirror_mode": {
    "name": "ipython",
    "version": 3
   },
   "file_extension": ".py",
   "mimetype": "text/x-python",
   "name": "python",
   "nbconvert_exporter": "python",
   "pygments_lexer": "ipython3",
   "version": "3.12.7"
  }
 },
 "nbformat": 4,
 "nbformat_minor": 5
}
