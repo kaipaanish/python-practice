{
 "cells": [
  {
   "cell_type": "code",
   "execution_count": 6,
   "id": "caf07654-3178-4eef-a3eb-3f9eff8126fc",
   "metadata": {},
   "outputs": [],
   "source": [
    "s = \"Kaipa Anish Reddy\"\n"
   ]
  },
  {
   "cell_type": "code",
   "execution_count": 8,
   "id": "44b9b1b1-f3af-4298-967c-a716d8c1904b",
   "metadata": {},
   "outputs": [
    {
     "name": "stdout",
     "output_type": "stream",
     "text": [
      "17\n"
     ]
    }
   ],
   "source": [
    "print (len(s))"
   ]
  },
  {
   "cell_type": "code",
   "execution_count": 10,
   "id": "668e645e-a380-40b3-b2b9-56251bef0d5d",
   "metadata": {},
   "outputs": [
    {
     "name": "stdout",
     "output_type": "stream",
     "text": [
      "i\n"
     ]
    }
   ],
   "source": [
    "print(s[2])"
   ]
  },
  {
   "cell_type": "code",
   "execution_count": 14,
   "id": "84c580ec-6edb-4738-9fb5-31361f511e41",
   "metadata": {},
   "outputs": [
    {
     "name": "stdout",
     "output_type": "stream",
     "text": [
      "K\n",
      "a\n",
      "i\n",
      "p\n",
      "a\n",
      " \n",
      "A\n",
      "n\n",
      "i\n",
      "s\n",
      "h\n",
      " \n",
      "R\n",
      "e\n",
      "d\n",
      "d\n",
      "y\n"
     ]
    }
   ],
   "source": [
    "for i in s:\n",
    "    print(i)\n"
   ]
  },
  {
   "cell_type": "code",
   "execution_count": 19,
   "id": "2033d5b9-96ad-4708-b302-dad7ead21c11",
   "metadata": {},
   "outputs": [
    {
     "data": {
      "text/plain": [
       "'Kaipa'"
      ]
     },
     "execution_count": 19,
     "metadata": {},
     "output_type": "execute_result"
    }
   ],
   "source": [
    "s[0:5]"
   ]
  },
  {
   "cell_type": "code",
   "execution_count": 21,
   "id": "7f0a2961-7f80-464d-af6d-790a993364da",
   "metadata": {},
   "outputs": [
    {
     "data": {
      "text/plain": [
       "'yddeR hsinA apiaK'"
      ]
     },
     "execution_count": 21,
     "metadata": {},
     "output_type": "execute_result"
    }
   ],
   "source": [
    "s[::-1]"
   ]
  },
  {
   "cell_type": "code",
   "execution_count": null,
   "id": "ad99b21a-81f0-47ca-bbb1-baa3f30d44c4",
   "metadata": {},
   "outputs": [],
   "source": []
  }
 ],
 "metadata": {
  "kernelspec": {
   "display_name": "Python [conda env:base] *",
   "language": "python",
   "name": "conda-base-py"
  },
  "language_info": {
   "codemirror_mode": {
    "name": "ipython",
    "version": 3
   },
   "file_extension": ".py",
   "mimetype": "text/x-python",
   "name": "python",
   "nbconvert_exporter": "python",
   "pygments_lexer": "ipython3",
   "version": "3.12.7"
  }
 },
 "nbformat": 4,
 "nbformat_minor": 5
}
