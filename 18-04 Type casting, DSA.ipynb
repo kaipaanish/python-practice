{
 "cells": [
  {
   "cell_type": "code",
   "execution_count": 2,
   "id": "e5928184-c82a-4871-9f03-87e0830698bc",
   "metadata": {},
   "outputs": [
    {
     "data": {
      "text/plain": [
       "23.0"
      ]
     },
     "execution_count": 2,
     "metadata": {},
     "output_type": "execute_result"
    }
   ],
   "source": [
    "float(23)"
   ]
  },
  {
   "cell_type": "code",
   "execution_count": 6,
   "id": "aa4a71c5-04a4-4483-affb-54192fd283ee",
   "metadata": {},
   "outputs": [
    {
     "data": {
      "text/plain": [
       "1.0"
      ]
     },
     "execution_count": 6,
     "metadata": {},
     "output_type": "execute_result"
    }
   ],
   "source": [
    "float(True)\n",
    "\n"
   ]
  },
  {
   "cell_type": "code",
   "execution_count": 8,
   "id": "7efea4d1-fec8-4b5c-a47f-141098774dff",
   "metadata": {},
   "outputs": [
    {
     "data": {
      "text/plain": [
       "0.0"
      ]
     },
     "execution_count": 8,
     "metadata": {},
     "output_type": "execute_result"
    }
   ],
   "source": [
    "float(False)"
   ]
  },
  {
   "cell_type": "code",
   "execution_count": 10,
   "id": "71d2927f-b086-4ec2-b2e5-4553a72ae793",
   "metadata": {},
   "outputs": [
    {
     "ename": "TypeError",
     "evalue": "float() argument must be a string or a real number, not 'complex'",
     "output_type": "error",
     "traceback": [
      "\u001b[1;31m---------------------------------------------------------------------------\u001b[0m",
      "\u001b[1;31mTypeError\u001b[0m                                 Traceback (most recent call last)",
      "Cell \u001b[1;32mIn[10], line 1\u001b[0m\n\u001b[1;32m----> 1\u001b[0m \u001b[38;5;28mfloat\u001b[39m(\u001b[38;5;241m2\u001b[39m\u001b[38;5;241m+\u001b[39m\u001b[38;5;241m3\u001b[39mj)\n",
      "\u001b[1;31mTypeError\u001b[0m: float() argument must be a string or a real number, not 'complex'"
     ]
    }
   ],
   "source": [
    "float(2+3j)"
   ]
  },
  {
   "cell_type": "code",
   "execution_count": 12,
   "id": "05539ac5-d002-43a5-a5c1-2de9daa846e6",
   "metadata": {},
   "outputs": [
    {
     "data": {
      "text/plain": [
       "10.0"
      ]
     },
     "execution_count": 12,
     "metadata": {},
     "output_type": "execute_result"
    }
   ],
   "source": [
    "float(\"10\")"
   ]
  },
  {
   "cell_type": "markdown",
   "id": "2e3a93ef-7c8b-4f5b-9238-20ac7dd1e1e8",
   "metadata": {},
   "source": [
    "##from other datatypes to float "
   ]
  },
  {
   "cell_type": "code",
   "execution_count": 15,
   "id": "73875803-d234-44d6-b521-daa5f1487c1a",
   "metadata": {},
   "outputs": [
    {
     "data": {
      "text/plain": [
       "(10+0j)"
      ]
     },
     "execution_count": 15,
     "metadata": {},
     "output_type": "execute_result"
    }
   ],
   "source": [
    "complex(10)"
   ]
  },
  {
   "cell_type": "code",
   "execution_count": 17,
   "id": "8d958cab-5eb5-42a6-8915-157932671427",
   "metadata": {},
   "outputs": [
    {
     "data": {
      "text/plain": [
       "(10+20j)"
      ]
     },
     "execution_count": 17,
     "metadata": {},
     "output_type": "execute_result"
    }
   ],
   "source": [
    "complex(10,20)"
   ]
  },
  {
   "cell_type": "code",
   "execution_count": 19,
   "id": "a2725f3b-b66d-4d65-9de2-6541cbdadbb1",
   "metadata": {},
   "outputs": [
    {
     "ename": "TypeError",
     "evalue": "complex() takes at most 2 arguments (3 given)",
     "output_type": "error",
     "traceback": [
      "\u001b[1;31m---------------------------------------------------------------------------\u001b[0m",
      "\u001b[1;31mTypeError\u001b[0m                                 Traceback (most recent call last)",
      "Cell \u001b[1;32mIn[19], line 1\u001b[0m\n\u001b[1;32m----> 1\u001b[0m \u001b[38;5;28mcomplex\u001b[39m(\u001b[38;5;241m10\u001b[39m, \u001b[38;5;241m20\u001b[39m, \u001b[38;5;241m30\u001b[39m)\n",
      "\u001b[1;31mTypeError\u001b[0m: complex() takes at most 2 arguments (3 given)"
     ]
    }
   ],
   "source": [
    "complex(10, 20, 30)"
   ]
  },
  {
   "cell_type": "code",
   "execution_count": 21,
   "id": "c129eaf4-f939-44e9-a838-4a1021ca5e8f",
   "metadata": {},
   "outputs": [
    {
     "data": {
      "text/plain": [
       "(1.1+0j)"
      ]
     },
     "execution_count": 21,
     "metadata": {},
     "output_type": "execute_result"
    }
   ],
   "source": [
    "complex(1.1)"
   ]
  },
  {
   "cell_type": "code",
   "execution_count": 23,
   "id": "ea9b2100-056e-44a6-a6d9-f0f90625dbb5",
   "metadata": {},
   "outputs": [
    {
     "data": {
      "text/plain": [
       "(1+0j)"
      ]
     },
     "execution_count": 23,
     "metadata": {},
     "output_type": "execute_result"
    }
   ],
   "source": [
    "complex(True)"
   ]
  },
  {
   "cell_type": "code",
   "execution_count": 33,
   "id": "cf58e453-eca9-4019-bcf9-84690f6a7f2f",
   "metadata": {},
   "outputs": [
    {
     "data": {
      "text/plain": [
       "True"
      ]
     },
     "execution_count": 33,
     "metadata": {},
     "output_type": "execute_result"
    }
   ],
   "source": [
    "bool(10) #anything other than 0 will be true"
   ]
  },
  {
   "cell_type": "code",
   "execution_count": 35,
   "id": "6ffcaa98-db72-4e4f-bf9a-01fa9f3d8ead",
   "metadata": {},
   "outputs": [
    {
     "data": {
      "text/plain": [
       "False"
      ]
     },
     "execution_count": 35,
     "metadata": {},
     "output_type": "execute_result"
    }
   ],
   "source": [
    "bool(0)"
   ]
  },
  {
   "cell_type": "code",
   "execution_count": 37,
   "id": "e4583612-dd65-4630-8649-98edac8be329",
   "metadata": {},
   "outputs": [
    {
     "data": {
      "text/plain": [
       "True"
      ]
     },
     "execution_count": 37,
     "metadata": {},
     "output_type": "execute_result"
    }
   ],
   "source": [
    "bool( 3 +  2j)"
   ]
  },
  {
   "cell_type": "code",
   "execution_count": 39,
   "id": "41df6c24-0242-4002-8ba7-c8f593ad7d3f",
   "metadata": {},
   "outputs": [
    {
     "data": {
      "text/plain": [
       "True"
      ]
     },
     "execution_count": 39,
     "metadata": {},
     "output_type": "execute_result"
    }
   ],
   "source": [
    "bool(\"hi\")"
   ]
  },
  {
   "cell_type": "code",
   "execution_count": 41,
   "id": "c70eb068-42d0-4024-8e4d-b62190149a14",
   "metadata": {},
   "outputs": [
    {
     "data": {
      "text/plain": [
       "True"
      ]
     },
     "execution_count": 41,
     "metadata": {},
     "output_type": "execute_result"
    }
   ],
   "source": [
    "bool(_)"
   ]
  },
  {
   "cell_type": "code",
   "execution_count": 43,
   "id": "0cc59884-4ea2-498d-b81a-634a27e78fac",
   "metadata": {},
   "outputs": [],
   "source": [
    "# type casting will be used in ML projects"
   ]
  },
  {
   "cell_type": "markdown",
   "id": "fb287e98-24bc-4e26-935c-27081b0d3a87",
   "metadata": {},
   "source": [
    "# String indexing and advance slicing"
   ]
  },
  {
   "cell_type": "code",
   "execution_count": 48,
   "id": "404d21c3-6502-40c6-98c2-cb3883b5cba3",
   "metadata": {},
   "outputs": [],
   "source": [
    "s9 = \"hellopython\""
   ]
  },
  {
   "cell_type": "code",
   "execution_count": 52,
   "id": "260260d7-0e8a-4107-aaf3-02508335fdf7",
   "metadata": {},
   "outputs": [
    {
     "data": {
      "text/plain": [
       "'hellopython'"
      ]
     },
     "execution_count": 52,
     "metadata": {},
     "output_type": "execute_result"
    }
   ],
   "source": [
    "s9[:]"
   ]
  },
  {
   "cell_type": "code",
   "execution_count": 54,
   "id": "7d115398-ad82-4567-a4db-ff797e865588",
   "metadata": {},
   "outputs": [
    {
     "name": "stdout",
     "output_type": "stream",
     "text": [
      "h\n",
      "e\n",
      "l\n",
      "l\n",
      "o\n",
      "p\n",
      "y\n",
      "t\n",
      "h\n",
      "o\n",
      "n\n"
     ]
    }
   ],
   "source": [
    "for i in s9:\n",
    "    print(i)"
   ]
  },
  {
   "cell_type": "code",
   "execution_count": 58,
   "id": "eb8386e7-18b1-40ae-8f6d-f7356562ae88",
   "metadata": {},
   "outputs": [
    {
     "name": "stdout",
     "output_type": "stream",
     "text": [
      "nohtypolleh\n"
     ]
    }
   ],
   "source": [
    "print(s9[::-1])"
   ]
  },
  {
   "cell_type": "code",
   "execution_count": 62,
   "id": "b6f256e2-cf2c-448e-84ea-eec7a31bcbdf",
   "metadata": {},
   "outputs": [
    {
     "name": "stdout",
     "output_type": "stream",
     "text": [
      "hloyhn\n"
     ]
    }
   ],
   "source": [
    "print(s9[0:11:2])"
   ]
  },
  {
   "cell_type": "code",
   "execution_count": 64,
   "id": "f11b5548-adc9-4f72-a610-31069cba1c94",
   "metadata": {},
   "outputs": [
    {
     "name": "stdout",
     "output_type": "stream",
     "text": [
      "hpn\n"
     ]
    }
   ],
   "source": [
    "print(s9[0:11:5])"
   ]
  },
  {
   "cell_type": "markdown",
   "id": "8147c772-31a0-49a2-82fb-1068be6b45b0",
   "metadata": {},
   "source": [
    "# Formating"
   ]
  },
  {
   "cell_type": "code",
   "execution_count": 68,
   "id": "f84cc6a3-b7e5-4333-a52f-f6da6d062128",
   "metadata": {},
   "outputs": [
    {
     "name": "stdout",
     "output_type": "stream",
     "text": [
      "the sum of num1 10 and num2 20 is 30\n"
     ]
    }
   ],
   "source": [
    "num1 =  10\n",
    "num2 =  20\n",
    "add = num1 + num2\n",
    "print(f\"the sum of num1 {num1} and num2 {num2} is {add}\")"
   ]
  },
  {
   "cell_type": "code",
   "execution_count": 70,
   "id": "98cc8e82-83e3-40af-9dd3-99167cf641bf",
   "metadata": {},
   "outputs": [
    {
     "name": "stdout",
     "output_type": "stream",
     "text": [
      "the sum of num1 10 and num2  20 is 30\n"
     ]
    }
   ],
   "source": [
    "print(\"the sum of num1\",num1, \"and num2 \",num2,\"is\",add)"
   ]
  },
  {
   "cell_type": "code",
   "execution_count": 72,
   "id": "1376ac0f-ebf6-45af-9250-f5b8bd22a49e",
   "metadata": {},
   "outputs": [
    {
     "name": "stdout",
     "output_type": "stream",
     "text": [
      "the sum of num1 10 and 20 is 30\n"
     ]
    }
   ],
   "source": [
    "print(\"the sum of num1 {} and {} is {}\".format(num1, num2 ,add))"
   ]
  },
  {
   "cell_type": "code",
   "execution_count": 88,
   "id": "5e9b9bd9-0d33-4f28-8406-ff9e46e88558",
   "metadata": {},
   "outputs": [
    {
     "name": "stdout",
     "output_type": "stream",
     "text": [
      "my name is anish im 20 years old and im from  hyderabad\n"
     ]
    }
   ],
   "source": [
    "name = \"anish\"\n",
    "age = 20\n",
    "city=\" hyderabad\"\n",
    "print(f\"my name is {name} im {age} years old and im from {city}\")"
   ]
  },
  {
   "cell_type": "code",
   "execution_count": 90,
   "id": "86c4ce1d-eb1e-40d1-a9df-54c53117e96f",
   "metadata": {},
   "outputs": [
    {
     "name": "stdout",
     "output_type": "stream",
     "text": [
      "my name is anish im 20 years old and im form  hyderabad\n"
     ]
    }
   ],
   "source": [
    "print(\"my name is {} im {} years old and im form {}\".format(name, age , city))"
   ]
  },
  {
   "cell_type": "code",
   "execution_count": null,
   "id": "e13e9ff2-55ca-426c-8bf7-91a7878f268a",
   "metadata": {},
   "outputs": [],
   "source": []
  }
 ],
 "metadata": {
  "kernelspec": {
   "display_name": "Python [conda env:base] *",
   "language": "python",
   "name": "conda-base-py"
  },
  "language_info": {
   "codemirror_mode": {
    "name": "ipython",
    "version": 3
   },
   "file_extension": ".py",
   "mimetype": "text/x-python",
   "name": "python",
   "nbconvert_exporter": "python",
   "pygments_lexer": "ipython3",
   "version": "3.12.7"
  }
 },
 "nbformat": 4,
 "nbformat_minor": 5
}
