{
 "cells": [
  {
   "cell_type": "code",
   "execution_count": 308,
   "id": "a25a4416-5dad-4cd9-8c79-f299e0883747",
   "metadata": {},
   "outputs": [],
   "source": [
    "import numpy as np"
   ]
  },
  {
   "cell_type": "code",
   "execution_count": 310,
   "id": "2450d9ac-7999-463e-a370-82efe175e54b",
   "metadata": {},
   "outputs": [
    {
     "data": {
      "text/plain": [
       "'1.26.4'"
      ]
     },
     "execution_count": 310,
     "metadata": {},
     "output_type": "execute_result"
    }
   ],
   "source": [
    "np.__version__"
   ]
  },
  {
   "cell_type": "code",
   "execution_count": 312,
   "id": "75735b64-4849-4fba-9605-feba397d9e1d",
   "metadata": {},
   "outputs": [
    {
     "data": {
      "text/plain": [
       "'3.12.7 | packaged by Anaconda, Inc. | (main, Oct  4 2024, 13:17:27) [MSC v.1929 64 bit (AMD64)]'"
      ]
     },
     "execution_count": 312,
     "metadata": {},
     "output_type": "execute_result"
    }
   ],
   "source": [
    "import sys\n",
    "sys.version"
   ]
  },
  {
   "cell_type": "markdown",
   "id": "a4e326c4-abb1-468d-9e0d-54931a948753",
   "metadata": {},
   "source": [
    "# CREATING LIST"
   ]
  },
  {
   "cell_type": "code",
   "execution_count": 315,
   "id": "59244b81-7636-4d8a-ab04-9968dc4ff379",
   "metadata": {},
   "outputs": [],
   "source": [
    "mylist1 =  [6,7,8,9,10]"
   ]
  },
  {
   "cell_type": "code",
   "execution_count": 317,
   "id": "58e732c0-5800-4919-b099-f754f2820c2d",
   "metadata": {},
   "outputs": [
    {
     "data": {
      "text/plain": [
       "[1, 2, 3, 4, 5]"
      ]
     },
     "execution_count": 317,
     "metadata": {},
     "output_type": "execute_result"
    }
   ],
   "source": [
    "my_list = [1,2,3,4,5]\n",
    "my_list\n"
   ]
  },
  {
   "cell_type": "markdown",
   "id": "5f6d153b-5e03-420d-9515-f1cf8685e49a",
   "metadata": {},
   "source": [
    "# WE ARE CONVERTING LIST TO ARRAY"
   ]
  },
  {
   "cell_type": "code",
   "execution_count": 320,
   "id": "2fc114ff-b475-47cc-bd1a-c0bd2c6abe20",
   "metadata": {},
   "outputs": [
    {
     "name": "stdout",
     "output_type": "stream",
     "text": [
      "[[ 1  2  3  4  5]\n",
      " [ 6  7  8  9 10]]\n"
     ]
    }
   ],
   "source": [
    "arr = np.array([my_list,mylist1])\n",
    "type(arr)\n",
    "print(arr)"
   ]
  },
  {
   "cell_type": "code",
   "execution_count": 322,
   "id": "7df4867c-1d7a-48a5-b3c7-f98e527981b8",
   "metadata": {},
   "outputs": [
    {
     "data": {
      "text/plain": [
       "list"
      ]
     },
     "execution_count": 322,
     "metadata": {},
     "output_type": "execute_result"
    }
   ],
   "source": [
    "type(my_list)"
   ]
  },
  {
   "cell_type": "code",
   "execution_count": 324,
   "id": "12cbd14e-fa9c-4b1e-aaea-28c4e7218175",
   "metadata": {},
   "outputs": [
    {
     "data": {
      "text/plain": [
       "array([0, 1, 2, 3, 4, 5, 6, 7, 8, 9])"
      ]
     },
     "execution_count": 324,
     "metadata": {},
     "output_type": "execute_result"
    }
   ],
   "source": [
    "np.arange(10)"
   ]
  },
  {
   "cell_type": "code",
   "execution_count": 326,
   "id": "d48e13ee-2c0a-406b-9cdb-dc3478185b6b",
   "metadata": {},
   "outputs": [
    {
     "data": {
      "text/plain": [
       "array([0., 1., 2.])"
      ]
     },
     "execution_count": 326,
     "metadata": {},
     "output_type": "execute_result"
    }
   ],
   "source": [
    "np.arange(3.0)"
   ]
  },
  {
   "cell_type": "code",
   "execution_count": 328,
   "id": "66ee039f-8599-444f-853a-ab9dbeef356f",
   "metadata": {},
   "outputs": [
    {
     "data": {
      "text/plain": [
       "array([0., 1., 2., 3., 4.])"
      ]
     },
     "execution_count": 328,
     "metadata": {},
     "output_type": "execute_result"
    }
   ],
   "source": [
    "np.arange(5.0)"
   ]
  },
  {
   "cell_type": "code",
   "execution_count": 330,
   "id": "ed94bbda-6e8f-4209-8879-8317ee57460a",
   "metadata": {},
   "outputs": [
    {
     "data": {
      "text/plain": [
       "array([0, 1, 2, 3, 4, 5, 6, 7, 8])"
      ]
     },
     "execution_count": 330,
     "metadata": {},
     "output_type": "execute_result"
    }
   ],
   "source": [
    "np.arange(9)"
   ]
  },
  {
   "cell_type": "code",
   "execution_count": 331,
   "id": "df806044-0981-4443-a85a-bfa69128f770",
   "metadata": {},
   "outputs": [
    {
     "data": {
      "text/plain": [
       "array([0, 1, 2, 3, 4])"
      ]
     },
     "execution_count": 331,
     "metadata": {},
     "output_type": "execute_result"
    }
   ],
   "source": [
    "np.arange(0 , 5)"
   ]
  },
  {
   "cell_type": "code",
   "execution_count": 332,
   "id": "55c02aa5-96c3-48e8-a084-c99c3d550b54",
   "metadata": {},
   "outputs": [
    {
     "data": {
      "text/plain": [
       "array([10, 11, 12, 13, 14, 15, 16, 17, 18, 19])"
      ]
     },
     "execution_count": 332,
     "metadata": {},
     "output_type": "execute_result"
    }
   ],
   "source": [
    "np.arange(10,20)"
   ]
  },
  {
   "cell_type": "code",
   "execution_count": 333,
   "id": "0a9ec2c8-8c38-4993-8c2c-37f0863c0776",
   "metadata": {},
   "outputs": [
    {
     "data": {
      "text/plain": [
       "array([], dtype=int32)"
      ]
     },
     "execution_count": 333,
     "metadata": {},
     "output_type": "execute_result"
    }
   ],
   "source": [
    " np.arange(20,10)"
   ]
  },
  {
   "cell_type": "code",
   "execution_count": 334,
   "id": "eddd616b-d916-48f7-8962-42a83d0c4097",
   "metadata": {},
   "outputs": [
    {
     "data": {
      "text/plain": [
       "array([-20, -19, -18, -17, -16, -15, -14, -13, -12, -11, -10,  -9,  -8,\n",
       "        -7,  -6,  -5,  -4,  -3,  -2,  -1,   0,   1,   2,   3,   4,   5,\n",
       "         6,   7,   8,   9])"
      ]
     },
     "execution_count": 334,
     "metadata": {},
     "output_type": "execute_result"
    }
   ],
   "source": [
    "np.arange(-20,10)"
   ]
  },
  {
   "cell_type": "code",
   "execution_count": 335,
   "id": "ef983096-9c8e-4704-b4ee-53d80218999f",
   "metadata": {},
   "outputs": [
    {
     "data": {
      "text/plain": [
       "array([-20, -19, -18, -17, -16, -15, -14, -13, -12, -11])"
      ]
     },
     "execution_count": 335,
     "metadata": {},
     "output_type": "execute_result"
    }
   ],
   "source": [
    "np.arange(-20,-10)"
   ]
  },
  {
   "cell_type": "code",
   "execution_count": 336,
   "id": "b51a4078-e242-42c8-913c-172e35661816",
   "metadata": {},
   "outputs": [
    {
     "data": {
      "text/plain": [
       "array([-30, -29, -28, -27, -26, -25, -24, -23, -22, -21, -20, -19, -18,\n",
       "       -17, -16, -15, -14, -13, -12, -11, -10,  -9,  -8,  -7,  -6,  -5,\n",
       "        -4,  -3,  -2,  -1,   0,   1,   2,   3,   4,   5,   6,   7,   8,\n",
       "         9,  10,  11,  12,  13,  14,  15,  16,  17,  18,  19])"
      ]
     },
     "execution_count": 336,
     "metadata": {},
     "output_type": "execute_result"
    }
   ],
   "source": [
    "ar = np.arange(-30,20)\n",
    "ar"
   ]
  },
  {
   "cell_type": "code",
   "execution_count": 337,
   "id": "f843cc97-2d37-495a-a80f-d09ec23a57eb",
   "metadata": {},
   "outputs": [
    {
     "data": {
      "text/plain": [
       "array([10, 15, 20, 25])"
      ]
     },
     "execution_count": 337,
     "metadata": {},
     "output_type": "execute_result"
    }
   ],
   "source": [
    "np.arange(10,30,5)"
   ]
  },
  {
   "cell_type": "code",
   "execution_count": 338,
   "id": "9c20f364-c60c-49fc-ac8a-71d32f9a7b96",
   "metadata": {},
   "outputs": [
    {
     "data": {
      "text/plain": [
       "array([0, 3, 6, 9])"
      ]
     },
     "execution_count": 338,
     "metadata": {},
     "output_type": "execute_result"
    }
   ],
   "source": [
    "np.arange(0,10,3)"
   ]
  },
  {
   "cell_type": "code",
   "execution_count": 339,
   "id": "38d0e250-5e01-4ac5-9da4-dec54f7bb374",
   "metadata": {},
   "outputs": [
    {
     "ename": "TypeError",
     "evalue": "Cannot interpret '8' as a data type",
     "output_type": "error",
     "traceback": [
      "\u001b[1;31m---------------------------------------------------------------------------\u001b[0m",
      "\u001b[1;31mTypeError\u001b[0m                                 Traceback (most recent call last)",
      "Cell \u001b[1;32mIn[339], line 1\u001b[0m\n\u001b[1;32m----> 1\u001b[0m np\u001b[38;5;241m.\u001b[39marange(\u001b[38;5;241m10\u001b[39m,\u001b[38;5;241m30\u001b[39m,\u001b[38;5;241m5\u001b[39m,\u001b[38;5;241m8\u001b[39m)\n",
      "\u001b[1;31mTypeError\u001b[0m: Cannot interpret '8' as a data type"
     ]
    }
   ],
   "source": [
    "np.arange(10,30,5,8)"
   ]
  },
  {
   "cell_type": "code",
   "execution_count": null,
   "id": "eb825a9a-23b3-428c-a029-664a06eb7820",
   "metadata": {},
   "outputs": [],
   "source": [
    "np.zeros(10) # parameter tunning"
   ]
  },
  {
   "cell_type": "code",
   "execution_count": null,
   "id": "55dbbd87-3b9a-41a0-9d1a-db72fc1b7c3c",
   "metadata": {},
   "outputs": [],
   "source": [
    "np.zeros(10,dtype = int) # hyper parameter tunning"
   ]
  },
  {
   "cell_type": "code",
   "execution_count": 340,
   "id": "bd66390f-72a4-401a-825b-0c9789b4c62e",
   "metadata": {},
   "outputs": [
    {
     "data": {
      "text/plain": [
       "array([[0, 0],\n",
       "       [0, 0]])"
      ]
     },
     "execution_count": 340,
     "metadata": {},
     "output_type": "execute_result"
    }
   ],
   "source": [
    "np.zeros((2,2), dtype = int)"
   ]
  },
  {
   "cell_type": "code",
   "execution_count": 341,
   "id": "8fe090d6-0526-4939-9b82-31279fa5e066",
   "metadata": {},
   "outputs": [
    {
     "data": {
      "text/plain": [
       "array([[0., 0., 0., 0., 0., 0., 0., 0., 0., 0.],\n",
       "       [0., 0., 0., 0., 0., 0., 0., 0., 0., 0.]])"
      ]
     },
     "execution_count": 341,
     "metadata": {},
     "output_type": "execute_result"
    }
   ],
   "source": [
    "np.zeros((2,10))"
   ]
  },
  {
   "cell_type": "code",
   "execution_count": 342,
   "id": "d5f72f21-8d6b-4500-ab5e-803e3dbad43d",
   "metadata": {},
   "outputs": [
    {
     "data": {
      "text/plain": [
       "array([[0., 0., 0., 0., 0., 0., 0., 0., 0., 0., 0., 0., 0., 0., 0., 0.,\n",
       "        0., 0., 0., 0., 0., 0., 0., 0., 0., 0., 0., 0., 0., 0.],\n",
       "       [0., 0., 0., 0., 0., 0., 0., 0., 0., 0., 0., 0., 0., 0., 0., 0.,\n",
       "        0., 0., 0., 0., 0., 0., 0., 0., 0., 0., 0., 0., 0., 0.],\n",
       "       [0., 0., 0., 0., 0., 0., 0., 0., 0., 0., 0., 0., 0., 0., 0., 0.,\n",
       "        0., 0., 0., 0., 0., 0., 0., 0., 0., 0., 0., 0., 0., 0.],\n",
       "       [0., 0., 0., 0., 0., 0., 0., 0., 0., 0., 0., 0., 0., 0., 0., 0.,\n",
       "        0., 0., 0., 0., 0., 0., 0., 0., 0., 0., 0., 0., 0., 0.],\n",
       "       [0., 0., 0., 0., 0., 0., 0., 0., 0., 0., 0., 0., 0., 0., 0., 0.,\n",
       "        0., 0., 0., 0., 0., 0., 0., 0., 0., 0., 0., 0., 0., 0.],\n",
       "       [0., 0., 0., 0., 0., 0., 0., 0., 0., 0., 0., 0., 0., 0., 0., 0.,\n",
       "        0., 0., 0., 0., 0., 0., 0., 0., 0., 0., 0., 0., 0., 0.],\n",
       "       [0., 0., 0., 0., 0., 0., 0., 0., 0., 0., 0., 0., 0., 0., 0., 0.,\n",
       "        0., 0., 0., 0., 0., 0., 0., 0., 0., 0., 0., 0., 0., 0.],\n",
       "       [0., 0., 0., 0., 0., 0., 0., 0., 0., 0., 0., 0., 0., 0., 0., 0.,\n",
       "        0., 0., 0., 0., 0., 0., 0., 0., 0., 0., 0., 0., 0., 0.],\n",
       "       [0., 0., 0., 0., 0., 0., 0., 0., 0., 0., 0., 0., 0., 0., 0., 0.,\n",
       "        0., 0., 0., 0., 0., 0., 0., 0., 0., 0., 0., 0., 0., 0.],\n",
       "       [0., 0., 0., 0., 0., 0., 0., 0., 0., 0., 0., 0., 0., 0., 0., 0.,\n",
       "        0., 0., 0., 0., 0., 0., 0., 0., 0., 0., 0., 0., 0., 0.]])"
      ]
     },
     "execution_count": 342,
     "metadata": {},
     "output_type": "execute_result"
    }
   ],
   "source": [
    "np.zeros((10,30))"
   ]
  },
  {
   "cell_type": "code",
   "execution_count": 343,
   "id": "8b5900db-5056-4000-94b4-09627791e389",
   "metadata": {},
   "outputs": [
    {
     "data": {
      "text/plain": [
       "array([[0, 0, 0, 0, 0, 0, 0, 0, 0, 0, 0, 0, 0, 0, 0, 0, 0, 0, 0, 0],\n",
       "       [0, 0, 0, 0, 0, 0, 0, 0, 0, 0, 0, 0, 0, 0, 0, 0, 0, 0, 0, 0],\n",
       "       [0, 0, 0, 0, 0, 0, 0, 0, 0, 0, 0, 0, 0, 0, 0, 0, 0, 0, 0, 0],\n",
       "       [0, 0, 0, 0, 0, 0, 0, 0, 0, 0, 0, 0, 0, 0, 0, 0, 0, 0, 0, 0],\n",
       "       [0, 0, 0, 0, 0, 0, 0, 0, 0, 0, 0, 0, 0, 0, 0, 0, 0, 0, 0, 0],\n",
       "       [0, 0, 0, 0, 0, 0, 0, 0, 0, 0, 0, 0, 0, 0, 0, 0, 0, 0, 0, 0],\n",
       "       [0, 0, 0, 0, 0, 0, 0, 0, 0, 0, 0, 0, 0, 0, 0, 0, 0, 0, 0, 0],\n",
       "       [0, 0, 0, 0, 0, 0, 0, 0, 0, 0, 0, 0, 0, 0, 0, 0, 0, 0, 0, 0],\n",
       "       [0, 0, 0, 0, 0, 0, 0, 0, 0, 0, 0, 0, 0, 0, 0, 0, 0, 0, 0, 0],\n",
       "       [0, 0, 0, 0, 0, 0, 0, 0, 0, 0, 0, 0, 0, 0, 0, 0, 0, 0, 0, 0]])"
      ]
     },
     "execution_count": 343,
     "metadata": {},
     "output_type": "execute_result"
    }
   ],
   "source": [
    "np.zeros((10,20),dtype=int)"
   ]
  },
  {
   "cell_type": "code",
   "execution_count": 344,
   "id": "ce1c4b8a-35ea-4613-a19b-d1095578d143",
   "metadata": {},
   "outputs": [
    {
     "data": {
      "text/plain": [
       "array([1., 1., 1.])"
      ]
     },
     "execution_count": 344,
     "metadata": {},
     "output_type": "execute_result"
    }
   ],
   "source": [
    "np.ones(3)"
   ]
  },
  {
   "cell_type": "code",
   "execution_count": 345,
   "id": "df10b0eb-006f-4be4-ad80-8f3734e493d4",
   "metadata": {},
   "outputs": [
    {
     "data": {
      "text/plain": [
       "array([1, 1, 1])"
      ]
     },
     "execution_count": 345,
     "metadata": {},
     "output_type": "execute_result"
    }
   ],
   "source": [
    "np.ones(3,dtype=int)"
   ]
  },
  {
   "cell_type": "code",
   "execution_count": 346,
   "id": "d1fd86f5-0ceb-4099-83a4-1feb5db128b0",
   "metadata": {},
   "outputs": [
    {
     "data": {
      "text/plain": [
       "array([[1, 1, 1],\n",
       "       [1, 1, 1],\n",
       "       [1, 1, 1]])"
      ]
     },
     "execution_count": 346,
     "metadata": {},
     "output_type": "execute_result"
    }
   ],
   "source": [
    "np.ones((3,3),dtype = int)"
   ]
  },
  {
   "cell_type": "code",
   "execution_count": 347,
   "id": "9a996873-401e-48c6-b13c-f9932827377b",
   "metadata": {},
   "outputs": [
    {
     "ename": "NameError",
     "evalue": "name 'rand' is not defined",
     "output_type": "error",
     "traceback": [
      "\u001b[1;31m---------------------------------------------------------------------------\u001b[0m",
      "\u001b[1;31mNameError\u001b[0m                                 Traceback (most recent call last)",
      "Cell \u001b[1;32mIn[347], line 1\u001b[0m\n\u001b[1;32m----> 1\u001b[0m rand(\u001b[38;5;241m3\u001b[39m,\u001b[38;5;241m2\u001b[39m)\n",
      "\u001b[1;31mNameError\u001b[0m: name 'rand' is not defined"
     ]
    }
   ],
   "source": [
    "rand(3,2)"
   ]
  },
  {
   "cell_type": "code",
   "execution_count": 348,
   "id": "1d9d87af-de46-4878-9338-ffa9d3717325",
   "metadata": {},
   "outputs": [
    {
     "ename": "NameError",
     "evalue": "name 'random' is not defined",
     "output_type": "error",
     "traceback": [
      "\u001b[1;31m---------------------------------------------------------------------------\u001b[0m",
      "\u001b[1;31mNameError\u001b[0m                                 Traceback (most recent call last)",
      "Cell \u001b[1;32mIn[348], line 1\u001b[0m\n\u001b[1;32m----> 1\u001b[0m random\u001b[38;5;241m.\u001b[39mrandom(\u001b[38;5;241m3\u001b[39m,\u001b[38;5;241m2\u001b[39m)\n",
      "\u001b[1;31mNameError\u001b[0m: name 'random' is not defined"
     ]
    }
   ],
   "source": [
    "random.random(3,2)"
   ]
  },
  {
   "cell_type": "code",
   "execution_count": null,
   "id": "7f8d0924-c3fb-4b94-b07d-d859e529b429",
   "metadata": {},
   "outputs": [],
   "source": [
    "np.random.rand(3,2)"
   ]
  },
  {
   "cell_type": "code",
   "execution_count": 349,
   "id": "b20bfafd-a9ea-47d1-b677-fea632837632",
   "metadata": {},
   "outputs": [
    {
     "data": {
      "text/plain": [
       "array([0.46649418, 0.65549556, 0.70750946, 0.3024495 , 0.67032057])"
      ]
     },
     "execution_count": 349,
     "metadata": {},
     "output_type": "execute_result"
    }
   ],
   "source": [
    "np.random.rand(5)"
   ]
  },
  {
   "cell_type": "code",
   "execution_count": 350,
   "id": "0bb9503b-3551-4146-bf6b-d0722f1582e0",
   "metadata": {},
   "outputs": [
    {
     "ename": "TypeError",
     "evalue": "rand() got an unexpected keyword argument 'dtype'",
     "output_type": "error",
     "traceback": [
      "\u001b[1;31m---------------------------------------------------------------------------\u001b[0m",
      "\u001b[1;31mTypeError\u001b[0m                                 Traceback (most recent call last)",
      "Cell \u001b[1;32mIn[350], line 1\u001b[0m\n\u001b[1;32m----> 1\u001b[0m np\u001b[38;5;241m.\u001b[39mrandom\u001b[38;5;241m.\u001b[39mrand((\u001b[38;5;241m3\u001b[39m,\u001b[38;5;241m2\u001b[39m),dtype\u001b[38;5;241m=\u001b[39m\u001b[38;5;28mint\u001b[39m)\n",
      "\u001b[1;31mTypeError\u001b[0m: rand() got an unexpected keyword argument 'dtype'"
     ]
    }
   ],
   "source": [
    "np.random.rand((3,2),dtype=int)"
   ]
  },
  {
   "cell_type": "code",
   "execution_count": 351,
   "id": "cc5bca64-5620-48ff-9110-66c510f426a4",
   "metadata": {},
   "outputs": [
    {
     "data": {
      "text/plain": [
       "4"
      ]
     },
     "execution_count": 351,
     "metadata": {},
     "output_type": "execute_result"
    }
   ],
   "source": [
    "np.random.randint(4,6)"
   ]
  },
  {
   "cell_type": "code",
   "execution_count": 352,
   "id": "68179613-85e7-4ba8-80fc-ba7d1529b819",
   "metadata": {},
   "outputs": [
    {
     "data": {
      "text/plain": [
       "17"
      ]
     },
     "execution_count": 352,
     "metadata": {},
     "output_type": "execute_result"
    }
   ],
   "source": [
    "np.random.randint(3,30)"
   ]
  },
  {
   "cell_type": "code",
   "execution_count": 353,
   "id": "b5f3ea35-03a2-4b2f-81fd-9f9f3e0fc36d",
   "metadata": {},
   "outputs": [
    {
     "data": {
      "text/plain": [
       "array([4, 8, 1, 9])"
      ]
     },
     "execution_count": 353,
     "metadata": {},
     "output_type": "execute_result"
    }
   ],
   "source": [
    "np.random.randint(0,10,4)"
   ]
  },
  {
   "cell_type": "code",
   "execution_count": 354,
   "id": "545880ed-36b0-4629-8608-7ed80f628671",
   "metadata": {},
   "outputs": [
    {
     "data": {
      "text/plain": [
       "array([16, 19, 10, 19, 10])"
      ]
     },
     "execution_count": 354,
     "metadata": {},
     "output_type": "execute_result"
    }
   ],
   "source": [
    "np.random.randint(10,20,5)"
   ]
  },
  {
   "cell_type": "code",
   "execution_count": 355,
   "id": "5fb6cca1-c80f-4e56-b8b1-677b6ade0d16",
   "metadata": {},
   "outputs": [
    {
     "data": {
      "text/plain": [
       "array([[27, 28, 17, 27, 11],\n",
       "       [12, 23, 34, 34, 13],\n",
       "       [25, 23, 35, 15, 22],\n",
       "       [11, 13, 13, 36, 31],\n",
       "       [14, 25, 11, 24, 25],\n",
       "       [14, 28, 23, 29, 25],\n",
       "       [10, 18, 30, 15, 36],\n",
       "       [38, 25, 22, 19, 18],\n",
       "       [39, 33, 20, 26, 29],\n",
       "       [32, 14, 22, 28, 30]])"
      ]
     },
     "execution_count": 355,
     "metadata": {},
     "output_type": "execute_result"
    }
   ],
   "source": [
    "np.random.randint(10,40,(10,5))"
   ]
  },
  {
   "cell_type": "code",
   "execution_count": 356,
   "id": "4d5b944a-ff40-48ed-aa62-17f6d03082a4",
   "metadata": {},
   "outputs": [
    {
     "data": {
      "text/plain": [
       "array([ 1,  2,  3,  4,  5,  6,  7,  8,  9, 10, 11, 12])"
      ]
     },
     "execution_count": 356,
     "metadata": {},
     "output_type": "execute_result"
    }
   ],
   "source": [
    "np.arange(1,13)\n",
    "\n"
   ]
  },
  {
   "cell_type": "code",
   "execution_count": 357,
   "id": "ab8cc8f7-47a8-41ea-99c8-3a297a0fdff4",
   "metadata": {},
   "outputs": [
    {
     "data": {
      "text/plain": [
       "array([[ 1,  2,  3,  4],\n",
       "       [ 5,  6,  7,  8],\n",
       "       [ 9, 10, 11, 12]])"
      ]
     },
     "execution_count": 357,
     "metadata": {},
     "output_type": "execute_result"
    }
   ],
   "source": [
    "np.arange(1,13).reshape(3,4)"
   ]
  },
  {
   "cell_type": "code",
   "execution_count": 358,
   "id": "ddf0c19f-e5b8-462e-a362-33e5fddc8368",
   "metadata": {},
   "outputs": [
    {
     "data": {
      "text/plain": [
       "array([[ 1,  2],\n",
       "       [ 3,  4],\n",
       "       [ 5,  6],\n",
       "       [ 7,  8],\n",
       "       [ 9, 10],\n",
       "       [11, 12]])"
      ]
     },
     "execution_count": 358,
     "metadata": {},
     "output_type": "execute_result"
    }
   ],
   "source": [
    "np.arange(1,13).reshape(6,2)"
   ]
  },
  {
   "cell_type": "code",
   "execution_count": 359,
   "id": "6dd0553b-63d9-4640-b117-6000e03a8684",
   "metadata": {},
   "outputs": [
    {
     "ename": "ValueError",
     "evalue": "cannot reshape array of size 12 into shape (5,4)",
     "output_type": "error",
     "traceback": [
      "\u001b[1;31m---------------------------------------------------------------------------\u001b[0m",
      "\u001b[1;31mValueError\u001b[0m                                Traceback (most recent call last)",
      "Cell \u001b[1;32mIn[359], line 1\u001b[0m\n\u001b[1;32m----> 1\u001b[0m np\u001b[38;5;241m.\u001b[39marange(\u001b[38;5;241m1\u001b[39m,\u001b[38;5;241m13\u001b[39m)\u001b[38;5;241m.\u001b[39mreshape(\u001b[38;5;241m5\u001b[39m,\u001b[38;5;241m4\u001b[39m)\n",
      "\u001b[1;31mValueError\u001b[0m: cannot reshape array of size 12 into shape (5,4)"
     ]
    }
   ],
   "source": [
    "np.arange(1,13).reshape(5,4)"
   ]
  },
  {
   "cell_type": "code",
   "execution_count": 360,
   "id": "20de10c4-b949-45a0-a7fd-d3fd55576943",
   "metadata": {},
   "outputs": [
    {
     "data": {
      "text/plain": [
       "array([[17, 12, 13, 18],\n",
       "       [14, 11, 11, 19],\n",
       "       [14, 18, 18, 12],\n",
       "       [18, 17, 17, 10],\n",
       "       [14, 10, 16, 13]])"
      ]
     },
     "execution_count": 360,
     "metadata": {},
     "output_type": "execute_result"
    }
   ],
   "source": [
    "b = np.random.randint(10,20,(5,4))\n",
    "b"
   ]
  },
  {
   "cell_type": "code",
   "execution_count": 361,
   "id": "3df9867b-37d1-4cd0-ade3-1714de93df90",
   "metadata": {},
   "outputs": [
    {
     "data": {
      "text/plain": [
       "array([[17, 12, 13, 18],\n",
       "       [14, 11, 11, 19],\n",
       "       [14, 18, 18, 12],\n",
       "       [18, 17, 17, 10],\n",
       "       [14, 10, 16, 13]])"
      ]
     },
     "execution_count": 361,
     "metadata": {},
     "output_type": "execute_result"
    }
   ],
   "source": [
    "b[:]"
   ]
  },
  {
   "cell_type": "code",
   "execution_count": 362,
   "id": "216bc034-e4f9-49d1-9c0e-df14d36c43d5",
   "metadata": {},
   "outputs": [
    {
     "data": {
      "text/plain": [
       "array([[14, 11, 11, 19],\n",
       "       [14, 18, 18, 12]])"
      ]
     },
     "execution_count": 362,
     "metadata": {},
     "output_type": "execute_result"
    }
   ],
   "source": [
    "b[1:3]"
   ]
  },
  {
   "cell_type": "code",
   "execution_count": 363,
   "id": "61698231-6719-41db-b98f-0af37d01b060",
   "metadata": {},
   "outputs": [
    {
     "data": {
      "text/plain": [
       "11"
      ]
     },
     "execution_count": 363,
     "metadata": {},
     "output_type": "execute_result"
    }
   ],
   "source": [
    "b[1,2]"
   ]
  },
  {
   "cell_type": "code",
   "execution_count": 364,
   "id": "7c1ebee9-581a-4138-a034-3e1ea484a460",
   "metadata": {},
   "outputs": [
    {
     "data": {
      "text/plain": [
       "array([[17, 12, 13, 18],\n",
       "       [14, 11, 11, 19],\n",
       "       [14, 18, 18, 12],\n",
       "       [18, 17, 17, 10],\n",
       "       [14, 10, 16, 13]])"
      ]
     },
     "execution_count": 364,
     "metadata": {},
     "output_type": "execute_result"
    }
   ],
   "source": [
    "b\n"
   ]
  },
  {
   "cell_type": "code",
   "execution_count": 365,
   "id": "85fc5bf4-33e1-4a1c-925c-506e1d8997ec",
   "metadata": {},
   "outputs": [
    {
     "data": {
      "text/plain": [
       "19"
      ]
     },
     "execution_count": 365,
     "metadata": {},
     "output_type": "execute_result"
    }
   ],
   "source": [
    "b[1,3]"
   ]
  },
  {
   "cell_type": "code",
   "execution_count": 366,
   "id": "98b55bd9-4f10-4ab9-8ed2-a99a0d8be549",
   "metadata": {},
   "outputs": [
    {
     "data": {
      "text/plain": [
       "19"
      ]
     },
     "execution_count": 366,
     "metadata": {},
     "output_type": "execute_result"
    }
   ],
   "source": [
    "b[1,-1]"
   ]
  },
  {
   "cell_type": "code",
   "execution_count": 367,
   "id": "14777555-6f39-4efc-82ff-f539e742b778",
   "metadata": {},
   "outputs": [
    {
     "data": {
      "text/plain": [
       "array([[14, 18, 18, 12]])"
      ]
     },
     "execution_count": 367,
     "metadata": {},
     "output_type": "execute_result"
    }
   ],
   "source": [
    "b[2:3]"
   ]
  },
  {
   "cell_type": "code",
   "execution_count": 368,
   "id": "cdf50713-3dd0-481e-b814-99052101d783",
   "metadata": {},
   "outputs": [
    {
     "data": {
      "text/plain": [
       "array([[17, 12, 13, 18],\n",
       "       [14, 11, 11, 19],\n",
       "       [14, 18, 18, 12]])"
      ]
     },
     "execution_count": 368,
     "metadata": {},
     "output_type": "execute_result"
    }
   ],
   "source": [
    "b[0:-2]"
   ]
  },
  {
   "cell_type": "raw",
   "id": "a74636d3-0d0d-4481-b538-ce0a2b5e46db",
   "metadata": {},
   "source": [
    "# in python there are 2 special concepts\n",
    "# __name__\n",
    "# __init__"
   ]
  },
  {
   "cell_type": "code",
   "execution_count": 369,
   "id": "9e03b1de-fc40-471e-b8f8-08622c78f08c",
   "metadata": {},
   "outputs": [
    {
     "data": {
      "text/plain": [
       "'__main__'"
      ]
     },
     "execution_count": 369,
     "metadata": {},
     "output_type": "execute_result"
    }
   ],
   "source": [
    "__name__"
   ]
  },
  {
   "cell_type": "code",
   "execution_count": 370,
   "id": "258c4f1b-bda7-4240-98fc-3e33dfe9c2cb",
   "metadata": {},
   "outputs": [],
   "source": [
    "a = np.random.randint(10,20,10)"
   ]
  },
  {
   "cell_type": "code",
   "execution_count": 371,
   "id": "a549c88a-53a8-42b2-b122-20816fbadfa8",
   "metadata": {},
   "outputs": [
    {
     "data": {
      "text/plain": [
       "array([18, 10, 12, 19, 12, 10, 18, 13, 11, 10])"
      ]
     },
     "execution_count": 371,
     "metadata": {},
     "output_type": "execute_result"
    }
   ],
   "source": [
    "a"
   ]
  },
  {
   "cell_type": "code",
   "execution_count": 372,
   "id": "72677dcc-76c8-4481-ac3c-5bc1617ec503",
   "metadata": {},
   "outputs": [
    {
     "data": {
      "text/plain": [
       "array([[60, 77,  6, 53, 36, 25,  6, 48, 80, 44],\n",
       "       [75, 20, 77, 88, 74, 76,  6, 89, 98, 39],\n",
       "       [18, 62, 77, 20, 78, 54, 57, 43, 71, 11],\n",
       "       [15, 24, 23, 53, 44, 29, 43, 12, 52, 12],\n",
       "       [87, 77, 68, 82, 89, 75, 15, 20,  1, 46],\n",
       "       [72, 38, 16, 80, 40, 41, 64, 24, 56, 24],\n",
       "       [66, 75, 22, 10, 88, 20, 20, 11, 84, 62],\n",
       "       [80, 25, 22, 69, 54, 23, 64, 28, 23, 34],\n",
       "       [36, 40, 90, 23, 49, 12,  4, 31, 56, 44],\n",
       "       [39, 45, 24, 13, 26, 75, 55, 71, 46, 38]])"
      ]
     },
     "execution_count": 372,
     "metadata": {},
     "output_type": "execute_result"
    }
   ],
   "source": [
    "arr2"
   ]
  },
  {
   "cell_type": "code",
   "execution_count": 373,
   "id": "4506ae2f-b816-417b-83ab-0b474f1fb817",
   "metadata": {},
   "outputs": [
    {
     "data": {
      "text/plain": [
       "array([[ 1,  2,  3,  4,  5],\n",
       "       [ 6,  7,  8,  9, 10]])"
      ]
     },
     "execution_count": 373,
     "metadata": {},
     "output_type": "execute_result"
    }
   ],
   "source": [
    "arr"
   ]
  },
  {
   "cell_type": "code",
   "execution_count": 374,
   "id": "bf59a925-6487-4236-a620-47509c213885",
   "metadata": {},
   "outputs": [],
   "source": [
    "arr2 = np.random.randint(0,100,(10,10))"
   ]
  },
  {
   "cell_type": "code",
   "execution_count": 375,
   "id": "915bdcb8-bfac-4eae-b1d3-a717e6f69761",
   "metadata": {},
   "outputs": [
    {
     "data": {
      "text/plain": [
       "array([[72, 43, 96, 80,  8, 62,  2, 11, 47, 51],\n",
       "       [89,  3, 14, 18, 57,  4,  7, 47, 31, 92],\n",
       "       [85, 36, 41, 29, 62, 18, 85, 95, 45, 19],\n",
       "       [ 6, 89, 71, 94, 69, 58, 34, 78,  7, 47],\n",
       "       [81, 47, 83, 16, 18, 90, 75, 67, 72, 59],\n",
       "       [10, 35, 12, 52, 13, 78,  5, 58, 20,  9],\n",
       "       [25, 51, 72, 16, 12, 54,  3, 18, 37, 26],\n",
       "       [25, 52, 30, 27, 25,  6, 42, 57, 36, 45],\n",
       "       [43, 99, 61, 31, 47, 56, 56, 21, 46, 59],\n",
       "       [83, 25, 78, 23, 62, 29, 66, 15, 31, 42]])"
      ]
     },
     "execution_count": 375,
     "metadata": {},
     "output_type": "execute_result"
    }
   ],
   "source": [
    "arr2"
   ]
  },
  {
   "cell_type": "code",
   "execution_count": 376,
   "id": "b0e4b2cd-d1e3-4855-ba87-9bb26975fa92",
   "metadata": {},
   "outputs": [
    {
     "data": {
      "text/plain": [
       "69"
      ]
     },
     "execution_count": 376,
     "metadata": {},
     "output_type": "execute_result"
    }
   ],
   "source": [
    " arr2[3,4]"
   ]
  },
  {
   "cell_type": "code",
   "execution_count": 377,
   "id": "096b7de3-087d-4f14-a0b6-b3f3f9ac7818",
   "metadata": {},
   "outputs": [
    {
     "data": {
      "text/plain": [
       "array([[29, 62]])"
      ]
     },
     "execution_count": 377,
     "metadata": {},
     "output_type": "execute_result"
    }
   ],
   "source": [
    "arr2 [2:3,3:5]"
   ]
  },
  {
   "cell_type": "code",
   "execution_count": 378,
   "id": "05ebd105-bbaa-4a50-816f-3ac82dd12ee4",
   "metadata": {},
   "outputs": [
    {
     "data": {
      "text/plain": [
       "array([[62,  2, 11, 47, 51],\n",
       "       [ 4,  7, 47, 31, 92],\n",
       "       [18, 85, 95, 45, 19],\n",
       "       [58, 34, 78,  7, 47],\n",
       "       [90, 75, 67, 72, 59],\n",
       "       [78,  5, 58, 20,  9],\n",
       "       [54,  3, 18, 37, 26],\n",
       "       [ 6, 42, 57, 36, 45],\n",
       "       [56, 56, 21, 46, 59],\n",
       "       [29, 66, 15, 31, 42]])"
      ]
     },
     "execution_count": 378,
     "metadata": {},
     "output_type": "execute_result"
    }
   ],
   "source": [
    "arr2[:,5:]"
   ]
  },
  {
   "cell_type": "code",
   "execution_count": 457,
   "id": "0202c5bd-1cc2-4267-8cf9-4bc85b8e81eb",
   "metadata": {},
   "outputs": [],
   "source": [
    "h =  np.random.randint(0,65,(8,8))"
   ]
  },
  {
   "cell_type": "code",
   "execution_count": 500,
   "id": "ec99e8d4-dc61-4a83-a0ef-d5fe1924a8f1",
   "metadata": {},
   "outputs": [],
   "source": [
    "h = np.sort(h) "
   ]
  },
  {
   "cell_type": "code",
   "execution_count": 502,
   "id": "35e65ff3-fb1c-455c-b942-9fc64d0e6721",
   "metadata": {},
   "outputs": [
    {
     "data": {
      "text/plain": [
       "array([[ 6, 13, 29, 40, 44, 49, 50, 50],\n",
       "       [ 4, 24, 24, 34, 55, 56, 59, 63],\n",
       "       [ 1, 10, 13, 15, 45, 51, 60, 62],\n",
       "       [13, 23, 34, 39, 45, 49, 56, 60],\n",
       "       [ 3, 16, 21, 36, 41, 46, 46, 59],\n",
       "       [ 4, 10, 21, 34, 36, 39, 45, 50],\n",
       "       [ 3,  7, 14, 28, 35, 37, 54, 57],\n",
       "       [ 7, 17, 21, 30, 36, 37, 40, 60]])"
      ]
     },
     "execution_count": 502,
     "metadata": {},
     "output_type": "execute_result"
    }
   ],
   "source": [
    "h"
   ]
  },
  {
   "cell_type": "code",
   "execution_count": 498,
   "id": "b5b87a87-df28-4ce4-9ebc-fc3510b298fa",
   "metadata": {},
   "outputs": [
    {
     "data": {
      "text/plain": [
       "array([13,  6,  4, 15, 13,  1, 10, 13,  3,  4, 10,  7,  3, 14,  7])"
      ]
     },
     "execution_count": 498,
     "metadata": {},
     "output_type": "execute_result"
    }
   ],
   "source": [
    "h[h<=15]"
   ]
  },
  {
   "cell_type": "code",
   "execution_count": 488,
   "id": "14aec020-9084-4859-9238-e524aca50006",
   "metadata": {},
   "outputs": [
    {
     "data": {
      "text/plain": [
       "array([44, 49, 50, 50, 40, 56, 55, 63, 59, 60, 51, 62, 45, 56, 60, 49, 45,\n",
       "       59, 46, 46, 41, 45, 50, 57, 54, 60, 40])"
      ]
     },
     "execution_count": 488,
     "metadata": {},
     "output_type": "execute_result"
    }
   ],
   "source": [
    "h1 = h[h>=40]\n",
    "h1"
   ]
  },
  {
   "cell_type": "code",
   "execution_count": 494,
   "id": "0627d412-435f-4aa2-a741-919c62daa30e",
   "metadata": {},
   "outputs": [],
   "source": [
    "h1 = np.sort(h1)[::-1]"
   ]
  },
  {
   "cell_type": "code",
   "execution_count": 496,
   "id": "1ed28b08-f655-45ab-8508-4b6464e47f04",
   "metadata": {},
   "outputs": [
    {
     "data": {
      "text/plain": [
       "array([63, 62, 60, 60, 60, 59, 59, 57, 56, 56, 55, 54, 51, 50, 50, 50, 49,\n",
       "       49, 46, 46, 45, 45, 45, 44, 41, 40, 40])"
      ]
     },
     "execution_count": 496,
     "metadata": {},
     "output_type": "execute_result"
    }
   ],
   "source": [
    "h1"
   ]
  },
  {
   "cell_type": "code",
   "execution_count": 508,
   "id": "d515caf9-62fd-4e24-8d33-378a8ff89bfb",
   "metadata": {},
   "outputs": [],
   "source": [
    "mat = np.arange(0,100).reshape(10,10,order = \"F\")"
   ]
  },
  {
   "cell_type": "code",
   "execution_count": 510,
   "id": "cd2826e9-3d59-4f8c-a869-3793b84b8ad4",
   "metadata": {},
   "outputs": [
    {
     "data": {
      "text/plain": [
       "array([[ 0, 10, 20, 30, 40, 50, 60, 70, 80, 90],\n",
       "       [ 1, 11, 21, 31, 41, 51, 61, 71, 81, 91],\n",
       "       [ 2, 12, 22, 32, 42, 52, 62, 72, 82, 92],\n",
       "       [ 3, 13, 23, 33, 43, 53, 63, 73, 83, 93],\n",
       "       [ 4, 14, 24, 34, 44, 54, 64, 74, 84, 94],\n",
       "       [ 5, 15, 25, 35, 45, 55, 65, 75, 85, 95],\n",
       "       [ 6, 16, 26, 36, 46, 56, 66, 76, 86, 96],\n",
       "       [ 7, 17, 27, 37, 47, 57, 67, 77, 87, 97],\n",
       "       [ 8, 18, 28, 38, 48, 58, 68, 78, 88, 98],\n",
       "       [ 9, 19, 29, 39, 49, 59, 69, 79, 89, 99]])"
      ]
     },
     "execution_count": 510,
     "metadata": {},
     "output_type": "execute_result"
    }
   ],
   "source": [
    "mat"
   ]
  },
  {
   "cell_type": "code",
   "execution_count": 512,
   "id": "235e0b9d-6eb3-4717-89e8-29e779376c91",
   "metadata": {},
   "outputs": [
    {
     "data": {
      "text/plain": [
       "array([[42, 52, 62],\n",
       "       [43, 53, 63],\n",
       "       [44, 54, 64]])"
      ]
     },
     "execution_count": 512,
     "metadata": {},
     "output_type": "execute_result"
    }
   ],
   "source": [
    "mat[2:5,4:7]"
   ]
  },
  {
   "cell_type": "code",
   "execution_count": null,
   "id": "ed626f41-05b7-470b-910e-5c7edee644b6",
   "metadata": {},
   "outputs": [],
   "source": []
  },
  {
   "cell_type": "code",
   "execution_count": null,
   "id": "b9092abf-ad82-4844-95f0-dd4c55cc9f98",
   "metadata": {},
   "outputs": [],
   "source": []
  },
  {
   "cell_type": "code",
   "execution_count": null,
   "id": "01ee2500-c535-45b9-8771-3693426118f8",
   "metadata": {},
   "outputs": [],
   "source": []
  },
  {
   "cell_type": "code",
   "execution_count": null,
   "id": "155d770f-8a06-4137-be76-95a818fe0c0f",
   "metadata": {},
   "outputs": [],
   "source": []
  },
  {
   "cell_type": "code",
   "execution_count": null,
   "id": "2efb80b8-4f47-4f74-b4d4-0773f06c02a3",
   "metadata": {},
   "outputs": [],
   "source": []
  },
  {
   "cell_type": "code",
   "execution_count": null,
   "id": "44e100b8-47e9-484c-b663-83c9d413a0ee",
   "metadata": {},
   "outputs": [],
   "source": []
  },
  {
   "cell_type": "code",
   "execution_count": null,
   "id": "03a9d47c-36fc-4885-8d7a-ea8c3e80a3a2",
   "metadata": {},
   "outputs": [],
   "source": []
  }
 ],
 "metadata": {
  "kernelspec": {
   "display_name": "Python [conda env:base] *",
   "language": "python",
   "name": "conda-base-py"
  },
  "language_info": {
   "codemirror_mode": {
    "name": "ipython",
    "version": 3
   },
   "file_extension": ".py",
   "mimetype": "text/x-python",
   "name": "python",
   "nbconvert_exporter": "python",
   "pygments_lexer": "ipython3",
   "version": "3.12.7"
  }
 },
 "nbformat": 4,
 "nbformat_minor": 5
}
