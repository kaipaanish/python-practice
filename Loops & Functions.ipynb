{
 "cells": [
  {
   "cell_type": "code",
   "execution_count": 1,
   "id": "b89c3499",
   "metadata": {},
   "outputs": [
    {
     "name": "stdout",
     "output_type": "stream",
     "text": [
      "1\n",
      "2\n",
      "3\n",
      "4\n",
      "5\n",
      "6\n",
      "7\n",
      "8\n",
      "9\n",
      "10\n"
     ]
    }
   ],
   "source": [
    "#Print numbers from 1 to 10 using a for loop:\n",
    "for i in range(1, 11):\n",
    "    print(i)    "
   ]
  },
  {
   "cell_type": "code",
   "execution_count": 2,
   "id": "d6e840b1",
   "metadata": {},
   "outputs": [
    {
     "name": "stdout",
     "output_type": "stream",
     "text": [
      "Sum of numbers from 1 to 10 is: 55\n"
     ]
    }
   ],
   "source": [
    "#Calculate the sum of numbers from 1 to 10 using a for loop:\n",
    "sum_of_numbers = 0\n",
    "for i in range(1, 11):\n",
    "    sum_of_numbers += i \n",
    "print(\"Sum of numbers from 1 to 10 is:\", sum_of_numbers)"
   ]
  },
  {
   "cell_type": "code",
   "execution_count": 3,
   "id": "0c09a4e1",
   "metadata": {},
   "outputs": [
    {
     "name": "stdout",
     "output_type": "stream",
     "text": [
      "apple\n",
      "banana\n",
      "cherry\n"
     ]
    }
   ],
   "source": [
    "#Print the elements of a list using a for loop:\n",
    "my_list = ['apple', 'banana', 'cherry']\n",
    "for fruit in my_list:\n",
    "    print(fruit)"
   ]
  },
  {
   "cell_type": "code",
   "execution_count": 4,
   "id": "4d7be67d",
   "metadata": {},
   "outputs": [
    {
     "name": "stdout",
     "output_type": "stream",
     "text": [
      "Product of elements in the list is: 120\n"
     ]
    }
   ],
   "source": [
    "#4. Calculate the product of elements in a list using a for loop:\n",
    "product_of_elements = 1\n",
    "for number in [1, 2, 3, 4, 5]:\n",
    "    product_of_elements *= number\n",
    "print(\"Product of elements in the list is:\", product_of_elements)"
   ]
  },
  {
   "cell_type": "code",
   "execution_count": 7,
   "id": "949a9a32",
   "metadata": {},
   "outputs": [
    {
     "name": "stdout",
     "output_type": "stream",
     "text": [
      "2\n",
      "4\n",
      "6\n",
      "8\n",
      "10\n"
     ]
    }
   ],
   "source": [
    "#Print even numbers from 1 to 10 using a for loop:\n",
    "for i in range(1, 11):\n",
    "    if i % 2 == 0:\n",
    "        print(i)\n",
    "    "
   ]
  },
  {
   "cell_type": "code",
   "execution_count": 8,
   "id": "51c465a4",
   "metadata": {},
   "outputs": [
    {
     "name": "stdout",
     "output_type": "stream",
     "text": [
      "10\n",
      "9\n",
      "8\n",
      "7\n",
      "6\n",
      "5\n",
      "4\n",
      "3\n",
      "2\n",
      "1\n"
     ]
    }
   ],
   "source": [
    "#Print numbers in reverse from 10 to 1 using a for loop:\n",
    "for i in range(10, 0, -1):\n",
    "    print(i)"
   ]
  },
  {
   "cell_type": "code",
   "execution_count": 9,
   "id": "4cdd547e",
   "metadata": {},
   "outputs": [
    {
     "name": "stdout",
     "output_type": "stream",
     "text": [
      "H\n",
      "e\n",
      "l\n",
      "l\n",
      "o\n"
     ]
    }
   ],
   "source": [
    "#Print characters of a string using a for loop:\n",
    "my_string = \"Hello\"\n",
    "for char in my_string:\n",
    "    print(char)"
   ]
  },
  {
   "cell_type": "code",
   "execution_count": 10,
   "id": "2a68c786",
   "metadata": {},
   "outputs": [
    {
     "name": "stdout",
     "output_type": "stream",
     "text": [
      "Largest number in the list is: 9\n"
     ]
    }
   ],
   "source": [
    "#Find the largest number in a list using a for loop:\n",
    "my_numbers = [3, 1, 4, 1, 5, 9, 2, 6, 5]\n",
    "largest_number = my_numbers[0]\n",
    "for number in my_numbers:\n",
    "    if number > largest_number:\n",
    "        largest_number = number\n",
    "print(\"Largest number in the list is:\", largest_number)"
   ]
  },
  {
   "cell_type": "code",
   "execution_count": 12,
   "id": "a6ae3bf5",
   "metadata": {},
   "outputs": [
    {
     "name": "stdout",
     "output_type": "stream",
     "text": [
      "Average of numbers in the list is: 30.0\n"
     ]
    }
   ],
   "source": [
    "#Find the average of numbers in a list using a for loop:\n",
    "my_numbers = [10, 20, 30, 40, 50]\n",
    "sum_of_numbers = 0\n",
    "count = 0\n",
    "for number in my_numbers:\n",
    "    sum_of_numbers += number\n",
    "    count += 1\n",
    "average = sum_of_numbers / count\n",
    "print(\"Average of numbers in the list is:\", average)"
   ]
  },
  {
   "cell_type": "code",
   "execution_count": 13,
   "id": "93f3a2d9",
   "metadata": {},
   "outputs": [
    {
     "name": "stdout",
     "output_type": "stream",
     "text": [
      "H\n",
      "W\n"
     ]
    }
   ],
   "source": [
    "#Print all uppercase letters in a string using a for loop:\n",
    "my_string = \"Hello World\"\n",
    "for char in my_string:\n",
    "    if char.isupper():\n",
    "        print(char)"
   ]
  },
  {
   "cell_type": "code",
   "execution_count": 15,
   "id": "ba940b14",
   "metadata": {},
   "outputs": [
    {
     "name": "stdout",
     "output_type": "stream",
     "text": [
      "Number of vowels in the string is: 3\n"
     ]
    }
   ],
   "source": [
    "#Count the number of vowels in a string using a for loop:\n",
    "my_string = \"Hello World\"\n",
    "vowels = \"aeiouAEIOU\"\n",
    "count_vowels = 0\n",
    "for char in my_string:\n",
    "    if char in vowels:\n",
    "        count_vowels += 1\n",
    "print(\"Number of vowels in the string is:\", count_vowels)\n"
   ]
  },
  {
   "cell_type": "code",
   "execution_count": 16,
   "id": "25fd92c9",
   "metadata": {},
   "outputs": [
    {
     "name": "stdout",
     "output_type": "stream",
     "text": [
      "*\n",
      "**\n",
      "***\n",
      "****\n",
      "*****\n"
     ]
    }
   ],
   "source": [
    "#Print a pattern of stars using nested for loops:\n",
    "for i in range(1, 6):\n",
    "    for j in range(i):\n",
    "        print(\"*\", end=\"\")\n",
    "    print()  # Move to the next line after each row"
   ]
  },
  {
   "cell_type": "code",
   "execution_count": 18,
   "id": "85c9671e",
   "metadata": {},
   "outputs": [
    {
     "name": "stdout",
     "output_type": "stream",
     "text": [
      "Factorial of 5 is: 120\n"
     ]
    }
   ],
   "source": [
    "#Calculate factorial of a number using a while loop:\n",
    "def factorial(n):\n",
    "    result = 1\n",
    "    while n > 1:\n",
    "        result *= n\n",
    "        n -= 1\n",
    "    return result\n",
    "print(\"Factorial of 5 is:\", factorial(5))"
   ]
  },
  {
   "cell_type": "code",
   "execution_count": 1,
   "id": "20be9265",
   "metadata": {},
   "outputs": [
    {
     "name": "stdout",
     "output_type": "stream",
     "text": [
      "First occurrence of 7 found at index 1\n"
     ]
    }
   ],
   "source": [
    "#Find the first occurrence of a number in a list using a while loop:\n",
    "numbers = [4, 7, 2, 9, 7, 5]\n",
    "target = 7\n",
    "\n",
    "i = 0\n",
    "while i < len(numbers):\n",
    "    if numbers[i] == target:\n",
    "        print(\"First occurrence of\", target, \"found at index\", i)\n",
    "        break\n",
    "    i += 1\n"
   ]
  },
  {
   "cell_type": "code",
   "execution_count": null,
   "id": "7ef55867",
   "metadata": {},
   "outputs": [
    {
     "name": "stdout",
     "output_type": "stream",
     "text": [
      "Sum of numbers from 1 to 100 is: 5050\n"
     ]
    }
   ],
   "source": [
    "#Calculate the sum of numbers from 1 to 100 using a while loop:\n",
    "sum = 0 \n",
    "for i in range(0,101):\n",
    "    sum = sum +i \n",
    "print(\"Sum of numbers from 0 to 100 is:\", sum)"
   ]
  },
  {
   "cell_type": "code",
   "execution_count": 4,
   "id": "e8e44ed4",
   "metadata": {},
   "outputs": [
    {
     "name": "stdout",
     "output_type": "stream",
     "text": [
      "2\n",
      "3\n",
      "5\n",
      "7\n",
      "11\n",
      "13\n",
      "17\n",
      "19\n",
      "23\n",
      "29\n",
      "31\n",
      "37\n",
      "41\n",
      "43\n",
      "47\n"
     ]
    }
   ],
   "source": [
    "#Find all prime numbers between 1 and 50 using nested for and if:\n",
    "for num in range(2, 51):\n",
    "    for i in range(2, num):\n",
    "        if num % i == 0:\n",
    "            break\n",
    "    else:\n",
    "        print(num)\n",
    "\n",
    "    "
   ]
  },
  {
   "cell_type": "code",
   "execution_count": 5,
   "id": "d64db8ca",
   "metadata": {},
   "outputs": [
    {
     "name": "stdout",
     "output_type": "stream",
     "text": [
      "3\n",
      "5\n",
      "6\n",
      "9\n",
      "10\n",
      "12\n",
      "15\n",
      "18\n",
      "20\n"
     ]
    }
   ],
   "source": [
    "#Print numbers divisible by 3 or 5 from 1 to 20 using a for loop:\n",
    "for i in range(1, 21):\n",
    "    if i % 3 == 0 or i % 5 == 0:\n",
    "        print(i)"
   ]
  },
  {
   "cell_type": "code",
   "execution_count": 6,
   "id": "52cfd0e0",
   "metadata": {},
   "outputs": [
    {
     "name": "stdout",
     "output_type": "stream",
     "text": [
      "Squares of numbers from 1 to 5: [1, 4, 9, 16, 25]\n"
     ]
    }
   ],
   "source": [
    "#Print a list of squares of numbers from 1 to 5 using a list comprehension:\n",
    "squares = [i**2 for i in range(1, 6)]\n",
    "print(\"Squares of numbers from 1 to 5:\", squares)"
   ]
  },
  {
   "cell_type": "code",
   "execution_count": 7,
   "id": "7286bdd4",
   "metadata": {},
   "outputs": [
    {
     "name": "stdout",
     "output_type": "stream",
     "text": [
      "0\n",
      "1\n",
      "1\n",
      "2\n",
      "3\n",
      "5\n",
      "8\n",
      "13\n",
      "21\n",
      "34\n"
     ]
    }
   ],
   "source": [
    "#Print the Fibonacci sequence up to the 10th term using a while loop:\n",
    "a, b = 0, 1\n",
    "count = 0\n",
    "\n",
    "while count < 10:\n",
    "    print(a)\n",
    "    a, b = b, a + b\n",
    "    count += 1\n"
   ]
  },
  {
   "cell_type": "code",
   "execution_count": 8,
   "id": "526382cf",
   "metadata": {},
   "outputs": [
    {
     "name": "stdout",
     "output_type": "stream",
     "text": [
      "Common elements: [3, 4, 5]\n"
     ]
    }
   ],
   "source": [
    "#Find the common elements in two lists using a for loop:\n",
    "list1 = [1, 2, 3, 4, 5]\n",
    "list2 = [3, 4, 5, 6, 7]\n",
    "\n",
    "common = []\n",
    "\n",
    "for item in list1:\n",
    "    if item in list2:\n",
    "        common.append(item)\n",
    "\n",
    "print(\"Common elements:\", common)\n"
   ]
  },
  {
   "cell_type": "code",
   "execution_count": 11,
   "id": "6b0285a8",
   "metadata": {},
   "outputs": [
    {
     "name": "stdout",
     "output_type": "stream",
     "text": [
      "1\n",
      "2\n",
      "3\n"
     ]
    }
   ],
   "source": [
    "#Print numbers in a list until a negative number is encountered using a while loop:\n",
    "numbers = [1, 2, 3, -1, 4, 5]\n",
    "for number in numbers:\n",
    "    if number <0:\n",
    "        break\n",
    "    print(number)"
   ]
  },
  {
   "cell_type": "code",
   "execution_count": 12,
   "id": "5bed6a86",
   "metadata": {},
   "outputs": [
    {
     "name": "stdout",
     "output_type": "stream",
     "text": [
      "1\n",
      "2\n",
      "4\n",
      "5\n"
     ]
    }
   ],
   "source": [
    "#Print numbers from 1 to 5, except 3 using a for loop and continue statement:\n",
    "for i in range(1, 6):\n",
    "    if i == 3:\n",
    "        continue\n",
    "    print(i)"
   ]
  },
  {
   "cell_type": "code",
   "execution_count": 14,
   "id": "42911d8b",
   "metadata": {},
   "outputs": [
    {
     "name": "stdout",
     "output_type": "stream",
     "text": [
      "1\n",
      "2\n",
      "3\n"
     ]
    }
   ],
   "source": [
    "#Print numbers from 1 to 10. If a number is divisible by 4, stop the loop using a for loop and break statement:\n",
    "for i in range(1, 11):\n",
    "    if i % 4 == 0:\n",
    "        break\n",
    "    print(i)"
   ]
  },
  {
   "cell_type": "code",
   "execution_count": 15,
   "id": "d01a2a7e",
   "metadata": {},
   "outputs": [
    {
     "name": "stdout",
     "output_type": "stream",
     "text": [
      "1\n",
      "3\n",
      "5\n",
      "7\n",
      "9\n"
     ]
    }
   ],
   "source": [
    "#Print numbers from 1 to 10. If a number is even, skip it using a for loop and else clause:\n",
    "for i in range(1, 11):\n",
    "    if i % 2 == 0:\n",
    "        continue\n",
    "    print(i)"
   ]
  },
  {
   "cell_type": "code",
   "execution_count": 16,
   "id": "589fdb18",
   "metadata": {},
   "outputs": [
    {
     "name": "stdout",
     "output_type": "stream",
     "text": [
      "1\n"
     ]
    }
   ],
   "source": [
    "#Print numbers from 1 to 10. If a number is even, break the loop using a for loop and else clause:\n",
    "for i in range(1, 11):\n",
    "    if i % 2 == 0:\n",
    "        break\n",
    "    print(i)"
   ]
  },
  {
   "cell_type": "code",
   "execution_count": null,
   "id": "68185c26",
   "metadata": {},
   "outputs": [
    {
     "data": {
      "text/plain": [
       "3"
      ]
     },
     "execution_count": 17,
     "metadata": {},
     "output_type": "execute_result"
    }
   ],
   "source": []
  },
  {
   "cell_type": "code",
   "execution_count": null,
   "id": "e4eb6e26",
   "metadata": {},
   "outputs": [],
   "source": []
  }
 ],
 "metadata": {
  "kernelspec": {
   "display_name": "base",
   "language": "python",
   "name": "python3"
  },
  "language_info": {
   "codemirror_mode": {
    "name": "ipython",
    "version": 3
   },
   "file_extension": ".py",
   "mimetype": "text/x-python",
   "name": "python",
   "nbconvert_exporter": "python",
   "pygments_lexer": "ipython3",
   "version": "3.12.7"
  }
 },
 "nbformat": 4,
 "nbformat_minor": 5
}
