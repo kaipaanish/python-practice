{
 "cells": [
  {
   "cell_type": "code",
   "execution_count": 1,
   "id": "864c98d7-065d-48dd-953b-0c43c5ab7667",
   "metadata": {},
   "outputs": [
    {
     "name": "stdout",
     "output_type": "stream",
     "text": [
      "8\n",
      "0.0\n",
      "275\n",
      "1.5\n",
      "8\n",
      "1\n",
      "1\n"
     ]
    }
   ],
   "source": [
    "print(3 + 5)\n",
    "print(3.5 - 3.5)\n",
    "print(5 * 55)\n",
    "print(3 / 2)\n",
    "print(2 ** 3)\n",
    "print(7 % 2)\n",
    "print(3 // 2)"
   ]
  },
  {
   "cell_type": "code",
   "execution_count": 2,
   "id": "564840fd-4110-441f-bd0a-8634cef4f2e5",
   "metadata": {},
   "outputs": [
    {
     "name": "stdout",
     "output_type": "stream",
     "text": [
      "<class 'int'>\n",
      "<class 'float'>\n",
      "<class 'complex'>\n",
      "<class 'str'>\n",
      "<class 'dict'>\n",
      "<class 'list'>\n",
      "<class 'set'>\n",
      "<class 'tuple'>\n",
      "<class 'bool'>\n",
      "False\n"
     ]
    }
   ],
   "source": [
    "print(type(10)) #int\n",
    "print(type(1.1)) #float\n",
    "print(type(3 + 2j)) #complex\n",
    "print(type(\"kaipa\")) #string\n",
    "print(type({'name':'senapati'})) #dictionary will be used in cases like student name, roll_number, grade \n",
    "print(type([1,2,3])) #list\n",
    "print(type({1,2,1.1,1.1})) #set doesnt accept duplicates\n",
    "print(type((1.1,1.1,1))) #kmmm doesnt accepts duplicates and follows a accending \n",
    "print(type(3 == 4)) \n",
    "print(3 == 4)\n"
   ]
  },
  {
   "cell_type": "code",
   "execution_count": 12,
   "id": "d7fb546c-9e4f-41ee-b6db-50877168f765",
   "metadata": {},
   "outputs": [
    {
     "name": "stdout",
     "output_type": "stream",
     "text": [
      "The list contains duplicates\n",
      "this is the original list [1, 1, 1, 2, 3, 4, 5]\n",
      "this is the list after removing duplicates {1, 2, 3, 4, 5}\n"
     ]
    }
   ],
   "source": [
    "list1 = [1,1,1,2,3,4,5]\n",
    "if len(list1) != len(set(list1)):\n",
    "    print(\"The list contains duplicates\")\n",
    "    print(\"this is the original list %s\" % list1)\n",
    "    print(\"this is the list after removing duplicates %s\" % set(list1))"
   ]
  },
  {
   "cell_type": "code",
   "execution_count": 14,
   "id": "bab3a80e-1ed8-4877-94bc-4e787ac17722",
   "metadata": {},
   "outputs": [
    {
     "name": "stdout",
     "output_type": "stream",
     "text": [
      "(9, 8, 7, 1, 1, 5)\n"
     ]
    }
   ],
   "source": [
    "tuple1 = (9,8,7,1,1,5) \n",
    "print(tuple1)"
   ]
  },
  {
   "cell_type": "code",
   "execution_count": 5,
   "id": "550ac4a1-c98e-4bcc-8318-c547451df76b",
   "metadata": {},
   "outputs": [
    {
     "name": "stdout",
     "output_type": "stream",
     "text": [
      "{1, 2, 4}\n"
     ]
    }
   ],
   "source": [
    "set1 = {2,2,4,1,1}\n",
    "print(set1)"
   ]
  },
  {
   "cell_type": "code",
   "execution_count": 115,
   "id": "ea94cd64-38d4-4080-a28e-1c8eeae4073b",
   "metadata": {},
   "outputs": [
    {
     "name": "stdout",
     "output_type": "stream",
     "text": [
      "Kaipa Anish\n"
     ]
    }
   ],
   "source": [
    "first_name = 'Kaipa'\n",
    "last_name = 'Anish'\n",
    "job = \"Student\"\n",
    "place = \"Hyderabad\"\n",
    "full_name = first_name  + \" \" + last_name\n",
    "print(full_name)\n"
   ]
  },
  {
   "cell_type": "code",
   "execution_count": 35,
   "id": "1dc8f43e-a971-49c1-90e0-1ba79eebbac2",
   "metadata": {},
   "outputs": [
    {
     "name": "stdout",
     "output_type": "stream",
     "text": [
      "False\n"
     ]
    }
   ],
   "source": [
    "print(len(first_name) > len(last_name))"
   ]
  },
  {
   "cell_type": "code",
   "execution_count": 45,
   "id": "3107d047-6566-48bf-a195-04e693baffdb",
   "metadata": {},
   "outputs": [
    {
     "name": "stdout",
     "output_type": "stream",
     "text": [
      "P\n",
      "y\n",
      "t\n",
      "h\n",
      "o\n",
      "n\n"
     ]
    }
   ],
   "source": [
    "language = \"Python\"\n",
    "a,b,c,d,e,f= language # unpacking sequence characters into variables\n",
    "print(a) # P\n",
    "print(b) # y\n",
    "print(c) # t \n",
    "print(d) # h\n",
    "print(e) # o\n",
    "print(f) # n"
   ]
  },
  {
   "cell_type": "code",
   "execution_count": 61,
   "id": "fd3b6636-6e6d-46c8-b7fd-e5a6d7331240",
   "metadata": {},
   "outputs": [
    {
     "name": "stdout",
     "output_type": "stream",
     "text": [
      "Pto\n",
      "yo\n"
     ]
    }
   ],
   "source": [
    "first_letter = language[0]\n",
    "first_letter\n",
    "last_letter = language [-1]\n",
    "last_letter\n",
    "print(language[0:6:2])\n",
    "print(language[1:6:3])\n"
   ]
  },
  {
   "cell_type": "code",
   "execution_count": 63,
   "id": "3c143b83-964a-4aa1-8f93-aabc7496de32",
   "metadata": {},
   "outputs": [
    {
     "name": "stdout",
     "output_type": "stream",
     "text": [
      "I hope every one enjoying the python challenge.\n",
      "Do you ?\n",
      "Days\tTopics\tExercises\n",
      "Day 1\t3\t5\n",
      "Day 2\t3\t5\n",
      "Day 3\t3\t5\n",
      "Day 4\t3\t5\n",
      "This is a back slash  symbol (\\)\n",
      "In every programming language it starts with \"Hello, World!\"\n"
     ]
    }
   ],
   "source": [
    "print('I hope every one enjoying the python challenge.\\nDo you ?') # line break\n",
    "print('Days\\tTopics\\tExercises')\n",
    "print('Day 1\\t3\\t5')\n",
    "print('Day 2\\t3\\t5')\n",
    "print('Day 3\\t3\\t5')\n",
    "print('Day 4\\t3\\t5')\n",
    "print('This is a back slash  symbol (\\\\)') # To write a back slash\n",
    "print('In every programming language it starts with \\\"Hello, World!\\\"')"
   ]
  },
  {
   "cell_type": "code",
   "execution_count": 67,
   "id": "679fc982-7677-448d-b9e7-0aaead3ae6de",
   "metadata": {},
   "outputs": [
    {
     "name": "stdout",
     "output_type": "stream",
     "text": [
      "ur first anme is Kaipa and ur last name is Anish\n"
     ]
    }
   ],
   "source": [
    "print(f\"ur first anme is {first_name} and ur last name is {last_name}\") # i used a f before \" \" this is a f string"
   ]
  },
  {
   "cell_type": "code",
   "execution_count": 99,
   "id": "0da8ee3f-371e-4eeb-a60c-f926300017a8",
   "metadata": {},
   "outputs": [
    {
     "name": "stdout",
     "output_type": "stream",
     "text": [
      "Hi perform different operations on me\n",
      "2\n",
      "1\n",
      "3\n",
      "1\n",
      "False\n",
      "True\n"
     ]
    }
   ],
   "source": [
    "tasks = \"hi perform different operations on me\"\n",
    "print(tasks.capitalize()) \n",
    "print(tasks.count('p')) # repetition of a string\n",
    "print(tasks.count('f', 7, 14)) # 7 and 14 are indexes u are checkin gor occurance of f form index 7-13\n",
    "print(tasks.count(\"f\"))\n",
    "print(tasks.count('op')) \n",
    "print(tasks.endswith(\"on\"))\n",
    "print(tasks.endswith(\"me\"))"
   ]
  },
  {
   "cell_type": "code",
   "execution_count": 101,
   "id": "9d0c288b-ff5e-4cf5-a5e1-7974686f23d2",
   "metadata": {},
   "outputs": [
    {
     "name": "stdout",
     "output_type": "stream",
     "text": [
      "3\n",
      "13\n"
     ]
    }
   ],
   "source": [
    "print(tasks.find(\"p\")) #finds the index of the given string\n",
    "print(tasks.find (\"ff\"))"
   ]
  },
  {
   "cell_type": "code",
   "execution_count": 111,
   "id": "baad7312-43d0-4baa-a80a-a05afbf53e6b",
   "metadata": {},
   "outputs": [
    {
     "name": "stdout",
     "output_type": "stream",
     "text": [
      "hi      perform different       operations      on      me\n",
      "hi         perform    different  operations on         me\n"
     ]
    }
   ],
   "source": [
    "tasks = \"hi\\tperform\\tdifferent\\toperations\\ton\\tme\"\n",
    "print(tasks.expandtabs()) #it make sures the word starts on the 8 factors but not give 8 spaces every time\n",
    "print(tasks.expandtabs(11))"
   ]
  },
  {
   "cell_type": "code",
   "execution_count": 119,
   "id": "38b1ef90-1eb2-44f1-b8c7-89741f9e7f34",
   "metadata": {},
   "outputs": [
    {
     "name": "stdout",
     "output_type": "stream",
     "text": [
      "Hi my first name is Kaipa and my second name is Anish im a Student from Hyderabad\n"
     ]
    }
   ],
   "source": [
    "print(\"Hi my first name is {} and my second name is {} im a {} from {}\". format(first_name, last_name, job, place))"
   ]
  },
  {
   "cell_type": "code",
   "execution_count": 125,
   "id": "abd5965b-a01c-4795-8c70-0425b039a416",
   "metadata": {},
   "outputs": [
    {
     "name": "stdout",
     "output_type": "stream",
     "text": [
      "3.12.7 | packaged by Anaconda, Inc. | (main, Oct  4 2024, 13:17:27) [MSC v.1929 64 bit (AMD64)]\n"
     ]
    }
   ],
   "source": [
    "import sys\n",
    "print(sys.version)"
   ]
  },
  {
   "cell_type": "code",
   "execution_count": 129,
   "id": "3c2f060c-2f36-48b2-9f4e-fa0ad38bc684",
   "metadata": {},
   "outputs": [
    {
     "name": "stdout",
     "output_type": "stream",
     "text": [
      "the radius of the circle is 314.0 \n"
     ]
    }
   ],
   "source": [
    "r = 10\n",
    "pi = 3.14\n",
    "area = pi * r**2\n",
    "print(\"the radius of the circle is {} \" .format(area))"
   ]
  },
  {
   "cell_type": "code",
   "execution_count": 141,
   "id": "d6681b11-4c66-4d71-ba34-67e59683c974",
   "metadata": {},
   "outputs": [
    {
     "name": "stdout",
     "output_type": "stream",
     "text": [
      "False\n",
      "True\n",
      "False\n",
      "False\n",
      "False\n",
      "False\n",
      "False\n",
      "True\n"
     ]
    }
   ],
   "source": [
    "tasks = \"hi perform different operations on me\"\n",
    "print(tasks.isalpha()) # false because spaces are given\n",
    "print(first_name.isalpha())\n",
    "print(tasks.isalnum())\n",
    "print(tasks.isdecimal())\n",
    "print(tasks.isdigit())\n",
    "print(tasks.isidentifier()) #check if its a valid identifier \n",
    "print(tasks.isupper())\n",
    "print(tasks.islower())\n"
   ]
  },
  {
   "cell_type": "code",
   "execution_count": 147,
   "id": "2fd698b5-5107-4e68-a45c-7fe25517aea2",
   "metadata": {},
   "outputs": [
    {
     "name": "stdout",
     "output_type": "stream",
     "text": [
      "html#, css#, java\n"
     ]
    }
   ],
   "source": [
    "skills = [\"html\", \"css\" , \"java\"]\n",
    "result = \"#, \".join(skills)\n",
    "print(result)"
   ]
  },
  {
   "cell_type": "code",
   "execution_count": 165,
   "id": "542072d2-0bcf-46fb-9cb5-2b1fadea1112",
   "metadata": {},
   "outputs": [
    {
     "name": "stdout",
     "output_type": "stream",
     "text": [
      "y days of python \n",
      "thirty days of python t\n"
     ]
    }
   ],
   "source": [
    "challenge = 'thirty days of python t'\n",
    "print(challenge.strip(\"thir\"))\n",
    "print(challenge.strip('of')) # removes the given string from the ebgining and the ending of the string but not in between"
   ]
  },
  {
   "cell_type": "code",
   "execution_count": 167,
   "id": "8ef43bea-a775-4c4c-91ff-3479c6d79fd9",
   "metadata": {},
   "outputs": [
    {
     "name": "stdout",
     "output_type": "stream",
     "text": [
      "hi perform different tasks on me\n"
     ]
    }
   ],
   "source": [
    "print(tasks.replace(\"operations\" , \"tasks\"))"
   ]
  },
  {
   "cell_type": "code",
   "execution_count": 179,
   "id": "076cbcbb-2b7d-4ca8-99e0-3eb8bc493930",
   "metadata": {},
   "outputs": [
    {
     "name": "stdout",
     "output_type": "stream",
     "text": [
      "['hi', 'perform', 'different', 'operations', 'on', 'me']\n"
     ]
    }
   ],
   "source": [
    "print(tasks.split())"
   ]
  },
  {
   "cell_type": "code",
   "execution_count": 185,
   "id": "ef5d0261-1356-4bf6-91b5-ed1958d49712",
   "metadata": {},
   "outputs": [
    {
     "name": "stdout",
     "output_type": "stream",
     "text": [
      "Hi Perform Different Operations On Me\n"
     ]
    }
   ],
   "source": [
    "print(tasks.title())"
   ]
  },
  {
   "cell_type": "code",
   "execution_count": 187,
   "id": "646376bd-3d9b-47cd-9a80-aedaf20e9646",
   "metadata": {},
   "outputs": [
    {
     "name": "stdout",
     "output_type": "stream",
     "text": [
      "HI PERFORM DIFFERENT OPERATIONS ON ME\n"
     ]
    }
   ],
   "source": [
    "print(tasks.swapcase())"
   ]
  },
  {
   "cell_type": "code",
   "execution_count": null,
   "id": "5d77e93c-465f-410d-85e1-07b196a5cbd8",
   "metadata": {},
   "outputs": [],
   "source": []
  }
 ],
 "metadata": {
  "kernelspec": {
   "display_name": "Python [conda env:base] *",
   "language": "python",
   "name": "conda-base-py"
  },
  "language_info": {
   "codemirror_mode": {
    "name": "ipython",
    "version": 3
   },
   "file_extension": ".py",
   "mimetype": "text/x-python",
   "name": "python",
   "nbconvert_exporter": "python",
   "pygments_lexer": "ipython3",
   "version": "3.12.7"
  }
 },
 "nbformat": 4,
 "nbformat_minor": 5
}
