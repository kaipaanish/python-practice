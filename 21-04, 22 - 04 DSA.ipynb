{
 "cells": [
  {
   "cell_type": "markdown",
   "id": "d7764fcb-04bd-41b4-a920-f38f56d72ffa",
   "metadata": {},
   "source": [
    "# DSA is of 2 types 1)user defined , 2) inbuilt\n",
    "# lists,tuples,set,dictionary are inbuilt DSA\n",
    "# stack linked list, array,  tree are used defined"
   ]
  },
  {
   "cell_type": "code",
   "execution_count": 60,
   "id": "c525e28a-15cf-44d6-9a9e-43011150eb45",
   "metadata": {},
   "outputs": [
    {
     "data": {
      "text/plain": [
       "int"
      ]
     },
     "execution_count": 60,
     "metadata": {},
     "output_type": "execute_result"
    }
   ],
   "source": [
    "i = 5\n",
    "type(i)"
   ]
  },
  {
   "cell_type": "code",
   "execution_count": 62,
   "id": "cc86a610-03ac-4f76-92a2-2ac512fc4244",
   "metadata": {},
   "outputs": [],
   "source": [
    "#lists"
   ]
  },
  {
   "cell_type": "code",
   "execution_count": 64,
   "id": "60eca761-449f-477c-9f47-9a669c811f24",
   "metadata": {},
   "outputs": [],
   "source": [
    "list1 = [10,20,30,40,50,10]\n"
   ]
  },
  {
   "cell_type": "code",
   "execution_count": 66,
   "id": "e8c2c450-189b-48cd-9a33-747d291a9019",
   "metadata": {},
   "outputs": [
    {
     "data": {
      "text/plain": [
       "list"
      ]
     },
     "execution_count": 66,
     "metadata": {},
     "output_type": "execute_result"
    }
   ],
   "source": [
    "type(list1)"
   ]
  },
  {
   "cell_type": "code",
   "execution_count": 68,
   "id": "3d0b0b9c-3c8b-4084-b845-64b1896b764b",
   "metadata": {},
   "outputs": [
    {
     "name": "stdout",
     "output_type": "stream",
     "text": [
      "for set we use flower brackets {877, 422, 988, 333, 222}\n"
     ]
    }
   ],
   "source": [
    "set1 = {222,422,333,988,877}\n",
    "print(f\"for set we use flower brackets {set1}\")"
   ]
  },
  {
   "cell_type": "code",
   "execution_count": 70,
   "id": "264ea013-0c53-42ef-ab4e-f02aa3fae713",
   "metadata": {},
   "outputs": [
    {
     "data": {
      "text/plain": [
       "set"
      ]
     },
     "execution_count": 70,
     "metadata": {},
     "output_type": "execute_result"
    }
   ],
   "source": [
    "type(set1)\n"
   ]
  },
  {
   "cell_type": "code",
   "execution_count": 72,
   "id": "908bd339-3da0-4054-8e88-44677c3a47e1",
   "metadata": {},
   "outputs": [
    {
     "name": "stdout",
     "output_type": "stream",
     "text": [
      "for tuple we use normal brackets (14, 5, 1, 2, 2, 11, 3, 1)\n",
      "<class 'tuple'>\n"
     ]
    }
   ],
   "source": [
    "tuple1 = (14,5,1,2,2,11,3,1)\n",
    "print(f\"for tuple we use normal brackets {tuple1}\")\n",
    "print(type(tuple1))"
   ]
  },
  {
   "cell_type": "code",
   "execution_count": 74,
   "id": "6a598702-a710-45e9-b670-668ae9368d40",
   "metadata": {},
   "outputs": [],
   "source": [
    "list1.append(60) #append wil ad the vale to the last index of list"
   ]
  },
  {
   "cell_type": "code",
   "execution_count": 76,
   "id": "02ff0511-c67a-4251-8c8e-b86404fc6572",
   "metadata": {},
   "outputs": [
    {
     "data": {
      "text/plain": [
       "[10, 20, 30, 40, 50, 10, 60]"
      ]
     },
     "execution_count": 76,
     "metadata": {},
     "output_type": "execute_result"
    }
   ],
   "source": [
    "list1"
   ]
  },
  {
   "cell_type": "code",
   "execution_count": 78,
   "id": "f13df53b-b51a-4c10-ad2a-25d3cc248003",
   "metadata": {},
   "outputs": [
    {
     "data": {
      "text/plain": [
       "7"
      ]
     },
     "execution_count": 78,
     "metadata": {},
     "output_type": "execute_result"
    }
   ],
   "source": [
    "len(list1)"
   ]
  },
  {
   "cell_type": "code",
   "execution_count": 80,
   "id": "49cde27a-eb24-499e-8cae-990fb790cb85",
   "metadata": {},
   "outputs": [
    {
     "data": {
      "text/plain": [
       "[10, 20, 30, 40, 50, 10, 60]"
      ]
     },
     "execution_count": 80,
     "metadata": {},
     "output_type": "execute_result"
    }
   ],
   "source": [
    "l1 = list1.copy()\n",
    "l1"
   ]
  },
  {
   "cell_type": "code",
   "execution_count": null,
   "id": "767cf3c2-5b26-42e3-8b8a-469b5adfaccc",
   "metadata": {},
   "outputs": [],
   "source": []
  },
  {
   "cell_type": "code",
   "execution_count": 83,
   "id": "2520cb93-8b5f-4d1d-af99-b33c9c62ae73",
   "metadata": {},
   "outputs": [],
   "source": [
    "l1.append(2.2)\n",
    "l1.append(\"anish\")\n",
    "l1.append(1 + 2j)\n",
    "l1.append([1,2,3,4])"
   ]
  },
  {
   "cell_type": "markdown",
   "id": "1c26e0ee-2aaf-4542-8a1b-e245062c2fc1",
   "metadata": {},
   "source": [
    "l1"
   ]
  },
  {
   "cell_type": "code",
   "execution_count": 86,
   "id": "a08811eb-2585-42af-af47-252f399498fe",
   "metadata": {},
   "outputs": [
    {
     "data": {
      "text/plain": [
       "[10, 20, 30, 40, 50, 10, 60, 2.2, 'anish', (1+2j), [1, 2, 3, 4]]"
      ]
     },
     "execution_count": 86,
     "metadata": {},
     "output_type": "execute_result"
    }
   ],
   "source": [
    "l1\n"
   ]
  },
  {
   "cell_type": "code",
   "execution_count": 88,
   "id": "49022762-b179-49e9-b6e1-77de0e1c0db7",
   "metadata": {},
   "outputs": [
    {
     "name": "stdout",
     "output_type": "stream",
     "text": [
      "11\n",
      "7\n"
     ]
    }
   ],
   "source": [
    "print(len(l1))\n",
    "print(len(list1))"
   ]
  },
  {
   "cell_type": "code",
   "execution_count": 90,
   "id": "4966db02-156a-4eaa-8d48-2d8f611c678f",
   "metadata": {},
   "outputs": [],
   "source": [
    "list1[0] = 100"
   ]
  },
  {
   "cell_type": "code",
   "execution_count": 92,
   "id": "3e356db3-f44b-4248-8626-e33b27e3b2ed",
   "metadata": {},
   "outputs": [
    {
     "data": {
      "text/plain": [
       "[100, 20, 30, 40, 50, 10, 60]"
      ]
     },
     "execution_count": 92,
     "metadata": {},
     "output_type": "execute_result"
    }
   ],
   "source": [
    "list1"
   ]
  },
  {
   "cell_type": "code",
   "execution_count": null,
   "id": "a75e393e-a9b4-4e35-9f6b-eea5f43eaf4b",
   "metadata": {},
   "outputs": [],
   "source": []
  },
  {
   "cell_type": "code",
   "execution_count": 95,
   "id": "a3292623-a992-4f35-ad34-adf78d88da87",
   "metadata": {},
   "outputs": [
    {
     "name": "stdout",
     "output_type": "stream",
     "text": [
      "{1, 3, 4, 5, 6}\n"
     ]
    }
   ],
   "source": [
    "set2 = {1, 5, 6, 4, 3}\n",
    "print(set2)"
   ]
  },
  {
   "cell_type": "code",
   "execution_count": 97,
   "id": "dab6e3a4-e773-4c2a-a41d-a73db5da1af1",
   "metadata": {},
   "outputs": [
    {
     "data": {
      "text/plain": [
       "8"
      ]
     },
     "execution_count": 97,
     "metadata": {},
     "output_type": "execute_result"
    }
   ],
   "source": [
    "l1.index(\"anish\")"
   ]
  },
  {
   "cell_type": "code",
   "execution_count": 99,
   "id": "488ab4e0-71ac-4d01-88bc-9a37dee5f02e",
   "metadata": {},
   "outputs": [
    {
     "data": {
      "text/plain": [
       "'anish'"
      ]
     },
     "execution_count": 99,
     "metadata": {},
     "output_type": "execute_result"
    }
   ],
   "source": [
    "l1[8]"
   ]
  },
  {
   "cell_type": "code",
   "execution_count": 101,
   "id": "7f1e7c51-5b34-47c7-9159-f9dad146e4c1",
   "metadata": {},
   "outputs": [
    {
     "data": {
      "text/plain": [
       "[10, 20, 30, 40, 50, 10, 60, 2.2, 'anish', (1+2j), [1, 2, 3, 4]]"
      ]
     },
     "execution_count": 101,
     "metadata": {},
     "output_type": "execute_result"
    }
   ],
   "source": [
    "l1"
   ]
  },
  {
   "cell_type": "code",
   "execution_count": 103,
   "id": "8f666337-76fa-4b0d-8eec-2e76b9e0205e",
   "metadata": {},
   "outputs": [],
   "source": [
    "l1.remove([1,2,3,4]) #if no argument given it will remove the element in 1st index"
   ]
  },
  {
   "cell_type": "code",
   "execution_count": 105,
   "id": "de84ccb5-38d4-492d-bac3-4d60377be0bb",
   "metadata": {},
   "outputs": [
    {
     "data": {
      "text/plain": [
       "[10, 20, 30, 40, 50, 10, 60, 2.2, 'anish', (1+2j)]"
      ]
     },
     "execution_count": 105,
     "metadata": {},
     "output_type": "execute_result"
    }
   ],
   "source": [
    "l1\n"
   ]
  },
  {
   "cell_type": "code",
   "execution_count": 107,
   "id": "f7c2cd47-417a-4d6a-8dfc-a4fa5e767505",
   "metadata": {},
   "outputs": [
    {
     "data": {
      "text/plain": [
       "[10, 20, 30, 40, 50, 10, 60, 2.2, 'anish', (1+2j)]"
      ]
     },
     "execution_count": 107,
     "metadata": {},
     "output_type": "execute_result"
    }
   ],
   "source": [
    "l1"
   ]
  },
  {
   "cell_type": "code",
   "execution_count": 110,
   "id": "cb5a3415-50b5-4a1c-bc78-7ce0931d8c52",
   "metadata": {},
   "outputs": [],
   "source": [
    "l1.insert(2,25)"
   ]
  },
  {
   "cell_type": "code",
   "execution_count": 57,
   "id": "920f0db2-8b3f-4354-8352-98e3581be716",
   "metadata": {},
   "outputs": [
    {
     "data": {
      "text/plain": [
       "[10, 20, 25, 30, 40, 50, 10, 60, 2.2, 'anish', (1+2j)]"
      ]
     },
     "execution_count": 57,
     "metadata": {},
     "output_type": "execute_result"
    }
   ],
   "source": [
    "l1"
   ]
  },
  {
   "cell_type": "code",
   "execution_count": 116,
   "id": "7b9f106a-9114-4c79-a5a1-68a52d23634c",
   "metadata": {},
   "outputs": [
    {
     "data": {
      "text/plain": [
       "(1+2j)"
      ]
     },
     "execution_count": 116,
     "metadata": {},
     "output_type": "execute_result"
    }
   ],
   "source": [
    "l1.pop()"
   ]
  },
  {
   "cell_type": "code",
   "execution_count": 118,
   "id": "9841f50d-efda-428a-bda2-35743fcd5630",
   "metadata": {},
   "outputs": [],
   "source": [
    "#for pop will remove by index but remove will remove by value of the elemoent"
   ]
  },
  {
   "cell_type": "code",
   "execution_count": 120,
   "id": "c0cc593f-bae4-4dac-9118-2be3bbc348fe",
   "metadata": {},
   "outputs": [
    {
     "ename": "TypeError",
     "evalue": "'<' not supported between instances of 'str' and 'int'",
     "output_type": "error",
     "traceback": [
      "\u001b[1;31m---------------------------------------------------------------------------\u001b[0m",
      "\u001b[1;31mTypeError\u001b[0m                                 Traceback (most recent call last)",
      "Cell \u001b[1;32mIn[120], line 1\u001b[0m\n\u001b[1;32m----> 1\u001b[0m l1\u001b[38;5;241m.\u001b[39msort()\n",
      "\u001b[1;31mTypeError\u001b[0m: '<' not supported between instances of 'str' and 'int'"
     ]
    }
   ],
   "source": [
    "l1.sort()"
   ]
  },
  {
   "cell_type": "code",
   "execution_count": 122,
   "id": "49d81af7-0852-4226-9471-36be4fdf4492",
   "metadata": {},
   "outputs": [],
   "source": [
    "l3 = [3,2,1,6,3,7,1]\n",
    "l3.sort()\n",
    "\n"
   ]
  },
  {
   "cell_type": "code",
   "execution_count": 124,
   "id": "5bce2bf1-aa47-4e7f-bec3-d9d9e26671ba",
   "metadata": {},
   "outputs": [
    {
     "data": {
      "text/plain": [
       "[1, 1, 2, 3, 3, 6, 7]"
      ]
     },
     "execution_count": 124,
     "metadata": {},
     "output_type": "execute_result"
    }
   ],
   "source": [
    "l3"
   ]
  },
  {
   "cell_type": "code",
   "execution_count": 128,
   "id": "a3f8ad10-b749-433a-8146-d8734faa9daf",
   "metadata": {},
   "outputs": [],
   "source": [
    "l3.sort(reverse = True)"
   ]
  },
  {
   "cell_type": "code",
   "execution_count": 130,
   "id": "0666ec61-8911-440d-b908-9af53685ca35",
   "metadata": {},
   "outputs": [
    {
     "data": {
      "text/plain": [
       "[7, 6, 3, 3, 2, 1, 1]"
      ]
     },
     "execution_count": 130,
     "metadata": {},
     "output_type": "execute_result"
    }
   ],
   "source": [
    "l3"
   ]
  },
  {
   "cell_type": "code",
   "execution_count": null,
   "id": "50d1aa12-e3d0-49a9-9981-d767864236e5",
   "metadata": {},
   "outputs": [],
   "source": []
  }
 ],
 "metadata": {
  "kernelspec": {
   "display_name": "Python [conda env:base] *",
   "language": "python",
   "name": "conda-base-py"
  },
  "language_info": {
   "codemirror_mode": {
    "name": "ipython",
    "version": 3
   },
   "file_extension": ".py",
   "mimetype": "text/x-python",
   "name": "python",
   "nbconvert_exporter": "python",
   "pygments_lexer": "ipython3",
   "version": "3.12.7"
  }
 },
 "nbformat": 4,
 "nbformat_minor": 5
}
