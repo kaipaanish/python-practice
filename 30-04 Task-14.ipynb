{
 "cells": [
  {
   "cell_type": "code",
   "execution_count": 2,
   "id": "b2a9219a-3f4a-4f9a-9d5c-db064f927dc2",
   "metadata": {},
   "outputs": [],
   "source": [
    "import numpy as np"
   ]
  },
  {
   "cell_type": "code",
   "execution_count": 4,
   "id": "61e7eb91-e45f-495a-ba1f-833184e60a33",
   "metadata": {},
   "outputs": [
    {
     "data": {
      "text/plain": [
       "'1.26.4'"
      ]
     },
     "execution_count": 4,
     "metadata": {},
     "output_type": "execute_result"
    }
   ],
   "source": [
    "np.__version__"
   ]
  },
  {
   "cell_type": "code",
   "execution_count": 6,
   "id": "ea6e2d0b-68a7-4319-a230-ae9579f7e9f9",
   "metadata": {},
   "outputs": [
    {
     "name": "stdout",
     "output_type": "stream",
     "text": [
      "The elements in list 1 are [0, 1, 2, 3, 4] and the elements in list 2 are [5, 6, 7, 8, 9]\n"
     ]
    }
   ],
   "source": [
    "l = [0,1,2,3,4]\n",
    "l1 = [5,6,7,8,9]\n",
    "print(f\"The elements in list 1 are {l} and the elements in list 2 are {l1}\")"
   ]
  },
  {
   "cell_type": "code",
   "execution_count": 8,
   "id": "22cdcc73-2478-484a-a5c6-de8015a470af",
   "metadata": {},
   "outputs": [
    {
     "name": "stdin",
     "output_type": "stream",
     "text": [
      "Enter 5 numbers separated by spaces:  1 2 3 4 5\n"
     ]
    }
   ],
   "source": [
    "\n",
    "user_input = input(\"Enter 5 numbers separated by spaces: \")\n",
    "\n",
    "user_list = list(map(int, user_input.split()))"
   ]
  },
  {
   "cell_type": "code",
   "execution_count": 10,
   "id": "c6f66d98-66ce-4ce0-8ace-b68ded7a16ce",
   "metadata": {},
   "outputs": [
    {
     "data": {
      "text/plain": [
       "[1, 2, 3, 4, 5]"
      ]
     },
     "execution_count": 10,
     "metadata": {},
     "output_type": "execute_result"
    }
   ],
   "source": [
    "user_list"
   ]
  },
  {
   "cell_type": "code",
   "execution_count": 12,
   "id": "04ec7cf8-87c8-49b2-b15c-e3e78f3ecf0e",
   "metadata": {},
   "outputs": [
    {
     "name": "stdin",
     "output_type": "stream",
     "text": [
      "Enter the values u want to add in the list seperated by a space :  33 44 55 66 77 88 99 \n"
     ]
    }
   ],
   "source": [
    "u1 = input(\"Enter the values u want to add in the list seperated by a space : \")"
   ]
  },
  {
   "cell_type": "code",
   "execution_count": 16,
   "id": "bfdebdb6-883c-4c25-9d25-b2f828b3f515",
   "metadata": {},
   "outputs": [],
   "source": [
    "ul1 = list(map(int, u1.split()))"
   ]
  },
  {
   "cell_type": "code",
   "execution_count": 18,
   "id": "30f92d38-143c-459a-b1d7-96c7c0ebc6f5",
   "metadata": {},
   "outputs": [
    {
     "name": "stdout",
     "output_type": "stream",
     "text": [
      "the list given is [33, 44, 55, 66, 77, 88, 99]\n"
     ]
    }
   ],
   "source": [
    "print(f\"the list given is {ul1}\")"
   ]
  },
  {
   "cell_type": "code",
   "execution_count": 20,
   "id": "717c2d50-df4a-4aa3-ab96-d27e6f1ac421",
   "metadata": {},
   "outputs": [
    {
     "name": "stdin",
     "output_type": "stream",
     "text": [
      "Enter the elements u want to add in the list seperated by a space:  1 2 3 4 5\n"
     ]
    }
   ],
   "source": [
    "u2 = input(\"Enter the elements u want to add in the list seperated by a space: \")"
   ]
  },
  {
   "cell_type": "code",
   "execution_count": 24,
   "id": "fdb05f8c-386b-4455-b28b-2ec7a9b6c70a",
   "metadata": {},
   "outputs": [
    {
     "name": "stdout",
     "output_type": "stream",
     "text": [
      "The elements after adding into the list are[1, 2, 3, 4, 5]\n"
     ]
    }
   ],
   "source": [
    "ul2 = list(map(int, u2.split()))\n",
    "print(f\"The elements after adding into the list are{ul2}\")"
   ]
  },
  {
   "cell_type": "code",
   "execution_count": 30,
   "id": "79577c95-b002-4d6a-9ae3-c518a2936e32",
   "metadata": {},
   "outputs": [
    {
     "name": "stdin",
     "output_type": "stream",
     "text": [
      "enter 5 elements which u wan to add int the list seperated by a space  :  1 2 3 4 5\n"
     ]
    }
   ],
   "source": [
    "new_list = list(map(int, input(\"enter 5 elements which u wan to add int the list seperated by a space  : \").split()))"
   ]
  },
  {
   "cell_type": "code",
   "execution_count": 32,
   "id": "3efdf4ff-70da-42df-ab45-1b677c66af04",
   "metadata": {},
   "outputs": [
    {
     "name": "stdout",
     "output_type": "stream",
     "text": [
      "the list created contains the elements[1, 2, 3, 4, 5]\n"
     ]
    }
   ],
   "source": [
    "print(f\"the list created contains the elements{new_list}\")"
   ]
  },
  {
   "cell_type": "code",
   "execution_count": 38,
   "id": "7d626f55-fd94-4707-90d0-3493d6807c55",
   "metadata": {},
   "outputs": [
    {
     "name": "stdin",
     "output_type": "stream",
     "text": [
      "enter 5 elements seperated by space : 33 44 7 63 81\n"
     ]
    },
    {
     "data": {
      "text/plain": [
       "[33, 44, 7, 63, 81]"
      ]
     },
     "execution_count": 38,
     "metadata": {},
     "output_type": "execute_result"
    }
   ],
   "source": [
    "new2 = list(map(int, input(\"enter 5 elements seperated by space :\").split()))\n",
    "new2"
   ]
  },
  {
   "cell_type": "code",
   "execution_count": 40,
   "id": "99e7c5fc-6673-482e-a972-7c985997b403",
   "metadata": {},
   "outputs": [
    {
     "name": "stdout",
     "output_type": "stream",
     "text": [
      "[1 2 3 4 5] [33 44  7 63 81]\n"
     ]
    }
   ],
   "source": [
    "arr1 = np.array(new_list)\n",
    "arr2 = np.array(new2)\n",
    "print(arr1,arr2)"
   ]
  },
  {
   "cell_type": "code",
   "execution_count": 42,
   "id": "1935e5ed-9145-4da4-a254-49e7a78aee9f",
   "metadata": {},
   "outputs": [
    {
     "data": {
      "text/plain": [
       "array([34, 46, 10, 67, 86])"
      ]
     },
     "execution_count": 42,
     "metadata": {},
     "output_type": "execute_result"
    }
   ],
   "source": [
    "arr3 = arr1 + arr2\n",
    "arr3"
   ]
  },
  {
   "cell_type": "code",
   "execution_count": 46,
   "id": "cc1804d1-f16d-4dda-a90e-2b4065b09bb3",
   "metadata": {},
   "outputs": [
    {
     "name": "stdout",
     "output_type": "stream",
     "text": [
      "[[ 1  2  3  4  5]\n",
      " [33 44  7 63 81]]\n"
     ]
    }
   ],
   "source": [
    "arr4 = np.array([arr1,arr2])\n",
    "print(arr4)"
   ]
  },
  {
   "cell_type": "code",
   "execution_count": 50,
   "id": "7bc5ba70-015a-4ba4-8dec-8b041765d560",
   "metadata": {},
   "outputs": [
    {
     "data": {
      "text/plain": [
       "array([0, 1, 2, 3, 4, 5, 6, 7, 8, 9])"
      ]
     },
     "execution_count": 50,
     "metadata": {},
     "output_type": "execute_result"
    }
   ],
   "source": [
    "np.arange(10)"
   ]
  },
  {
   "cell_type": "code",
   "execution_count": 52,
   "id": "4348248e-2083-4fe1-8541-0f70d4f5a628",
   "metadata": {},
   "outputs": [
    {
     "data": {
      "text/plain": [
       "array([0., 1., 2., 3., 4., 5., 6., 7., 8., 9.])"
      ]
     },
     "execution_count": 52,
     "metadata": {},
     "output_type": "execute_result"
    }
   ],
   "source": [
    "np.arange(10.0)"
   ]
  },
  {
   "cell_type": "code",
   "execution_count": 62,
   "id": "c795860c-843b-4767-ae5d-f97ae0d5c359",
   "metadata": {},
   "outputs": [],
   "source": [
    "arr5 = np.array([np.arange(10),np.arange(10)])"
   ]
  },
  {
   "cell_type": "code",
   "execution_count": 58,
   "id": "21f4eb85-f642-43ea-8bee-2e7e2bfa4974",
   "metadata": {},
   "outputs": [
    {
     "data": {
      "text/plain": [
       "array([[0, 1, 2, 3, 4, 5, 6, 7, 8, 9],\n",
       "       [0, 1, 2, 3, 4, 5, 6, 7, 8, 9]])"
      ]
     },
     "execution_count": 58,
     "metadata": {},
     "output_type": "execute_result"
    }
   ],
   "source": [
    "arr5"
   ]
  },
  {
   "cell_type": "code",
   "execution_count": 66,
   "id": "3d9d183e-76e0-49bb-957d-576f5566e524",
   "metadata": {},
   "outputs": [],
   "source": [
    "arr6 = np.column_stack([arr1,arr2])"
   ]
  },
  {
   "cell_type": "code",
   "execution_count": 68,
   "id": "757183cd-8f21-4fab-b7f1-935af2d4e695",
   "metadata": {},
   "outputs": [
    {
     "data": {
      "text/plain": [
       "array([[ 1, 33],\n",
       "       [ 2, 44],\n",
       "       [ 3,  7],\n",
       "       [ 4, 63],\n",
       "       [ 5, 81]])"
      ]
     },
     "execution_count": 68,
     "metadata": {},
     "output_type": "execute_result"
    }
   ],
   "source": [
    "arr6"
   ]
  },
  {
   "cell_type": "code",
   "execution_count": 76,
   "id": "e374bc7c-9c21-4594-b40c-84d53002957e",
   "metadata": {},
   "outputs": [
    {
     "name": "stdin",
     "output_type": "stream",
     "text": [
      "Enter the elements with which u want to create a list:  99 88 77 66\n"
     ]
    },
    {
     "data": {
      "text/plain": [
       "[99, 88, 77, 66]"
      ]
     },
     "execution_count": 76,
     "metadata": {},
     "output_type": "execute_result"
    }
   ],
   "source": [
    "neww = list(map(int,input(\"Enter the elements with which u want to create a list: \").split()))\n",
    "neww"
   ]
  },
  {
   "cell_type": "code",
   "execution_count": 78,
   "id": "098ec47d-d153-4046-8702-852adaa9b654",
   "metadata": {},
   "outputs": [
    {
     "data": {
      "text/plain": [
       "array([0., 0., 0., 0., 0., 0., 0., 0., 0., 0.])"
      ]
     },
     "execution_count": 78,
     "metadata": {},
     "output_type": "execute_result"
    }
   ],
   "source": [
    "np.zeros(10)\n"
   ]
  },
  {
   "cell_type": "code",
   "execution_count": 82,
   "id": "bdf1fbfb-4768-488b-99e8-5037457e839a",
   "metadata": {},
   "outputs": [
    {
     "data": {
      "text/plain": [
       "array([[0., 0., 0., 0., 0.],\n",
       "       [0., 0., 0., 0., 0.],\n",
       "       [0., 0., 0., 0., 0.],\n",
       "       [0., 0., 0., 0., 0.],\n",
       "       [0., 0., 0., 0., 0.],\n",
       "       [0., 0., 0., 0., 0.],\n",
       "       [0., 0., 0., 0., 0.],\n",
       "       [0., 0., 0., 0., 0.],\n",
       "       [0., 0., 0., 0., 0.],\n",
       "       [0., 0., 0., 0., 0.]])"
      ]
     },
     "execution_count": 82,
     "metadata": {},
     "output_type": "execute_result"
    }
   ],
   "source": [
    "np.zeros((10,5))"
   ]
  },
  {
   "cell_type": "code",
   "execution_count": 84,
   "id": "9555fa42-3c8d-4937-a4ce-d08078c69983",
   "metadata": {},
   "outputs": [
    {
     "data": {
      "text/plain": [
       "array([[0, 0, 0, 0, 0],\n",
       "       [0, 0, 0, 0, 0],\n",
       "       [0, 0, 0, 0, 0],\n",
       "       [0, 0, 0, 0, 0],\n",
       "       [0, 0, 0, 0, 0],\n",
       "       [0, 0, 0, 0, 0],\n",
       "       [0, 0, 0, 0, 0],\n",
       "       [0, 0, 0, 0, 0],\n",
       "       [0, 0, 0, 0, 0],\n",
       "       [0, 0, 0, 0, 0]])"
      ]
     },
     "execution_count": 84,
     "metadata": {},
     "output_type": "execute_result"
    }
   ],
   "source": [
    "np.zeros((10,5),dtype = int)"
   ]
  },
  {
   "cell_type": "code",
   "execution_count": 86,
   "id": "07284554-f743-4b5c-9017-675c86d0ff9e",
   "metadata": {},
   "outputs": [],
   "source": [
    "neww1 = np.array([np.zeros(10,dtype = int),np.ones(10,dtype = int)])"
   ]
  },
  {
   "cell_type": "code",
   "execution_count": 88,
   "id": "b05a922c-e3df-4ed8-8a78-c632f6a31a3a",
   "metadata": {},
   "outputs": [
    {
     "data": {
      "text/plain": [
       "array([[0, 0, 0, 0, 0, 0, 0, 0, 0, 0],\n",
       "       [1, 1, 1, 1, 1, 1, 1, 1, 1, 1]])"
      ]
     },
     "execution_count": 88,
     "metadata": {},
     "output_type": "execute_result"
    }
   ],
   "source": [
    "neww1"
   ]
  },
  {
   "cell_type": "code",
   "execution_count": 94,
   "id": "a8cbf625-c2e7-4516-9f75-3f1493f5140f",
   "metadata": {},
   "outputs": [
    {
     "data": {
      "text/plain": [
       "array([[0.59257534, 0.35011439, 0.58805578]])"
      ]
     },
     "execution_count": 94,
     "metadata": {},
     "output_type": "execute_result"
    }
   ],
   "source": [
    "np.random.rand(1,3)"
   ]
  },
  {
   "cell_type": "code",
   "execution_count": 96,
   "id": "04a70a31-534a-4f8a-80b6-c06eca6659b0",
   "metadata": {},
   "outputs": [
    {
     "data": {
      "text/plain": [
       "10"
      ]
     },
     "execution_count": 96,
     "metadata": {},
     "output_type": "execute_result"
    }
   ],
   "source": [
    "np.random.randint(10,20)"
   ]
  },
  {
   "cell_type": "code",
   "execution_count": 104,
   "id": "b5122491-2276-4598-94ea-2df272fd2210",
   "metadata": {},
   "outputs": [
    {
     "data": {
      "text/plain": [
       "array([2, 4, 6, 1])"
      ]
     },
     "execution_count": 104,
     "metadata": {},
     "output_type": "execute_result"
    }
   ],
   "source": [
    "np.random.randint(0,9,4)"
   ]
  },
  {
   "cell_type": "code",
   "execution_count": 116,
   "id": "33b2eda9-71ef-453b-a25f-a21b644feb2c",
   "metadata": {},
   "outputs": [],
   "source": [
    "neww3 = np.array([np.random.randint(0,1000,5),np.random.randint(0,1000,5)])"
   ]
  },
  {
   "cell_type": "code",
   "execution_count": 118,
   "id": "327e2730-2d15-4023-ae52-51d1e5ab1f23",
   "metadata": {},
   "outputs": [
    {
     "data": {
      "text/plain": [
       "array([[549, 980, 669, 436, 289],\n",
       "       [ 34, 580, 152,  73, 634]])"
      ]
     },
     "execution_count": 118,
     "metadata": {},
     "output_type": "execute_result"
    }
   ],
   "source": [
    "neww3"
   ]
  },
  {
   "cell_type": "code",
   "execution_count": 122,
   "id": "02f59fb8-aaf5-4c22-b913-a50fe32e80a1",
   "metadata": {},
   "outputs": [
    {
     "data": {
      "text/plain": [
       "array([71, 68, 98, 75, 68, 88, 70, 20, 50, 52])"
      ]
     },
     "execution_count": 122,
     "metadata": {},
     "output_type": "execute_result"
    }
   ],
   "source": [
    "np.array(np.random.randint(10,100,10))"
   ]
  },
  {
   "cell_type": "code",
   "execution_count": 132,
   "id": "a6bce8fe-f114-49f2-8fbf-b049da0913b3",
   "metadata": {},
   "outputs": [
    {
     "data": {
      "text/plain": [
       "array([[ 1,  2,  3,  4,  5,  6],\n",
       "       [ 7,  8,  9, 10, 11, 12]])"
      ]
     },
     "execution_count": 132,
     "metadata": {},
     "output_type": "execute_result"
    }
   ],
   "source": [
    "np.arange(1,13).reshape(2,6)"
   ]
  },
  {
   "cell_type": "code",
   "execution_count": 136,
   "id": "2af2724a-5546-48d2-893d-d4c5adfc87e7",
   "metadata": {},
   "outputs": [
    {
     "data": {
      "text/plain": [
       "array([[0, 0, 0],\n",
       "       [0, 0, 0],\n",
       "       [0, 0, 0],\n",
       "       [0, 0, 0]])"
      ]
     },
     "execution_count": 136,
     "metadata": {},
     "output_type": "execute_result"
    }
   ],
   "source": [
    "np.zeros(12,dtype = int).reshape(4,3)"
   ]
  },
  {
   "cell_type": "code",
   "execution_count": null,
   "id": "6ca12be7-8131-4d33-a904-26e96b771adb",
   "metadata": {},
   "outputs": [],
   "source": []
  }
 ],
 "metadata": {
  "kernelspec": {
   "display_name": "Python [conda env:base] *",
   "language": "python",
   "name": "conda-base-py"
  },
  "language_info": {
   "codemirror_mode": {
    "name": "ipython",
    "version": 3
   },
   "file_extension": ".py",
   "mimetype": "text/x-python",
   "name": "python",
   "nbconvert_exporter": "python",
   "pygments_lexer": "ipython3",
   "version": "3.12.7"
  }
 },
 "nbformat": 4,
 "nbformat_minor": 5
}
