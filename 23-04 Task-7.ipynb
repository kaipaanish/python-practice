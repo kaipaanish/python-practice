{
 "cells": [
  {
   "cell_type": "code",
   "execution_count": 2,
   "id": "145d4104-d7cf-4c8b-a943-b49c625043d0",
   "metadata": {},
   "outputs": [],
   "source": [
    "t1 = ()\n",
    "t2 = (10,30,60)\n",
    "t3 = (10.77,30.66,60.89)\n",
    "t4 = (\"one\",\"two\",\"three\")\n",
    "t5 = (\"anish\", 25, (50,100),(150,90))"
   ]
  },
  {
   "cell_type": "code",
   "execution_count": 4,
   "id": "0743b5dc-077d-4e01-b2db-66c97b3ead06",
   "metadata": {},
   "outputs": [
    {
     "data": {
      "text/plain": [
       "4"
      ]
     },
     "execution_count": 4,
     "metadata": {},
     "output_type": "execute_result"
    }
   ],
   "source": [
    "len(t5)"
   ]
  },
  {
   "cell_type": "code",
   "execution_count": 6,
   "id": "863d3277-7268-4ec8-beac-b862814fada9",
   "metadata": {},
   "outputs": [
    {
     "data": {
      "text/plain": [
       "tuple"
      ]
     },
     "execution_count": 6,
     "metadata": {},
     "output_type": "execute_result"
    }
   ],
   "source": [
    "type(t2)"
   ]
  },
  {
   "cell_type": "code",
   "execution_count": 8,
   "id": "8ebc91bc-21b7-4d2a-9c6d-bc0cfd836494",
   "metadata": {},
   "outputs": [
    {
     "data": {
      "text/plain": [
       "90"
      ]
     },
     "execution_count": 8,
     "metadata": {},
     "output_type": "execute_result"
    }
   ],
   "source": [
    "t5[-1][-1]"
   ]
  },
  {
   "cell_type": "code",
   "execution_count": 10,
   "id": "979c8f04-b272-4c5a-ab13-93fca306cf85",
   "metadata": {},
   "outputs": [
    {
     "data": {
      "text/plain": [
       "10.77"
      ]
     },
     "execution_count": 10,
     "metadata": {},
     "output_type": "execute_result"
    }
   ],
   "source": [
    "t3[0]"
   ]
  },
  {
   "cell_type": "code",
   "execution_count": 12,
   "id": "f6a78a50-54d8-4773-afb3-140a2d398edf",
   "metadata": {},
   "outputs": [
    {
     "data": {
      "text/plain": [
       "('anish', 25)"
      ]
     },
     "execution_count": 12,
     "metadata": {},
     "output_type": "execute_result"
    }
   ],
   "source": [
    "t5[:2]"
   ]
  },
  {
   "cell_type": "code",
   "execution_count": 14,
   "id": "38c37ff8-2982-42ed-8ffe-a22982b8d2d7",
   "metadata": {},
   "outputs": [
    {
     "data": {
      "text/plain": [
       "((150, 90), (50, 100), 25, 'anish')"
      ]
     },
     "execution_count": 14,
     "metadata": {},
     "output_type": "execute_result"
    }
   ],
   "source": [
    "t5[::-1]"
   ]
  },
  {
   "cell_type": "code",
   "execution_count": 16,
   "id": "7dbd4152-afb7-4d67-a1ef-faa2e701ebf3",
   "metadata": {},
   "outputs": [],
   "source": [
    "# tuple is immuatable so user cant make any changes after a tuple is formed"
   ]
  },
  {
   "cell_type": "code",
   "execution_count": null,
   "id": "fd1e5bf8-bd55-4a3f-a524-acc2f4890445",
   "metadata": {},
   "outputs": [],
   "source": []
  }
 ],
 "metadata": {
  "kernelspec": {
   "display_name": "Python [conda env:base] *",
   "language": "python",
   "name": "conda-base-py"
  },
  "language_info": {
   "codemirror_mode": {
    "name": "ipython",
    "version": 3
   },
   "file_extension": ".py",
   "mimetype": "text/x-python",
   "name": "python",
   "nbconvert_exporter": "python",
   "pygments_lexer": "ipython3",
   "version": "3.12.7"
  }
 },
 "nbformat": 4,
 "nbformat_minor": 5
}
