{
 "cells": [
  {
   "cell_type": "code",
   "execution_count": 28,
   "id": "cdc1ffa7-aff9-4827-a840-247e9c533929",
   "metadata": {},
   "outputs": [],
   "source": [
    "p = 10\n",
    "q = 20\n",
    "r = p\n",
    "import sys\n",
    "\n"
   ]
  },
  {
   "cell_type": "code",
   "execution_count": 10,
   "id": "4d8b159c-5f9d-4e1d-9a76-3b4e4a7eeda4",
   "metadata": {},
   "outputs": [
    {
     "name": "stdout",
     "output_type": "stream",
     "text": [
      "10 <class 'int'> 0x7ff9ea762ad8\n"
     ]
    }
   ],
   "source": [
    "print(p, type(q),  hex(id(r)))"
   ]
  },
  {
   "cell_type": "code",
   "execution_count": 12,
   "id": "e59f07e1-09cf-4a4c-8613-a80b2f591bb5",
   "metadata": {},
   "outputs": [
    {
     "data": {
      "text/plain": [
       "'0xa'"
      ]
     },
     "execution_count": 12,
     "metadata": {},
     "output_type": "execute_result"
    }
   ],
   "source": [
    "hex(p)"
   ]
  },
  {
   "cell_type": "code",
   "execution_count": 14,
   "id": "59b46e1d-df5e-408f-8a65-5399c621954b",
   "metadata": {},
   "outputs": [
    {
     "data": {
      "text/plain": [
       "140711357197016"
      ]
     },
     "execution_count": 14,
     "metadata": {},
     "output_type": "execute_result"
    }
   ],
   "source": [
    "id(p)"
   ]
  },
  {
   "cell_type": "code",
   "execution_count": 16,
   "id": "91af83a9-04f9-43ae-8299-12056e1cdb6a",
   "metadata": {},
   "outputs": [
    {
     "data": {
      "text/plain": [
       "'0x7ff9ea762ad8'"
      ]
     },
     "execution_count": 16,
     "metadata": {},
     "output_type": "execute_result"
    }
   ],
   "source": [
    "hex(id(p))"
   ]
  },
  {
   "cell_type": "code",
   "execution_count": 22,
   "id": "5cb85913-3459-4959-b30c-304f47c5cd71",
   "metadata": {},
   "outputs": [
    {
     "data": {
      "text/plain": [
       "'0x7ff9ea762c18'"
      ]
     },
     "execution_count": 22,
     "metadata": {},
     "output_type": "execute_result"
    }
   ],
   "source": [
    "hex(id(q))\n"
   ]
  },
  {
   "cell_type": "code",
   "execution_count": 20,
   "id": "ae3b3454-d737-4f5f-83f9-3a9a03f1fd2f",
   "metadata": {},
   "outputs": [
    {
     "data": {
      "text/plain": [
       "'0x7ff9ea762ad8'"
      ]
     },
     "execution_count": 20,
     "metadata": {},
     "output_type": "execute_result"
    }
   ],
   "source": [
    "hex(id(r))"
   ]
  },
  {
   "cell_type": "code",
   "execution_count": 32,
   "id": "aecb3d5f-c1da-4ac3-9aaf-702413abf98f",
   "metadata": {},
   "outputs": [
    {
     "name": "stdout",
     "output_type": "stream",
     "text": [
      "28\n"
     ]
    }
   ],
   "source": [
    "v = 18\n",
    "print(sys.getsizeof(v))"
   ]
  },
  {
   "cell_type": "code",
   "execution_count": 38,
   "id": "0eda8929-0969-4f3f-b74b-305f0276f34c",
   "metadata": {},
   "outputs": [
    {
     "name": "stdout",
     "output_type": "stream",
     "text": [
      "18  v variable is a integer True\n"
     ]
    }
   ],
   "source": [
    "print(v,\" v variable is a integer\", isinstance(v , int))"
   ]
  },
  {
   "cell_type": "code",
   "execution_count": null,
   "id": "c279c0d8-67df-43b0-8ef5-243d16c50724",
   "metadata": {},
   "outputs": [],
   "source": []
  }
 ],
 "metadata": {
  "kernelspec": {
   "display_name": "Python [conda env:base] *",
   "language": "python",
   "name": "conda-base-py"
  },
  "language_info": {
   "codemirror_mode": {
    "name": "ipython",
    "version": 3
   },
   "file_extension": ".py",
   "mimetype": "text/x-python",
   "name": "python",
   "nbconvert_exporter": "python",
   "pygments_lexer": "ipython3",
   "version": "3.12.7"
  }
 },
 "nbformat": 4,
 "nbformat_minor": 5
}
