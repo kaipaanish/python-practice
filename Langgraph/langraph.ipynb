{
 "cells": [
  {
   "cell_type": "code",
   "execution_count": null,
   "id": "e62a489c",
   "metadata": {},
   "outputs": [],
   "source": [
    "#pip install langgraph langsmith"
   ]
  },
  {
   "cell_type": "code",
   "execution_count": null,
   "id": "99b67019",
   "metadata": {},
   "outputs": [],
   "source": [
    "#pip install langchain langchain_groq langchain_community"
   ]
  },
  {
   "cell_type": "code",
   "execution_count": 1,
   "id": "ee695f40",
   "metadata": {},
   "outputs": [],
   "source": [
    "groq_api_key='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'\n",
    "langsmith='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'"
   ]
  },
  {
   "cell_type": "code",
   "execution_count": 2,
   "id": "2724af74",
   "metadata": {},
   "outputs": [],
   "source": [
    "from langchain_groq import ChatGroq"
   ]
  },
  {
   "cell_type": "code",
   "execution_count": 3,
   "id": "b78247cf",
   "metadata": {},
   "outputs": [
    {
     "data": {
      "text/plain": [
       "ChatGroq(client=<groq.resources.chat.completions.Completions object at 0x00000263BD83C2F0>, async_client=<groq.resources.chat.completions.AsyncCompletions object at 0x00000263BD83D010>, model_name='Gemma2-9b-It', model_kwargs={}, groq_api_key=SecretStr('**********'))"
      ]
     },
     "execution_count": 3,
     "metadata": {},
     "output_type": "execute_result"
    }
   ],
   "source": [
    "llm=ChatGroq(groq_api_key=groq_api_key, model_name=\"Gemma2-9b-It\")\n",
    "llm"
   ]
  },
  {
   "cell_type": "code",
   "execution_count": 4,
   "id": "94ef0aa3",
   "metadata": {},
   "outputs": [],
   "source": [
    "from typing import Annotated\n",
    "from typing_extensions import TypedDict\n",
    "from langgraph.graph import StateGraph,START,END\n",
    "from langgraph.graph.message import add_messages"
   ]
  },
  {
   "cell_type": "code",
   "execution_count": 5,
   "id": "871f8283",
   "metadata": {},
   "outputs": [],
   "source": [
    "class State(TypedDict):\n",
    "  # Messages have the type \"list\". The `add_messages` function\n",
    "    # in the annotation defines how this state key should be updated\n",
    "    # (in this case, it appends messages to the list, rather than overwriting them)\n",
    "  messages:Annotated[list,add_messages]\n",
    "\n",
    "graph_builder=StateGraph(State)"
   ]
  },
  {
   "cell_type": "code",
   "execution_count": 6,
   "id": "8b282924",
   "metadata": {},
   "outputs": [
    {
     "data": {
      "text/plain": [
       "<langgraph.graph.state.StateGraph at 0x263bd987770>"
      ]
     },
     "execution_count": 6,
     "metadata": {},
     "output_type": "execute_result"
    }
   ],
   "source": [
    "graph_builder"
   ]
  },
  {
   "cell_type": "code",
   "execution_count": 7,
   "id": "961ef917",
   "metadata": {},
   "outputs": [],
   "source": [
    "def chatbot(state:State):\n",
    "  return {\"messages\":llm.invoke(state['messages'])}"
   ]
  },
  {
   "cell_type": "code",
   "execution_count": 8,
   "id": "1912277a",
   "metadata": {},
   "outputs": [
    {
     "data": {
      "text/plain": [
       "<langgraph.graph.state.StateGraph at 0x263bd987770>"
      ]
     },
     "execution_count": 8,
     "metadata": {},
     "output_type": "execute_result"
    }
   ],
   "source": [
    "graph_builder.add_node(\"chatbot\",chatbot)"
   ]
  },
  {
   "cell_type": "code",
   "execution_count": 9,
   "id": "e6e05459",
   "metadata": {},
   "outputs": [
    {
     "data": {
      "text/plain": [
       "<langgraph.graph.state.StateGraph at 0x263bd987770>"
      ]
     },
     "execution_count": 9,
     "metadata": {},
     "output_type": "execute_result"
    }
   ],
   "source": [
    "graph_builder"
   ]
  },
  {
   "cell_type": "code",
   "execution_count": 10,
   "id": "e6863791",
   "metadata": {},
   "outputs": [
    {
     "data": {
      "text/plain": [
       "<langgraph.graph.state.StateGraph at 0x263bd987770>"
      ]
     },
     "execution_count": 10,
     "metadata": {},
     "output_type": "execute_result"
    }
   ],
   "source": [
    "graph_builder.add_edge(START,\"chatbot\")\n",
    "graph_builder.add_edge(\"chatbot\",END)"
   ]
  },
  {
   "cell_type": "code",
   "execution_count": 11,
   "id": "d371097f",
   "metadata": {},
   "outputs": [],
   "source": [
    "graph=graph_builder.compile()"
   ]
  },
  {
   "cell_type": "code",
   "execution_count": null,
   "id": "5c662593",
   "metadata": {},
   "outputs": [
    {
     "data": {
      "image/png": "[encoded data removed]",
      "text/plain": [
       "<IPython.core.display.Image object>"
      ]
     },
     "metadata": {},
     "output_type": "display_data"
    }
   ],
   "source": [
    "from IPython.display import Image, display\n",
    "try:\n",
    "  display(Image(graph.get_graph().draw_mermaid_png()))\n",
    "except Exception:\n",
    "  pass "
   ]
  },
  {
   "cell_type": "code",
   "execution_count": 13,
   "id": "d89704b6",
   "metadata": {},
   "outputs": [
    {
     "name": "stdout",
     "output_type": "stream",
     "text": [
      "dict_values([{'messages': AIMessage(content='Let\\'s break down LangGraph.\\n\\n**What is LangGraph?**\\n\\nLangGraph is a powerful open-source tool designed to analyze and visualize the structure of language. It\\'s essentially a framework that allows you to represent words and their relationships within a text as a graph. \\n\\n**Why Use a Graph?**\\n\\nThink of a graph as a network of interconnected nodes (representing words) and edges (representing relationships between words). This visual representation can reveal fascinating insights about how language works:\\n\\n* **Semantic Relationships:**  LangGraph can identify words that frequently appear together, suggesting semantic connections (e.g., \"cat\" and \"meow\" are likely to be linked).\\n* **Syntactic Structure:**  It can uncover grammatical relationships between words, indicating how they function within sentences.\\n* **Topic Modeling:**  By analyzing clusters of related words, LangGraph can help you identify the main themes or topics within a large body of text.\\n\\n**Key Features of LangGraph:**\\n\\n* **Versatile:** It can work with various text types, from news articles to social media posts to code.\\n* **Customizable:** You can define your own rules for creating edges (relationships) between words, tailoring the analysis to your specific needs.\\n* **Visual Exploration:** LangGraph generates interactive graphs that you can explore, zoom into, and filter to gain deeper understanding.\\n\\n**How It Works:**\\n\\n1. **Text Preprocessing:** The input text is cleaned and prepared (removing punctuation, converting to lowercase, etc.).\\n2. **Word Embeddings:**  LangGraph uses word embeddings (numerical representations of words) to capture semantic similarities.\\n3. **Graph Construction:**  Relationships between words are determined based on your chosen criteria (e.g., co-occurrence, syntactic dependencies).\\n4. **Visualization:** The resulting graph is displayed, allowing you to visually analyze the connections between words.\\n\\n**Applications of LangGraph:**\\n\\n* **Natural Language Processing (NLP):** Understanding text structure, identifying relationships, and building language models.\\n* **Text Mining:**  Discovering patterns, topics, and insights within large datasets.\\n* **Education:**  Visualizing grammatical structures and exploring word relationships.\\n* **Research:**  Analyzing the evolution of language, identifying stylistic trends, and studying cognitive processes.\\n\\n**Getting Started:**\\n\\nIf you\\'re interested in exploring LangGraph, there are excellent resources and tutorials available online:\\n\\n* **Official Website:** [https://github.com/langgraph/langgraph](https://github.com/langgraph/langgraph)\\n* **Documentation:**  [https://langgraph.readthedocs.io/en/latest/](https://langgraph.readthedocs.io/en/latest/)\\n\\n\\n\\nLet me know if you have any more questions or would like me to elaborate on a specific aspect of LangGraph!\\n', additional_kwargs={}, response_metadata={'token_usage': {'completion_tokens': 594, 'prompt_tokens': 15, 'total_tokens': 609, 'completion_time': 1.08, 'prompt_time': 0.002351254, 'queue_time': 0.257589254, 'total_time': 1.082351254}, 'model_name': 'Gemma2-9b-It', 'system_fingerprint': 'fp_10c08bf97d', 'finish_reason': 'stop', 'logprobs': None}, id='run--331d5c6a-bfdb-46e0-8e6b-cfc6f15b1a58-0', usage_metadata={'input_tokens': 15, 'output_tokens': 594, 'total_tokens': 609})}])\n",
      "content='Let\\'s break down LangGraph.\\n\\n**What is LangGraph?**\\n\\nLangGraph is a powerful open-source tool designed to analyze and visualize the structure of language. It\\'s essentially a framework that allows you to represent words and their relationships within a text as a graph. \\n\\n**Why Use a Graph?**\\n\\nThink of a graph as a network of interconnected nodes (representing words) and edges (representing relationships between words). This visual representation can reveal fascinating insights about how language works:\\n\\n* **Semantic Relationships:**  LangGraph can identify words that frequently appear together, suggesting semantic connections (e.g., \"cat\" and \"meow\" are likely to be linked).\\n* **Syntactic Structure:**  It can uncover grammatical relationships between words, indicating how they function within sentences.\\n* **Topic Modeling:**  By analyzing clusters of related words, LangGraph can help you identify the main themes or topics within a large body of text.\\n\\n**Key Features of LangGraph:**\\n\\n* **Versatile:** It can work with various text types, from news articles to social media posts to code.\\n* **Customizable:** You can define your own rules for creating edges (relationships) between words, tailoring the analysis to your specific needs.\\n* **Visual Exploration:** LangGraph generates interactive graphs that you can explore, zoom into, and filter to gain deeper understanding.\\n\\n**How It Works:**\\n\\n1. **Text Preprocessing:** The input text is cleaned and prepared (removing punctuation, converting to lowercase, etc.).\\n2. **Word Embeddings:**  LangGraph uses word embeddings (numerical representations of words) to capture semantic similarities.\\n3. **Graph Construction:**  Relationships between words are determined based on your chosen criteria (e.g., co-occurrence, syntactic dependencies).\\n4. **Visualization:** The resulting graph is displayed, allowing you to visually analyze the connections between words.\\n\\n**Applications of LangGraph:**\\n\\n* **Natural Language Processing (NLP):** Understanding text structure, identifying relationships, and building language models.\\n* **Text Mining:**  Discovering patterns, topics, and insights within large datasets.\\n* **Education:**  Visualizing grammatical structures and exploring word relationships.\\n* **Research:**  Analyzing the evolution of language, identifying stylistic trends, and studying cognitive processes.\\n\\n**Getting Started:**\\n\\nIf you\\'re interested in exploring LangGraph, there are excellent resources and tutorials available online:\\n\\n* **Official Website:** [https://github.com/langgraph/langgraph](https://github.com/langgraph/langgraph)\\n* **Documentation:**  [https://langgraph.readthedocs.io/en/latest/](https://langgraph.readthedocs.io/en/latest/)\\n\\n\\n\\nLet me know if you have any more questions or would like me to elaborate on a specific aspect of LangGraph!\\n' additional_kwargs={} response_metadata={'token_usage': {'completion_tokens': 594, 'prompt_tokens': 15, 'total_tokens': 609, 'completion_time': 1.08, 'prompt_time': 0.002351254, 'queue_time': 0.257589254, 'total_time': 1.082351254}, 'model_name': 'Gemma2-9b-It', 'system_fingerprint': 'fp_10c08bf97d', 'finish_reason': 'stop', 'logprobs': None} id='run--331d5c6a-bfdb-46e0-8e6b-cfc6f15b1a58-0' usage_metadata={'input_tokens': 15, 'output_tokens': 594, 'total_tokens': 609}\n",
      "Assistant: Let's break down LangGraph.\n",
      "\n",
      "**What is LangGraph?**\n",
      "\n",
      "LangGraph is a powerful open-source tool designed to analyze and visualize the structure of language. It's essentially a framework that allows you to represent words and their relationships within a text as a graph. \n",
      "\n",
      "**Why Use a Graph?**\n",
      "\n",
      "Think of a graph as a network of interconnected nodes (representing words) and edges (representing relationships between words). This visual representation can reveal fascinating insights about how language works:\n",
      "\n",
      "* **Semantic Relationships:**  LangGraph can identify words that frequently appear together, suggesting semantic connections (e.g., \"cat\" and \"meow\" are likely to be linked).\n",
      "* **Syntactic Structure:**  It can uncover grammatical relationships between words, indicating how they function within sentences.\n",
      "* **Topic Modeling:**  By analyzing clusters of related words, LangGraph can help you identify the main themes or topics within a large body of text.\n",
      "\n",
      "**Key Features of LangGraph:**\n",
      "\n",
      "* **Versatile:** It can work with various text types, from news articles to social media posts to code.\n",
      "* **Customizable:** You can define your own rules for creating edges (relationships) between words, tailoring the analysis to your specific needs.\n",
      "* **Visual Exploration:** LangGraph generates interactive graphs that you can explore, zoom into, and filter to gain deeper understanding.\n",
      "\n",
      "**How It Works:**\n",
      "\n",
      "1. **Text Preprocessing:** The input text is cleaned and prepared (removing punctuation, converting to lowercase, etc.).\n",
      "2. **Word Embeddings:**  LangGraph uses word embeddings (numerical representations of words) to capture semantic similarities.\n",
      "3. **Graph Construction:**  Relationships between words are determined based on your chosen criteria (e.g., co-occurrence, syntactic dependencies).\n",
      "4. **Visualization:** The resulting graph is displayed, allowing you to visually analyze the connections between words.\n",
      "\n",
      "**Applications of LangGraph:**\n",
      "\n",
      "* **Natural Language Processing (NLP):** Understanding text structure, identifying relationships, and building language models.\n",
      "* **Text Mining:**  Discovering patterns, topics, and insights within large datasets.\n",
      "* **Education:**  Visualizing grammatical structures and exploring word relationships.\n",
      "* **Research:**  Analyzing the evolution of language, identifying stylistic trends, and studying cognitive processes.\n",
      "\n",
      "**Getting Started:**\n",
      "\n",
      "If you're interested in exploring LangGraph, there are excellent resources and tutorials available online:\n",
      "\n",
      "* **Official Website:** [https://github.com/langgraph/langgraph](https://github.com/langgraph/langgraph)\n",
      "* **Documentation:**  [https://langgraph.readthedocs.io/en/latest/](https://langgraph.readthedocs.io/en/latest/)\n",
      "\n",
      "\n",
      "\n",
      "Let me know if you have any more questions or would like me to elaborate on a specific aspect of LangGraph!\n",
      "\n",
      "dict_values([{'messages': AIMessage(content=\"Please provide me with a question or a topic you'd like to discuss. I'm ready to help! 😊 \\n\", additional_kwargs={}, response_metadata={'token_usage': {'completion_tokens': 28, 'prompt_tokens': 11, 'total_tokens': 39, 'completion_time': 0.050909091, 'prompt_time': 0.002046044, 'queue_time': 0.247899916, 'total_time': 0.052955135}, 'model_name': 'Gemma2-9b-It', 'system_fingerprint': 'fp_10c08bf97d', 'finish_reason': 'stop', 'logprobs': None}, id='run--de22e2c4-480b-4f42-b664-78b9379d15c5-0', usage_metadata={'input_tokens': 11, 'output_tokens': 28, 'total_tokens': 39})}])\n",
      "content=\"Please provide me with a question or a topic you'd like to discuss. I'm ready to help! 😊 \\n\" additional_kwargs={} response_metadata={'token_usage': {'completion_tokens': 28, 'prompt_tokens': 11, 'total_tokens': 39, 'completion_time': 0.050909091, 'prompt_time': 0.002046044, 'queue_time': 0.247899916, 'total_time': 0.052955135}, 'model_name': 'Gemma2-9b-It', 'system_fingerprint': 'fp_10c08bf97d', 'finish_reason': 'stop', 'logprobs': None} id='run--de22e2c4-480b-4f42-b664-78b9379d15c5-0' usage_metadata={'input_tokens': 11, 'output_tokens': 28, 'total_tokens': 39}\n",
      "Assistant: Please provide me with a question or a topic you'd like to discuss. I'm ready to help! 😊 \n",
      "\n",
      "dict_values([{'messages': AIMessage(content='Please provide me with a prompt or question so I can assist you! 😊 \\n\\nFor example, you could ask me to:\\n\\n* **Write a story:** \"Tell me a story about a robot who learns to feel emotions.\"\\n* **Answer a question:** \"What is the capital of France?\"\\n* **Generate creative content:** \"Give me some ideas for a birthday party theme.\"\\n* **Summarize text:** \"Can you summarize the plot of the novel *Pride and Prejudice*?\"\\n* **Translate language:** \"Translate \\'hello world\\' into Spanish.\"\\n\\n\\nI\\'m ready to help with whatever you need!  \\n', additional_kwargs={}, response_metadata={'token_usage': {'completion_tokens': 133, 'prompt_tokens': 11, 'total_tokens': 144, 'completion_time': 0.241818182, 'prompt_time': 0.001840934, 'queue_time': 0.242431835, 'total_time': 0.243659116}, 'model_name': 'Gemma2-9b-It', 'system_fingerprint': 'fp_10c08bf97d', 'finish_reason': 'stop', 'logprobs': None}, id='run--51e76d99-4141-42c7-a47f-31d8892f5e4a-0', usage_metadata={'input_tokens': 11, 'output_tokens': 133, 'total_tokens': 144})}])\n",
      "content='Please provide me with a prompt or question so I can assist you! 😊 \\n\\nFor example, you could ask me to:\\n\\n* **Write a story:** \"Tell me a story about a robot who learns to feel emotions.\"\\n* **Answer a question:** \"What is the capital of France?\"\\n* **Generate creative content:** \"Give me some ideas for a birthday party theme.\"\\n* **Summarize text:** \"Can you summarize the plot of the novel *Pride and Prejudice*?\"\\n* **Translate language:** \"Translate \\'hello world\\' into Spanish.\"\\n\\n\\nI\\'m ready to help with whatever you need!  \\n' additional_kwargs={} response_metadata={'token_usage': {'completion_tokens': 133, 'prompt_tokens': 11, 'total_tokens': 144, 'completion_time': 0.241818182, 'prompt_time': 0.001840934, 'queue_time': 0.242431835, 'total_time': 0.243659116}, 'model_name': 'Gemma2-9b-It', 'system_fingerprint': 'fp_10c08bf97d', 'finish_reason': 'stop', 'logprobs': None} id='run--51e76d99-4141-42c7-a47f-31d8892f5e4a-0' usage_metadata={'input_tokens': 11, 'output_tokens': 133, 'total_tokens': 144}\n",
      "Assistant: Please provide me with a prompt or question so I can assist you! 😊 \n",
      "\n",
      "For example, you could ask me to:\n",
      "\n",
      "* **Write a story:** \"Tell me a story about a robot who learns to feel emotions.\"\n",
      "* **Answer a question:** \"What is the capital of France?\"\n",
      "* **Generate creative content:** \"Give me some ideas for a birthday party theme.\"\n",
      "* **Summarize text:** \"Can you summarize the plot of the novel *Pride and Prejudice*?\"\n",
      "* **Translate language:** \"Translate 'hello world' into Spanish.\"\n",
      "\n",
      "\n",
      "I'm ready to help with whatever you need!  \n",
      "\n",
      "dict_values([{'messages': AIMessage(content=\"Please provide me with a prompt or question so I can assist you! 😊 \\n\\nFor example, you could ask me:\\n\\n* To write a story\\n* To translate a phrase\\n* To summarize a topic\\n* To answer a question\\n* To generate creative content\\n* To help you brainstorm ideas\\n\\nI'm ready for anything! 🚀 \\n\", additional_kwargs={}, response_metadata={'token_usage': {'completion_tokens': 75, 'prompt_tokens': 11, 'total_tokens': 86, 'completion_time': 0.136363636, 'prompt_time': 0.001856384, 'queue_time': 0.248679266, 'total_time': 0.13822002}, 'model_name': 'Gemma2-9b-It', 'system_fingerprint': 'fp_10c08bf97d', 'finish_reason': 'stop', 'logprobs': None}, id='run--1610cea8-7251-4bbf-912d-5d3be502f484-0', usage_metadata={'input_tokens': 11, 'output_tokens': 75, 'total_tokens': 86})}])\n",
      "content=\"Please provide me with a prompt or question so I can assist you! 😊 \\n\\nFor example, you could ask me:\\n\\n* To write a story\\n* To translate a phrase\\n* To summarize a topic\\n* To answer a question\\n* To generate creative content\\n* To help you brainstorm ideas\\n\\nI'm ready for anything! 🚀 \\n\" additional_kwargs={} response_metadata={'token_usage': {'completion_tokens': 75, 'prompt_tokens': 11, 'total_tokens': 86, 'completion_time': 0.136363636, 'prompt_time': 0.001856384, 'queue_time': 0.248679266, 'total_time': 0.13822002}, 'model_name': 'Gemma2-9b-It', 'system_fingerprint': 'fp_10c08bf97d', 'finish_reason': 'stop', 'logprobs': None} id='run--1610cea8-7251-4bbf-912d-5d3be502f484-0' usage_metadata={'input_tokens': 11, 'output_tokens': 75, 'total_tokens': 86}\n",
      "Assistant: Please provide me with a prompt or question so I can assist you! 😊 \n",
      "\n",
      "For example, you could ask me:\n",
      "\n",
      "* To write a story\n",
      "* To translate a phrase\n",
      "* To summarize a topic\n",
      "* To answer a question\n",
      "* To generate creative content\n",
      "* To help you brainstorm ideas\n",
      "\n",
      "I'm ready for anything! 🚀 \n",
      "\n",
      "Good Bye\n"
     ]
    }
   ],
   "source": [
    "while True:\n",
    "  user_input=input(\"User: \")\n",
    "  if user_input.lower() in [\"quit\",\"q\"]:\n",
    "    print(\"Good Bye\")\n",
    "    break\n",
    "  for event in graph.stream({'messages':(\"user\",user_input)}):\n",
    "    print(event.values())\n",
    "    for value in event.values():\n",
    "      print(value['messages'])\n",
    "      print(\"Assistant:\",value[\"messages\"].content)"
   ]
  },
  {
   "cell_type": "code",
   "execution_count": null,
   "id": "fafc88bf",
   "metadata": {},
   "outputs": [],
   "source": []
  },
  {
   "cell_type": "code",
   "execution_count": null,
   "id": "3b1fe0d1",
   "metadata": {},
   "outputs": [],
   "source": []
  }
 ],
 "metadata": {
  "kernelspec": {
   "display_name": "Python 3",
   "language": "python",
   "name": "python3"
  },
  "language_info": {
   "codemirror_mode": {
    "name": "ipython",
    "version": 3
   },
   "file_extension": ".py",
   "mimetype": "text/x-python",
   "name": "python",
   "nbconvert_exporter": "python",
   "pygments_lexer": "ipython3",
   "version": "3.13.5"
  }
 },
 "nbformat": 4,
 "nbformat_minor": 5
}
