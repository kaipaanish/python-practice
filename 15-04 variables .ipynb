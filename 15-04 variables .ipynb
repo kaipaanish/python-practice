{
 "cells": [
  {
   "cell_type": "code",
   "execution_count": 21,
   "id": "71ef3746-2d67-4b8b-9da1-d0b82f7dd71c",
   "metadata": {},
   "outputs": [
    {
     "data": {
      "text/plain": [
       "(18, 9)"
      ]
     },
     "execution_count": 21,
     "metadata": {},
     "output_type": "execute_result"
    }
   ],
   "source": [
    "a = 9 # variables cant start with digits but can end with digits\n",
    "\n",
    "b1 = 18\n",
    "b1 ,a"
   ]
  },
  {
   "cell_type": "markdown",
   "id": "695d1d23-17c3-40b9-9748-f7a58cda8448",
   "metadata": {},
   "source": [
    "hi\n"
   ]
  },
  {
   "cell_type": "code",
   "execution_count": 12,
   "id": "b724c557-3f10-47e0-a7ee-efe5b814231e",
   "metadata": {},
   "outputs": [
    {
     "data": {
      "text/plain": [
       "140711657286328"
      ]
     },
     "execution_count": 12,
     "metadata": {},
     "output_type": "execute_result"
    }
   ],
   "source": [
    "id(a) # address of the variable  memory\n"
   ]
  },
  {
   "cell_type": "code",
   "execution_count": 29,
   "id": "5015324e-3f59-4c21-879f-53f800b36fb5",
   "metadata": {},
   "outputs": [],
   "source": [
    "# variables are case sensitive\n",
    "# special cahracters are not accepted for variables"
   ]
  },
  {
   "cell_type": "code",
   "execution_count": 31,
   "id": "06832266-b0cf-4792-b92d-e3eb2af073fe",
   "metadata": {},
   "outputs": [
    {
     "data": {
      "text/plain": [
       "['False',\n",
       " 'None',\n",
       " 'True',\n",
       " 'and',\n",
       " 'as',\n",
       " 'assert',\n",
       " 'async',\n",
       " 'await',\n",
       " 'break',\n",
       " 'class',\n",
       " 'continue',\n",
       " 'def',\n",
       " 'del',\n",
       " 'elif',\n",
       " 'else',\n",
       " 'except',\n",
       " 'finally',\n",
       " 'for',\n",
       " 'from',\n",
       " 'global',\n",
       " 'if',\n",
       " 'import',\n",
       " 'in',\n",
       " 'is',\n",
       " 'lambda',\n",
       " 'nonlocal',\n",
       " 'not',\n",
       " 'or',\n",
       " 'pass',\n",
       " 'raise',\n",
       " 'return',\n",
       " 'try',\n",
       " 'while',\n",
       " 'with',\n",
       " 'yield']"
      ]
     },
     "execution_count": 31,
     "metadata": {},
     "output_type": "execute_result"
    }
   ],
   "source": [
    "import keyword\n",
    "keyword.kwlist"
   ]
  },
  {
   "cell_type": "code",
   "execution_count": 35,
   "id": "7c1a469d-824f-4bec-ad16-bd3c8c37e49f",
   "metadata": {},
   "outputs": [
    {
     "data": {
      "text/plain": [
       "35"
      ]
     },
     "execution_count": 35,
     "metadata": {},
     "output_type": "execute_result"
    }
   ],
   "source": [
    "len(keyword.kwlist)"
   ]
  },
  {
   "cell_type": "code",
   "execution_count": 37,
   "id": "bc5bb035-d432-431d-81c5-de61fb16d046",
   "metadata": {},
   "outputs": [],
   "source": [
    "#key words cant be defined as  variables"
   ]
  },
  {
   "cell_type": "code",
   "execution_count": 43,
   "id": "f25100fc-b228-4895-891e-133fcf22506a",
   "metadata": {},
   "outputs": [
    {
     "name": "stdout",
     "output_type": "stream",
     "text": [
      "9 11 33\n"
     ]
    }
   ],
   "source": [
    "b = 11\n",
    "c = 33\n",
    "print(a,b,c)"
   ]
  },
  {
   "cell_type": "code",
   "execution_count": 45,
   "id": "3955000d-d8ef-48c4-9d17-195246e13af9",
   "metadata": {},
   "outputs": [
    {
     "data": {
      "text/plain": [
       "'3.12.7 | packaged by Anaconda, Inc. | (main, Oct  4 2024, 13:17:27) [MSC v.1929 64 bit (AMD64)]'"
      ]
     },
     "execution_count": 45,
     "metadata": {},
     "output_type": "execute_result"
    }
   ],
   "source": [
    "import sys\n",
    "sys.version"
   ]
  },
  {
   "cell_type": "code",
   "execution_count": null,
   "id": "d90a4e78-85f1-4aee-a860-0ee234e55dfe",
   "metadata": {},
   "outputs": [],
   "source": []
  },
  {
   "cell_type": "code",
   "execution_count": null,
   "id": "ceb664f9-b7d2-499b-ad17-a7e11b6515b4",
   "metadata": {},
   "outputs": [],
   "source": []
  },
  {
   "cell_type": "code",
   "execution_count": null,
   "id": "b3921297-f5d2-4abf-ba0f-a3430ba038cb",
   "metadata": {},
   "outputs": [],
   "source": []
  },
  {
   "cell_type": "code",
   "execution_count": null,
   "id": "3a51748d-3adc-4f91-9a76-d0fa4b076509",
   "metadata": {},
   "outputs": [],
   "source": []
  }
 ],
 "metadata": {
  "kernelspec": {
   "display_name": "Python [conda env:base] *",
   "language": "python",
   "name": "conda-base-py"
  },
  "language_info": {
   "codemirror_mode": {
    "name": "ipython",
    "version": 3
   },
   "file_extension": ".py",
   "mimetype": "text/x-python",
   "name": "python",
   "nbconvert_exporter": "python",
   "pygments_lexer": "ipython3",
   "version": "3.12.7"
  }
 },
 "nbformat": 4,
 "nbformat_minor": 5
}
